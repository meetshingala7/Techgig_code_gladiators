{
  "cells": [
    {
      "cell_type": "code",
      "execution_count": 1,
      "metadata": {
        "colab": {
          "base_uri": "https://localhost:8080/",
          "height": 635
        },
        "id": "aiInFAVqigWZ",
        "outputId": "4703fba7-44f5-45eb-fb69-2ee2b8d6c905"
      },
      "outputs": [
        {
          "output_type": "execute_result",
          "data": {
            "text/plain": [
              "     ID DEVICETYPE  PLATFORM_ID    BIDREQUESTIP  \\\n",
              "0  1001    Desktop            2    170.173.0.22   \n",
              "1  1002    Desktop            2   65.216.253.25   \n",
              "2  1003    Desktop            2    66.232.79.22   \n",
              "3  1004    Desktop            3  137.54.125.246   \n",
              "4  1005     Mobile            7  174.202.231.99   \n",
              "\n",
              "                        USERPLATFORMUID     USERCITY  USERZIPCODE  \\\n",
              "0  6974dcaa-f932-480e-9fb5-c52e20e1393a     Portland      97206.0   \n",
              "1  c12f3f8f-8fcf-484a-90e1-1ac04db8cdcf    Arlington      22202.0   \n",
              "2  a698de4b-e200-46dd-b5fb-40402175ae18  New Meadows      83654.0   \n",
              "3  45967533-75c8-4fbd-a00c-e6ff20447aaa          NaN  229114624.0   \n",
              "4  a17e25be-532d-4cf5-b916-9308c8c3961f      Houston      77008.0   \n",
              "\n",
              "                                           USERAGENT            PLATFORMTYPE  \\\n",
              "0  Mozilla/5.0 (Windows NT 10.0; Win64; x64) Appl...  Online Medical Journal   \n",
              "1  Mozilla/5.0 (Macintosh; Intel Mac OS X 10_15_7...  Online Medical Journal   \n",
              "2  Mozilla/5.0 (Macintosh; Intel Mac OS X 10_15_7...  Online Medical Journal   \n",
              "3  Mozilla/5.0 (Windows NT 10.0; Win64; x64) Appl...  Online Medical Journal   \n",
              "4  Mozilla/5.0 (iPhone; CPU iPhone OS 16_1_1 like...  Online Medical Journal   \n",
              "\n",
              "  CHANNELTYPE                                                URL  \\\n",
              "0     Website  https://www.cancertherapyadvisor.com/home/canc...   \n",
              "1     Website  https://www.cancertherapyadvisor.com/home/deci...   \n",
              "2     Website  https://www.cancertherapyadvisor.com/home/canc...   \n",
              "3     Website  https://globalrph.com/medcalcs/warfarin-mainte...   \n",
              "4     Website  https://www.cureus.com/articles/58184-a-review...   \n",
              "\n",
              "                                            KEYWORDS    TAXONOMY  IS_HCP  \n",
              "0  General|Endocrine|False|Medicine|Surgery|Urolo...         NaN     0.0  \n",
              "1  Bone Marrow|Radiography|Chronic|Oncology|Psych...         NaN     0.0  \n",
              "2  General|Endocrine|False|Medicine|Surgery|Urolo...         NaN     0.0  \n",
              "3  Dental|Total|Clinical|Pharmacology|Physicians|...  2084P0800X     1.0  \n",
              "4  Critical Care|Emergency Medicine|General Pract...         NaN     0.0  "
            ],
            "text/html": [
              "\n",
              "  <div id=\"df-5ca17585-9f9a-4842-b13b-3dc919317442\">\n",
              "    <div class=\"colab-df-container\">\n",
              "      <div>\n",
              "<style scoped>\n",
              "    .dataframe tbody tr th:only-of-type {\n",
              "        vertical-align: middle;\n",
              "    }\n",
              "\n",
              "    .dataframe tbody tr th {\n",
              "        vertical-align: top;\n",
              "    }\n",
              "\n",
              "    .dataframe thead th {\n",
              "        text-align: right;\n",
              "    }\n",
              "</style>\n",
              "<table border=\"1\" class=\"dataframe\">\n",
              "  <thead>\n",
              "    <tr style=\"text-align: right;\">\n",
              "      <th></th>\n",
              "      <th>ID</th>\n",
              "      <th>DEVICETYPE</th>\n",
              "      <th>PLATFORM_ID</th>\n",
              "      <th>BIDREQUESTIP</th>\n",
              "      <th>USERPLATFORMUID</th>\n",
              "      <th>USERCITY</th>\n",
              "      <th>USERZIPCODE</th>\n",
              "      <th>USERAGENT</th>\n",
              "      <th>PLATFORMTYPE</th>\n",
              "      <th>CHANNELTYPE</th>\n",
              "      <th>URL</th>\n",
              "      <th>KEYWORDS</th>\n",
              "      <th>TAXONOMY</th>\n",
              "      <th>IS_HCP</th>\n",
              "    </tr>\n",
              "  </thead>\n",
              "  <tbody>\n",
              "    <tr>\n",
              "      <th>0</th>\n",
              "      <td>1001</td>\n",
              "      <td>Desktop</td>\n",
              "      <td>2</td>\n",
              "      <td>170.173.0.22</td>\n",
              "      <td>6974dcaa-f932-480e-9fb5-c52e20e1393a</td>\n",
              "      <td>Portland</td>\n",
              "      <td>97206.0</td>\n",
              "      <td>Mozilla/5.0 (Windows NT 10.0; Win64; x64) Appl...</td>\n",
              "      <td>Online Medical Journal</td>\n",
              "      <td>Website</td>\n",
              "      <td>https://www.cancertherapyadvisor.com/home/canc...</td>\n",
              "      <td>General|Endocrine|False|Medicine|Surgery|Urolo...</td>\n",
              "      <td>NaN</td>\n",
              "      <td>0.0</td>\n",
              "    </tr>\n",
              "    <tr>\n",
              "      <th>1</th>\n",
              "      <td>1002</td>\n",
              "      <td>Desktop</td>\n",
              "      <td>2</td>\n",
              "      <td>65.216.253.25</td>\n",
              "      <td>c12f3f8f-8fcf-484a-90e1-1ac04db8cdcf</td>\n",
              "      <td>Arlington</td>\n",
              "      <td>22202.0</td>\n",
              "      <td>Mozilla/5.0 (Macintosh; Intel Mac OS X 10_15_7...</td>\n",
              "      <td>Online Medical Journal</td>\n",
              "      <td>Website</td>\n",
              "      <td>https://www.cancertherapyadvisor.com/home/deci...</td>\n",
              "      <td>Bone Marrow|Radiography|Chronic|Oncology|Psych...</td>\n",
              "      <td>NaN</td>\n",
              "      <td>0.0</td>\n",
              "    </tr>\n",
              "    <tr>\n",
              "      <th>2</th>\n",
              "      <td>1003</td>\n",
              "      <td>Desktop</td>\n",
              "      <td>2</td>\n",
              "      <td>66.232.79.22</td>\n",
              "      <td>a698de4b-e200-46dd-b5fb-40402175ae18</td>\n",
              "      <td>New Meadows</td>\n",
              "      <td>83654.0</td>\n",
              "      <td>Mozilla/5.0 (Macintosh; Intel Mac OS X 10_15_7...</td>\n",
              "      <td>Online Medical Journal</td>\n",
              "      <td>Website</td>\n",
              "      <td>https://www.cancertherapyadvisor.com/home/canc...</td>\n",
              "      <td>General|Endocrine|False|Medicine|Surgery|Urolo...</td>\n",
              "      <td>NaN</td>\n",
              "      <td>0.0</td>\n",
              "    </tr>\n",
              "    <tr>\n",
              "      <th>3</th>\n",
              "      <td>1004</td>\n",
              "      <td>Desktop</td>\n",
              "      <td>3</td>\n",
              "      <td>137.54.125.246</td>\n",
              "      <td>45967533-75c8-4fbd-a00c-e6ff20447aaa</td>\n",
              "      <td>NaN</td>\n",
              "      <td>229114624.0</td>\n",
              "      <td>Mozilla/5.0 (Windows NT 10.0; Win64; x64) Appl...</td>\n",
              "      <td>Online Medical Journal</td>\n",
              "      <td>Website</td>\n",
              "      <td>https://globalrph.com/medcalcs/warfarin-mainte...</td>\n",
              "      <td>Dental|Total|Clinical|Pharmacology|Physicians|...</td>\n",
              "      <td>2084P0800X</td>\n",
              "      <td>1.0</td>\n",
              "    </tr>\n",
              "    <tr>\n",
              "      <th>4</th>\n",
              "      <td>1005</td>\n",
              "      <td>Mobile</td>\n",
              "      <td>7</td>\n",
              "      <td>174.202.231.99</td>\n",
              "      <td>a17e25be-532d-4cf5-b916-9308c8c3961f</td>\n",
              "      <td>Houston</td>\n",
              "      <td>77008.0</td>\n",
              "      <td>Mozilla/5.0 (iPhone; CPU iPhone OS 16_1_1 like...</td>\n",
              "      <td>Online Medical Journal</td>\n",
              "      <td>Website</td>\n",
              "      <td>https://www.cureus.com/articles/58184-a-review...</td>\n",
              "      <td>Critical Care|Emergency Medicine|General Pract...</td>\n",
              "      <td>NaN</td>\n",
              "      <td>0.0</td>\n",
              "    </tr>\n",
              "  </tbody>\n",
              "</table>\n",
              "</div>\n",
              "      <button class=\"colab-df-convert\" onclick=\"convertToInteractive('df-5ca17585-9f9a-4842-b13b-3dc919317442')\"\n",
              "              title=\"Convert this dataframe to an interactive table.\"\n",
              "              style=\"display:none;\">\n",
              "        \n",
              "  <svg xmlns=\"http://www.w3.org/2000/svg\" height=\"24px\"viewBox=\"0 0 24 24\"\n",
              "       width=\"24px\">\n",
              "    <path d=\"M0 0h24v24H0V0z\" fill=\"none\"/>\n",
              "    <path d=\"M18.56 5.44l.94 2.06.94-2.06 2.06-.94-2.06-.94-.94-2.06-.94 2.06-2.06.94zm-11 1L8.5 8.5l.94-2.06 2.06-.94-2.06-.94L8.5 2.5l-.94 2.06-2.06.94zm10 10l.94 2.06.94-2.06 2.06-.94-2.06-.94-.94-2.06-.94 2.06-2.06.94z\"/><path d=\"M17.41 7.96l-1.37-1.37c-.4-.4-.92-.59-1.43-.59-.52 0-1.04.2-1.43.59L10.3 9.45l-7.72 7.72c-.78.78-.78 2.05 0 2.83L4 21.41c.39.39.9.59 1.41.59.51 0 1.02-.2 1.41-.59l7.78-7.78 2.81-2.81c.8-.78.8-2.07 0-2.86zM5.41 20L4 18.59l7.72-7.72 1.47 1.35L5.41 20z\"/>\n",
              "  </svg>\n",
              "      </button>\n",
              "      \n",
              "  <style>\n",
              "    .colab-df-container {\n",
              "      display:flex;\n",
              "      flex-wrap:wrap;\n",
              "      gap: 12px;\n",
              "    }\n",
              "\n",
              "    .colab-df-convert {\n",
              "      background-color: #E8F0FE;\n",
              "      border: none;\n",
              "      border-radius: 50%;\n",
              "      cursor: pointer;\n",
              "      display: none;\n",
              "      fill: #1967D2;\n",
              "      height: 32px;\n",
              "      padding: 0 0 0 0;\n",
              "      width: 32px;\n",
              "    }\n",
              "\n",
              "    .colab-df-convert:hover {\n",
              "      background-color: #E2EBFA;\n",
              "      box-shadow: 0px 1px 2px rgba(60, 64, 67, 0.3), 0px 1px 3px 1px rgba(60, 64, 67, 0.15);\n",
              "      fill: #174EA6;\n",
              "    }\n",
              "\n",
              "    [theme=dark] .colab-df-convert {\n",
              "      background-color: #3B4455;\n",
              "      fill: #D2E3FC;\n",
              "    }\n",
              "\n",
              "    [theme=dark] .colab-df-convert:hover {\n",
              "      background-color: #434B5C;\n",
              "      box-shadow: 0px 1px 3px 1px rgba(0, 0, 0, 0.15);\n",
              "      filter: drop-shadow(0px 1px 2px rgba(0, 0, 0, 0.3));\n",
              "      fill: #FFFFFF;\n",
              "    }\n",
              "  </style>\n",
              "\n",
              "      <script>\n",
              "        const buttonEl =\n",
              "          document.querySelector('#df-5ca17585-9f9a-4842-b13b-3dc919317442 button.colab-df-convert');\n",
              "        buttonEl.style.display =\n",
              "          google.colab.kernel.accessAllowed ? 'block' : 'none';\n",
              "\n",
              "        async function convertToInteractive(key) {\n",
              "          const element = document.querySelector('#df-5ca17585-9f9a-4842-b13b-3dc919317442');\n",
              "          const dataTable =\n",
              "            await google.colab.kernel.invokeFunction('convertToInteractive',\n",
              "                                                     [key], {});\n",
              "          if (!dataTable) return;\n",
              "\n",
              "          const docLinkHtml = 'Like what you see? Visit the ' +\n",
              "            '<a target=\"_blank\" href=https://colab.research.google.com/notebooks/data_table.ipynb>data table notebook</a>'\n",
              "            + ' to learn more about interactive tables.';\n",
              "          element.innerHTML = '';\n",
              "          dataTable['output_type'] = 'display_data';\n",
              "          await google.colab.output.renderOutput(dataTable, element);\n",
              "          const docLink = document.createElement('div');\n",
              "          docLink.innerHTML = docLinkHtml;\n",
              "          element.appendChild(docLink);\n",
              "        }\n",
              "      </script>\n",
              "    </div>\n",
              "  </div>\n",
              "  "
            ]
          },
          "metadata": {},
          "execution_count": 1
        }
      ],
      "source": [
        "import pandas as pd\n",
        "df=pd.read_csv(\"Doceree-HCP_Train.csv\",encoding='latin-1')\n",
        "df.head(5)"
      ]
    },
    {
      "cell_type": "code",
      "source": [
        "import pandas as pd\n",
        "dft=pd.read_csv(\"Doceree-HCP_Test.csv\",encoding='latin-1')\n",
        "dft.head(5)"
      ],
      "metadata": {
        "colab": {
          "base_uri": "https://localhost:8080/",
          "height": 635
        },
        "id": "bp6Uzr1_mYzP",
        "outputId": "ed9d6773-cb1d-4f8a-ab28-f8d483c63a1b"
      },
      "execution_count": 2,
      "outputs": [
        {
          "output_type": "execute_result",
          "data": {
            "text/plain": [
              "       ID DEVICETYPE  PLATFORM_ID     BIDREQUESTIP  \\\n",
              "0  115501    Desktop            2   75.189.231.103   \n",
              "1  115502     Mobile            2    24.101.33.158   \n",
              "2  115503    Desktop            2  172.118.216.142   \n",
              "3  115504    Desktop            7   71.105.120.171   \n",
              "4  115505    Desktop            2     73.82.211.73   \n",
              "\n",
              "                        USERPLATFORMUID       USERCITY  USERZIPCODE  \\\n",
              "0  0d5041ff-f0b6-4d1a-9ad7-0a29f7d485b4   Fayetteville      28305.0   \n",
              "1  c8396dd0-969f-4d99-a40b-b7bb1f516154  Conneaut Lake      16316.0   \n",
              "2  3c97a081-6518-43f8-9f26-369759cfb471         Covina      91724.0   \n",
              "3  3e2578c8-f794-41af-a38c-c5cfb3c0f014       Brooklyn      11226.0   \n",
              "4  ec2ae7ce-6a8c-4156-98a7-07203e60f483       Marietta      30062.0   \n",
              "\n",
              "                                           USERAGENT            PLATFORMTYPE  \\\n",
              "0  Mozilla/5.0 (Macintosh; Intel Mac OS X 10_11_6...  Online Medical Journal   \n",
              "1  Mozilla/5.0 (iPhone; CPU iPhone OS 15_6_1 like...  Online Medical Journal   \n",
              "2  Mozilla/5.0 (Macintosh; Intel Mac OS X 10_15_7...  Online Medical Journal   \n",
              "3  Mozilla/5.0 (Macintosh; Intel Mac OS X 10_15_7...  Online Medical Journal   \n",
              "4  Mozilla/5.0 (Windows NT 10.0; Win64; x64) Appl...  Online Medical Journal   \n",
              "\n",
              "  CHANNELTYPE                                                URL  \\\n",
              "0     Website  https://www.clinicaladvisor.com/home/features/...   \n",
              "1     Website  https://www.ophthalmologyadvisor.com/topics/ca...   \n",
              "2     Website  https://www.psychiatryadvisor.com/author/tori-...   \n",
              "3     Website  https://www.cureus.com/articles/105482-diverti...   \n",
              "4     Website  https://www.renalandurologynews.com/home/confe...   \n",
              "\n",
              "                                            KEYWORDS  \n",
              "0  Family Practice|Drainage|Clinical|Dermatology|...  \n",
              "1  General|Clinical|Operative|Medicine|Cardiology...  \n",
              "2  Abortion|Anxiety Disorders|Apnea|False|Trauma|...  \n",
              "3  Health|Male|Neurological Surgery|Otolaryngolog...  \n",
              "4  chronic kidney disease|pain|nephrology|disease...  "
            ],
            "text/html": [
              "\n",
              "  <div id=\"df-6f998da8-2679-4cc3-ab07-50d1b7f12615\">\n",
              "    <div class=\"colab-df-container\">\n",
              "      <div>\n",
              "<style scoped>\n",
              "    .dataframe tbody tr th:only-of-type {\n",
              "        vertical-align: middle;\n",
              "    }\n",
              "\n",
              "    .dataframe tbody tr th {\n",
              "        vertical-align: top;\n",
              "    }\n",
              "\n",
              "    .dataframe thead th {\n",
              "        text-align: right;\n",
              "    }\n",
              "</style>\n",
              "<table border=\"1\" class=\"dataframe\">\n",
              "  <thead>\n",
              "    <tr style=\"text-align: right;\">\n",
              "      <th></th>\n",
              "      <th>ID</th>\n",
              "      <th>DEVICETYPE</th>\n",
              "      <th>PLATFORM_ID</th>\n",
              "      <th>BIDREQUESTIP</th>\n",
              "      <th>USERPLATFORMUID</th>\n",
              "      <th>USERCITY</th>\n",
              "      <th>USERZIPCODE</th>\n",
              "      <th>USERAGENT</th>\n",
              "      <th>PLATFORMTYPE</th>\n",
              "      <th>CHANNELTYPE</th>\n",
              "      <th>URL</th>\n",
              "      <th>KEYWORDS</th>\n",
              "    </tr>\n",
              "  </thead>\n",
              "  <tbody>\n",
              "    <tr>\n",
              "      <th>0</th>\n",
              "      <td>115501</td>\n",
              "      <td>Desktop</td>\n",
              "      <td>2</td>\n",
              "      <td>75.189.231.103</td>\n",
              "      <td>0d5041ff-f0b6-4d1a-9ad7-0a29f7d485b4</td>\n",
              "      <td>Fayetteville</td>\n",
              "      <td>28305.0</td>\n",
              "      <td>Mozilla/5.0 (Macintosh; Intel Mac OS X 10_11_6...</td>\n",
              "      <td>Online Medical Journal</td>\n",
              "      <td>Website</td>\n",
              "      <td>https://www.clinicaladvisor.com/home/features/...</td>\n",
              "      <td>Family Practice|Drainage|Clinical|Dermatology|...</td>\n",
              "    </tr>\n",
              "    <tr>\n",
              "      <th>1</th>\n",
              "      <td>115502</td>\n",
              "      <td>Mobile</td>\n",
              "      <td>2</td>\n",
              "      <td>24.101.33.158</td>\n",
              "      <td>c8396dd0-969f-4d99-a40b-b7bb1f516154</td>\n",
              "      <td>Conneaut Lake</td>\n",
              "      <td>16316.0</td>\n",
              "      <td>Mozilla/5.0 (iPhone; CPU iPhone OS 15_6_1 like...</td>\n",
              "      <td>Online Medical Journal</td>\n",
              "      <td>Website</td>\n",
              "      <td>https://www.ophthalmologyadvisor.com/topics/ca...</td>\n",
              "      <td>General|Clinical|Operative|Medicine|Cardiology...</td>\n",
              "    </tr>\n",
              "    <tr>\n",
              "      <th>2</th>\n",
              "      <td>115503</td>\n",
              "      <td>Desktop</td>\n",
              "      <td>2</td>\n",
              "      <td>172.118.216.142</td>\n",
              "      <td>3c97a081-6518-43f8-9f26-369759cfb471</td>\n",
              "      <td>Covina</td>\n",
              "      <td>91724.0</td>\n",
              "      <td>Mozilla/5.0 (Macintosh; Intel Mac OS X 10_15_7...</td>\n",
              "      <td>Online Medical Journal</td>\n",
              "      <td>Website</td>\n",
              "      <td>https://www.psychiatryadvisor.com/author/tori-...</td>\n",
              "      <td>Abortion|Anxiety Disorders|Apnea|False|Trauma|...</td>\n",
              "    </tr>\n",
              "    <tr>\n",
              "      <th>3</th>\n",
              "      <td>115504</td>\n",
              "      <td>Desktop</td>\n",
              "      <td>7</td>\n",
              "      <td>71.105.120.171</td>\n",
              "      <td>3e2578c8-f794-41af-a38c-c5cfb3c0f014</td>\n",
              "      <td>Brooklyn</td>\n",
              "      <td>11226.0</td>\n",
              "      <td>Mozilla/5.0 (Macintosh; Intel Mac OS X 10_15_7...</td>\n",
              "      <td>Online Medical Journal</td>\n",
              "      <td>Website</td>\n",
              "      <td>https://www.cureus.com/articles/105482-diverti...</td>\n",
              "      <td>Health|Male|Neurological Surgery|Otolaryngolog...</td>\n",
              "    </tr>\n",
              "    <tr>\n",
              "      <th>4</th>\n",
              "      <td>115505</td>\n",
              "      <td>Desktop</td>\n",
              "      <td>2</td>\n",
              "      <td>73.82.211.73</td>\n",
              "      <td>ec2ae7ce-6a8c-4156-98a7-07203e60f483</td>\n",
              "      <td>Marietta</td>\n",
              "      <td>30062.0</td>\n",
              "      <td>Mozilla/5.0 (Windows NT 10.0; Win64; x64) Appl...</td>\n",
              "      <td>Online Medical Journal</td>\n",
              "      <td>Website</td>\n",
              "      <td>https://www.renalandurologynews.com/home/confe...</td>\n",
              "      <td>chronic kidney disease|pain|nephrology|disease...</td>\n",
              "    </tr>\n",
              "  </tbody>\n",
              "</table>\n",
              "</div>\n",
              "      <button class=\"colab-df-convert\" onclick=\"convertToInteractive('df-6f998da8-2679-4cc3-ab07-50d1b7f12615')\"\n",
              "              title=\"Convert this dataframe to an interactive table.\"\n",
              "              style=\"display:none;\">\n",
              "        \n",
              "  <svg xmlns=\"http://www.w3.org/2000/svg\" height=\"24px\"viewBox=\"0 0 24 24\"\n",
              "       width=\"24px\">\n",
              "    <path d=\"M0 0h24v24H0V0z\" fill=\"none\"/>\n",
              "    <path d=\"M18.56 5.44l.94 2.06.94-2.06 2.06-.94-2.06-.94-.94-2.06-.94 2.06-2.06.94zm-11 1L8.5 8.5l.94-2.06 2.06-.94-2.06-.94L8.5 2.5l-.94 2.06-2.06.94zm10 10l.94 2.06.94-2.06 2.06-.94-2.06-.94-.94-2.06-.94 2.06-2.06.94z\"/><path d=\"M17.41 7.96l-1.37-1.37c-.4-.4-.92-.59-1.43-.59-.52 0-1.04.2-1.43.59L10.3 9.45l-7.72 7.72c-.78.78-.78 2.05 0 2.83L4 21.41c.39.39.9.59 1.41.59.51 0 1.02-.2 1.41-.59l7.78-7.78 2.81-2.81c.8-.78.8-2.07 0-2.86zM5.41 20L4 18.59l7.72-7.72 1.47 1.35L5.41 20z\"/>\n",
              "  </svg>\n",
              "      </button>\n",
              "      \n",
              "  <style>\n",
              "    .colab-df-container {\n",
              "      display:flex;\n",
              "      flex-wrap:wrap;\n",
              "      gap: 12px;\n",
              "    }\n",
              "\n",
              "    .colab-df-convert {\n",
              "      background-color: #E8F0FE;\n",
              "      border: none;\n",
              "      border-radius: 50%;\n",
              "      cursor: pointer;\n",
              "      display: none;\n",
              "      fill: #1967D2;\n",
              "      height: 32px;\n",
              "      padding: 0 0 0 0;\n",
              "      width: 32px;\n",
              "    }\n",
              "\n",
              "    .colab-df-convert:hover {\n",
              "      background-color: #E2EBFA;\n",
              "      box-shadow: 0px 1px 2px rgba(60, 64, 67, 0.3), 0px 1px 3px 1px rgba(60, 64, 67, 0.15);\n",
              "      fill: #174EA6;\n",
              "    }\n",
              "\n",
              "    [theme=dark] .colab-df-convert {\n",
              "      background-color: #3B4455;\n",
              "      fill: #D2E3FC;\n",
              "    }\n",
              "\n",
              "    [theme=dark] .colab-df-convert:hover {\n",
              "      background-color: #434B5C;\n",
              "      box-shadow: 0px 1px 3px 1px rgba(0, 0, 0, 0.15);\n",
              "      filter: drop-shadow(0px 1px 2px rgba(0, 0, 0, 0.3));\n",
              "      fill: #FFFFFF;\n",
              "    }\n",
              "  </style>\n",
              "\n",
              "      <script>\n",
              "        const buttonEl =\n",
              "          document.querySelector('#df-6f998da8-2679-4cc3-ab07-50d1b7f12615 button.colab-df-convert');\n",
              "        buttonEl.style.display =\n",
              "          google.colab.kernel.accessAllowed ? 'block' : 'none';\n",
              "\n",
              "        async function convertToInteractive(key) {\n",
              "          const element = document.querySelector('#df-6f998da8-2679-4cc3-ab07-50d1b7f12615');\n",
              "          const dataTable =\n",
              "            await google.colab.kernel.invokeFunction('convertToInteractive',\n",
              "                                                     [key], {});\n",
              "          if (!dataTable) return;\n",
              "\n",
              "          const docLinkHtml = 'Like what you see? Visit the ' +\n",
              "            '<a target=\"_blank\" href=https://colab.research.google.com/notebooks/data_table.ipynb>data table notebook</a>'\n",
              "            + ' to learn more about interactive tables.';\n",
              "          element.innerHTML = '';\n",
              "          dataTable['output_type'] = 'display_data';\n",
              "          await google.colab.output.renderOutput(dataTable, element);\n",
              "          const docLink = document.createElement('div');\n",
              "          docLink.innerHTML = docLinkHtml;\n",
              "          element.appendChild(docLink);\n",
              "        }\n",
              "      </script>\n",
              "    </div>\n",
              "  </div>\n",
              "  "
            ]
          },
          "metadata": {},
          "execution_count": 2
        }
      ]
    },
    {
      "cell_type": "code",
      "execution_count": 17,
      "metadata": {
        "id": "j4m-KAQ6TKR9"
      },
      "outputs": [],
      "source": [
        "df=df.reset_index()"
      ]
    },
    {
      "cell_type": "code",
      "execution_count": null,
      "metadata": {
        "colab": {
          "base_uri": "https://localhost:8080/",
          "height": 35
        },
        "id": "eJOjucVtTtLK",
        "outputId": "56e072fe-7ed2-496c-83cf-effddc21e2a1"
      },
      "outputs": [
        {
          "output_type": "execute_result",
          "data": {
            "text/plain": [
              "'None'"
            ],
            "application/vnd.google.colaboratory.intrinsic+json": {
              "type": "string"
            }
          },
          "metadata": {},
          "execution_count": 24
        }
      ],
      "source": [
        "df['TAXONOMY'][32202]"
      ]
    },
    {
      "cell_type": "code",
      "execution_count": 3,
      "metadata": {
        "colab": {
          "base_uri": "https://localhost:8080/"
        },
        "id": "OCit6ArIigWc",
        "outputId": "2f8918fe-fb45-4b38-d38e-71f93cdf8a27"
      },
      "outputs": [
        {
          "output_type": "execute_result",
          "data": {
            "text/plain": [
              "113937"
            ]
          },
          "metadata": {},
          "execution_count": 3
        }
      ],
      "source": [
        "len(df)"
      ]
    },
    {
      "cell_type": "code",
      "execution_count": 4,
      "metadata": {
        "id": "oQfHsm4higWc"
      },
      "outputs": [],
      "source": [
        "df3=df['USERZIPCODE'].fillna(0)"
      ]
    },
    {
      "cell_type": "code",
      "execution_count": 5,
      "metadata": {
        "colab": {
          "base_uri": "https://localhost:8080/"
        },
        "id": "KQLHb3ruPjEM",
        "outputId": "9e40dbab-6596-4a87-c0bc-bdf6790d9edd"
      },
      "outputs": [
        {
          "output_type": "execute_result",
          "data": {
            "text/plain": [
              "0        97206.0\n",
              "1        22202.0\n",
              "2        83654.0\n",
              "3    229114624.0\n",
              "4        77008.0\n",
              "Name: USERZIPCODE, dtype: float64"
            ]
          },
          "metadata": {},
          "execution_count": 5
        }
      ],
      "source": [
        "df3.head()"
      ]
    },
    {
      "cell_type": "code",
      "execution_count": 6,
      "metadata": {
        "id": "eBEc9pzVPtTi"
      },
      "outputs": [],
      "source": [
        "df['USERZIPCODE']=df3"
      ]
    },
    {
      "cell_type": "code",
      "source": [
        "df3=dft['USERZIPCODE'].fillna(0)\n",
        "dft['USERZIPCODE']=df3"
      ],
      "metadata": {
        "id": "XYmYrpfCm6GY"
      },
      "execution_count": 7,
      "outputs": []
    },
    {
      "cell_type": "code",
      "execution_count": 19,
      "metadata": {
        "colab": {
          "base_uri": "https://localhost:8080/"
        },
        "id": "6B_oIXVJP0Sk",
        "outputId": "b671e935-c00a-4e17-be9c-be46b8c7c6e6"
      },
      "outputs": [
        {
          "output_type": "execute_result",
          "data": {
            "text/plain": [
              "index              0\n",
              "ID                 0\n",
              "DEVICETYPE         0\n",
              "PLATFORM_ID        0\n",
              "BIDREQUESTIP       0\n",
              "USERPLATFORMUID    0\n",
              "USERCITY           0\n",
              "USERZIPCODE        0\n",
              "USERAGENT          0\n",
              "PLATFORMTYPE       0\n",
              "CHANNELTYPE        0\n",
              "URL                0\n",
              "KEYWORDS           0\n",
              "TAXONOMY           0\n",
              "IS_HCP             0\n",
              "dtype: int64"
            ]
          },
          "metadata": {},
          "execution_count": 19
        }
      ],
      "source": [
        "df.isna().sum()"
      ]
    },
    {
      "cell_type": "code",
      "execution_count": 9,
      "metadata": {
        "id": "SttGv21HMaTo"
      },
      "outputs": [],
      "source": [
        "df2=df['TAXONOMY'].fillna('None')"
      ]
    },
    {
      "cell_type": "code",
      "execution_count": 10,
      "metadata": {
        "id": "j4sa8G1zP-1Z"
      },
      "outputs": [],
      "source": [
        "df['TAXONOMY']=df2"
      ]
    },
    {
      "cell_type": "code",
      "execution_count": 11,
      "metadata": {
        "id": "nAqn1owVigWd"
      },
      "outputs": [],
      "source": [
        "df1=df['USERCITY'].fillna('Neutral')"
      ]
    },
    {
      "cell_type": "code",
      "execution_count": 12,
      "metadata": {
        "id": "kaPzrtmNQLgr"
      },
      "outputs": [],
      "source": [
        "df['USERCITY']=df1"
      ]
    },
    {
      "cell_type": "code",
      "source": [
        "df1=dft['USERCITY'].fillna('Neutral')\n",
        "dft['USERCITY']=df1"
      ],
      "metadata": {
        "id": "Br1WijuznLhT"
      },
      "execution_count": 13,
      "outputs": []
    },
    {
      "cell_type": "code",
      "execution_count": 15,
      "metadata": {
        "id": "z-QBN9gKQSiX"
      },
      "outputs": [],
      "source": [
        "dft=dft.dropna(axis=0)\n",
        "df=df.dropna(axis=0)"
      ]
    },
    {
      "cell_type": "code",
      "source": [
        "dft=dft.reset_index()"
      ],
      "metadata": {
        "id": "WkHUI3CXnHuW"
      },
      "execution_count": 16,
      "outputs": []
    },
    {
      "cell_type": "code",
      "execution_count": 20,
      "metadata": {
        "colab": {
          "base_uri": "https://localhost:8080/"
        },
        "id": "NDvNHv2XigWd",
        "outputId": "e2d8053b-7cfb-4e55-c710-18738e550bc2"
      },
      "outputs": [
        {
          "output_type": "execute_result",
          "data": {
            "text/plain": [
              "(28492, 13)"
            ]
          },
          "metadata": {},
          "execution_count": 20
        }
      ],
      "source": [
        "dft.shape"
      ]
    },
    {
      "cell_type": "code",
      "execution_count": 21,
      "metadata": {
        "id": "NpAbIWeVigWd"
      },
      "outputs": [],
      "source": [
        "countTYHY=0\n",
        "countTNHY=0\n",
        "countTYHN=0\n",
        "count=0\n",
        "for i in range(len(df)):\n",
        "    # print(i)\n",
        "    if df['TAXONOMY'][i]!='None' and df['IS_HCP'][0]!=0.0:\n",
        "        countTYHY+=1\n",
        "    elif df['TAXONOMY'][i]=='None' and df['IS_HCP'][0]!=0.0:\n",
        "        countTNHY+=1\n",
        "    elif df['TAXONOMY'][i]!='None' and df['IS_HCP'][0]==0.0:\n",
        "        countTYHN+=1\n",
        "    else:\n",
        "        count+=1"
      ]
    },
    {
      "cell_type": "code",
      "execution_count": 22,
      "metadata": {
        "colab": {
          "base_uri": "https://localhost:8080/"
        },
        "id": "Jhe5ouFSigWe",
        "outputId": "fb0a1356-67dd-4f83-c778-c15146572f8f"
      },
      "outputs": [
        {
          "output_type": "stream",
          "name": "stdout",
          "text": [
            "32309 0 0 81621\n"
          ]
        }
      ],
      "source": [
        "print(countTYHN,countTNHY,countTYHY,count)"
      ]
    },
    {
      "cell_type": "code",
      "execution_count": 23,
      "metadata": {
        "colab": {
          "base_uri": "https://localhost:8080/"
        },
        "id": "AQtFFnbc8hIP",
        "outputId": "83992424-e483-45e9-d58f-a03039eb19b4"
      },
      "outputs": [
        {
          "output_type": "stream",
          "name": "stderr",
          "text": [
            "<ipython-input-23-f3a50766caba>:2: SettingWithCopyWarning: \n",
            "A value is trying to be set on a copy of a slice from a DataFrame\n",
            "\n",
            "See the caveats in the documentation: https://pandas.pydata.org/pandas-docs/stable/user_guide/indexing.html#returning-a-view-versus-a-copy\n",
            "  df['KEYWORDS'][i]=df['KEYWORDS'][i].split('|')\n"
          ]
        }
      ],
      "source": [
        "for i in range(len(df)):\n",
        "    df['KEYWORDS'][i]=df['KEYWORDS'][i].split('|')"
      ]
    },
    {
      "cell_type": "code",
      "source": [
        "for i in range(len(dft)):\n",
        "    dft['KEYWORDS'][i]=dft['KEYWORDS'][i].split('|')"
      ],
      "metadata": {
        "colab": {
          "base_uri": "https://localhost:8080/"
        },
        "id": "2YYuK8RXoQzk",
        "outputId": "1c3bcb7b-dd05-4abc-d260-af1628079f18"
      },
      "execution_count": 24,
      "outputs": [
        {
          "output_type": "stream",
          "name": "stderr",
          "text": [
            "<ipython-input-24-9358592fd76c>:2: SettingWithCopyWarning: \n",
            "A value is trying to be set on a copy of a slice from a DataFrame\n",
            "\n",
            "See the caveats in the documentation: https://pandas.pydata.org/pandas-docs/stable/user_guide/indexing.html#returning-a-view-versus-a-copy\n",
            "  dft['KEYWORDS'][i]=dft['KEYWORDS'][i].split('|')\n"
          ]
        }
      ]
    },
    {
      "cell_type": "code",
      "execution_count": 25,
      "metadata": {
        "colab": {
          "base_uri": "https://localhost:8080/"
        },
        "id": "JvZ9UVvrigXj",
        "outputId": "bd091512-d6a7-4acb-97d5-b5829e18cf26"
      },
      "outputs": [
        {
          "output_type": "execute_result",
          "data": {
            "text/plain": [
              "(113930, 15)"
            ]
          },
          "metadata": {},
          "execution_count": 25
        }
      ],
      "source": [
        "df.shape"
      ]
    },
    {
      "cell_type": "code",
      "execution_count": 26,
      "metadata": {
        "id": "4OH5eLRRigXj"
      },
      "outputs": [],
      "source": [
        "\n",
        "dict_len={}\n",
        "for i in range(len(df)):\n",
        "    j=len(df['KEYWORDS'][i])\n",
        "    if j not in dict_len.keys():\n",
        "        dict_len[j]=1\n",
        "    else:\n",
        "        dict_len[j]+=1"
      ]
    },
    {
      "cell_type": "code",
      "source": [
        "\n",
        "dict_len_t={}\n",
        "for i in range(len(dft)):\n",
        "    j=len(dft['KEYWORDS'][i])\n",
        "    if j not in dict_len_t.keys():\n",
        "        dict_len_t[j]=1\n",
        "    else:\n",
        "        dict_len_t[j]+=1"
      ],
      "metadata": {
        "id": "60x6ok3EctMu"
      },
      "execution_count": 27,
      "outputs": []
    },
    {
      "cell_type": "code",
      "execution_count": 28,
      "metadata": {
        "id": "D1Ij8ekhigXl"
      },
      "outputs": [],
      "source": [
        "import matplotlib.pyplot as plt"
      ]
    },
    {
      "cell_type": "code",
      "execution_count": 29,
      "metadata": {
        "id": "XuvVffJ_igXl"
      },
      "outputs": [],
      "source": [
        "myKeys = list(dict_len.keys())\n",
        "myKeys.sort()\n",
        "sorted_dict = {i: dict_len[i] for i in myKeys}"
      ]
    },
    {
      "cell_type": "code",
      "source": [
        "myKeys = list(dict_len_t.keys())\n",
        "myKeys.sort()\n",
        "sorted_dict_t = {i: dict_len_t[i] for i in myKeys}"
      ],
      "metadata": {
        "id": "N3mYGNXRc0Nr"
      },
      "execution_count": 30,
      "outputs": []
    },
    {
      "cell_type": "code",
      "execution_count": 31,
      "metadata": {
        "id": "xcN7FJOyigXl"
      },
      "outputs": [],
      "source": [
        "# sorted_dict_t"
      ]
    },
    {
      "cell_type": "code",
      "execution_count": 32,
      "metadata": {
        "id": "EE7yIebnigXl"
      },
      "outputs": [],
      "source": [
        "sd={'name':sorted_dict.keys(),'value':sorted_dict.values()}\n",
        "# len(sd['name'])"
      ]
    },
    {
      "cell_type": "code",
      "source": [
        "sd1={'name':sorted_dict_t.keys(),'value':sorted_dict_t.values()}\n",
        "# sd1['value']"
      ],
      "metadata": {
        "id": "eM95Fxorc8rF"
      },
      "execution_count": 33,
      "outputs": []
    },
    {
      "cell_type": "code",
      "execution_count": 34,
      "metadata": {
        "colab": {
          "base_uri": "https://localhost:8080/",
          "height": 206
        },
        "id": "KKuYHnlDigXl",
        "outputId": "461a6087-a28d-411b-9ea1-afa1733d18dc"
      },
      "outputs": [
        {
          "output_type": "execute_result",
          "data": {
            "text/plain": [
              "   name  value\n",
              "0     4    278\n",
              "1     5     44\n",
              "2     6    108\n",
              "3     7     65\n",
              "4     8     61"
            ],
            "text/html": [
              "\n",
              "  <div id=\"df-be0e3f66-6dad-4ed8-968c-b540e2346055\">\n",
              "    <div class=\"colab-df-container\">\n",
              "      <div>\n",
              "<style scoped>\n",
              "    .dataframe tbody tr th:only-of-type {\n",
              "        vertical-align: middle;\n",
              "    }\n",
              "\n",
              "    .dataframe tbody tr th {\n",
              "        vertical-align: top;\n",
              "    }\n",
              "\n",
              "    .dataframe thead th {\n",
              "        text-align: right;\n",
              "    }\n",
              "</style>\n",
              "<table border=\"1\" class=\"dataframe\">\n",
              "  <thead>\n",
              "    <tr style=\"text-align: right;\">\n",
              "      <th></th>\n",
              "      <th>name</th>\n",
              "      <th>value</th>\n",
              "    </tr>\n",
              "  </thead>\n",
              "  <tbody>\n",
              "    <tr>\n",
              "      <th>0</th>\n",
              "      <td>4</td>\n",
              "      <td>278</td>\n",
              "    </tr>\n",
              "    <tr>\n",
              "      <th>1</th>\n",
              "      <td>5</td>\n",
              "      <td>44</td>\n",
              "    </tr>\n",
              "    <tr>\n",
              "      <th>2</th>\n",
              "      <td>6</td>\n",
              "      <td>108</td>\n",
              "    </tr>\n",
              "    <tr>\n",
              "      <th>3</th>\n",
              "      <td>7</td>\n",
              "      <td>65</td>\n",
              "    </tr>\n",
              "    <tr>\n",
              "      <th>4</th>\n",
              "      <td>8</td>\n",
              "      <td>61</td>\n",
              "    </tr>\n",
              "  </tbody>\n",
              "</table>\n",
              "</div>\n",
              "      <button class=\"colab-df-convert\" onclick=\"convertToInteractive('df-be0e3f66-6dad-4ed8-968c-b540e2346055')\"\n",
              "              title=\"Convert this dataframe to an interactive table.\"\n",
              "              style=\"display:none;\">\n",
              "        \n",
              "  <svg xmlns=\"http://www.w3.org/2000/svg\" height=\"24px\"viewBox=\"0 0 24 24\"\n",
              "       width=\"24px\">\n",
              "    <path d=\"M0 0h24v24H0V0z\" fill=\"none\"/>\n",
              "    <path d=\"M18.56 5.44l.94 2.06.94-2.06 2.06-.94-2.06-.94-.94-2.06-.94 2.06-2.06.94zm-11 1L8.5 8.5l.94-2.06 2.06-.94-2.06-.94L8.5 2.5l-.94 2.06-2.06.94zm10 10l.94 2.06.94-2.06 2.06-.94-2.06-.94-.94-2.06-.94 2.06-2.06.94z\"/><path d=\"M17.41 7.96l-1.37-1.37c-.4-.4-.92-.59-1.43-.59-.52 0-1.04.2-1.43.59L10.3 9.45l-7.72 7.72c-.78.78-.78 2.05 0 2.83L4 21.41c.39.39.9.59 1.41.59.51 0 1.02-.2 1.41-.59l7.78-7.78 2.81-2.81c.8-.78.8-2.07 0-2.86zM5.41 20L4 18.59l7.72-7.72 1.47 1.35L5.41 20z\"/>\n",
              "  </svg>\n",
              "      </button>\n",
              "      \n",
              "  <style>\n",
              "    .colab-df-container {\n",
              "      display:flex;\n",
              "      flex-wrap:wrap;\n",
              "      gap: 12px;\n",
              "    }\n",
              "\n",
              "    .colab-df-convert {\n",
              "      background-color: #E8F0FE;\n",
              "      border: none;\n",
              "      border-radius: 50%;\n",
              "      cursor: pointer;\n",
              "      display: none;\n",
              "      fill: #1967D2;\n",
              "      height: 32px;\n",
              "      padding: 0 0 0 0;\n",
              "      width: 32px;\n",
              "    }\n",
              "\n",
              "    .colab-df-convert:hover {\n",
              "      background-color: #E2EBFA;\n",
              "      box-shadow: 0px 1px 2px rgba(60, 64, 67, 0.3), 0px 1px 3px 1px rgba(60, 64, 67, 0.15);\n",
              "      fill: #174EA6;\n",
              "    }\n",
              "\n",
              "    [theme=dark] .colab-df-convert {\n",
              "      background-color: #3B4455;\n",
              "      fill: #D2E3FC;\n",
              "    }\n",
              "\n",
              "    [theme=dark] .colab-df-convert:hover {\n",
              "      background-color: #434B5C;\n",
              "      box-shadow: 0px 1px 3px 1px rgba(0, 0, 0, 0.15);\n",
              "      filter: drop-shadow(0px 1px 2px rgba(0, 0, 0, 0.3));\n",
              "      fill: #FFFFFF;\n",
              "    }\n",
              "  </style>\n",
              "\n",
              "      <script>\n",
              "        const buttonEl =\n",
              "          document.querySelector('#df-be0e3f66-6dad-4ed8-968c-b540e2346055 button.colab-df-convert');\n",
              "        buttonEl.style.display =\n",
              "          google.colab.kernel.accessAllowed ? 'block' : 'none';\n",
              "\n",
              "        async function convertToInteractive(key) {\n",
              "          const element = document.querySelector('#df-be0e3f66-6dad-4ed8-968c-b540e2346055');\n",
              "          const dataTable =\n",
              "            await google.colab.kernel.invokeFunction('convertToInteractive',\n",
              "                                                     [key], {});\n",
              "          if (!dataTable) return;\n",
              "\n",
              "          const docLinkHtml = 'Like what you see? Visit the ' +\n",
              "            '<a target=\"_blank\" href=https://colab.research.google.com/notebooks/data_table.ipynb>data table notebook</a>'\n",
              "            + ' to learn more about interactive tables.';\n",
              "          element.innerHTML = '';\n",
              "          dataTable['output_type'] = 'display_data';\n",
              "          await google.colab.output.renderOutput(dataTable, element);\n",
              "          const docLink = document.createElement('div');\n",
              "          docLink.innerHTML = docLinkHtml;\n",
              "          element.appendChild(docLink);\n",
              "        }\n",
              "      </script>\n",
              "    </div>\n",
              "  </div>\n",
              "  "
            ]
          },
          "metadata": {},
          "execution_count": 34
        }
      ],
      "source": [
        "df_plt=pd.DataFrame.from_dict(sd)\n",
        "df_plt.head()"
      ]
    },
    {
      "cell_type": "code",
      "source": [
        "df_pltt=pd.DataFrame.from_dict(sd1)\n",
        "df_pltt.head()"
      ],
      "metadata": {
        "colab": {
          "base_uri": "https://localhost:8080/",
          "height": 206
        },
        "id": "-XsbBYJudHxb",
        "outputId": "e0ed80d2-da00-4e9d-d438-6508d00be6af"
      },
      "execution_count": 35,
      "outputs": [
        {
          "output_type": "execute_result",
          "data": {
            "text/plain": [
              "   name  value\n",
              "0     4     75\n",
              "1     5     17\n",
              "2     6     21\n",
              "3     7     14\n",
              "4     8     15"
            ],
            "text/html": [
              "\n",
              "  <div id=\"df-1c8dd19e-a76d-4ffe-9c4e-5dcf13a91444\">\n",
              "    <div class=\"colab-df-container\">\n",
              "      <div>\n",
              "<style scoped>\n",
              "    .dataframe tbody tr th:only-of-type {\n",
              "        vertical-align: middle;\n",
              "    }\n",
              "\n",
              "    .dataframe tbody tr th {\n",
              "        vertical-align: top;\n",
              "    }\n",
              "\n",
              "    .dataframe thead th {\n",
              "        text-align: right;\n",
              "    }\n",
              "</style>\n",
              "<table border=\"1\" class=\"dataframe\">\n",
              "  <thead>\n",
              "    <tr style=\"text-align: right;\">\n",
              "      <th></th>\n",
              "      <th>name</th>\n",
              "      <th>value</th>\n",
              "    </tr>\n",
              "  </thead>\n",
              "  <tbody>\n",
              "    <tr>\n",
              "      <th>0</th>\n",
              "      <td>4</td>\n",
              "      <td>75</td>\n",
              "    </tr>\n",
              "    <tr>\n",
              "      <th>1</th>\n",
              "      <td>5</td>\n",
              "      <td>17</td>\n",
              "    </tr>\n",
              "    <tr>\n",
              "      <th>2</th>\n",
              "      <td>6</td>\n",
              "      <td>21</td>\n",
              "    </tr>\n",
              "    <tr>\n",
              "      <th>3</th>\n",
              "      <td>7</td>\n",
              "      <td>14</td>\n",
              "    </tr>\n",
              "    <tr>\n",
              "      <th>4</th>\n",
              "      <td>8</td>\n",
              "      <td>15</td>\n",
              "    </tr>\n",
              "  </tbody>\n",
              "</table>\n",
              "</div>\n",
              "      <button class=\"colab-df-convert\" onclick=\"convertToInteractive('df-1c8dd19e-a76d-4ffe-9c4e-5dcf13a91444')\"\n",
              "              title=\"Convert this dataframe to an interactive table.\"\n",
              "              style=\"display:none;\">\n",
              "        \n",
              "  <svg xmlns=\"http://www.w3.org/2000/svg\" height=\"24px\"viewBox=\"0 0 24 24\"\n",
              "       width=\"24px\">\n",
              "    <path d=\"M0 0h24v24H0V0z\" fill=\"none\"/>\n",
              "    <path d=\"M18.56 5.44l.94 2.06.94-2.06 2.06-.94-2.06-.94-.94-2.06-.94 2.06-2.06.94zm-11 1L8.5 8.5l.94-2.06 2.06-.94-2.06-.94L8.5 2.5l-.94 2.06-2.06.94zm10 10l.94 2.06.94-2.06 2.06-.94-2.06-.94-.94-2.06-.94 2.06-2.06.94z\"/><path d=\"M17.41 7.96l-1.37-1.37c-.4-.4-.92-.59-1.43-.59-.52 0-1.04.2-1.43.59L10.3 9.45l-7.72 7.72c-.78.78-.78 2.05 0 2.83L4 21.41c.39.39.9.59 1.41.59.51 0 1.02-.2 1.41-.59l7.78-7.78 2.81-2.81c.8-.78.8-2.07 0-2.86zM5.41 20L4 18.59l7.72-7.72 1.47 1.35L5.41 20z\"/>\n",
              "  </svg>\n",
              "      </button>\n",
              "      \n",
              "  <style>\n",
              "    .colab-df-container {\n",
              "      display:flex;\n",
              "      flex-wrap:wrap;\n",
              "      gap: 12px;\n",
              "    }\n",
              "\n",
              "    .colab-df-convert {\n",
              "      background-color: #E8F0FE;\n",
              "      border: none;\n",
              "      border-radius: 50%;\n",
              "      cursor: pointer;\n",
              "      display: none;\n",
              "      fill: #1967D2;\n",
              "      height: 32px;\n",
              "      padding: 0 0 0 0;\n",
              "      width: 32px;\n",
              "    }\n",
              "\n",
              "    .colab-df-convert:hover {\n",
              "      background-color: #E2EBFA;\n",
              "      box-shadow: 0px 1px 2px rgba(60, 64, 67, 0.3), 0px 1px 3px 1px rgba(60, 64, 67, 0.15);\n",
              "      fill: #174EA6;\n",
              "    }\n",
              "\n",
              "    [theme=dark] .colab-df-convert {\n",
              "      background-color: #3B4455;\n",
              "      fill: #D2E3FC;\n",
              "    }\n",
              "\n",
              "    [theme=dark] .colab-df-convert:hover {\n",
              "      background-color: #434B5C;\n",
              "      box-shadow: 0px 1px 3px 1px rgba(0, 0, 0, 0.15);\n",
              "      filter: drop-shadow(0px 1px 2px rgba(0, 0, 0, 0.3));\n",
              "      fill: #FFFFFF;\n",
              "    }\n",
              "  </style>\n",
              "\n",
              "      <script>\n",
              "        const buttonEl =\n",
              "          document.querySelector('#df-1c8dd19e-a76d-4ffe-9c4e-5dcf13a91444 button.colab-df-convert');\n",
              "        buttonEl.style.display =\n",
              "          google.colab.kernel.accessAllowed ? 'block' : 'none';\n",
              "\n",
              "        async function convertToInteractive(key) {\n",
              "          const element = document.querySelector('#df-1c8dd19e-a76d-4ffe-9c4e-5dcf13a91444');\n",
              "          const dataTable =\n",
              "            await google.colab.kernel.invokeFunction('convertToInteractive',\n",
              "                                                     [key], {});\n",
              "          if (!dataTable) return;\n",
              "\n",
              "          const docLinkHtml = 'Like what you see? Visit the ' +\n",
              "            '<a target=\"_blank\" href=https://colab.research.google.com/notebooks/data_table.ipynb>data table notebook</a>'\n",
              "            + ' to learn more about interactive tables.';\n",
              "          element.innerHTML = '';\n",
              "          dataTable['output_type'] = 'display_data';\n",
              "          await google.colab.output.renderOutput(dataTable, element);\n",
              "          const docLink = document.createElement('div');\n",
              "          docLink.innerHTML = docLinkHtml;\n",
              "          element.appendChild(docLink);\n",
              "        }\n",
              "      </script>\n",
              "    </div>\n",
              "  </div>\n",
              "  "
            ]
          },
          "metadata": {},
          "execution_count": 35
        }
      ]
    },
    {
      "cell_type": "code",
      "source": [
        "import matplotlib.pyplot as plt"
      ],
      "metadata": {
        "id": "nb3pwm1jdNvg"
      },
      "execution_count": 36,
      "outputs": []
    },
    {
      "cell_type": "code",
      "execution_count": 37,
      "metadata": {
        "colab": {
          "base_uri": "https://localhost:8080/",
          "height": 465
        },
        "id": "eMQqEobdigXl",
        "outputId": "da4a03a9-07f3-415e-c373-30ecf1341c6b"
      },
      "outputs": [
        {
          "output_type": "execute_result",
          "data": {
            "text/plain": [
              "[<matplotlib.lines.Line2D at 0x7ff6d52980a0>,\n",
              " <matplotlib.lines.Line2D at 0x7ff6d5298100>]"
            ]
          },
          "metadata": {},
          "execution_count": 37
        },
        {
          "output_type": "display_data",
          "data": {
            "text/plain": [
              "<Figure size 640x480 with 1 Axes>"
            ],
            "image/png": "[encoded data removed]"
          },
          "metadata": {}
        }
      ],
      "source": [
        "plt.plot(df_plt.name,df_plt.values)"
      ]
    },
    {
      "cell_type": "code",
      "execution_count": 38,
      "metadata": {
        "colab": {
          "base_uri": "https://localhost:8080/",
          "height": 534
        },
        "id": "o3h8A3ncigXl",
        "outputId": "83490e7a-3292-4398-c610-ddc7f11e7960"
      },
      "outputs": [
        {
          "output_type": "execute_result",
          "data": {
            "text/plain": [
              "(array([[99.,  0.,  0.,  0.,  0.,  0.,  0.,  0.,  0.,  0.],\n",
              "        [59., 14.,  8.,  8.,  5.,  3.,  0.,  0.,  1.,  1.]]),\n",
              " array([1.0000e+00, 8.3450e+02, 1.6680e+03, 2.5015e+03, 3.3350e+03,\n",
              "        4.1685e+03, 5.0020e+03, 5.8355e+03, 6.6690e+03, 7.5025e+03,\n",
              "        8.3360e+03]),\n",
              " <a list of 2 BarContainer objects>)"
            ]
          },
          "metadata": {},
          "execution_count": 38
        },
        {
          "output_type": "display_data",
          "data": {
            "text/plain": [
              "<Figure size 640x480 with 1 Axes>"
            ],
            "image/png": "[encoded data removed]"
          },
          "metadata": {}
        }
      ],
      "source": [
        "plt.hist(df_plt.values)"
      ]
    },
    {
      "cell_type": "code",
      "execution_count": 39,
      "metadata": {
        "colab": {
          "base_uri": "https://localhost:8080/"
        },
        "id": "-Ca_Z68MigXm",
        "outputId": "81c9825b-530a-4f23-949e-9df6b4183e3d"
      },
      "outputs": [
        {
          "output_type": "stream",
          "name": "stdout",
          "text": [
            "4421\n"
          ]
        }
      ],
      "source": [
        "new_places=[]\n",
        "for i in range(len(df)):\n",
        "  if df['USERCITY'][i] not in new_places:\n",
        "    new_places.append(df['USERCITY'][i])\n",
        "print(len(new_places))"
      ]
    },
    {
      "cell_type": "code",
      "execution_count": 40,
      "metadata": {
        "colab": {
          "base_uri": "https://localhost:8080/"
        },
        "id": "sbT5er13YqyL",
        "outputId": "b09c93ab-c95d-4e3b-efe7-fdbde4a54959"
      },
      "outputs": [
        {
          "output_type": "stream",
          "name": "stdout",
          "text": [
            "3061\n"
          ]
        }
      ],
      "source": [
        "new_places_t=[]\n",
        "for i in range(len(dft)):\n",
        "  if dft['USERCITY'][i] not in new_places_t:\n",
        "    new_places_t.append(dft['USERCITY'][i])\n",
        "print(len(new_places_t))"
      ]
    },
    {
      "cell_type": "code",
      "execution_count": 41,
      "metadata": {
        "id": "fJ6TMlevigXm"
      },
      "outputs": [],
      "source": [
        "place_dict={}\n",
        "for i in range(len(new_places)):\n",
        "    place_dict[new_places[i]]=0"
      ]
    },
    {
      "cell_type": "code",
      "source": [
        "place_dict_t={}\n",
        "for i in range(len(new_places_t)):\n",
        "    place_dict_t[new_places_t[i]]=0"
      ],
      "metadata": {
        "id": "2GJ-Lnf_qz2h"
      },
      "execution_count": 42,
      "outputs": []
    },
    {
      "cell_type": "code",
      "execution_count": 43,
      "metadata": {
        "id": "Dc0QZ5rpigXm"
      },
      "outputs": [],
      "source": [
        "for i in range(len(df)):\n",
        "    place_dict[df['USERCITY'][i]]+=1"
      ]
    },
    {
      "cell_type": "code",
      "source": [
        "for i in range(len(dft)):\n",
        "    place_dict_t[dft['USERCITY'][i]]+=1"
      ],
      "metadata": {
        "id": "seTFf78krGPm"
      },
      "execution_count": 44,
      "outputs": []
    },
    {
      "cell_type": "code",
      "execution_count": 45,
      "metadata": {
        "id": "Q0eZspsKigXn"
      },
      "outputs": [],
      "source": [
        "# place_dict"
      ]
    },
    {
      "cell_type": "code",
      "execution_count": 46,
      "metadata": {
        "id": "6nOQBYihigXn"
      },
      "outputs": [],
      "source": [
        "myKeys1 = list(place_dict.keys())\n",
        "myKeys1.sort()\n",
        "sorted_place = {i: place_dict[i] for i in myKeys1}"
      ]
    },
    {
      "cell_type": "code",
      "execution_count": null,
      "metadata": {
        "id": "jNkMg3EJu4fL"
      },
      "outputs": [],
      "source": [
        "# myKeys1"
      ]
    },
    {
      "cell_type": "code",
      "source": [
        "new_words=[]\n",
        "for i in range(len(df)):\n",
        "  for j in range(len(df['KEYWORDS'][i])):\n",
        "    if df['KEYWORDS'][i][j] not in new_words:\n",
        "      new_words.append(df['KEYWORDS'][i][j])\n",
        "print(len(new_words))"
      ],
      "metadata": {
        "colab": {
          "base_uri": "https://localhost:8080/"
        },
        "id": "zbQMvO8ijE0M",
        "outputId": "fcd1dcca-5507-46b4-b84e-8dbc67c4ff8a"
      },
      "execution_count": 55,
      "outputs": [
        {
          "output_type": "stream",
          "name": "stdout",
          "text": [
            "1421\n"
          ]
        }
      ]
    },
    {
      "cell_type": "code",
      "execution_count": 59,
      "metadata": {
        "colab": {
          "base_uri": "https://localhost:8080/"
        },
        "id": "gzJwLXWOigXp",
        "outputId": "47f9a0a4-4845-4127-cc82-5fdcb093d81a"
      },
      "outputs": [
        {
          "output_type": "stream",
          "name": "stdout",
          "text": [
            "1421\n"
          ]
        }
      ],
      "source": [
        "new_words_t=[]\n",
        "for i in range(len(dft)):\n",
        "  for j in range(len(dft['KEYWORDS'][i])):\n",
        "    if dft['KEYWORDS'][i][j] not in new_words_t:\n",
        "      new_words_t.append(dft['KEYWORDS'][i][j])\n",
        "print(len(new_words_t))"
      ]
    },
    {
      "cell_type": "code",
      "source": [
        "count_diff=[]\n",
        "for i in range(len(new_words_t)):\n",
        "  if new_words_t[i] not in new_words:\n",
        "    count_diff.append(new_words_t[i])"
      ],
      "metadata": {
        "id": "SpSStPuqi9L-"
      },
      "execution_count": 60,
      "outputs": []
    },
    {
      "cell_type": "code",
      "source": [
        "count_diff1=[]\n",
        "for i in range(len(new_words)):\n",
        "  if new_words[i] not in new_words_t:\n",
        "    count_diff1.append(new_words[i])"
      ],
      "metadata": {
        "id": "qjUsty2FYaTB"
      },
      "execution_count": 49,
      "outputs": []
    },
    {
      "cell_type": "code",
      "source": [
        "len(count_diff)"
      ],
      "metadata": {
        "colab": {
          "base_uri": "https://localhost:8080/"
        },
        "id": "7FykA5_nrxCK",
        "outputId": "b4fd9b7b-5866-4b76-a556-a29d4ac0eeb8"
      },
      "execution_count": 61,
      "outputs": [
        {
          "output_type": "execute_result",
          "data": {
            "text/plain": [
              "0"
            ]
          },
          "metadata": {},
          "execution_count": 61
        }
      ]
    },
    {
      "cell_type": "code",
      "source": [
        "for i in range(len(dft)):\n",
        "  l1=[]\n",
        "  for j in range(len(dft['KEYWORDS'][i])):\n",
        "    if dft['KEYWORDS'][i][j] not in count_diff:\n",
        "      l1.append(dft['KEYWORDS'][i][j])\n",
        "  dft['KEYWORDS'][i]=l1"
      ],
      "metadata": {
        "colab": {
          "base_uri": "https://localhost:8080/"
        },
        "id": "TgsKD-0Lk4Sf",
        "outputId": "38f8c5f4-c6b5-4f35-9af5-cdcd6cdc10e5"
      },
      "execution_count": 58,
      "outputs": [
        {
          "output_type": "stream",
          "name": "stderr",
          "text": [
            "<ipython-input-58-96f756f0eaa3>:6: SettingWithCopyWarning: \n",
            "A value is trying to be set on a copy of a slice from a DataFrame\n",
            "\n",
            "See the caveats in the documentation: https://pandas.pydata.org/pandas-docs/stable/user_guide/indexing.html#returning-a-view-versus-a-copy\n",
            "  dft['KEYWORDS'][i]=l1\n"
          ]
        }
      ]
    },
    {
      "cell_type": "code",
      "source": [
        "for i in range(len(dft)):\n",
        "  l1=[]\n",
        "  for j in range(len(dft['KEYWORDS'][i])):\n",
        "    if dft['KEYWORDS'][i][j] not in count_diff1:\n",
        "      l1.append(dft['KEYWORDS'][i][j])\n",
        "  dft['KEYWORDS'][i]=l1"
      ],
      "metadata": {
        "colab": {
          "base_uri": "https://localhost:8080/"
        },
        "id": "GP_g7rqNYqkF",
        "outputId": "f1dacb23-0708-4c08-ec41-08a8aa1bfacf"
      },
      "execution_count": 53,
      "outputs": [
        {
          "output_type": "stream",
          "name": "stderr",
          "text": [
            "<ipython-input-53-28e5fc07140f>:6: SettingWithCopyWarning: \n",
            "A value is trying to be set on a copy of a slice from a DataFrame\n",
            "\n",
            "See the caveats in the documentation: https://pandas.pydata.org/pandas-docs/stable/user_guide/indexing.html#returning-a-view-versus-a-copy\n",
            "  dft['KEYWORDS'][i]=l1\n"
          ]
        }
      ]
    },
    {
      "cell_type": "code",
      "source": [
        "for i in range(len(df)):\n",
        "  l1=[]\n",
        "  for j in range(len(df['KEYWORDS'][i])):\n",
        "    if df['KEYWORDS'][i][j] not in count_diff1:\n",
        "      l1.append(df['KEYWORDS'][i][j])\n",
        "  df['KEYWORDS'][i]=l1"
      ],
      "metadata": {
        "colab": {
          "base_uri": "https://localhost:8080/"
        },
        "id": "LULIotISaI4r",
        "outputId": "1b484b00-9c3a-4cc5-f2e7-6cf54280443c"
      },
      "execution_count": 54,
      "outputs": [
        {
          "output_type": "stream",
          "name": "stderr",
          "text": [
            "<ipython-input-54-7f145563c94e>:6: SettingWithCopyWarning: \n",
            "A value is trying to be set on a copy of a slice from a DataFrame\n",
            "\n",
            "See the caveats in the documentation: https://pandas.pydata.org/pandas-docs/stable/user_guide/indexing.html#returning-a-view-versus-a-copy\n",
            "  df['KEYWORDS'][i]=l1\n"
          ]
        }
      ]
    },
    {
      "cell_type": "code",
      "source": [
        "for i in range(len(dft)):\n",
        "  dft['USERCITY'][i]=dft['USERCITY'][i].replace(\" \",\"\")"
      ],
      "metadata": {
        "colab": {
          "base_uri": "https://localhost:8080/"
        },
        "id": "lXXja6T4yNWq",
        "outputId": "63dbb7d9-5ac9-4d19-9d3d-af54b5c02ec8"
      },
      "execution_count": 62,
      "outputs": [
        {
          "output_type": "stream",
          "name": "stderr",
          "text": [
            "<ipython-input-62-a3e08bd8b38b>:2: SettingWithCopyWarning: \n",
            "A value is trying to be set on a copy of a slice from a DataFrame\n",
            "\n",
            "See the caveats in the documentation: https://pandas.pydata.org/pandas-docs/stable/user_guide/indexing.html#returning-a-view-versus-a-copy\n",
            "  dft['USERCITY'][i]=dft['USERCITY'][i].replace(\" \",\"\")\n"
          ]
        }
      ]
    },
    {
      "cell_type": "code",
      "source": [
        "for i in range(len(df)):\n",
        "  df['USERCITY'][i]=df['USERCITY'][i].replace(\" \",\"\")"
      ],
      "metadata": {
        "colab": {
          "base_uri": "https://localhost:8080/"
        },
        "id": "3fSSLiTsyoj7",
        "outputId": "e38d0ffa-8a5c-44a9-9fac-6bc432dfa887"
      },
      "execution_count": 63,
      "outputs": [
        {
          "output_type": "stream",
          "name": "stderr",
          "text": [
            "<ipython-input-63-d2d2374d29ea>:2: SettingWithCopyWarning: \n",
            "A value is trying to be set on a copy of a slice from a DataFrame\n",
            "\n",
            "See the caveats in the documentation: https://pandas.pydata.org/pandas-docs/stable/user_guide/indexing.html#returning-a-view-versus-a-copy\n",
            "  df['USERCITY'][i]=df['USERCITY'][i].replace(\" \",\"\")\n"
          ]
        }
      ]
    },
    {
      "cell_type": "code",
      "source": [
        "for i in range(len(dft)):\n",
        "  for j in range(len(dft['KEYWORDS'][i])):\n",
        "    dft['KEYWORDS'][i][j]=dft['KEYWORDS'][i][j].replace(\" \",\"\")"
      ],
      "metadata": {
        "id": "zt1fHqPcdyFA"
      },
      "execution_count": 64,
      "outputs": []
    },
    {
      "cell_type": "code",
      "source": [
        "for i in range(len(df)):\n",
        "  for j in range(len(df['KEYWORDS'][i])):\n",
        "    df['KEYWORDS'][i][j]=df['KEYWORDS'][i][j].replace(\" \",\"\")"
      ],
      "metadata": {
        "id": "F2CTTLHnyA8e"
      },
      "execution_count": 65,
      "outputs": []
    },
    {
      "cell_type": "code",
      "execution_count": 66,
      "metadata": {
        "id": "clrAlVdcigXp"
      },
      "outputs": [],
      "source": [
        "def low_case(string1):\n",
        "  return string1.lower()"
      ]
    },
    {
      "cell_type": "code",
      "execution_count": 67,
      "metadata": {
        "colab": {
          "base_uri": "https://localhost:8080/",
          "height": 635
        },
        "id": "g_39cq7YigXp",
        "outputId": "e83b1c20-ee64-4d88-a1da-263dd5881737"
      },
      "outputs": [
        {
          "output_type": "execute_result",
          "data": {
            "text/plain": [
              "   index      ID DEVICETYPE  PLATFORM_ID     BIDREQUESTIP  \\\n",
              "0      0  115501    Desktop            2   75.189.231.103   \n",
              "1      1  115502     Mobile            2    24.101.33.158   \n",
              "2      2  115503    Desktop            2  172.118.216.142   \n",
              "3      3  115504    Desktop            7   71.105.120.171   \n",
              "4      4  115505    Desktop            2     73.82.211.73   \n",
              "\n",
              "                        USERPLATFORMUID      USERCITY  USERZIPCODE  \\\n",
              "0  0d5041ff-f0b6-4d1a-9ad7-0a29f7d485b4  Fayetteville      28305.0   \n",
              "1  c8396dd0-969f-4d99-a40b-b7bb1f516154  ConneautLake      16316.0   \n",
              "2  3c97a081-6518-43f8-9f26-369759cfb471        Covina      91724.0   \n",
              "3  3e2578c8-f794-41af-a38c-c5cfb3c0f014      Brooklyn      11226.0   \n",
              "4  ec2ae7ce-6a8c-4156-98a7-07203e60f483      Marietta      30062.0   \n",
              "\n",
              "                                           USERAGENT            PLATFORMTYPE  \\\n",
              "0  Mozilla/5.0 (Macintosh; Intel Mac OS X 10_11_6...  Online Medical Journal   \n",
              "1  Mozilla/5.0 (iPhone; CPU iPhone OS 15_6_1 like...  Online Medical Journal   \n",
              "2  Mozilla/5.0 (Macintosh; Intel Mac OS X 10_15_7...  Online Medical Journal   \n",
              "3  Mozilla/5.0 (Macintosh; Intel Mac OS X 10_15_7...  Online Medical Journal   \n",
              "4  Mozilla/5.0 (Windows NT 10.0; Win64; x64) Appl...  Online Medical Journal   \n",
              "\n",
              "  CHANNELTYPE                                                URL  \\\n",
              "0     Website  https://www.clinicaladvisor.com/home/features/...   \n",
              "1     Website  https://www.ophthalmologyadvisor.com/topics/ca...   \n",
              "2     Website  https://www.psychiatryadvisor.com/author/tori-...   \n",
              "3     Website  https://www.cureus.com/articles/105482-diverti...   \n",
              "4     Website  https://www.renalandurologynews.com/home/confe...   \n",
              "\n",
              "                                            KEYWORDS  \n",
              "0  [familypractice, drainage, clinical, dermatolo...  \n",
              "1  [general, clinical, operative, medicine, cardi...  \n",
              "2  [abortion, anxietydisorders, apnea, false, tra...  \n",
              "3  [health, male, neurologicalsurgery, otolaryngo...  \n",
              "4  [chronickidneydisease, pain, nephrology, disea...  "
            ],
            "text/html": [
              "\n",
              "  <div id=\"df-a5d152e9-3260-4b3b-973a-58f70ec9a949\">\n",
              "    <div class=\"colab-df-container\">\n",
              "      <div>\n",
              "<style scoped>\n",
              "    .dataframe tbody tr th:only-of-type {\n",
              "        vertical-align: middle;\n",
              "    }\n",
              "\n",
              "    .dataframe tbody tr th {\n",
              "        vertical-align: top;\n",
              "    }\n",
              "\n",
              "    .dataframe thead th {\n",
              "        text-align: right;\n",
              "    }\n",
              "</style>\n",
              "<table border=\"1\" class=\"dataframe\">\n",
              "  <thead>\n",
              "    <tr style=\"text-align: right;\">\n",
              "      <th></th>\n",
              "      <th>index</th>\n",
              "      <th>ID</th>\n",
              "      <th>DEVICETYPE</th>\n",
              "      <th>PLATFORM_ID</th>\n",
              "      <th>BIDREQUESTIP</th>\n",
              "      <th>USERPLATFORMUID</th>\n",
              "      <th>USERCITY</th>\n",
              "      <th>USERZIPCODE</th>\n",
              "      <th>USERAGENT</th>\n",
              "      <th>PLATFORMTYPE</th>\n",
              "      <th>CHANNELTYPE</th>\n",
              "      <th>URL</th>\n",
              "      <th>KEYWORDS</th>\n",
              "    </tr>\n",
              "  </thead>\n",
              "  <tbody>\n",
              "    <tr>\n",
              "      <th>0</th>\n",
              "      <td>0</td>\n",
              "      <td>115501</td>\n",
              "      <td>Desktop</td>\n",
              "      <td>2</td>\n",
              "      <td>75.189.231.103</td>\n",
              "      <td>0d5041ff-f0b6-4d1a-9ad7-0a29f7d485b4</td>\n",
              "      <td>Fayetteville</td>\n",
              "      <td>28305.0</td>\n",
              "      <td>Mozilla/5.0 (Macintosh; Intel Mac OS X 10_11_6...</td>\n",
              "      <td>Online Medical Journal</td>\n",
              "      <td>Website</td>\n",
              "      <td>https://www.clinicaladvisor.com/home/features/...</td>\n",
              "      <td>[familypractice, drainage, clinical, dermatolo...</td>\n",
              "    </tr>\n",
              "    <tr>\n",
              "      <th>1</th>\n",
              "      <td>1</td>\n",
              "      <td>115502</td>\n",
              "      <td>Mobile</td>\n",
              "      <td>2</td>\n",
              "      <td>24.101.33.158</td>\n",
              "      <td>c8396dd0-969f-4d99-a40b-b7bb1f516154</td>\n",
              "      <td>ConneautLake</td>\n",
              "      <td>16316.0</td>\n",
              "      <td>Mozilla/5.0 (iPhone; CPU iPhone OS 15_6_1 like...</td>\n",
              "      <td>Online Medical Journal</td>\n",
              "      <td>Website</td>\n",
              "      <td>https://www.ophthalmologyadvisor.com/topics/ca...</td>\n",
              "      <td>[general, clinical, operative, medicine, cardi...</td>\n",
              "    </tr>\n",
              "    <tr>\n",
              "      <th>2</th>\n",
              "      <td>2</td>\n",
              "      <td>115503</td>\n",
              "      <td>Desktop</td>\n",
              "      <td>2</td>\n",
              "      <td>172.118.216.142</td>\n",
              "      <td>3c97a081-6518-43f8-9f26-369759cfb471</td>\n",
              "      <td>Covina</td>\n",
              "      <td>91724.0</td>\n",
              "      <td>Mozilla/5.0 (Macintosh; Intel Mac OS X 10_15_7...</td>\n",
              "      <td>Online Medical Journal</td>\n",
              "      <td>Website</td>\n",
              "      <td>https://www.psychiatryadvisor.com/author/tori-...</td>\n",
              "      <td>[abortion, anxietydisorders, apnea, false, tra...</td>\n",
              "    </tr>\n",
              "    <tr>\n",
              "      <th>3</th>\n",
              "      <td>3</td>\n",
              "      <td>115504</td>\n",
              "      <td>Desktop</td>\n",
              "      <td>7</td>\n",
              "      <td>71.105.120.171</td>\n",
              "      <td>3e2578c8-f794-41af-a38c-c5cfb3c0f014</td>\n",
              "      <td>Brooklyn</td>\n",
              "      <td>11226.0</td>\n",
              "      <td>Mozilla/5.0 (Macintosh; Intel Mac OS X 10_15_7...</td>\n",
              "      <td>Online Medical Journal</td>\n",
              "      <td>Website</td>\n",
              "      <td>https://www.cureus.com/articles/105482-diverti...</td>\n",
              "      <td>[health, male, neurologicalsurgery, otolaryngo...</td>\n",
              "    </tr>\n",
              "    <tr>\n",
              "      <th>4</th>\n",
              "      <td>4</td>\n",
              "      <td>115505</td>\n",
              "      <td>Desktop</td>\n",
              "      <td>2</td>\n",
              "      <td>73.82.211.73</td>\n",
              "      <td>ec2ae7ce-6a8c-4156-98a7-07203e60f483</td>\n",
              "      <td>Marietta</td>\n",
              "      <td>30062.0</td>\n",
              "      <td>Mozilla/5.0 (Windows NT 10.0; Win64; x64) Appl...</td>\n",
              "      <td>Online Medical Journal</td>\n",
              "      <td>Website</td>\n",
              "      <td>https://www.renalandurologynews.com/home/confe...</td>\n",
              "      <td>[chronickidneydisease, pain, nephrology, disea...</td>\n",
              "    </tr>\n",
              "  </tbody>\n",
              "</table>\n",
              "</div>\n",
              "      <button class=\"colab-df-convert\" onclick=\"convertToInteractive('df-a5d152e9-3260-4b3b-973a-58f70ec9a949')\"\n",
              "              title=\"Convert this dataframe to an interactive table.\"\n",
              "              style=\"display:none;\">\n",
              "        \n",
              "  <svg xmlns=\"http://www.w3.org/2000/svg\" height=\"24px\"viewBox=\"0 0 24 24\"\n",
              "       width=\"24px\">\n",
              "    <path d=\"M0 0h24v24H0V0z\" fill=\"none\"/>\n",
              "    <path d=\"M18.56 5.44l.94 2.06.94-2.06 2.06-.94-2.06-.94-.94-2.06-.94 2.06-2.06.94zm-11 1L8.5 8.5l.94-2.06 2.06-.94-2.06-.94L8.5 2.5l-.94 2.06-2.06.94zm10 10l.94 2.06.94-2.06 2.06-.94-2.06-.94-.94-2.06-.94 2.06-2.06.94z\"/><path d=\"M17.41 7.96l-1.37-1.37c-.4-.4-.92-.59-1.43-.59-.52 0-1.04.2-1.43.59L10.3 9.45l-7.72 7.72c-.78.78-.78 2.05 0 2.83L4 21.41c.39.39.9.59 1.41.59.51 0 1.02-.2 1.41-.59l7.78-7.78 2.81-2.81c.8-.78.8-2.07 0-2.86zM5.41 20L4 18.59l7.72-7.72 1.47 1.35L5.41 20z\"/>\n",
              "  </svg>\n",
              "      </button>\n",
              "      \n",
              "  <style>\n",
              "    .colab-df-container {\n",
              "      display:flex;\n",
              "      flex-wrap:wrap;\n",
              "      gap: 12px;\n",
              "    }\n",
              "\n",
              "    .colab-df-convert {\n",
              "      background-color: #E8F0FE;\n",
              "      border: none;\n",
              "      border-radius: 50%;\n",
              "      cursor: pointer;\n",
              "      display: none;\n",
              "      fill: #1967D2;\n",
              "      height: 32px;\n",
              "      padding: 0 0 0 0;\n",
              "      width: 32px;\n",
              "    }\n",
              "\n",
              "    .colab-df-convert:hover {\n",
              "      background-color: #E2EBFA;\n",
              "      box-shadow: 0px 1px 2px rgba(60, 64, 67, 0.3), 0px 1px 3px 1px rgba(60, 64, 67, 0.15);\n",
              "      fill: #174EA6;\n",
              "    }\n",
              "\n",
              "    [theme=dark] .colab-df-convert {\n",
              "      background-color: #3B4455;\n",
              "      fill: #D2E3FC;\n",
              "    }\n",
              "\n",
              "    [theme=dark] .colab-df-convert:hover {\n",
              "      background-color: #434B5C;\n",
              "      box-shadow: 0px 1px 3px 1px rgba(0, 0, 0, 0.15);\n",
              "      filter: drop-shadow(0px 1px 2px rgba(0, 0, 0, 0.3));\n",
              "      fill: #FFFFFF;\n",
              "    }\n",
              "  </style>\n",
              "\n",
              "      <script>\n",
              "        const buttonEl =\n",
              "          document.querySelector('#df-a5d152e9-3260-4b3b-973a-58f70ec9a949 button.colab-df-convert');\n",
              "        buttonEl.style.display =\n",
              "          google.colab.kernel.accessAllowed ? 'block' : 'none';\n",
              "\n",
              "        async function convertToInteractive(key) {\n",
              "          const element = document.querySelector('#df-a5d152e9-3260-4b3b-973a-58f70ec9a949');\n",
              "          const dataTable =\n",
              "            await google.colab.kernel.invokeFunction('convertToInteractive',\n",
              "                                                     [key], {});\n",
              "          if (!dataTable) return;\n",
              "\n",
              "          const docLinkHtml = 'Like what you see? Visit the ' +\n",
              "            '<a target=\"_blank\" href=https://colab.research.google.com/notebooks/data_table.ipynb>data table notebook</a>'\n",
              "            + ' to learn more about interactive tables.';\n",
              "          element.innerHTML = '';\n",
              "          dataTable['output_type'] = 'display_data';\n",
              "          await google.colab.output.renderOutput(dataTable, element);\n",
              "          const docLink = document.createElement('div');\n",
              "          docLink.innerHTML = docLinkHtml;\n",
              "          element.appendChild(docLink);\n",
              "        }\n",
              "      </script>\n",
              "    </div>\n",
              "  </div>\n",
              "  "
            ]
          },
          "metadata": {},
          "execution_count": 67
        }
      ],
      "source": [
        "for i in range(len(dft)):\n",
        "  for j in range(len(dft['KEYWORDS'][i])):\n",
        "    dft['KEYWORDS'][i][j]=dft['KEYWORDS'][i][j].lower()\n",
        "dft.head()"
      ]
    },
    {
      "cell_type": "code",
      "source": [
        "for i in range(len(df)):\n",
        "  for j in range(len(df['KEYWORDS'][i])):\n",
        "    df['KEYWORDS'][i][j]=df['KEYWORDS'][i][j].lower()\n",
        "df.head()"
      ],
      "metadata": {
        "colab": {
          "base_uri": "https://localhost:8080/",
          "height": 635
        },
        "id": "qm3D0U8vxJGI",
        "outputId": "8cf01b7e-fbb2-4976-a55b-65a2e0b22e82"
      },
      "execution_count": 68,
      "outputs": [
        {
          "output_type": "execute_result",
          "data": {
            "text/plain": [
              "   index    ID DEVICETYPE  PLATFORM_ID    BIDREQUESTIP  \\\n",
              "0      0  1001    Desktop            2    170.173.0.22   \n",
              "1      1  1002    Desktop            2   65.216.253.25   \n",
              "2      2  1003    Desktop            2    66.232.79.22   \n",
              "3      3  1004    Desktop            3  137.54.125.246   \n",
              "4      4  1005     Mobile            7  174.202.231.99   \n",
              "\n",
              "                        USERPLATFORMUID    USERCITY  USERZIPCODE  \\\n",
              "0  6974dcaa-f932-480e-9fb5-c52e20e1393a    Portland      97206.0   \n",
              "1  c12f3f8f-8fcf-484a-90e1-1ac04db8cdcf   Arlington      22202.0   \n",
              "2  a698de4b-e200-46dd-b5fb-40402175ae18  NewMeadows      83654.0   \n",
              "3  45967533-75c8-4fbd-a00c-e6ff20447aaa     Neutral  229114624.0   \n",
              "4  a17e25be-532d-4cf5-b916-9308c8c3961f     Houston      77008.0   \n",
              "\n",
              "                                           USERAGENT            PLATFORMTYPE  \\\n",
              "0  Mozilla/5.0 (Windows NT 10.0; Win64; x64) Appl...  Online Medical Journal   \n",
              "1  Mozilla/5.0 (Macintosh; Intel Mac OS X 10_15_7...  Online Medical Journal   \n",
              "2  Mozilla/5.0 (Macintosh; Intel Mac OS X 10_15_7...  Online Medical Journal   \n",
              "3  Mozilla/5.0 (Windows NT 10.0; Win64; x64) Appl...  Online Medical Journal   \n",
              "4  Mozilla/5.0 (iPhone; CPU iPhone OS 16_1_1 like...  Online Medical Journal   \n",
              "\n",
              "  CHANNELTYPE                                                URL  \\\n",
              "0     Website  https://www.cancertherapyadvisor.com/home/canc...   \n",
              "1     Website  https://www.cancertherapyadvisor.com/home/deci...   \n",
              "2     Website  https://www.cancertherapyadvisor.com/home/canc...   \n",
              "3     Website  https://globalrph.com/medcalcs/warfarin-mainte...   \n",
              "4     Website  https://www.cureus.com/articles/58184-a-review...   \n",
              "\n",
              "                                            KEYWORDS    TAXONOMY  IS_HCP  \n",
              "0  [general, endocrine, false, medicine, surgery,...        None     0.0  \n",
              "1  [bonemarrow, radiography, chronic, oncology, p...        None     0.0  \n",
              "2  [general, endocrine, false, medicine, surgery,...        None     0.0  \n",
              "3  [dental, total, clinical, pharmacology, physic...  2084P0800X     1.0  \n",
              "4  [criticalcare, emergencymedicine, generalpract...        None     0.0  "
            ],
            "text/html": [
              "\n",
              "  <div id=\"df-a41bb9ac-c6b9-4e32-a45f-82ee093dc69f\">\n",
              "    <div class=\"colab-df-container\">\n",
              "      <div>\n",
              "<style scoped>\n",
              "    .dataframe tbody tr th:only-of-type {\n",
              "        vertical-align: middle;\n",
              "    }\n",
              "\n",
              "    .dataframe tbody tr th {\n",
              "        vertical-align: top;\n",
              "    }\n",
              "\n",
              "    .dataframe thead th {\n",
              "        text-align: right;\n",
              "    }\n",
              "</style>\n",
              "<table border=\"1\" class=\"dataframe\">\n",
              "  <thead>\n",
              "    <tr style=\"text-align: right;\">\n",
              "      <th></th>\n",
              "      <th>index</th>\n",
              "      <th>ID</th>\n",
              "      <th>DEVICETYPE</th>\n",
              "      <th>PLATFORM_ID</th>\n",
              "      <th>BIDREQUESTIP</th>\n",
              "      <th>USERPLATFORMUID</th>\n",
              "      <th>USERCITY</th>\n",
              "      <th>USERZIPCODE</th>\n",
              "      <th>USERAGENT</th>\n",
              "      <th>PLATFORMTYPE</th>\n",
              "      <th>CHANNELTYPE</th>\n",
              "      <th>URL</th>\n",
              "      <th>KEYWORDS</th>\n",
              "      <th>TAXONOMY</th>\n",
              "      <th>IS_HCP</th>\n",
              "    </tr>\n",
              "  </thead>\n",
              "  <tbody>\n",
              "    <tr>\n",
              "      <th>0</th>\n",
              "      <td>0</td>\n",
              "      <td>1001</td>\n",
              "      <td>Desktop</td>\n",
              "      <td>2</td>\n",
              "      <td>170.173.0.22</td>\n",
              "      <td>6974dcaa-f932-480e-9fb5-c52e20e1393a</td>\n",
              "      <td>Portland</td>\n",
              "      <td>97206.0</td>\n",
              "      <td>Mozilla/5.0 (Windows NT 10.0; Win64; x64) Appl...</td>\n",
              "      <td>Online Medical Journal</td>\n",
              "      <td>Website</td>\n",
              "      <td>https://www.cancertherapyadvisor.com/home/canc...</td>\n",
              "      <td>[general, endocrine, false, medicine, surgery,...</td>\n",
              "      <td>None</td>\n",
              "      <td>0.0</td>\n",
              "    </tr>\n",
              "    <tr>\n",
              "      <th>1</th>\n",
              "      <td>1</td>\n",
              "      <td>1002</td>\n",
              "      <td>Desktop</td>\n",
              "      <td>2</td>\n",
              "      <td>65.216.253.25</td>\n",
              "      <td>c12f3f8f-8fcf-484a-90e1-1ac04db8cdcf</td>\n",
              "      <td>Arlington</td>\n",
              "      <td>22202.0</td>\n",
              "      <td>Mozilla/5.0 (Macintosh; Intel Mac OS X 10_15_7...</td>\n",
              "      <td>Online Medical Journal</td>\n",
              "      <td>Website</td>\n",
              "      <td>https://www.cancertherapyadvisor.com/home/deci...</td>\n",
              "      <td>[bonemarrow, radiography, chronic, oncology, p...</td>\n",
              "      <td>None</td>\n",
              "      <td>0.0</td>\n",
              "    </tr>\n",
              "    <tr>\n",
              "      <th>2</th>\n",
              "      <td>2</td>\n",
              "      <td>1003</td>\n",
              "      <td>Desktop</td>\n",
              "      <td>2</td>\n",
              "      <td>66.232.79.22</td>\n",
              "      <td>a698de4b-e200-46dd-b5fb-40402175ae18</td>\n",
              "      <td>NewMeadows</td>\n",
              "      <td>83654.0</td>\n",
              "      <td>Mozilla/5.0 (Macintosh; Intel Mac OS X 10_15_7...</td>\n",
              "      <td>Online Medical Journal</td>\n",
              "      <td>Website</td>\n",
              "      <td>https://www.cancertherapyadvisor.com/home/canc...</td>\n",
              "      <td>[general, endocrine, false, medicine, surgery,...</td>\n",
              "      <td>None</td>\n",
              "      <td>0.0</td>\n",
              "    </tr>\n",
              "    <tr>\n",
              "      <th>3</th>\n",
              "      <td>3</td>\n",
              "      <td>1004</td>\n",
              "      <td>Desktop</td>\n",
              "      <td>3</td>\n",
              "      <td>137.54.125.246</td>\n",
              "      <td>45967533-75c8-4fbd-a00c-e6ff20447aaa</td>\n",
              "      <td>Neutral</td>\n",
              "      <td>229114624.0</td>\n",
              "      <td>Mozilla/5.0 (Windows NT 10.0; Win64; x64) Appl...</td>\n",
              "      <td>Online Medical Journal</td>\n",
              "      <td>Website</td>\n",
              "      <td>https://globalrph.com/medcalcs/warfarin-mainte...</td>\n",
              "      <td>[dental, total, clinical, pharmacology, physic...</td>\n",
              "      <td>2084P0800X</td>\n",
              "      <td>1.0</td>\n",
              "    </tr>\n",
              "    <tr>\n",
              "      <th>4</th>\n",
              "      <td>4</td>\n",
              "      <td>1005</td>\n",
              "      <td>Mobile</td>\n",
              "      <td>7</td>\n",
              "      <td>174.202.231.99</td>\n",
              "      <td>a17e25be-532d-4cf5-b916-9308c8c3961f</td>\n",
              "      <td>Houston</td>\n",
              "      <td>77008.0</td>\n",
              "      <td>Mozilla/5.0 (iPhone; CPU iPhone OS 16_1_1 like...</td>\n",
              "      <td>Online Medical Journal</td>\n",
              "      <td>Website</td>\n",
              "      <td>https://www.cureus.com/articles/58184-a-review...</td>\n",
              "      <td>[criticalcare, emergencymedicine, generalpract...</td>\n",
              "      <td>None</td>\n",
              "      <td>0.0</td>\n",
              "    </tr>\n",
              "  </tbody>\n",
              "</table>\n",
              "</div>\n",
              "      <button class=\"colab-df-convert\" onclick=\"convertToInteractive('df-a41bb9ac-c6b9-4e32-a45f-82ee093dc69f')\"\n",
              "              title=\"Convert this dataframe to an interactive table.\"\n",
              "              style=\"display:none;\">\n",
              "        \n",
              "  <svg xmlns=\"http://www.w3.org/2000/svg\" height=\"24px\"viewBox=\"0 0 24 24\"\n",
              "       width=\"24px\">\n",
              "    <path d=\"M0 0h24v24H0V0z\" fill=\"none\"/>\n",
              "    <path d=\"M18.56 5.44l.94 2.06.94-2.06 2.06-.94-2.06-.94-.94-2.06-.94 2.06-2.06.94zm-11 1L8.5 8.5l.94-2.06 2.06-.94-2.06-.94L8.5 2.5l-.94 2.06-2.06.94zm10 10l.94 2.06.94-2.06 2.06-.94-2.06-.94-.94-2.06-.94 2.06-2.06.94z\"/><path d=\"M17.41 7.96l-1.37-1.37c-.4-.4-.92-.59-1.43-.59-.52 0-1.04.2-1.43.59L10.3 9.45l-7.72 7.72c-.78.78-.78 2.05 0 2.83L4 21.41c.39.39.9.59 1.41.59.51 0 1.02-.2 1.41-.59l7.78-7.78 2.81-2.81c.8-.78.8-2.07 0-2.86zM5.41 20L4 18.59l7.72-7.72 1.47 1.35L5.41 20z\"/>\n",
              "  </svg>\n",
              "      </button>\n",
              "      \n",
              "  <style>\n",
              "    .colab-df-container {\n",
              "      display:flex;\n",
              "      flex-wrap:wrap;\n",
              "      gap: 12px;\n",
              "    }\n",
              "\n",
              "    .colab-df-convert {\n",
              "      background-color: #E8F0FE;\n",
              "      border: none;\n",
              "      border-radius: 50%;\n",
              "      cursor: pointer;\n",
              "      display: none;\n",
              "      fill: #1967D2;\n",
              "      height: 32px;\n",
              "      padding: 0 0 0 0;\n",
              "      width: 32px;\n",
              "    }\n",
              "\n",
              "    .colab-df-convert:hover {\n",
              "      background-color: #E2EBFA;\n",
              "      box-shadow: 0px 1px 2px rgba(60, 64, 67, 0.3), 0px 1px 3px 1px rgba(60, 64, 67, 0.15);\n",
              "      fill: #174EA6;\n",
              "    }\n",
              "\n",
              "    [theme=dark] .colab-df-convert {\n",
              "      background-color: #3B4455;\n",
              "      fill: #D2E3FC;\n",
              "    }\n",
              "\n",
              "    [theme=dark] .colab-df-convert:hover {\n",
              "      background-color: #434B5C;\n",
              "      box-shadow: 0px 1px 3px 1px rgba(0, 0, 0, 0.15);\n",
              "      filter: drop-shadow(0px 1px 2px rgba(0, 0, 0, 0.3));\n",
              "      fill: #FFFFFF;\n",
              "    }\n",
              "  </style>\n",
              "\n",
              "      <script>\n",
              "        const buttonEl =\n",
              "          document.querySelector('#df-a41bb9ac-c6b9-4e32-a45f-82ee093dc69f button.colab-df-convert');\n",
              "        buttonEl.style.display =\n",
              "          google.colab.kernel.accessAllowed ? 'block' : 'none';\n",
              "\n",
              "        async function convertToInteractive(key) {\n",
              "          const element = document.querySelector('#df-a41bb9ac-c6b9-4e32-a45f-82ee093dc69f');\n",
              "          const dataTable =\n",
              "            await google.colab.kernel.invokeFunction('convertToInteractive',\n",
              "                                                     [key], {});\n",
              "          if (!dataTable) return;\n",
              "\n",
              "          const docLinkHtml = 'Like what you see? Visit the ' +\n",
              "            '<a target=\"_blank\" href=https://colab.research.google.com/notebooks/data_table.ipynb>data table notebook</a>'\n",
              "            + ' to learn more about interactive tables.';\n",
              "          element.innerHTML = '';\n",
              "          dataTable['output_type'] = 'display_data';\n",
              "          await google.colab.output.renderOutput(dataTable, element);\n",
              "          const docLink = document.createElement('div');\n",
              "          docLink.innerHTML = docLinkHtml;\n",
              "          element.appendChild(docLink);\n",
              "        }\n",
              "      </script>\n",
              "    </div>\n",
              "  </div>\n",
              "  "
            ]
          },
          "metadata": {},
          "execution_count": 68
        }
      ]
    },
    {
      "cell_type": "code",
      "execution_count": 69,
      "metadata": {
        "colab": {
          "base_uri": "https://localhost:8080/"
        },
        "id": "VpsxC5rj645T",
        "outputId": "8ea3c6f3-4509-4411-fd16-a9a62632fdb1"
      },
      "outputs": [
        {
          "output_type": "execute_result",
          "data": {
            "text/plain": [
              "(28492, 13)"
            ]
          },
          "metadata": {},
          "execution_count": 69
        }
      ],
      "source": [
        "dft.shape"
      ]
    },
    {
      "cell_type": "code",
      "execution_count": 70,
      "metadata": {
        "id": "Ud6x6togigXs"
      },
      "outputs": [],
      "source": [
        "import sklearn"
      ]
    },
    {
      "cell_type": "code",
      "execution_count": 71,
      "metadata": {
        "id": "J9lDZn0JigXs"
      },
      "outputs": [],
      "source": [
        "from sklearn.feature_extraction.text import CountVectorizer\n",
        "from sklearn.feature_extraction.text import TfidfVectorizer"
      ]
    },
    {
      "cell_type": "code",
      "execution_count": 72,
      "metadata": {
        "id": "M6nGs3VzEwVc"
      },
      "outputs": [],
      "source": [
        "from sklearn.model_selection import train_test_split"
      ]
    },
    {
      "cell_type": "code",
      "execution_count": 73,
      "metadata": {
        "id": "vVPYxvdwRgYz"
      },
      "outputs": [],
      "source": [
        "tf = TfidfVectorizer(lowercase=False)\n",
        "cv = CountVectorizer(lowercase=False)\n"
      ]
    },
    {
      "cell_type": "code",
      "execution_count": 74,
      "metadata": {
        "id": "lY4GGzpLUGyK"
      },
      "outputs": [],
      "source": [
        "snow_stem = df[['USERCITY','KEYWORDS']].copy()"
      ]
    },
    {
      "cell_type": "code",
      "source": [
        "snow_stem_t = dft[['USERCITY','KEYWORDS']].copy()"
      ],
      "metadata": {
        "id": "ALB3xIu_ebqH"
      },
      "execution_count": 75,
      "outputs": []
    },
    {
      "cell_type": "code",
      "execution_count": 76,
      "metadata": {
        "colab": {
          "base_uri": "https://localhost:8080/",
          "height": 424
        },
        "id": "srafT4wyUlq4",
        "outputId": "c2df7b44-ff1f-4791-8ec2-91a921daa704"
      },
      "outputs": [
        {
          "output_type": "execute_result",
          "data": {
            "text/plain": [
              "             USERCITY                                           KEYWORDS\n",
              "0        Fayetteville  [familypractice, drainage, clinical, dermatolo...\n",
              "1        ConneautLake  [general, clinical, operative, medicine, cardi...\n",
              "2              Covina  [abortion, anxietydisorders, apnea, false, tra...\n",
              "3            Brooklyn  [health, male, neurologicalsurgery, otolaryngo...\n",
              "4            Marietta  [chronickidneydisease, pain, nephrology, disea...\n",
              "...               ...                                                ...\n",
              "28487        Brooklyn  [transplantation, psychiatry, heartfailure, an...\n",
              "28488           Miami  [small, hospitals, nephrology, emergencymedici...\n",
              "28489  FortLauderdale  [small, hospitals, nephrology, emergencymedici...\n",
              "28490         Neutral  [the, disease, pain, radiology, lungabscess, d...\n",
              "28491      Wilmington  [medicine, general, clinical, false, urology, ...\n",
              "\n",
              "[28492 rows x 2 columns]"
            ],
            "text/html": [
              "\n",
              "  <div id=\"df-c28b5356-22c2-452e-a5ca-1d8c077be827\">\n",
              "    <div class=\"colab-df-container\">\n",
              "      <div>\n",
              "<style scoped>\n",
              "    .dataframe tbody tr th:only-of-type {\n",
              "        vertical-align: middle;\n",
              "    }\n",
              "\n",
              "    .dataframe tbody tr th {\n",
              "        vertical-align: top;\n",
              "    }\n",
              "\n",
              "    .dataframe thead th {\n",
              "        text-align: right;\n",
              "    }\n",
              "</style>\n",
              "<table border=\"1\" class=\"dataframe\">\n",
              "  <thead>\n",
              "    <tr style=\"text-align: right;\">\n",
              "      <th></th>\n",
              "      <th>USERCITY</th>\n",
              "      <th>KEYWORDS</th>\n",
              "    </tr>\n",
              "  </thead>\n",
              "  <tbody>\n",
              "    <tr>\n",
              "      <th>0</th>\n",
              "      <td>Fayetteville</td>\n",
              "      <td>[familypractice, drainage, clinical, dermatolo...</td>\n",
              "    </tr>\n",
              "    <tr>\n",
              "      <th>1</th>\n",
              "      <td>ConneautLake</td>\n",
              "      <td>[general, clinical, operative, medicine, cardi...</td>\n",
              "    </tr>\n",
              "    <tr>\n",
              "      <th>2</th>\n",
              "      <td>Covina</td>\n",
              "      <td>[abortion, anxietydisorders, apnea, false, tra...</td>\n",
              "    </tr>\n",
              "    <tr>\n",
              "      <th>3</th>\n",
              "      <td>Brooklyn</td>\n",
              "      <td>[health, male, neurologicalsurgery, otolaryngo...</td>\n",
              "    </tr>\n",
              "    <tr>\n",
              "      <th>4</th>\n",
              "      <td>Marietta</td>\n",
              "      <td>[chronickidneydisease, pain, nephrology, disea...</td>\n",
              "    </tr>\n",
              "    <tr>\n",
              "      <th>...</th>\n",
              "      <td>...</td>\n",
              "      <td>...</td>\n",
              "    </tr>\n",
              "    <tr>\n",
              "      <th>28487</th>\n",
              "      <td>Brooklyn</td>\n",
              "      <td>[transplantation, psychiatry, heartfailure, an...</td>\n",
              "    </tr>\n",
              "    <tr>\n",
              "      <th>28488</th>\n",
              "      <td>Miami</td>\n",
              "      <td>[small, hospitals, nephrology, emergencymedici...</td>\n",
              "    </tr>\n",
              "    <tr>\n",
              "      <th>28489</th>\n",
              "      <td>FortLauderdale</td>\n",
              "      <td>[small, hospitals, nephrology, emergencymedici...</td>\n",
              "    </tr>\n",
              "    <tr>\n",
              "      <th>28490</th>\n",
              "      <td>Neutral</td>\n",
              "      <td>[the, disease, pain, radiology, lungabscess, d...</td>\n",
              "    </tr>\n",
              "    <tr>\n",
              "      <th>28491</th>\n",
              "      <td>Wilmington</td>\n",
              "      <td>[medicine, general, clinical, false, urology, ...</td>\n",
              "    </tr>\n",
              "  </tbody>\n",
              "</table>\n",
              "<p>28492 rows × 2 columns</p>\n",
              "</div>\n",
              "      <button class=\"colab-df-convert\" onclick=\"convertToInteractive('df-c28b5356-22c2-452e-a5ca-1d8c077be827')\"\n",
              "              title=\"Convert this dataframe to an interactive table.\"\n",
              "              style=\"display:none;\">\n",
              "        \n",
              "  <svg xmlns=\"http://www.w3.org/2000/svg\" height=\"24px\"viewBox=\"0 0 24 24\"\n",
              "       width=\"24px\">\n",
              "    <path d=\"M0 0h24v24H0V0z\" fill=\"none\"/>\n",
              "    <path d=\"M18.56 5.44l.94 2.06.94-2.06 2.06-.94-2.06-.94-.94-2.06-.94 2.06-2.06.94zm-11 1L8.5 8.5l.94-2.06 2.06-.94-2.06-.94L8.5 2.5l-.94 2.06-2.06.94zm10 10l.94 2.06.94-2.06 2.06-.94-2.06-.94-.94-2.06-.94 2.06-2.06.94z\"/><path d=\"M17.41 7.96l-1.37-1.37c-.4-.4-.92-.59-1.43-.59-.52 0-1.04.2-1.43.59L10.3 9.45l-7.72 7.72c-.78.78-.78 2.05 0 2.83L4 21.41c.39.39.9.59 1.41.59.51 0 1.02-.2 1.41-.59l7.78-7.78 2.81-2.81c.8-.78.8-2.07 0-2.86zM5.41 20L4 18.59l7.72-7.72 1.47 1.35L5.41 20z\"/>\n",
              "  </svg>\n",
              "      </button>\n",
              "      \n",
              "  <style>\n",
              "    .colab-df-container {\n",
              "      display:flex;\n",
              "      flex-wrap:wrap;\n",
              "      gap: 12px;\n",
              "    }\n",
              "\n",
              "    .colab-df-convert {\n",
              "      background-color: #E8F0FE;\n",
              "      border: none;\n",
              "      border-radius: 50%;\n",
              "      cursor: pointer;\n",
              "      display: none;\n",
              "      fill: #1967D2;\n",
              "      height: 32px;\n",
              "      padding: 0 0 0 0;\n",
              "      width: 32px;\n",
              "    }\n",
              "\n",
              "    .colab-df-convert:hover {\n",
              "      background-color: #E2EBFA;\n",
              "      box-shadow: 0px 1px 2px rgba(60, 64, 67, 0.3), 0px 1px 3px 1px rgba(60, 64, 67, 0.15);\n",
              "      fill: #174EA6;\n",
              "    }\n",
              "\n",
              "    [theme=dark] .colab-df-convert {\n",
              "      background-color: #3B4455;\n",
              "      fill: #D2E3FC;\n",
              "    }\n",
              "\n",
              "    [theme=dark] .colab-df-convert:hover {\n",
              "      background-color: #434B5C;\n",
              "      box-shadow: 0px 1px 3px 1px rgba(0, 0, 0, 0.15);\n",
              "      filter: drop-shadow(0px 1px 2px rgba(0, 0, 0, 0.3));\n",
              "      fill: #FFFFFF;\n",
              "    }\n",
              "  </style>\n",
              "\n",
              "      <script>\n",
              "        const buttonEl =\n",
              "          document.querySelector('#df-c28b5356-22c2-452e-a5ca-1d8c077be827 button.colab-df-convert');\n",
              "        buttonEl.style.display =\n",
              "          google.colab.kernel.accessAllowed ? 'block' : 'none';\n",
              "\n",
              "        async function convertToInteractive(key) {\n",
              "          const element = document.querySelector('#df-c28b5356-22c2-452e-a5ca-1d8c077be827');\n",
              "          const dataTable =\n",
              "            await google.colab.kernel.invokeFunction('convertToInteractive',\n",
              "                                                     [key], {});\n",
              "          if (!dataTable) return;\n",
              "\n",
              "          const docLinkHtml = 'Like what you see? Visit the ' +\n",
              "            '<a target=\"_blank\" href=https://colab.research.google.com/notebooks/data_table.ipynb>data table notebook</a>'\n",
              "            + ' to learn more about interactive tables.';\n",
              "          element.innerHTML = '';\n",
              "          dataTable['output_type'] = 'display_data';\n",
              "          await google.colab.output.renderOutput(dataTable, element);\n",
              "          const docLink = document.createElement('div');\n",
              "          docLink.innerHTML = docLinkHtml;\n",
              "          element.appendChild(docLink);\n",
              "        }\n",
              "      </script>\n",
              "    </div>\n",
              "  </div>\n",
              "  "
            ]
          },
          "metadata": {},
          "execution_count": 76
        }
      ],
      "source": [
        "snow_stem_t"
      ]
    },
    {
      "cell_type": "code",
      "source": [
        "from nltk.stem import SnowballStemmer\n",
        "s_stem=SnowballStemmer(language='english')\n",
        "for i in range(len(snow_stem_t)):\n",
        "    for j in range(len(snow_stem_t['KEYWORDS'][i])):\n",
        "        snow_stem_t['KEYWORDS'][i][j]=s_stem.stem(snow_stem_t['KEYWORDS'][i][j])\n",
        "snow_stem_t.head()"
      ],
      "metadata": {
        "colab": {
          "base_uri": "https://localhost:8080/",
          "height": 206
        },
        "id": "Dqs_fKsf0FqE",
        "outputId": "1b61bd93-d384-4550-e879-497c3d663862"
      },
      "execution_count": 77,
      "outputs": [
        {
          "output_type": "execute_result",
          "data": {
            "text/plain": [
              "       USERCITY                                           KEYWORDS\n",
              "0  Fayetteville  [familypractic, drainag, clinic, dermatolog, o...\n",
              "1  ConneautLake  [general, clinic, oper, medicin, cardiolog, on...\n",
              "2        Covina  [abort, anxietydisord, apnea, fals, trauma, me...\n",
              "3      Brooklyn  [health, male, neurologicalsurgeri, otolaryngo...\n",
              "4      Marietta  [chronickidneydiseas, pain, nephrolog, diseas,..."
            ],
            "text/html": [
              "\n",
              "  <div id=\"df-d94e19e3-5101-4906-9e32-37a0ad712055\">\n",
              "    <div class=\"colab-df-container\">\n",
              "      <div>\n",
              "<style scoped>\n",
              "    .dataframe tbody tr th:only-of-type {\n",
              "        vertical-align: middle;\n",
              "    }\n",
              "\n",
              "    .dataframe tbody tr th {\n",
              "        vertical-align: top;\n",
              "    }\n",
              "\n",
              "    .dataframe thead th {\n",
              "        text-align: right;\n",
              "    }\n",
              "</style>\n",
              "<table border=\"1\" class=\"dataframe\">\n",
              "  <thead>\n",
              "    <tr style=\"text-align: right;\">\n",
              "      <th></th>\n",
              "      <th>USERCITY</th>\n",
              "      <th>KEYWORDS</th>\n",
              "    </tr>\n",
              "  </thead>\n",
              "  <tbody>\n",
              "    <tr>\n",
              "      <th>0</th>\n",
              "      <td>Fayetteville</td>\n",
              "      <td>[familypractic, drainag, clinic, dermatolog, o...</td>\n",
              "    </tr>\n",
              "    <tr>\n",
              "      <th>1</th>\n",
              "      <td>ConneautLake</td>\n",
              "      <td>[general, clinic, oper, medicin, cardiolog, on...</td>\n",
              "    </tr>\n",
              "    <tr>\n",
              "      <th>2</th>\n",
              "      <td>Covina</td>\n",
              "      <td>[abort, anxietydisord, apnea, fals, trauma, me...</td>\n",
              "    </tr>\n",
              "    <tr>\n",
              "      <th>3</th>\n",
              "      <td>Brooklyn</td>\n",
              "      <td>[health, male, neurologicalsurgeri, otolaryngo...</td>\n",
              "    </tr>\n",
              "    <tr>\n",
              "      <th>4</th>\n",
              "      <td>Marietta</td>\n",
              "      <td>[chronickidneydiseas, pain, nephrolog, diseas,...</td>\n",
              "    </tr>\n",
              "  </tbody>\n",
              "</table>\n",
              "</div>\n",
              "      <button class=\"colab-df-convert\" onclick=\"convertToInteractive('df-d94e19e3-5101-4906-9e32-37a0ad712055')\"\n",
              "              title=\"Convert this dataframe to an interactive table.\"\n",
              "              style=\"display:none;\">\n",
              "        \n",
              "  <svg xmlns=\"http://www.w3.org/2000/svg\" height=\"24px\"viewBox=\"0 0 24 24\"\n",
              "       width=\"24px\">\n",
              "    <path d=\"M0 0h24v24H0V0z\" fill=\"none\"/>\n",
              "    <path d=\"M18.56 5.44l.94 2.06.94-2.06 2.06-.94-2.06-.94-.94-2.06-.94 2.06-2.06.94zm-11 1L8.5 8.5l.94-2.06 2.06-.94-2.06-.94L8.5 2.5l-.94 2.06-2.06.94zm10 10l.94 2.06.94-2.06 2.06-.94-2.06-.94-.94-2.06-.94 2.06-2.06.94z\"/><path d=\"M17.41 7.96l-1.37-1.37c-.4-.4-.92-.59-1.43-.59-.52 0-1.04.2-1.43.59L10.3 9.45l-7.72 7.72c-.78.78-.78 2.05 0 2.83L4 21.41c.39.39.9.59 1.41.59.51 0 1.02-.2 1.41-.59l7.78-7.78 2.81-2.81c.8-.78.8-2.07 0-2.86zM5.41 20L4 18.59l7.72-7.72 1.47 1.35L5.41 20z\"/>\n",
              "  </svg>\n",
              "      </button>\n",
              "      \n",
              "  <style>\n",
              "    .colab-df-container {\n",
              "      display:flex;\n",
              "      flex-wrap:wrap;\n",
              "      gap: 12px;\n",
              "    }\n",
              "\n",
              "    .colab-df-convert {\n",
              "      background-color: #E8F0FE;\n",
              "      border: none;\n",
              "      border-radius: 50%;\n",
              "      cursor: pointer;\n",
              "      display: none;\n",
              "      fill: #1967D2;\n",
              "      height: 32px;\n",
              "      padding: 0 0 0 0;\n",
              "      width: 32px;\n",
              "    }\n",
              "\n",
              "    .colab-df-convert:hover {\n",
              "      background-color: #E2EBFA;\n",
              "      box-shadow: 0px 1px 2px rgba(60, 64, 67, 0.3), 0px 1px 3px 1px rgba(60, 64, 67, 0.15);\n",
              "      fill: #174EA6;\n",
              "    }\n",
              "\n",
              "    [theme=dark] .colab-df-convert {\n",
              "      background-color: #3B4455;\n",
              "      fill: #D2E3FC;\n",
              "    }\n",
              "\n",
              "    [theme=dark] .colab-df-convert:hover {\n",
              "      background-color: #434B5C;\n",
              "      box-shadow: 0px 1px 3px 1px rgba(0, 0, 0, 0.15);\n",
              "      filter: drop-shadow(0px 1px 2px rgba(0, 0, 0, 0.3));\n",
              "      fill: #FFFFFF;\n",
              "    }\n",
              "  </style>\n",
              "\n",
              "      <script>\n",
              "        const buttonEl =\n",
              "          document.querySelector('#df-d94e19e3-5101-4906-9e32-37a0ad712055 button.colab-df-convert');\n",
              "        buttonEl.style.display =\n",
              "          google.colab.kernel.accessAllowed ? 'block' : 'none';\n",
              "\n",
              "        async function convertToInteractive(key) {\n",
              "          const element = document.querySelector('#df-d94e19e3-5101-4906-9e32-37a0ad712055');\n",
              "          const dataTable =\n",
              "            await google.colab.kernel.invokeFunction('convertToInteractive',\n",
              "                                                     [key], {});\n",
              "          if (!dataTable) return;\n",
              "\n",
              "          const docLinkHtml = 'Like what you see? Visit the ' +\n",
              "            '<a target=\"_blank\" href=https://colab.research.google.com/notebooks/data_table.ipynb>data table notebook</a>'\n",
              "            + ' to learn more about interactive tables.';\n",
              "          element.innerHTML = '';\n",
              "          dataTable['output_type'] = 'display_data';\n",
              "          await google.colab.output.renderOutput(dataTable, element);\n",
              "          const docLink = document.createElement('div');\n",
              "          docLink.innerHTML = docLinkHtml;\n",
              "          element.appendChild(docLink);\n",
              "        }\n",
              "      </script>\n",
              "    </div>\n",
              "  </div>\n",
              "  "
            ]
          },
          "metadata": {},
          "execution_count": 77
        }
      ]
    },
    {
      "cell_type": "code",
      "execution_count": 78,
      "metadata": {
        "colab": {
          "base_uri": "https://localhost:8080/",
          "height": 206
        },
        "id": "aBvoi-d-igXr",
        "outputId": "88654cb3-d1da-47fb-c929-6eaf914550c2"
      },
      "outputs": [
        {
          "output_type": "execute_result",
          "data": {
            "text/plain": [
              "     USERCITY                                           KEYWORDS\n",
              "0    Portland  [general, endocrin, fals, medicin, surgeri, ur...\n",
              "1   Arlington  [bonemarrow, radiographi, chronic, oncolog, ps...\n",
              "2  NewMeadows  [general, endocrin, fals, medicin, surgeri, ur...\n",
              "3     Neutral  [dental, total, clinic, pharmacolog, physician...\n",
              "4     Houston  [criticalcar, emergencymedicin, generalpractic..."
            ],
            "text/html": [
              "\n",
              "  <div id=\"df-5c091654-f031-44c1-b461-bddd588711e5\">\n",
              "    <div class=\"colab-df-container\">\n",
              "      <div>\n",
              "<style scoped>\n",
              "    .dataframe tbody tr th:only-of-type {\n",
              "        vertical-align: middle;\n",
              "    }\n",
              "\n",
              "    .dataframe tbody tr th {\n",
              "        vertical-align: top;\n",
              "    }\n",
              "\n",
              "    .dataframe thead th {\n",
              "        text-align: right;\n",
              "    }\n",
              "</style>\n",
              "<table border=\"1\" class=\"dataframe\">\n",
              "  <thead>\n",
              "    <tr style=\"text-align: right;\">\n",
              "      <th></th>\n",
              "      <th>USERCITY</th>\n",
              "      <th>KEYWORDS</th>\n",
              "    </tr>\n",
              "  </thead>\n",
              "  <tbody>\n",
              "    <tr>\n",
              "      <th>0</th>\n",
              "      <td>Portland</td>\n",
              "      <td>[general, endocrin, fals, medicin, surgeri, ur...</td>\n",
              "    </tr>\n",
              "    <tr>\n",
              "      <th>1</th>\n",
              "      <td>Arlington</td>\n",
              "      <td>[bonemarrow, radiographi, chronic, oncolog, ps...</td>\n",
              "    </tr>\n",
              "    <tr>\n",
              "      <th>2</th>\n",
              "      <td>NewMeadows</td>\n",
              "      <td>[general, endocrin, fals, medicin, surgeri, ur...</td>\n",
              "    </tr>\n",
              "    <tr>\n",
              "      <th>3</th>\n",
              "      <td>Neutral</td>\n",
              "      <td>[dental, total, clinic, pharmacolog, physician...</td>\n",
              "    </tr>\n",
              "    <tr>\n",
              "      <th>4</th>\n",
              "      <td>Houston</td>\n",
              "      <td>[criticalcar, emergencymedicin, generalpractic...</td>\n",
              "    </tr>\n",
              "  </tbody>\n",
              "</table>\n",
              "</div>\n",
              "      <button class=\"colab-df-convert\" onclick=\"convertToInteractive('df-5c091654-f031-44c1-b461-bddd588711e5')\"\n",
              "              title=\"Convert this dataframe to an interactive table.\"\n",
              "              style=\"display:none;\">\n",
              "        \n",
              "  <svg xmlns=\"http://www.w3.org/2000/svg\" height=\"24px\"viewBox=\"0 0 24 24\"\n",
              "       width=\"24px\">\n",
              "    <path d=\"M0 0h24v24H0V0z\" fill=\"none\"/>\n",
              "    <path d=\"M18.56 5.44l.94 2.06.94-2.06 2.06-.94-2.06-.94-.94-2.06-.94 2.06-2.06.94zm-11 1L8.5 8.5l.94-2.06 2.06-.94-2.06-.94L8.5 2.5l-.94 2.06-2.06.94zm10 10l.94 2.06.94-2.06 2.06-.94-2.06-.94-.94-2.06-.94 2.06-2.06.94z\"/><path d=\"M17.41 7.96l-1.37-1.37c-.4-.4-.92-.59-1.43-.59-.52 0-1.04.2-1.43.59L10.3 9.45l-7.72 7.72c-.78.78-.78 2.05 0 2.83L4 21.41c.39.39.9.59 1.41.59.51 0 1.02-.2 1.41-.59l7.78-7.78 2.81-2.81c.8-.78.8-2.07 0-2.86zM5.41 20L4 18.59l7.72-7.72 1.47 1.35L5.41 20z\"/>\n",
              "  </svg>\n",
              "      </button>\n",
              "      \n",
              "  <style>\n",
              "    .colab-df-container {\n",
              "      display:flex;\n",
              "      flex-wrap:wrap;\n",
              "      gap: 12px;\n",
              "    }\n",
              "\n",
              "    .colab-df-convert {\n",
              "      background-color: #E8F0FE;\n",
              "      border: none;\n",
              "      border-radius: 50%;\n",
              "      cursor: pointer;\n",
              "      display: none;\n",
              "      fill: #1967D2;\n",
              "      height: 32px;\n",
              "      padding: 0 0 0 0;\n",
              "      width: 32px;\n",
              "    }\n",
              "\n",
              "    .colab-df-convert:hover {\n",
              "      background-color: #E2EBFA;\n",
              "      box-shadow: 0px 1px 2px rgba(60, 64, 67, 0.3), 0px 1px 3px 1px rgba(60, 64, 67, 0.15);\n",
              "      fill: #174EA6;\n",
              "    }\n",
              "\n",
              "    [theme=dark] .colab-df-convert {\n",
              "      background-color: #3B4455;\n",
              "      fill: #D2E3FC;\n",
              "    }\n",
              "\n",
              "    [theme=dark] .colab-df-convert:hover {\n",
              "      background-color: #434B5C;\n",
              "      box-shadow: 0px 1px 3px 1px rgba(0, 0, 0, 0.15);\n",
              "      filter: drop-shadow(0px 1px 2px rgba(0, 0, 0, 0.3));\n",
              "      fill: #FFFFFF;\n",
              "    }\n",
              "  </style>\n",
              "\n",
              "      <script>\n",
              "        const buttonEl =\n",
              "          document.querySelector('#df-5c091654-f031-44c1-b461-bddd588711e5 button.colab-df-convert');\n",
              "        buttonEl.style.display =\n",
              "          google.colab.kernel.accessAllowed ? 'block' : 'none';\n",
              "\n",
              "        async function convertToInteractive(key) {\n",
              "          const element = document.querySelector('#df-5c091654-f031-44c1-b461-bddd588711e5');\n",
              "          const dataTable =\n",
              "            await google.colab.kernel.invokeFunction('convertToInteractive',\n",
              "                                                     [key], {});\n",
              "          if (!dataTable) return;\n",
              "\n",
              "          const docLinkHtml = 'Like what you see? Visit the ' +\n",
              "            '<a target=\"_blank\" href=https://colab.research.google.com/notebooks/data_table.ipynb>data table notebook</a>'\n",
              "            + ' to learn more about interactive tables.';\n",
              "          element.innerHTML = '';\n",
              "          dataTable['output_type'] = 'display_data';\n",
              "          await google.colab.output.renderOutput(dataTable, element);\n",
              "          const docLink = document.createElement('div');\n",
              "          docLink.innerHTML = docLinkHtml;\n",
              "          element.appendChild(docLink);\n",
              "        }\n",
              "      </script>\n",
              "    </div>\n",
              "  </div>\n",
              "  "
            ]
          },
          "metadata": {},
          "execution_count": 78
        }
      ],
      "source": [
        "from nltk.stem import SnowballStemmer\n",
        "s_stem=SnowballStemmer(language='english')\n",
        "for i in range(len(snow_stem)):\n",
        "    for j in range(len(snow_stem['KEYWORDS'][i])):\n",
        "        snow_stem['KEYWORDS'][i][j]=s_stem.stem(snow_stem['KEYWORDS'][i][j])\n",
        "snow_stem.head()"
      ]
    },
    {
      "cell_type": "code",
      "execution_count": 79,
      "metadata": {
        "colab": {
          "base_uri": "https://localhost:8080/",
          "height": 206
        },
        "id": "bIgRmY6hWQ44",
        "outputId": "1ff5a101-061e-48dd-839f-6a237d9d3606"
      },
      "outputs": [
        {
          "output_type": "execute_result",
          "data": {
            "text/plain": [
              "     USERCITY                                           KEYWORDS\n",
              "0    Portland  general endocrin fals medicin surgeri urolog c...\n",
              "1   Arlington  bonemarrow radiographi chronic oncolog psychia...\n",
              "2  NewMeadows  general endocrin fals medicin surgeri urolog c...\n",
              "3     Neutral  dental total clinic pharmacolog physician heal...\n",
              "4     Houston  criticalcar emergencymedicin generalpractic as..."
            ],
            "text/html": [
              "\n",
              "  <div id=\"df-24b17ba1-0a12-4b18-8030-3e9ee848aadd\">\n",
              "    <div class=\"colab-df-container\">\n",
              "      <div>\n",
              "<style scoped>\n",
              "    .dataframe tbody tr th:only-of-type {\n",
              "        vertical-align: middle;\n",
              "    }\n",
              "\n",
              "    .dataframe tbody tr th {\n",
              "        vertical-align: top;\n",
              "    }\n",
              "\n",
              "    .dataframe thead th {\n",
              "        text-align: right;\n",
              "    }\n",
              "</style>\n",
              "<table border=\"1\" class=\"dataframe\">\n",
              "  <thead>\n",
              "    <tr style=\"text-align: right;\">\n",
              "      <th></th>\n",
              "      <th>USERCITY</th>\n",
              "      <th>KEYWORDS</th>\n",
              "    </tr>\n",
              "  </thead>\n",
              "  <tbody>\n",
              "    <tr>\n",
              "      <th>0</th>\n",
              "      <td>Portland</td>\n",
              "      <td>general endocrin fals medicin surgeri urolog c...</td>\n",
              "    </tr>\n",
              "    <tr>\n",
              "      <th>1</th>\n",
              "      <td>Arlington</td>\n",
              "      <td>bonemarrow radiographi chronic oncolog psychia...</td>\n",
              "    </tr>\n",
              "    <tr>\n",
              "      <th>2</th>\n",
              "      <td>NewMeadows</td>\n",
              "      <td>general endocrin fals medicin surgeri urolog c...</td>\n",
              "    </tr>\n",
              "    <tr>\n",
              "      <th>3</th>\n",
              "      <td>Neutral</td>\n",
              "      <td>dental total clinic pharmacolog physician heal...</td>\n",
              "    </tr>\n",
              "    <tr>\n",
              "      <th>4</th>\n",
              "      <td>Houston</td>\n",
              "      <td>criticalcar emergencymedicin generalpractic as...</td>\n",
              "    </tr>\n",
              "  </tbody>\n",
              "</table>\n",
              "</div>\n",
              "      <button class=\"colab-df-convert\" onclick=\"convertToInteractive('df-24b17ba1-0a12-4b18-8030-3e9ee848aadd')\"\n",
              "              title=\"Convert this dataframe to an interactive table.\"\n",
              "              style=\"display:none;\">\n",
              "        \n",
              "  <svg xmlns=\"http://www.w3.org/2000/svg\" height=\"24px\"viewBox=\"0 0 24 24\"\n",
              "       width=\"24px\">\n",
              "    <path d=\"M0 0h24v24H0V0z\" fill=\"none\"/>\n",
              "    <path d=\"M18.56 5.44l.94 2.06.94-2.06 2.06-.94-2.06-.94-.94-2.06-.94 2.06-2.06.94zm-11 1L8.5 8.5l.94-2.06 2.06-.94-2.06-.94L8.5 2.5l-.94 2.06-2.06.94zm10 10l.94 2.06.94-2.06 2.06-.94-2.06-.94-.94-2.06-.94 2.06-2.06.94z\"/><path d=\"M17.41 7.96l-1.37-1.37c-.4-.4-.92-.59-1.43-.59-.52 0-1.04.2-1.43.59L10.3 9.45l-7.72 7.72c-.78.78-.78 2.05 0 2.83L4 21.41c.39.39.9.59 1.41.59.51 0 1.02-.2 1.41-.59l7.78-7.78 2.81-2.81c.8-.78.8-2.07 0-2.86zM5.41 20L4 18.59l7.72-7.72 1.47 1.35L5.41 20z\"/>\n",
              "  </svg>\n",
              "      </button>\n",
              "      \n",
              "  <style>\n",
              "    .colab-df-container {\n",
              "      display:flex;\n",
              "      flex-wrap:wrap;\n",
              "      gap: 12px;\n",
              "    }\n",
              "\n",
              "    .colab-df-convert {\n",
              "      background-color: #E8F0FE;\n",
              "      border: none;\n",
              "      border-radius: 50%;\n",
              "      cursor: pointer;\n",
              "      display: none;\n",
              "      fill: #1967D2;\n",
              "      height: 32px;\n",
              "      padding: 0 0 0 0;\n",
              "      width: 32px;\n",
              "    }\n",
              "\n",
              "    .colab-df-convert:hover {\n",
              "      background-color: #E2EBFA;\n",
              "      box-shadow: 0px 1px 2px rgba(60, 64, 67, 0.3), 0px 1px 3px 1px rgba(60, 64, 67, 0.15);\n",
              "      fill: #174EA6;\n",
              "    }\n",
              "\n",
              "    [theme=dark] .colab-df-convert {\n",
              "      background-color: #3B4455;\n",
              "      fill: #D2E3FC;\n",
              "    }\n",
              "\n",
              "    [theme=dark] .colab-df-convert:hover {\n",
              "      background-color: #434B5C;\n",
              "      box-shadow: 0px 1px 3px 1px rgba(0, 0, 0, 0.15);\n",
              "      filter: drop-shadow(0px 1px 2px rgba(0, 0, 0, 0.3));\n",
              "      fill: #FFFFFF;\n",
              "    }\n",
              "  </style>\n",
              "\n",
              "      <script>\n",
              "        const buttonEl =\n",
              "          document.querySelector('#df-24b17ba1-0a12-4b18-8030-3e9ee848aadd button.colab-df-convert');\n",
              "        buttonEl.style.display =\n",
              "          google.colab.kernel.accessAllowed ? 'block' : 'none';\n",
              "\n",
              "        async function convertToInteractive(key) {\n",
              "          const element = document.querySelector('#df-24b17ba1-0a12-4b18-8030-3e9ee848aadd');\n",
              "          const dataTable =\n",
              "            await google.colab.kernel.invokeFunction('convertToInteractive',\n",
              "                                                     [key], {});\n",
              "          if (!dataTable) return;\n",
              "\n",
              "          const docLinkHtml = 'Like what you see? Visit the ' +\n",
              "            '<a target=\"_blank\" href=https://colab.research.google.com/notebooks/data_table.ipynb>data table notebook</a>'\n",
              "            + ' to learn more about interactive tables.';\n",
              "          element.innerHTML = '';\n",
              "          dataTable['output_type'] = 'display_data';\n",
              "          await google.colab.output.renderOutput(dataTable, element);\n",
              "          const docLink = document.createElement('div');\n",
              "          docLink.innerHTML = docLinkHtml;\n",
              "          element.appendChild(docLink);\n",
              "        }\n",
              "      </script>\n",
              "    </div>\n",
              "  </div>\n",
              "  "
            ]
          },
          "metadata": {},
          "execution_count": 79
        }
      ],
      "source": [
        "for i in range(len(snow_stem)):\n",
        "  s1=' '.join(snow_stem['KEYWORDS'][i])\n",
        "  snow_stem['KEYWORDS'][i]=str(s1)\n",
        "snow_stem.head()"
      ]
    },
    {
      "cell_type": "code",
      "source": [
        "for i in range(len(snow_stem_t)):\n",
        "  s1=' '.join(snow_stem_t['KEYWORDS'][i])\n",
        "  snow_stem_t['KEYWORDS'][i]=str(s1)\n",
        "snow_stem_t.head()"
      ],
      "metadata": {
        "colab": {
          "base_uri": "https://localhost:8080/",
          "height": 206
        },
        "id": "PoBE3Q3vewP1",
        "outputId": "eb190fe2-b358-43cb-8713-e71a6d7926f9"
      },
      "execution_count": 80,
      "outputs": [
        {
          "output_type": "execute_result",
          "data": {
            "text/plain": [
              "       USERCITY                                           KEYWORDS\n",
              "0  Fayetteville  familypractic drainag clinic dermatolog ophtha...\n",
              "1  ConneautLake  general clinic oper medicin cardiolog oncolog ...\n",
              "2        Covina  abort anxietydisord apnea fals trauma mentalhe...\n",
              "3      Brooklyn  health male neurologicalsurgeri otolaryngolog ...\n",
              "4      Marietta  chronickidneydiseas pain nephrolog diseas heal..."
            ],
            "text/html": [
              "\n",
              "  <div id=\"df-2d57747e-a9e0-4aec-8f6a-d12e76842ccb\">\n",
              "    <div class=\"colab-df-container\">\n",
              "      <div>\n",
              "<style scoped>\n",
              "    .dataframe tbody tr th:only-of-type {\n",
              "        vertical-align: middle;\n",
              "    }\n",
              "\n",
              "    .dataframe tbody tr th {\n",
              "        vertical-align: top;\n",
              "    }\n",
              "\n",
              "    .dataframe thead th {\n",
              "        text-align: right;\n",
              "    }\n",
              "</style>\n",
              "<table border=\"1\" class=\"dataframe\">\n",
              "  <thead>\n",
              "    <tr style=\"text-align: right;\">\n",
              "      <th></th>\n",
              "      <th>USERCITY</th>\n",
              "      <th>KEYWORDS</th>\n",
              "    </tr>\n",
              "  </thead>\n",
              "  <tbody>\n",
              "    <tr>\n",
              "      <th>0</th>\n",
              "      <td>Fayetteville</td>\n",
              "      <td>familypractic drainag clinic dermatolog ophtha...</td>\n",
              "    </tr>\n",
              "    <tr>\n",
              "      <th>1</th>\n",
              "      <td>ConneautLake</td>\n",
              "      <td>general clinic oper medicin cardiolog oncolog ...</td>\n",
              "    </tr>\n",
              "    <tr>\n",
              "      <th>2</th>\n",
              "      <td>Covina</td>\n",
              "      <td>abort anxietydisord apnea fals trauma mentalhe...</td>\n",
              "    </tr>\n",
              "    <tr>\n",
              "      <th>3</th>\n",
              "      <td>Brooklyn</td>\n",
              "      <td>health male neurologicalsurgeri otolaryngolog ...</td>\n",
              "    </tr>\n",
              "    <tr>\n",
              "      <th>4</th>\n",
              "      <td>Marietta</td>\n",
              "      <td>chronickidneydiseas pain nephrolog diseas heal...</td>\n",
              "    </tr>\n",
              "  </tbody>\n",
              "</table>\n",
              "</div>\n",
              "      <button class=\"colab-df-convert\" onclick=\"convertToInteractive('df-2d57747e-a9e0-4aec-8f6a-d12e76842ccb')\"\n",
              "              title=\"Convert this dataframe to an interactive table.\"\n",
              "              style=\"display:none;\">\n",
              "        \n",
              "  <svg xmlns=\"http://www.w3.org/2000/svg\" height=\"24px\"viewBox=\"0 0 24 24\"\n",
              "       width=\"24px\">\n",
              "    <path d=\"M0 0h24v24H0V0z\" fill=\"none\"/>\n",
              "    <path d=\"M18.56 5.44l.94 2.06.94-2.06 2.06-.94-2.06-.94-.94-2.06-.94 2.06-2.06.94zm-11 1L8.5 8.5l.94-2.06 2.06-.94-2.06-.94L8.5 2.5l-.94 2.06-2.06.94zm10 10l.94 2.06.94-2.06 2.06-.94-2.06-.94-.94-2.06-.94 2.06-2.06.94z\"/><path d=\"M17.41 7.96l-1.37-1.37c-.4-.4-.92-.59-1.43-.59-.52 0-1.04.2-1.43.59L10.3 9.45l-7.72 7.72c-.78.78-.78 2.05 0 2.83L4 21.41c.39.39.9.59 1.41.59.51 0 1.02-.2 1.41-.59l7.78-7.78 2.81-2.81c.8-.78.8-2.07 0-2.86zM5.41 20L4 18.59l7.72-7.72 1.47 1.35L5.41 20z\"/>\n",
              "  </svg>\n",
              "      </button>\n",
              "      \n",
              "  <style>\n",
              "    .colab-df-container {\n",
              "      display:flex;\n",
              "      flex-wrap:wrap;\n",
              "      gap: 12px;\n",
              "    }\n",
              "\n",
              "    .colab-df-convert {\n",
              "      background-color: #E8F0FE;\n",
              "      border: none;\n",
              "      border-radius: 50%;\n",
              "      cursor: pointer;\n",
              "      display: none;\n",
              "      fill: #1967D2;\n",
              "      height: 32px;\n",
              "      padding: 0 0 0 0;\n",
              "      width: 32px;\n",
              "    }\n",
              "\n",
              "    .colab-df-convert:hover {\n",
              "      background-color: #E2EBFA;\n",
              "      box-shadow: 0px 1px 2px rgba(60, 64, 67, 0.3), 0px 1px 3px 1px rgba(60, 64, 67, 0.15);\n",
              "      fill: #174EA6;\n",
              "    }\n",
              "\n",
              "    [theme=dark] .colab-df-convert {\n",
              "      background-color: #3B4455;\n",
              "      fill: #D2E3FC;\n",
              "    }\n",
              "\n",
              "    [theme=dark] .colab-df-convert:hover {\n",
              "      background-color: #434B5C;\n",
              "      box-shadow: 0px 1px 3px 1px rgba(0, 0, 0, 0.15);\n",
              "      filter: drop-shadow(0px 1px 2px rgba(0, 0, 0, 0.3));\n",
              "      fill: #FFFFFF;\n",
              "    }\n",
              "  </style>\n",
              "\n",
              "      <script>\n",
              "        const buttonEl =\n",
              "          document.querySelector('#df-2d57747e-a9e0-4aec-8f6a-d12e76842ccb button.colab-df-convert');\n",
              "        buttonEl.style.display =\n",
              "          google.colab.kernel.accessAllowed ? 'block' : 'none';\n",
              "\n",
              "        async function convertToInteractive(key) {\n",
              "          const element = document.querySelector('#df-2d57747e-a9e0-4aec-8f6a-d12e76842ccb');\n",
              "          const dataTable =\n",
              "            await google.colab.kernel.invokeFunction('convertToInteractive',\n",
              "                                                     [key], {});\n",
              "          if (!dataTable) return;\n",
              "\n",
              "          const docLinkHtml = 'Like what you see? Visit the ' +\n",
              "            '<a target=\"_blank\" href=https://colab.research.google.com/notebooks/data_table.ipynb>data table notebook</a>'\n",
              "            + ' to learn more about interactive tables.';\n",
              "          element.innerHTML = '';\n",
              "          dataTable['output_type'] = 'display_data';\n",
              "          await google.colab.output.renderOutput(dataTable, element);\n",
              "          const docLink = document.createElement('div');\n",
              "          docLink.innerHTML = docLinkHtml;\n",
              "          element.appendChild(docLink);\n",
              "        }\n",
              "      </script>\n",
              "    </div>\n",
              "  </div>\n",
              "  "
            ]
          },
          "metadata": {},
          "execution_count": 80
        }
      ]
    },
    {
      "cell_type": "code",
      "execution_count": 186,
      "metadata": {
        "id": "KwNLWhKaUzx-"
      },
      "outputs": [],
      "source": [
        "X=tf.fit_transform(snow_stem['KEYWORDS'])"
      ]
    },
    {
      "cell_type": "code",
      "source": [
        "X1=tf.fit_transform(snow_stem_t['KEYWORDS'])"
      ],
      "metadata": {
        "id": "QeblChjxgLTd"
      },
      "execution_count": 185,
      "outputs": []
    },
    {
      "cell_type": "code",
      "source": [
        "X"
      ],
      "metadata": {
        "id": "2i2HgnkQgZDs",
        "colab": {
          "base_uri": "https://localhost:8080/"
        },
        "outputId": "84054f7a-1577-42b6-8ff7-e992f7c030bf"
      },
      "execution_count": 83,
      "outputs": [
        {
          "output_type": "execute_result",
          "data": {
            "text/plain": [
              "<113930x1066 sparse matrix of type '<class 'numpy.float64'>'\n",
              "\twith 3907776 stored elements in Compressed Sparse Row format>"
            ]
          },
          "metadata": {},
          "execution_count": 83
        }
      ]
    },
    {
      "cell_type": "code",
      "source": [
        "X1"
      ],
      "metadata": {
        "colab": {
          "base_uri": "https://localhost:8080/"
        },
        "id": "AUgLk001eV-F",
        "outputId": "1c4a899c-ffda-4e20-8e3a-ad17d34066a1"
      },
      "execution_count": 84,
      "outputs": [
        {
          "output_type": "execute_result",
          "data": {
            "text/plain": [
              "<28492x1066 sparse matrix of type '<class 'numpy.float64'>'\n",
              "\twith 978178 stored elements in Compressed Sparse Row format>"
            ]
          },
          "metadata": {},
          "execution_count": 84
        }
      ]
    },
    {
      "cell_type": "code",
      "execution_count": 85,
      "metadata": {
        "id": "RpySJt7PEz7C"
      },
      "outputs": [],
      "source": [
        "X_train, X_test, y_train, y_test = train_test_split(X, df['IS_HCP'], test_size=0.2, random_state=42)"
      ]
    },
    {
      "cell_type": "code",
      "source": [
        "X_train"
      ],
      "metadata": {
        "id": "ZCpeCPVxaOgi",
        "colab": {
          "base_uri": "https://localhost:8080/"
        },
        "outputId": "d0027baa-5823-4af0-886f-abe21d1cbd47"
      },
      "execution_count": 86,
      "outputs": [
        {
          "output_type": "execute_result",
          "data": {
            "text/plain": [
              "<91144x1066 sparse matrix of type '<class 'numpy.float64'>'\n",
              "\twith 3127483 stored elements in Compressed Sparse Row format>"
            ]
          },
          "metadata": {},
          "execution_count": 86
        }
      ]
    },
    {
      "cell_type": "code",
      "source": [
        "X_test"
      ],
      "metadata": {
        "colab": {
          "base_uri": "https://localhost:8080/"
        },
        "id": "w77qIyYMeaWz",
        "outputId": "29c2ff6c-c90c-426d-a53e-ed47c9a18969"
      },
      "execution_count": 87,
      "outputs": [
        {
          "output_type": "execute_result",
          "data": {
            "text/plain": [
              "<22786x1066 sparse matrix of type '<class 'numpy.float64'>'\n",
              "\twith 780293 stored elements in Compressed Sparse Row format>"
            ]
          },
          "metadata": {},
          "execution_count": 87
        }
      ]
    },
    {
      "cell_type": "code",
      "execution_count": null,
      "metadata": {
        "colab": {
          "base_uri": "https://localhost:8080/"
        },
        "id": "4qPIPvTmVss9",
        "outputId": "eeeb0be2-fd6d-49c8-a1d7-ebcd9e3adc9a"
      },
      "outputs": [
        {
          "name": "stdout",
          "output_type": "stream",
          "text": [
            "Accuracy: 0.9899060826823488\n"
          ]
        }
      ],
      "source": [
        "# from sklearn.ensemble import RandomForestClassifier\n",
        "# # from sklearn.model_selection import train_test_split\n",
        "# from sklearn.metrics import accuracy_score\n",
        "\n",
        "# # Assuming X contains the input features (multiple columns) and y contains the target variable\n",
        "# # X_train, X_test, y_train, y_test = train_test_split(X, y, test_size=0.2, random_state=42)\n",
        "\n",
        "# # Select the two columns you want to use for prediction\n",
        "# # selected_columns = ['column1', 'column2']\n",
        "# # X_train_selected = X_train[selected_columns]\n",
        "# # X_test_selected = X_test[selected_columns]\n",
        "\n",
        "# # Initialize the Random Forest classifier\n",
        "# rf_classifier = RandomForestClassifier(n_estimators=100, random_state=42)\n",
        "\n",
        "# # Train the classifier using the selected columns\n",
        "# rf_classifier.fit(X_train, y_train)\n",
        "\n",
        "# # Make predictions on the test set using the selected columns\n",
        "# y_pred = rf_classifier.predict(X_test)\n",
        "\n",
        "# # Evaluate the accuracy of the classifier\n",
        "# accuracy = accuracy_score(y_test, y_pred)\n",
        "# print(\"Accuracy:\", accuracy)\n"
      ]
    },
    {
      "cell_type": "code",
      "execution_count": null,
      "metadata": {
        "id": "wJFYGgZ6euIC"
      },
      "outputs": [],
      "source": [
        "from sklearn.ensemble import GradientBoostingRegressor, RandomForestRegressor\n",
        "from sklearn.ensemble import StackingRegressor\n",
        "from sklearn.model_selection import train_test_split\n",
        "from sklearn.metrics import mean_squared_error\n",
        "import time\n",
        "# Assuming X contains the input features and y contains the target variable\n",
        "# X_train, X_test, y_train, y_test = train_test_split(X, y, test_size=0.2, random_state=42)\n",
        "st_time=time.time()\n",
        "# Initialize the base models\n",
        "base_models = [\n",
        "    ('gbr', GradientBoostingRegressor(n_estimators=500, learning_rate=0.02,alpha=0.5, max_depth=20,loss='huber',criterion='friedman_mse')),\n",
        "    ('rf', RandomForestRegressor())\n",
        "]\n",
        "\n",
        "# Initialize the stacking regressor\n",
        "stacking_reg = StackingRegressor(\n",
        "    estimators=base_models,\n",
        "    final_estimator=RandomForestRegressor()\n",
        ")\n",
        "\n",
        "# Train the stacking regressor\n",
        "stacking_reg.fit(X_train, y_train)\n",
        "print(time.time()-st_time)\n",
        "# Make predictions on the test set\n",
        "y_pred = stacking_reg.predict(X1)\n"
      ]
    },
    {
      "cell_type": "code",
      "source": [
        "print(time.time()-st_time)"
      ],
      "metadata": {
        "colab": {
          "base_uri": "https://localhost:8080/"
        },
        "id": "8yS9W7BkztZf",
        "outputId": "4173b7f4-93bf-4c9d-be96-a59758023542"
      },
      "execution_count": 99,
      "outputs": [
        {
          "output_type": "stream",
          "name": "stdout",
          "text": [
            "5510.355449438095\n"
          ]
        }
      ]
    },
    {
      "cell_type": "code",
      "source": [
        "y_pred=stacking_reg.predict(X_test)"
      ],
      "metadata": {
        "id": "TsCf3-vJzAp1"
      },
      "execution_count": 179,
      "outputs": []
    },
    {
      "cell_type": "code",
      "source": [
        "mse = mean_squared_error(y_test, y_pred)\n",
        "print(\"Mean Squared Error:\", mse)\n"
      ],
      "metadata": {
        "colab": {
          "base_uri": "https://localhost:8080/"
        },
        "id": "qlNZ5SElzO-N",
        "outputId": "44fed0d7-be7c-4258-e311-af0a93dee0f8"
      },
      "execution_count": 180,
      "outputs": [
        {
          "output_type": "stream",
          "name": "stdout",
          "text": [
            "Mean Squared Error: 0.00932475569184801\n"
          ]
        }
      ]
    },
    {
      "cell_type": "code",
      "source": [
        "for i in range(len(y_pred)):\n",
        "  if y_pred[i]>0.5:\n",
        "    y_pred[i]=1.0\n",
        "  else:\n",
        "    y_pred[i]=0.0"
      ],
      "metadata": {
        "id": "7AKS_cIeFD3T"
      },
      "execution_count": 181,
      "outputs": []
    },
    {
      "cell_type": "code",
      "source": [
        "from sklearn import metrics\n",
        "accuracy = metrics.accuracy_score(y_pred,y_test)\n",
        "print(accuracy)"
      ],
      "metadata": {
        "colab": {
          "base_uri": "https://localhost:8080/"
        },
        "id": "7G3a_KL5zSlN",
        "outputId": "ff4312d7-8a30-43d2-812d-de9421f5f864"
      },
      "execution_count": 182,
      "outputs": [
        {
          "output_type": "stream",
          "name": "stdout",
          "text": [
            "0.9874045466514526\n"
          ]
        }
      ]
    },
    {
      "cell_type": "code",
      "source": [
        "import pickle\n",
        "filename = 'finalized_model_full.sav'\n",
        "pickle.dump(stacking_reg, open(filename, 'wb'))"
      ],
      "metadata": {
        "id": "zjX93n19ij-L"
      },
      "execution_count": 89,
      "outputs": []
    },
    {
      "cell_type": "code",
      "source": [
        "y_pred = stacking_reg.predict(X1)"
      ],
      "metadata": {
        "id": "8tFAD9iXzo_u"
      },
      "execution_count": 187,
      "outputs": []
    },
    {
      "cell_type": "code",
      "source": [
        "len(y_pred)"
      ],
      "metadata": {
        "colab": {
          "base_uri": "https://localhost:8080/"
        },
        "id": "zRrKHjgtz8wv",
        "outputId": "833d354d-ae16-4129-a9a3-723230d4ae4f"
      },
      "execution_count": 188,
      "outputs": [
        {
          "output_type": "execute_result",
          "data": {
            "text/plain": [
              "28492"
            ]
          },
          "metadata": {},
          "execution_count": 188
        }
      ]
    },
    {
      "cell_type": "code",
      "source": [
        "len(dft)"
      ],
      "metadata": {
        "colab": {
          "base_uri": "https://localhost:8080/"
        },
        "id": "eb1E255ez8q6",
        "outputId": "f3531c3a-5fd2-42e0-cfa5-8c4df7614c8d"
      },
      "execution_count": 189,
      "outputs": [
        {
          "output_type": "execute_result",
          "data": {
            "text/plain": [
              "28492"
            ]
          },
          "metadata": {},
          "execution_count": 189
        }
      ]
    },
    {
      "cell_type": "code",
      "source": [
        "for i in range(len(y_pred)):\n",
        "  if y_pred[i]>0.5:\n",
        "    y_pred[i]=1.0\n",
        "  else:\n",
        "    y_pred[i]=0.0"
      ],
      "metadata": {
        "id": "MXZzFJQt9IUP"
      },
      "execution_count": 190,
      "outputs": []
    },
    {
      "cell_type": "code",
      "source": [
        "new_list=[]\n",
        "for i in range(len(y_pred)):\n",
        "  new_list.append([dft['ID'][i],y_pred[i]])"
      ],
      "metadata": {
        "id": "ifZTuh36gzz5"
      },
      "execution_count": 191,
      "outputs": []
    },
    {
      "cell_type": "code",
      "source": [
        "df_submission=pd.DataFrame(new_list,columns=['ID','IS_HCP'])"
      ],
      "metadata": {
        "id": "xur-DjZAi9Ty"
      },
      "execution_count": 192,
      "outputs": []
    },
    {
      "cell_type": "code",
      "source": [
        "df_submission.head()"
      ],
      "metadata": {
        "colab": {
          "base_uri": "https://localhost:8080/",
          "height": 206
        },
        "id": "EK3e5xTF8qv8",
        "outputId": "d6bc032a-eea5-446a-a014-d3204ec09f1c"
      },
      "execution_count": 193,
      "outputs": [
        {
          "output_type": "execute_result",
          "data": {
            "text/plain": [
              "       ID  IS_HCP\n",
              "0  115501     1.0\n",
              "1  115502     1.0\n",
              "2  115503     0.0\n",
              "3  115504     0.0\n",
              "4  115505     1.0"
            ],
            "text/html": [
              "\n",
              "  <div id=\"df-4c7d698e-9bc3-4809-a7ff-cd11f3576e60\">\n",
              "    <div class=\"colab-df-container\">\n",
              "      <div>\n",
              "<style scoped>\n",
              "    .dataframe tbody tr th:only-of-type {\n",
              "        vertical-align: middle;\n",
              "    }\n",
              "\n",
              "    .dataframe tbody tr th {\n",
              "        vertical-align: top;\n",
              "    }\n",
              "\n",
              "    .dataframe thead th {\n",
              "        text-align: right;\n",
              "    }\n",
              "</style>\n",
              "<table border=\"1\" class=\"dataframe\">\n",
              "  <thead>\n",
              "    <tr style=\"text-align: right;\">\n",
              "      <th></th>\n",
              "      <th>ID</th>\n",
              "      <th>IS_HCP</th>\n",
              "    </tr>\n",
              "  </thead>\n",
              "  <tbody>\n",
              "    <tr>\n",
              "      <th>0</th>\n",
              "      <td>115501</td>\n",
              "      <td>1.0</td>\n",
              "    </tr>\n",
              "    <tr>\n",
              "      <th>1</th>\n",
              "      <td>115502</td>\n",
              "      <td>1.0</td>\n",
              "    </tr>\n",
              "    <tr>\n",
              "      <th>2</th>\n",
              "      <td>115503</td>\n",
              "      <td>0.0</td>\n",
              "    </tr>\n",
              "    <tr>\n",
              "      <th>3</th>\n",
              "      <td>115504</td>\n",
              "      <td>0.0</td>\n",
              "    </tr>\n",
              "    <tr>\n",
              "      <th>4</th>\n",
              "      <td>115505</td>\n",
              "      <td>1.0</td>\n",
              "    </tr>\n",
              "  </tbody>\n",
              "</table>\n",
              "</div>\n",
              "      <button class=\"colab-df-convert\" onclick=\"convertToInteractive('df-4c7d698e-9bc3-4809-a7ff-cd11f3576e60')\"\n",
              "              title=\"Convert this dataframe to an interactive table.\"\n",
              "              style=\"display:none;\">\n",
              "        \n",
              "  <svg xmlns=\"http://www.w3.org/2000/svg\" height=\"24px\"viewBox=\"0 0 24 24\"\n",
              "       width=\"24px\">\n",
              "    <path d=\"M0 0h24v24H0V0z\" fill=\"none\"/>\n",
              "    <path d=\"M18.56 5.44l.94 2.06.94-2.06 2.06-.94-2.06-.94-.94-2.06-.94 2.06-2.06.94zm-11 1L8.5 8.5l.94-2.06 2.06-.94-2.06-.94L8.5 2.5l-.94 2.06-2.06.94zm10 10l.94 2.06.94-2.06 2.06-.94-2.06-.94-.94-2.06-.94 2.06-2.06.94z\"/><path d=\"M17.41 7.96l-1.37-1.37c-.4-.4-.92-.59-1.43-.59-.52 0-1.04.2-1.43.59L10.3 9.45l-7.72 7.72c-.78.78-.78 2.05 0 2.83L4 21.41c.39.39.9.59 1.41.59.51 0 1.02-.2 1.41-.59l7.78-7.78 2.81-2.81c.8-.78.8-2.07 0-2.86zM5.41 20L4 18.59l7.72-7.72 1.47 1.35L5.41 20z\"/>\n",
              "  </svg>\n",
              "      </button>\n",
              "      \n",
              "  <style>\n",
              "    .colab-df-container {\n",
              "      display:flex;\n",
              "      flex-wrap:wrap;\n",
              "      gap: 12px;\n",
              "    }\n",
              "\n",
              "    .colab-df-convert {\n",
              "      background-color: #E8F0FE;\n",
              "      border: none;\n",
              "      border-radius: 50%;\n",
              "      cursor: pointer;\n",
              "      display: none;\n",
              "      fill: #1967D2;\n",
              "      height: 32px;\n",
              "      padding: 0 0 0 0;\n",
              "      width: 32px;\n",
              "    }\n",
              "\n",
              "    .colab-df-convert:hover {\n",
              "      background-color: #E2EBFA;\n",
              "      box-shadow: 0px 1px 2px rgba(60, 64, 67, 0.3), 0px 1px 3px 1px rgba(60, 64, 67, 0.15);\n",
              "      fill: #174EA6;\n",
              "    }\n",
              "\n",
              "    [theme=dark] .colab-df-convert {\n",
              "      background-color: #3B4455;\n",
              "      fill: #D2E3FC;\n",
              "    }\n",
              "\n",
              "    [theme=dark] .colab-df-convert:hover {\n",
              "      background-color: #434B5C;\n",
              "      box-shadow: 0px 1px 3px 1px rgba(0, 0, 0, 0.15);\n",
              "      filter: drop-shadow(0px 1px 2px rgba(0, 0, 0, 0.3));\n",
              "      fill: #FFFFFF;\n",
              "    }\n",
              "  </style>\n",
              "\n",
              "      <script>\n",
              "        const buttonEl =\n",
              "          document.querySelector('#df-4c7d698e-9bc3-4809-a7ff-cd11f3576e60 button.colab-df-convert');\n",
              "        buttonEl.style.display =\n",
              "          google.colab.kernel.accessAllowed ? 'block' : 'none';\n",
              "\n",
              "        async function convertToInteractive(key) {\n",
              "          const element = document.querySelector('#df-4c7d698e-9bc3-4809-a7ff-cd11f3576e60');\n",
              "          const dataTable =\n",
              "            await google.colab.kernel.invokeFunction('convertToInteractive',\n",
              "                                                     [key], {});\n",
              "          if (!dataTable) return;\n",
              "\n",
              "          const docLinkHtml = 'Like what you see? Visit the ' +\n",
              "            '<a target=\"_blank\" href=https://colab.research.google.com/notebooks/data_table.ipynb>data table notebook</a>'\n",
              "            + ' to learn more about interactive tables.';\n",
              "          element.innerHTML = '';\n",
              "          dataTable['output_type'] = 'display_data';\n",
              "          await google.colab.output.renderOutput(dataTable, element);\n",
              "          const docLink = document.createElement('div');\n",
              "          docLink.innerHTML = docLinkHtml;\n",
              "          element.appendChild(docLink);\n",
              "        }\n",
              "      </script>\n",
              "    </div>\n",
              "  </div>\n",
              "  "
            ]
          },
          "metadata": {},
          "execution_count": 193
        }
      ]
    },
    {
      "cell_type": "code",
      "source": [
        "dfss=pd.read_csv(\"/content/Doceree-HCP_Sample_Submission.csv\")"
      ],
      "metadata": {
        "id": "W3YrIUf90BHp"
      },
      "execution_count": 115,
      "outputs": []
    },
    {
      "cell_type": "code",
      "source": [
        "dfss.head()"
      ],
      "metadata": {
        "colab": {
          "base_uri": "https://localhost:8080/",
          "height": 206
        },
        "id": "UfQxGNU60vOP",
        "outputId": "2d37675f-bd8b-44b4-85e7-c4efacdab757"
      },
      "execution_count": 116,
      "outputs": [
        {
          "output_type": "execute_result",
          "data": {
            "text/plain": [
              "       ID  IS_HCP\n",
              "0  115501       1\n",
              "1  115502       1\n",
              "2  115503       1\n",
              "3  115504       1\n",
              "4  115505       1"
            ],
            "text/html": [
              "\n",
              "  <div id=\"df-a94d7cac-03ca-4249-a630-48031cffba9c\">\n",
              "    <div class=\"colab-df-container\">\n",
              "      <div>\n",
              "<style scoped>\n",
              "    .dataframe tbody tr th:only-of-type {\n",
              "        vertical-align: middle;\n",
              "    }\n",
              "\n",
              "    .dataframe tbody tr th {\n",
              "        vertical-align: top;\n",
              "    }\n",
              "\n",
              "    .dataframe thead th {\n",
              "        text-align: right;\n",
              "    }\n",
              "</style>\n",
              "<table border=\"1\" class=\"dataframe\">\n",
              "  <thead>\n",
              "    <tr style=\"text-align: right;\">\n",
              "      <th></th>\n",
              "      <th>ID</th>\n",
              "      <th>IS_HCP</th>\n",
              "    </tr>\n",
              "  </thead>\n",
              "  <tbody>\n",
              "    <tr>\n",
              "      <th>0</th>\n",
              "      <td>115501</td>\n",
              "      <td>1</td>\n",
              "    </tr>\n",
              "    <tr>\n",
              "      <th>1</th>\n",
              "      <td>115502</td>\n",
              "      <td>1</td>\n",
              "    </tr>\n",
              "    <tr>\n",
              "      <th>2</th>\n",
              "      <td>115503</td>\n",
              "      <td>1</td>\n",
              "    </tr>\n",
              "    <tr>\n",
              "      <th>3</th>\n",
              "      <td>115504</td>\n",
              "      <td>1</td>\n",
              "    </tr>\n",
              "    <tr>\n",
              "      <th>4</th>\n",
              "      <td>115505</td>\n",
              "      <td>1</td>\n",
              "    </tr>\n",
              "  </tbody>\n",
              "</table>\n",
              "</div>\n",
              "      <button class=\"colab-df-convert\" onclick=\"convertToInteractive('df-a94d7cac-03ca-4249-a630-48031cffba9c')\"\n",
              "              title=\"Convert this dataframe to an interactive table.\"\n",
              "              style=\"display:none;\">\n",
              "        \n",
              "  <svg xmlns=\"http://www.w3.org/2000/svg\" height=\"24px\"viewBox=\"0 0 24 24\"\n",
              "       width=\"24px\">\n",
              "    <path d=\"M0 0h24v24H0V0z\" fill=\"none\"/>\n",
              "    <path d=\"M18.56 5.44l.94 2.06.94-2.06 2.06-.94-2.06-.94-.94-2.06-.94 2.06-2.06.94zm-11 1L8.5 8.5l.94-2.06 2.06-.94-2.06-.94L8.5 2.5l-.94 2.06-2.06.94zm10 10l.94 2.06.94-2.06 2.06-.94-2.06-.94-.94-2.06-.94 2.06-2.06.94z\"/><path d=\"M17.41 7.96l-1.37-1.37c-.4-.4-.92-.59-1.43-.59-.52 0-1.04.2-1.43.59L10.3 9.45l-7.72 7.72c-.78.78-.78 2.05 0 2.83L4 21.41c.39.39.9.59 1.41.59.51 0 1.02-.2 1.41-.59l7.78-7.78 2.81-2.81c.8-.78.8-2.07 0-2.86zM5.41 20L4 18.59l7.72-7.72 1.47 1.35L5.41 20z\"/>\n",
              "  </svg>\n",
              "      </button>\n",
              "      \n",
              "  <style>\n",
              "    .colab-df-container {\n",
              "      display:flex;\n",
              "      flex-wrap:wrap;\n",
              "      gap: 12px;\n",
              "    }\n",
              "\n",
              "    .colab-df-convert {\n",
              "      background-color: #E8F0FE;\n",
              "      border: none;\n",
              "      border-radius: 50%;\n",
              "      cursor: pointer;\n",
              "      display: none;\n",
              "      fill: #1967D2;\n",
              "      height: 32px;\n",
              "      padding: 0 0 0 0;\n",
              "      width: 32px;\n",
              "    }\n",
              "\n",
              "    .colab-df-convert:hover {\n",
              "      background-color: #E2EBFA;\n",
              "      box-shadow: 0px 1px 2px rgba(60, 64, 67, 0.3), 0px 1px 3px 1px rgba(60, 64, 67, 0.15);\n",
              "      fill: #174EA6;\n",
              "    }\n",
              "\n",
              "    [theme=dark] .colab-df-convert {\n",
              "      background-color: #3B4455;\n",
              "      fill: #D2E3FC;\n",
              "    }\n",
              "\n",
              "    [theme=dark] .colab-df-convert:hover {\n",
              "      background-color: #434B5C;\n",
              "      box-shadow: 0px 1px 3px 1px rgba(0, 0, 0, 0.15);\n",
              "      filter: drop-shadow(0px 1px 2px rgba(0, 0, 0, 0.3));\n",
              "      fill: #FFFFFF;\n",
              "    }\n",
              "  </style>\n",
              "\n",
              "      <script>\n",
              "        const buttonEl =\n",
              "          document.querySelector('#df-a94d7cac-03ca-4249-a630-48031cffba9c button.colab-df-convert');\n",
              "        buttonEl.style.display =\n",
              "          google.colab.kernel.accessAllowed ? 'block' : 'none';\n",
              "\n",
              "        async function convertToInteractive(key) {\n",
              "          const element = document.querySelector('#df-a94d7cac-03ca-4249-a630-48031cffba9c');\n",
              "          const dataTable =\n",
              "            await google.colab.kernel.invokeFunction('convertToInteractive',\n",
              "                                                     [key], {});\n",
              "          if (!dataTable) return;\n",
              "\n",
              "          const docLinkHtml = 'Like what you see? Visit the ' +\n",
              "            '<a target=\"_blank\" href=https://colab.research.google.com/notebooks/data_table.ipynb>data table notebook</a>'\n",
              "            + ' to learn more about interactive tables.';\n",
              "          element.innerHTML = '';\n",
              "          dataTable['output_type'] = 'display_data';\n",
              "          await google.colab.output.renderOutput(dataTable, element);\n",
              "          const docLink = document.createElement('div');\n",
              "          docLink.innerHTML = docLinkHtml;\n",
              "          element.appendChild(docLink);\n",
              "        }\n",
              "      </script>\n",
              "    </div>\n",
              "  </div>\n",
              "  "
            ]
          },
          "metadata": {},
          "execution_count": 116
        }
      ]
    },
    {
      "cell_type": "code",
      "source": [
        "df_submission.to_csv(\"Doceree-HCP_Submission_Mind_Hacker_NU.csv\")"
      ],
      "metadata": {
        "id": "IeACcNex9YGi"
      },
      "execution_count": 195,
      "outputs": []
    }
  ],
  "metadata": {
    "colab": {
      "provenance": []
    },
    "kernelspec": {
      "display_name": "Python 3",
      "name": "python3"
    },
    "language_info": {
      "codemirror_mode": {
        "name": "ipython",
        "version": 3
      },
      "file_extension": ".py",
      "mimetype": "text/x-python",
      "name": "python",
      "nbconvert_exporter": "python",
      "pygments_lexer": "ipython3",
      "version": "3.11.4"
    }
  },
  "nbformat": 4,
  "nbformat_minor": 0
}