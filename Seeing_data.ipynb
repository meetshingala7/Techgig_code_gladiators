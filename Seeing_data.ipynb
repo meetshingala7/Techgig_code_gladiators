{
  "cells": [
    {
      "cell_type": "code",
      "execution_count": 5,
      "metadata": {},
      "outputs": [
        {
          "ename": "ModuleNotFoundError",
          "evalue": "No module named 'sklearn'",
          "output_type": "error",
          "traceback": [
            "\u001b[1;31m---------------------------------------------------------------------------\u001b[0m",
            "\u001b[1;31mModuleNotFoundError\u001b[0m                       Traceback (most recent call last)",
            "Cell \u001b[1;32mIn[5], line 1\u001b[0m\n\u001b[1;32m----> 1\u001b[0m \u001b[39mimport\u001b[39;00m \u001b[39msklearn\u001b[39;00m\n",
            "\u001b[1;31mModuleNotFoundError\u001b[0m: No module named 'sklearn'"
          ]
        }
      ],
      "source": [
        "import sklearn"
      ]
    },
    {
      "cell_type": "code",
      "execution_count": 1,
      "metadata": {
        "colab": {
          "base_uri": "https://localhost:8080/",
          "height": 635
        },
        "id": "aiInFAVqigWZ",
        "outputId": "d1dd2668-4ae6-4b71-c997-396c8a0c7822"
      },
      "outputs": [
        {
          "data": {
            "text/html": [
              "<div>\n",
              "<style scoped>\n",
              "    .dataframe tbody tr th:only-of-type {\n",
              "        vertical-align: middle;\n",
              "    }\n",
              "\n",
              "    .dataframe tbody tr th {\n",
              "        vertical-align: top;\n",
              "    }\n",
              "\n",
              "    .dataframe thead th {\n",
              "        text-align: right;\n",
              "    }\n",
              "</style>\n",
              "<table border=\"1\" class=\"dataframe\">\n",
              "  <thead>\n",
              "    <tr style=\"text-align: right;\">\n",
              "      <th></th>\n",
              "      <th>ID</th>\n",
              "      <th>DEVICETYPE</th>\n",
              "      <th>PLATFORM_ID</th>\n",
              "      <th>BIDREQUESTIP</th>\n",
              "      <th>USERPLATFORMUID</th>\n",
              "      <th>USERCITY</th>\n",
              "      <th>USERZIPCODE</th>\n",
              "      <th>USERAGENT</th>\n",
              "      <th>PLATFORMTYPE</th>\n",
              "      <th>CHANNELTYPE</th>\n",
              "      <th>URL</th>\n",
              "      <th>KEYWORDS</th>\n",
              "      <th>TAXONOMY</th>\n",
              "      <th>IS_HCP</th>\n",
              "    </tr>\n",
              "  </thead>\n",
              "  <tbody>\n",
              "    <tr>\n",
              "      <th>0</th>\n",
              "      <td>1001</td>\n",
              "      <td>Desktop</td>\n",
              "      <td>2</td>\n",
              "      <td>170.173.0.22</td>\n",
              "      <td>6974dcaa-f932-480e-9fb5-c52e20e1393a</td>\n",
              "      <td>Portland</td>\n",
              "      <td>97206.0</td>\n",
              "      <td>Mozilla/5.0 (Windows NT 10.0; Win64; x64) Appl...</td>\n",
              "      <td>Online Medical Journal</td>\n",
              "      <td>Website</td>\n",
              "      <td>https://www.cancertherapyadvisor.com/home/canc...</td>\n",
              "      <td>General|Endocrine|False|Medicine|Surgery|Urolo...</td>\n",
              "      <td>NaN</td>\n",
              "      <td>0.0</td>\n",
              "    </tr>\n",
              "    <tr>\n",
              "      <th>1</th>\n",
              "      <td>1002</td>\n",
              "      <td>Desktop</td>\n",
              "      <td>2</td>\n",
              "      <td>65.216.253.25</td>\n",
              "      <td>c12f3f8f-8fcf-484a-90e1-1ac04db8cdcf</td>\n",
              "      <td>Arlington</td>\n",
              "      <td>22202.0</td>\n",
              "      <td>Mozilla/5.0 (Macintosh; Intel Mac OS X 10_15_7...</td>\n",
              "      <td>Online Medical Journal</td>\n",
              "      <td>Website</td>\n",
              "      <td>https://www.cancertherapyadvisor.com/home/deci...</td>\n",
              "      <td>Bone Marrow|Radiography|Chronic|Oncology|Psych...</td>\n",
              "      <td>NaN</td>\n",
              "      <td>0.0</td>\n",
              "    </tr>\n",
              "    <tr>\n",
              "      <th>2</th>\n",
              "      <td>1003</td>\n",
              "      <td>Desktop</td>\n",
              "      <td>2</td>\n",
              "      <td>66.232.79.22</td>\n",
              "      <td>a698de4b-e200-46dd-b5fb-40402175ae18</td>\n",
              "      <td>New Meadows</td>\n",
              "      <td>83654.0</td>\n",
              "      <td>Mozilla/5.0 (Macintosh; Intel Mac OS X 10_15_7...</td>\n",
              "      <td>Online Medical Journal</td>\n",
              "      <td>Website</td>\n",
              "      <td>https://www.cancertherapyadvisor.com/home/canc...</td>\n",
              "      <td>General|Endocrine|False|Medicine|Surgery|Urolo...</td>\n",
              "      <td>NaN</td>\n",
              "      <td>0.0</td>\n",
              "    </tr>\n",
              "    <tr>\n",
              "      <th>3</th>\n",
              "      <td>1004</td>\n",
              "      <td>Desktop</td>\n",
              "      <td>3</td>\n",
              "      <td>137.54.125.246</td>\n",
              "      <td>45967533-75c8-4fbd-a00c-e6ff20447aaa</td>\n",
              "      <td>NaN</td>\n",
              "      <td>229114624.0</td>\n",
              "      <td>Mozilla/5.0 (Windows NT 10.0; Win64; x64) Appl...</td>\n",
              "      <td>Online Medical Journal</td>\n",
              "      <td>Website</td>\n",
              "      <td>https://globalrph.com/medcalcs/warfarin-mainte...</td>\n",
              "      <td>Dental|Total|Clinical|Pharmacology|Physicians|...</td>\n",
              "      <td>2084P0800X</td>\n",
              "      <td>1.0</td>\n",
              "    </tr>\n",
              "    <tr>\n",
              "      <th>4</th>\n",
              "      <td>1005</td>\n",
              "      <td>Mobile</td>\n",
              "      <td>7</td>\n",
              "      <td>174.202.231.99</td>\n",
              "      <td>a17e25be-532d-4cf5-b916-9308c8c3961f</td>\n",
              "      <td>Houston</td>\n",
              "      <td>77008.0</td>\n",
              "      <td>Mozilla/5.0 (iPhone; CPU iPhone OS 16_1_1 like...</td>\n",
              "      <td>Online Medical Journal</td>\n",
              "      <td>Website</td>\n",
              "      <td>https://www.cureus.com/articles/58184-a-review...</td>\n",
              "      <td>Critical Care|Emergency Medicine|General Pract...</td>\n",
              "      <td>NaN</td>\n",
              "      <td>0.0</td>\n",
              "    </tr>\n",
              "  </tbody>\n",
              "</table>\n",
              "</div>"
            ],
            "text/plain": [
              "     ID DEVICETYPE  PLATFORM_ID    BIDREQUESTIP  \\\n",
              "0  1001    Desktop            2    170.173.0.22   \n",
              "1  1002    Desktop            2   65.216.253.25   \n",
              "2  1003    Desktop            2    66.232.79.22   \n",
              "3  1004    Desktop            3  137.54.125.246   \n",
              "4  1005     Mobile            7  174.202.231.99   \n",
              "\n",
              "                        USERPLATFORMUID     USERCITY  USERZIPCODE  \\\n",
              "0  6974dcaa-f932-480e-9fb5-c52e20e1393a     Portland      97206.0   \n",
              "1  c12f3f8f-8fcf-484a-90e1-1ac04db8cdcf    Arlington      22202.0   \n",
              "2  a698de4b-e200-46dd-b5fb-40402175ae18  New Meadows      83654.0   \n",
              "3  45967533-75c8-4fbd-a00c-e6ff20447aaa          NaN  229114624.0   \n",
              "4  a17e25be-532d-4cf5-b916-9308c8c3961f      Houston      77008.0   \n",
              "\n",
              "                                           USERAGENT            PLATFORMTYPE  \\\n",
              "0  Mozilla/5.0 (Windows NT 10.0; Win64; x64) Appl...  Online Medical Journal   \n",
              "1  Mozilla/5.0 (Macintosh; Intel Mac OS X 10_15_7...  Online Medical Journal   \n",
              "2  Mozilla/5.0 (Macintosh; Intel Mac OS X 10_15_7...  Online Medical Journal   \n",
              "3  Mozilla/5.0 (Windows NT 10.0; Win64; x64) Appl...  Online Medical Journal   \n",
              "4  Mozilla/5.0 (iPhone; CPU iPhone OS 16_1_1 like...  Online Medical Journal   \n",
              "\n",
              "  CHANNELTYPE                                                URL  \\\n",
              "0     Website  https://www.cancertherapyadvisor.com/home/canc...   \n",
              "1     Website  https://www.cancertherapyadvisor.com/home/deci...   \n",
              "2     Website  https://www.cancertherapyadvisor.com/home/canc...   \n",
              "3     Website  https://globalrph.com/medcalcs/warfarin-mainte...   \n",
              "4     Website  https://www.cureus.com/articles/58184-a-review...   \n",
              "\n",
              "                                            KEYWORDS    TAXONOMY  IS_HCP  \n",
              "0  General|Endocrine|False|Medicine|Surgery|Urolo...         NaN     0.0  \n",
              "1  Bone Marrow|Radiography|Chronic|Oncology|Psych...         NaN     0.0  \n",
              "2  General|Endocrine|False|Medicine|Surgery|Urolo...         NaN     0.0  \n",
              "3  Dental|Total|Clinical|Pharmacology|Physicians|...  2084P0800X     1.0  \n",
              "4  Critical Care|Emergency Medicine|General Pract...         NaN     0.0  "
            ]
          },
          "execution_count": 1,
          "metadata": {},
          "output_type": "execute_result"
        }
      ],
      "source": [
        "import pandas as pd\n",
        "df=pd.read_csv(\"Doceree-HCP_Train.csv\",encoding='latin-1')\n",
        "df.head(5)"
      ]
    },
    {
      "cell_type": "code",
      "execution_count": 24,
      "metadata": {
        "id": "j4m-KAQ6TKR9"
      },
      "outputs": [],
      "source": [
        "df=df.reset_index()"
      ]
    },
    {
      "cell_type": "code",
      "execution_count": 13,
      "metadata": {
        "colab": {
          "base_uri": "https://localhost:8080/"
        },
        "id": "eJOjucVtTtLK",
        "outputId": "d2f14438-6737-4d22-e46e-e43dee57e049"
      },
      "outputs": [
        {
          "data": {
            "text/plain": [
              "nan"
            ]
          },
          "execution_count": 13,
          "metadata": {},
          "output_type": "execute_result"
        }
      ],
      "source": [
        "df['TAXONOMY'][32202]"
      ]
    },
    {
      "cell_type": "code",
      "execution_count": 14,
      "metadata": {
        "colab": {
          "base_uri": "https://localhost:8080/"
        },
        "id": "OCit6ArIigWc",
        "outputId": "e97aaaab-8738-4317-9e20-ae5c77d7e879"
      },
      "outputs": [
        {
          "data": {
            "text/plain": [
              "113937"
            ]
          },
          "execution_count": 14,
          "metadata": {},
          "output_type": "execute_result"
        }
      ],
      "source": [
        "len(df)"
      ]
    },
    {
      "cell_type": "code",
      "execution_count": 15,
      "metadata": {
        "id": "oQfHsm4higWc"
      },
      "outputs": [],
      "source": [
        "df3=df['USERZIPCODE'].fillna(0)"
      ]
    },
    {
      "cell_type": "code",
      "execution_count": 16,
      "metadata": {
        "colab": {
          "base_uri": "https://localhost:8080/"
        },
        "id": "KQLHb3ruPjEM",
        "outputId": "b6fda333-3eb7-458e-c51a-14b9499712a7"
      },
      "outputs": [
        {
          "data": {
            "text/plain": [
              "0        97206.0\n",
              "1        22202.0\n",
              "2        83654.0\n",
              "3    229114624.0\n",
              "4        77008.0\n",
              "Name: USERZIPCODE, dtype: float64"
            ]
          },
          "execution_count": 16,
          "metadata": {},
          "output_type": "execute_result"
        }
      ],
      "source": [
        "df3.head()"
      ]
    },
    {
      "cell_type": "code",
      "execution_count": 17,
      "metadata": {
        "id": "eBEc9pzVPtTi"
      },
      "outputs": [],
      "source": [
        "df['USERZIPCODE']=df3"
      ]
    },
    {
      "cell_type": "code",
      "execution_count": 18,
      "metadata": {
        "colab": {
          "base_uri": "https://localhost:8080/"
        },
        "id": "6B_oIXVJP0Sk",
        "outputId": "0a517ee2-8d52-47b8-a5a8-e48387ac6e7c"
      },
      "outputs": [
        {
          "data": {
            "text/plain": [
              "ID                     0\n",
              "DEVICETYPE             0\n",
              "PLATFORM_ID            0\n",
              "BIDREQUESTIP           0\n",
              "USERPLATFORMUID        4\n",
              "USERCITY            6359\n",
              "USERZIPCODE            0\n",
              "USERAGENT              2\n",
              "PLATFORMTYPE           0\n",
              "CHANNELTYPE            0\n",
              "URL                    0\n",
              "KEYWORDS               0\n",
              "TAXONOMY           81624\n",
              "IS_HCP                 1\n",
              "dtype: int64"
            ]
          },
          "execution_count": 18,
          "metadata": {},
          "output_type": "execute_result"
        }
      ],
      "source": [
        "df.isna().sum()"
      ]
    },
    {
      "cell_type": "code",
      "execution_count": 19,
      "metadata": {
        "id": "SttGv21HMaTo"
      },
      "outputs": [],
      "source": [
        "df2=df['TAXONOMY'].fillna('None')"
      ]
    },
    {
      "cell_type": "code",
      "execution_count": 20,
      "metadata": {
        "id": "j4sa8G1zP-1Z"
      },
      "outputs": [],
      "source": [
        "df['TAXONOMY']=df2"
      ]
    },
    {
      "cell_type": "code",
      "execution_count": 21,
      "metadata": {
        "id": "nAqn1owVigWd"
      },
      "outputs": [],
      "source": [
        "df1=df['USERCITY'].fillna('Neutral')"
      ]
    },
    {
      "cell_type": "code",
      "execution_count": 22,
      "metadata": {
        "id": "kaPzrtmNQLgr"
      },
      "outputs": [],
      "source": [
        "df['USERCITY']=df1"
      ]
    },
    {
      "cell_type": "code",
      "execution_count": 23,
      "metadata": {
        "id": "z-QBN9gKQSiX"
      },
      "outputs": [],
      "source": [
        "df=df.dropna(axis=0)"
      ]
    },
    {
      "cell_type": "code",
      "execution_count": 25,
      "metadata": {
        "colab": {
          "base_uri": "https://localhost:8080/"
        },
        "id": "NDvNHv2XigWd",
        "outputId": "acc98fb7-4aaf-49e3-8a91-3fd3eacae4ec"
      },
      "outputs": [
        {
          "data": {
            "text/plain": [
              "(113930, 15)"
            ]
          },
          "execution_count": 25,
          "metadata": {},
          "output_type": "execute_result"
        }
      ],
      "source": [
        "df.shape"
      ]
    },
    {
      "cell_type": "code",
      "execution_count": 26,
      "metadata": {
        "id": "NpAbIWeVigWd"
      },
      "outputs": [],
      "source": [
        "countTYHY=0\n",
        "countTNHY=0\n",
        "countTYHN=0\n",
        "count=0\n",
        "for i in range(len(df)):\n",
        "    # print(i)\n",
        "    if df['TAXONOMY'][i]!='None' and df['IS_HCP'][0]!=0.0:\n",
        "        countTYHY+=1\n",
        "    elif df['TAXONOMY'][i]=='None' and df['IS_HCP'][0]!=0.0:\n",
        "        countTNHY+=1\n",
        "    elif df['TAXONOMY'][i]!='None' and df['IS_HCP'][0]==0.0:\n",
        "        countTYHN+=1\n",
        "    else:\n",
        "        count+=1"
      ]
    },
    {
      "cell_type": "code",
      "execution_count": 27,
      "metadata": {
        "colab": {
          "base_uri": "https://localhost:8080/"
        },
        "id": "Jhe5ouFSigWe",
        "outputId": "e4b70f96-f757-41c1-e83c-f290c4bd103c"
      },
      "outputs": [
        {
          "name": "stdout",
          "output_type": "stream",
          "text": [
            "32309 0 0 81621\n"
          ]
        }
      ],
      "source": [
        "print(countTYHN,countTNHY,countTYHY,count)"
      ]
    },
    {
      "cell_type": "code",
      "execution_count": 28,
      "metadata": {
        "colab": {
          "base_uri": "https://localhost:8080/",
          "height": 472
        },
        "id": "j-FVWVnBigWe",
        "outputId": "fb13f8e8-135d-4e45-948c-deed9f92d0f2"
      },
      "outputs": [
        {
          "data": {
            "text/plain": [
              "<Axes: xlabel='count', ylabel='TAXONOMY'>"
            ]
          },
          "execution_count": 28,
          "metadata": {},
          "output_type": "execute_result"
        },
        {
          "data": {
            "image/png": "[encoded data removed]",
            "text/plain": [
              "<Figure size 640x480 with 1 Axes>"
            ]
          },
          "metadata": {},
          "output_type": "display_data"
        }
      ],
      "source": [
        "import seaborn as sb\n",
        "sb.countplot(y=df.TAXONOMY)"
      ]
    },
    {
      "cell_type": "code",
      "execution_count": 29,
      "metadata": {
        "colab": {
          "base_uri": "https://localhost:8080/"
        },
        "id": "Oajp2eLQjyMa",
        "outputId": "71e53376-d910-4f49-bfc9-89e1f8af5cc4"
      },
      "outputs": [
        {
          "name": "stdout",
          "output_type": "stream",
          "text": [
            "Requirement already satisfied: ray in /usr/local/lib/python3.10/dist-packages (2.5.1)\n",
            "Requirement already satisfied: attrs in /usr/local/lib/python3.10/dist-packages (from ray) (23.1.0)\n",
            "Requirement already satisfied: click>=7.0 in /usr/local/lib/python3.10/dist-packages (from ray) (8.1.3)\n",
            "Requirement already satisfied: filelock in /usr/local/lib/python3.10/dist-packages (from ray) (3.12.2)\n",
            "Requirement already satisfied: jsonschema in /usr/local/lib/python3.10/dist-packages (from ray) (4.3.3)\n",
            "Requirement already satisfied: msgpack<2.0.0,>=1.0.0 in /usr/local/lib/python3.10/dist-packages (from ray) (1.0.5)\n",
            "Requirement already satisfied: packaging in /usr/local/lib/python3.10/dist-packages (from ray) (23.1)\n",
            "Requirement already satisfied: protobuf!=3.19.5,>=3.15.3 in /usr/local/lib/python3.10/dist-packages (from ray) (3.20.3)\n",
            "Requirement already satisfied: pyyaml in /usr/local/lib/python3.10/dist-packages (from ray) (6.0)\n",
            "Requirement already satisfied: aiosignal in /usr/local/lib/python3.10/dist-packages (from ray) (1.3.1)\n",
            "Requirement already satisfied: frozenlist in /usr/local/lib/python3.10/dist-packages (from ray) (1.3.3)\n",
            "Requirement already satisfied: requests in /usr/local/lib/python3.10/dist-packages (from ray) (2.27.1)\n",
            "Requirement already satisfied: grpcio<=1.51.3,>=1.42.0 in /usr/local/lib/python3.10/dist-packages (from ray) (1.51.3)\n",
            "Requirement already satisfied: numpy>=1.19.3 in /usr/local/lib/python3.10/dist-packages (from ray) (1.22.4)\n",
            "Requirement already satisfied: pyrsistent!=0.17.0,!=0.17.1,!=0.17.2,>=0.14.0 in /usr/local/lib/python3.10/dist-packages (from jsonschema->ray) (0.19.3)\n",
            "Requirement already satisfied: urllib3<1.27,>=1.21.1 in /usr/local/lib/python3.10/dist-packages (from requests->ray) (1.26.16)\n",
            "Requirement already satisfied: certifi>=2017.4.17 in /usr/local/lib/python3.10/dist-packages (from requests->ray) (2023.5.7)\n",
            "Requirement already satisfied: charset-normalizer~=2.0.0 in /usr/local/lib/python3.10/dist-packages (from requests->ray) (2.0.12)\n",
            "Requirement already satisfied: idna<4,>=2.5 in /usr/local/lib/python3.10/dist-packages (from requests->ray) (3.4)\n"
          ]
        }
      ],
      "source": [
        "pip install ray"
      ]
    },
    {
      "cell_type": "code",
      "execution_count": 30,
      "metadata": {
        "id": "_Jzax6Utj00d"
      },
      "outputs": [],
      "source": [
        "import ray"
      ]
    },
    {
      "cell_type": "code",
      "execution_count": 127,
      "metadata": {
        "id": "jr11cPr9BFLH"
      },
      "outputs": [],
      "source": [
        "ray.shutdown()"
      ]
    },
    {
      "cell_type": "code",
      "execution_count": 31,
      "metadata": {
        "colab": {
          "base_uri": "https://localhost:8080/",
          "height": 79
        },
        "id": "HwrmvaVRj2nw",
        "outputId": "2502a64a-2ada-46e7-99f1-d369938d560e"
      },
      "outputs": [
        {
          "name": "stderr",
          "output_type": "stream",
          "text": [
            "2023-06-27 18:27:47,009\tINFO worker.py:1636 -- Started a local Ray instance.\n"
          ]
        },
        {
          "data": {
            "text/html": [
              "<div>\n",
              "    <div style=\"margin-left: 50px;display: flex;flex-direction: row;align-items: center\">\n",
              "        <h3 style=\"color: var(--jp-ui-font-color0)\">Ray</h3>\n",
              "        <svg version=\"1.1\" id=\"ray\" width=\"3em\" viewBox=\"0 0 144.5 144.6\" style=\"margin-left: 3em;margin-right: 3em\">\n",
              "            <g id=\"layer-1\">\n",
              "                <path fill=\"#00a2e9\" class=\"st0\" d=\"M97.3,77.2c-3.8-1.1-6.2,0.9-8.3,5.1c-3.5,6.8-9.9,9.9-17.4,9.6S58,88.1,54.8,81.2c-1.4-3-3-4-6.3-4.1\n",
              "                    c-5.6-0.1-9.9,0.1-13.1,6.4c-3.8,7.6-13.6,10.2-21.8,7.6C5.2,88.4-0.4,80.5,0,71.7c0.1-8.4,5.7-15.8,13.8-18.2\n",
              "                    c8.4-2.6,17.5,0.7,22.3,8c1.3,1.9,1.3,5.2,3.6,5.6c3.9,0.6,8,0.2,12,0.2c1.8,0,1.9-1.6,2.4-2.8c3.5-7.8,9.7-11.8,18-11.9\n",
              "                    c8.2-0.1,14.4,3.9,17.8,11.4c1.3,2.8,2.9,3.6,5.7,3.3c1-0.1,2,0.1,3,0c2.8-0.5,6.4,1.7,8.1-2.7s-2.3-5.5-4.1-7.5\n",
              "                    c-5.1-5.7-10.9-10.8-16.1-16.3C84,38,81.9,37.1,78,38.3C66.7,42,56.2,35.7,53,24.1C50.3,14,57.3,2.8,67.7,0.5\n",
              "                    C78.4-2,89,4.7,91.5,15.3c0.1,0.3,0.1,0.5,0.2,0.8c0.7,3.4,0.7,6.9-0.8,9.8c-1.7,3.2-0.8,5,1.5,7.2c6.7,6.5,13.3,13,19.8,19.7\n",
              "                    c1.8,1.8,3,2.1,5.5,1.2c9.1-3.4,17.9-0.6,23.4,7c4.8,6.9,4.6,16.1-0.4,22.9c-5.4,7.2-14.2,9.9-23.1,6.5c-2.3-0.9-3.5-0.6-5.1,1.1\n",
              "                    c-6.7,6.9-13.6,13.7-20.5,20.4c-1.8,1.8-2.5,3.2-1.4,5.9c3.5,8.7,0.3,18.6-7.7,23.6c-7.9,5-18.2,3.8-24.8-2.9\n",
              "                    c-6.4-6.4-7.4-16.2-2.5-24.3c4.9-7.8,14.5-11,23.1-7.8c3,1.1,4.7,0.5,6.9-1.7C91.7,98.4,98,92.3,104.2,86c1.6-1.6,4.1-2.7,2.6-6.2\n",
              "                    c-1.4-3.3-3.8-2.5-6.2-2.6C99.8,77.2,98.9,77.2,97.3,77.2z M72.1,29.7c5.5,0.1,9.9-4.3,10-9.8c0-0.1,0-0.2,0-0.3\n",
              "                    C81.8,14,77,9.8,71.5,10.2c-5,0.3-9,4.2-9.3,9.2c-0.2,5.5,4,10.1,9.5,10.3C71.8,29.7,72,29.7,72.1,29.7z M72.3,62.3\n",
              "                    c-5.4-0.1-9.9,4.2-10.1,9.7c0,0.2,0,0.3,0,0.5c0.2,5.4,4.5,9.7,9.9,10c5.1,0.1,9.9-4.7,10.1-9.8c0.2-5.5-4-10-9.5-10.3\n",
              "                    C72.6,62.3,72.4,62.3,72.3,62.3z M115,72.5c0.1,5.4,4.5,9.7,9.8,9.9c5.6-0.2,10-4.8,10-10.4c-0.2-5.4-4.6-9.7-10-9.7\n",
              "                    c-5.3-0.1-9.8,4.2-9.9,9.5C115,72.1,115,72.3,115,72.5z M19.5,62.3c-5.4,0.1-9.8,4.4-10,9.8c-0.1,5.1,5.2,10.4,10.2,10.3\n",
              "                    c5.6-0.2,10-4.9,9.8-10.5c-0.1-5.4-4.5-9.7-9.9-9.6C19.6,62.3,19.5,62.3,19.5,62.3z M71.8,134.6c5.9,0.2,10.3-3.9,10.4-9.6\n",
              "                    c0.5-5.5-3.6-10.4-9.1-10.8c-5.5-0.5-10.4,3.6-10.8,9.1c0,0.5,0,0.9,0,1.4c-0.2,5.3,4,9.8,9.3,10\n",
              "                    C71.6,134.6,71.7,134.6,71.8,134.6z\"/>\n",
              "            </g>\n",
              "        </svg>\n",
              "        <table>\n",
              "            <tr>\n",
              "                <td style=\"text-align: left\"><b>Python version:</b></td>\n",
              "                <td style=\"text-align: left\"><b>3.10.12</b></td>\n",
              "            </tr>\n",
              "            <tr>\n",
              "                <td style=\"text-align: left\"><b>Ray version:</b></td>\n",
              "                <td style=\"text-align: left\"><b> 2.5.1</b></td>\n",
              "            </tr>\n",
              "            \n",
              "        </table>\n",
              "    </div>\n",
              "</div>\n"
            ],
            "text/plain": [
              "RayContext(dashboard_url='', python_version='3.10.12', ray_version='2.5.1', ray_commit='a03efd9931128d387649dd48b0e4864b43d3bfb4', address_info={'node_ip_address': '172.28.0.12', 'raylet_ip_address': '172.28.0.12', 'redis_address': None, 'object_store_address': '/tmp/ray/session_2023-06-27_18-27-43_373397_12248/sockets/plasma_store', 'raylet_socket_name': '/tmp/ray/session_2023-06-27_18-27-43_373397_12248/sockets/raylet', 'webui_url': '', 'session_dir': '/tmp/ray/session_2023-06-27_18-27-43_373397_12248', 'metrics_export_port': 62036, 'gcs_address': '172.28.0.12:63336', 'address': '172.28.0.12:63336', 'dashboard_agent_listen_port': 52365, 'node_id': 'a95b5665346861451284f1eb06e0f49d7c8dc3ad5836c8ab1df1d8cd'})"
            ]
          },
          "execution_count": 31,
          "metadata": {},
          "output_type": "execute_result"
        }
      ],
      "source": [
        "ray.init(num_gpus=2)"
      ]
    },
    {
      "cell_type": "code",
      "execution_count": 32,
      "metadata": {
        "colab": {
          "base_uri": "https://localhost:8080/",
          "height": 467
        },
        "id": "M8Wc7suLigWe",
        "outputId": "038b8b50-a105-4f97-ce5b-d398a553d69d"
      },
      "outputs": [
        {
          "data": {
            "text/plain": [
              "<Axes: xlabel='count', ylabel='CHANNELTYPE'>"
            ]
          },
          "execution_count": 32,
          "metadata": {},
          "output_type": "execute_result"
        },
        {
          "data": {
            "image/png": "[encoded data removed]",
            "text/plain": [
              "<Figure size 640x480 with 1 Axes>"
            ]
          },
          "metadata": {},
          "output_type": "display_data"
        }
      ],
      "source": [
        "sb.countplot(y=df.CHANNELTYPE)"
      ]
    },
    {
      "cell_type": "code",
      "execution_count": 33,
      "metadata": {
        "colab": {
          "base_uri": "https://localhost:8080/",
          "height": 467
        },
        "id": "abzGLlwCigWf",
        "outputId": "86d8366a-70f2-4c77-f6a2-c2133efaef18"
      },
      "outputs": [
        {
          "data": {
            "text/plain": [
              "<Axes: xlabel='count', ylabel='DEVICETYPE'>"
            ]
          },
          "execution_count": 33,
          "metadata": {},
          "output_type": "execute_result"
        },
        {
          "data": {
            "image/png": "[encoded data removed]",
            "text/plain": [
              "<Figure size 640x480 with 1 Axes>"
            ]
          },
          "metadata": {},
          "output_type": "display_data"
        }
      ],
      "source": [
        "sb.countplot(y=df.DEVICETYPE)"
      ]
    },
    {
      "cell_type": "code",
      "execution_count": 34,
      "metadata": {
        "colab": {
          "base_uri": "https://localhost:8080/",
          "height": 463
        },
        "id": "n-pa0ZEaigWg",
        "outputId": "fa7b65fb-a67e-47f2-f044-515fe5745d86"
      },
      "outputs": [
        {
          "data": {
            "text/plain": [
              "<Axes: xlabel='count', ylabel='USERCITY'>"
            ]
          },
          "execution_count": 34,
          "metadata": {},
          "output_type": "execute_result"
        },
        {
          "name": "stderr",
          "output_type": "stream",
          "text": [
            "/usr/local/lib/python3.10/dist-packages/IPython/core/events.py:89: UserWarning: Glyph 24 (\u0018) missing from current font.\n",
            "  func(*args, **kwargs)\n",
            "/usr/local/lib/python3.10/dist-packages/IPython/core/pylabtools.py:151: UserWarning: Glyph 24 (\u0018) missing from current font.\n",
            "  fig.canvas.print_figure(bytes_io, **kw)\n"
          ]
        },
        {
          "data": {
            "image/png": "[encoded data removed]",
            "text/plain": [
              "<Figure size 640x480 with 1 Axes>"
            ]
          },
          "metadata": {},
          "output_type": "display_data"
        }
      ],
      "source": [
        "sb.countplot(y=df.USERCITY)"
      ]
    },
    {
      "cell_type": "code",
      "execution_count": 35,
      "metadata": {
        "colab": {
          "base_uri": "https://localhost:8080/"
        },
        "id": "xztdzGncigWg",
        "outputId": "38eececc-2c12-4552-9fc0-c89bddea8f4b"
      },
      "outputs": [
        {
          "data": {
            "text/plain": [
              "208"
            ]
          },
          "execution_count": 35,
          "metadata": {},
          "output_type": "execute_result"
        }
      ],
      "source": [
        "len(df['TAXONOMY'].unique())"
      ]
    },
    {
      "cell_type": "code",
      "execution_count": 36,
      "metadata": {
        "colab": {
          "base_uri": "https://localhost:8080/"
        },
        "id": "AQtFFnbc8hIP",
        "outputId": "9a9536a7-7b36-4aa9-99b0-78b2d3710cfc"
      },
      "outputs": [
        {
          "name": "stderr",
          "output_type": "stream",
          "text": [
            "<ipython-input-36-f3a50766caba>:2: SettingWithCopyWarning: \n",
            "A value is trying to be set on a copy of a slice from a DataFrame\n",
            "\n",
            "See the caveats in the documentation: https://pandas.pydata.org/pandas-docs/stable/user_guide/indexing.html#returning-a-view-versus-a-copy\n",
            "  df['KEYWORDS'][i]=df['KEYWORDS'][i].split('|')\n"
          ]
        }
      ],
      "source": [
        "for i in range(len(df)):\n",
        "    df['KEYWORDS'][i]=df['KEYWORDS'][i].split('|')"
      ]
    },
    {
      "cell_type": "code",
      "execution_count": 37,
      "metadata": {
        "colab": {
          "base_uri": "https://localhost:8080/"
        },
        "id": "7cxGjb8-rXrJ",
        "outputId": "2bdcb94d-beec-4a83-868b-a4025a474968"
      },
      "outputs": [
        {
          "data": {
            "text/plain": [
              "str"
            ]
          },
          "execution_count": 37,
          "metadata": {},
          "output_type": "execute_result"
        }
      ],
      "source": [
        "type(df['KEYWORDS'][0][0])"
      ]
    },
    {
      "cell_type": "code",
      "execution_count": 38,
      "metadata": {
        "colab": {
          "base_uri": "https://localhost:8080/"
        },
        "id": "JvZ9UVvrigXj",
        "outputId": "f1d3a4d3-36c7-4f66-bf1f-7af16aaf01ac"
      },
      "outputs": [
        {
          "data": {
            "text/plain": [
              "(113930, 15)"
            ]
          },
          "execution_count": 38,
          "metadata": {},
          "output_type": "execute_result"
        }
      ],
      "source": [
        "df.shape"
      ]
    },
    {
      "cell_type": "code",
      "execution_count": 39,
      "metadata": {
        "id": "4OH5eLRRigXj"
      },
      "outputs": [],
      "source": [
        "dict_len={}\n",
        "for i in range(len(df)):\n",
        "    j=len(df['KEYWORDS'][i])\n",
        "    if j not in dict_len.keys():\n",
        "        dict_len[j]=1\n",
        "    else:\n",
        "        dict_len[j]+=1"
      ]
    },
    {
      "cell_type": "code",
      "execution_count": 40,
      "metadata": {
        "colab": {
          "base_uri": "https://localhost:8080/"
        },
        "id": "5UW5TP1SigXj",
        "outputId": "42c62055-1ac4-4865-9834-cba87b2cc6a7"
      },
      "outputs": [
        {
          "data": {
            "text/plain": [
              "index              0\n",
              "ID                 0\n",
              "DEVICETYPE         0\n",
              "PLATFORM_ID        0\n",
              "BIDREQUESTIP       0\n",
              "USERPLATFORMUID    0\n",
              "USERCITY           0\n",
              "USERZIPCODE        0\n",
              "USERAGENT          0\n",
              "PLATFORMTYPE       0\n",
              "CHANNELTYPE        0\n",
              "URL                0\n",
              "KEYWORDS           0\n",
              "TAXONOMY           0\n",
              "IS_HCP             0\n",
              "dtype: int64"
            ]
          },
          "execution_count": 40,
          "metadata": {},
          "output_type": "execute_result"
        }
      ],
      "source": [
        "df.isna().sum()"
      ]
    },
    {
      "cell_type": "code",
      "execution_count": 41,
      "metadata": {
        "colab": {
          "base_uri": "https://localhost:8080/"
        },
        "id": "e3PN3Kf1igXk",
        "outputId": "a2d2a429-5f41-4dd1-fc96-a5f19569b3a5"
      },
      "outputs": [
        {
          "data": {
            "text/plain": [
              "33660"
            ]
          },
          "execution_count": 41,
          "metadata": {},
          "output_type": "execute_result"
        }
      ],
      "source": [
        "len(df['BIDREQUESTIP'].unique())"
      ]
    },
    {
      "cell_type": "code",
      "execution_count": 42,
      "metadata": {
        "colab": {
          "base_uri": "https://localhost:8080/"
        },
        "id": "QwUmAnthigXl",
        "outputId": "58f9fe59-c64e-4107-d525-57f8c8960d52"
      },
      "outputs": [
        {
          "name": "stdout",
          "output_type": "stream",
          "text": [
            "{20: 2579, 40: 4299, 9: 239, 56: 530, 38: 1136, 66: 4572, 29: 8336, 58: 394, 43: 422, 57: 1096, 52: 3311, 28: 3020, 59: 1516, 42: 1880, 24: 6814, 4: 278, 35: 3882, 17: 3124, 32: 1072, 18: 2494, 47: 1778, 45: 1212, 82: 1465, 10: 904, 33: 2737, 19: 3320, 13: 1155, 65: 936, 26: 4629, 21: 2338, 23: 3719, 16: 2920, 22: 3400, 25: 2754, 36: 3580, 30: 2307, 5: 44, 41: 666, 51: 488, 63: 738, 64: 861, 74: 12, 15: 993, 44: 2203, 31: 869, 34: 1838, 27: 3536, 62: 395, 14: 801, 67: 135, 61: 525, 60: 931, 78: 794, 12: 1415, 54: 1725, 109: 6, 11: 154, 49: 710, 37: 379, 50: 454, 55: 730, 39: 534, 70: 19, 83: 46, 8: 61, 71: 439, 69: 125, 92: 27, 68: 214, 48: 322, 53: 178, 73: 10, 94: 13, 7: 65, 81: 57, 144: 29, 111: 7, 98: 4, 87: 5, 100: 8, 80: 15, 6: 108, 76: 5, 126: 5, 72: 7, 46: 27, 75: 6, 123: 6, 138: 7, 77: 8, 86: 7, 89: 1, 84: 3, 106: 5, 93: 1, 91: 2, 102: 1, 85: 2, 143: 1}\n"
          ]
        }
      ],
      "source": [
        "print(dict_len)"
      ]
    },
    {
      "cell_type": "code",
      "execution_count": 43,
      "metadata": {
        "id": "D1Ij8ekhigXl"
      },
      "outputs": [],
      "source": [
        "import matplotlib.pyplot as plt"
      ]
    },
    {
      "cell_type": "code",
      "execution_count": 44,
      "metadata": {
        "id": "XuvVffJ_igXl"
      },
      "outputs": [],
      "source": [
        "myKeys = list(dict_len.keys())\n",
        "myKeys.sort()\n",
        "sorted_dict = {i: dict_len[i] for i in myKeys}"
      ]
    },
    {
      "cell_type": "code",
      "execution_count": 45,
      "metadata": {
        "id": "xcN7FJOyigXl"
      },
      "outputs": [],
      "source": [
        "# sorted_dict"
      ]
    },
    {
      "cell_type": "code",
      "execution_count": 46,
      "metadata": {
        "id": "EE7yIebnigXl"
      },
      "outputs": [],
      "source": [
        "sd={'name':sorted_dict.keys(),'value':sorted_dict.values()}\n",
        "# len(sd['name'])"
      ]
    },
    {
      "cell_type": "code",
      "execution_count": 47,
      "metadata": {
        "colab": {
          "base_uri": "https://localhost:8080/",
          "height": 206
        },
        "id": "KKuYHnlDigXl",
        "outputId": "8503225a-6ea8-4e19-d962-57eae034a630"
      },
      "outputs": [
        {
          "data": {
            "text/html": [
              "\n",
              "  <div id=\"df-64f92c31-a7d8-44ad-957e-fb1460f46ea3\">\n",
              "    <div class=\"colab-df-container\">\n",
              "      <div>\n",
              "<style scoped>\n",
              "    .dataframe tbody tr th:only-of-type {\n",
              "        vertical-align: middle;\n",
              "    }\n",
              "\n",
              "    .dataframe tbody tr th {\n",
              "        vertical-align: top;\n",
              "    }\n",
              "\n",
              "    .dataframe thead th {\n",
              "        text-align: right;\n",
              "    }\n",
              "</style>\n",
              "<table border=\"1\" class=\"dataframe\">\n",
              "  <thead>\n",
              "    <tr style=\"text-align: right;\">\n",
              "      <th></th>\n",
              "      <th>name</th>\n",
              "      <th>value</th>\n",
              "    </tr>\n",
              "  </thead>\n",
              "  <tbody>\n",
              "    <tr>\n",
              "      <th>0</th>\n",
              "      <td>4</td>\n",
              "      <td>278</td>\n",
              "    </tr>\n",
              "    <tr>\n",
              "      <th>1</th>\n",
              "      <td>5</td>\n",
              "      <td>44</td>\n",
              "    </tr>\n",
              "    <tr>\n",
              "      <th>2</th>\n",
              "      <td>6</td>\n",
              "      <td>108</td>\n",
              "    </tr>\n",
              "    <tr>\n",
              "      <th>3</th>\n",
              "      <td>7</td>\n",
              "      <td>65</td>\n",
              "    </tr>\n",
              "    <tr>\n",
              "      <th>4</th>\n",
              "      <td>8</td>\n",
              "      <td>61</td>\n",
              "    </tr>\n",
              "  </tbody>\n",
              "</table>\n",
              "</div>\n",
              "      <button class=\"colab-df-convert\" onclick=\"convertToInteractive('df-64f92c31-a7d8-44ad-957e-fb1460f46ea3')\"\n",
              "              title=\"Convert this dataframe to an interactive table.\"\n",
              "              style=\"display:none;\">\n",
              "        \n",
              "  <svg xmlns=\"http://www.w3.org/2000/svg\" height=\"24px\"viewBox=\"0 0 24 24\"\n",
              "       width=\"24px\">\n",
              "    <path d=\"M0 0h24v24H0V0z\" fill=\"none\"/>\n",
              "    <path d=\"M18.56 5.44l.94 2.06.94-2.06 2.06-.94-2.06-.94-.94-2.06-.94 2.06-2.06.94zm-11 1L8.5 8.5l.94-2.06 2.06-.94-2.06-.94L8.5 2.5l-.94 2.06-2.06.94zm10 10l.94 2.06.94-2.06 2.06-.94-2.06-.94-.94-2.06-.94 2.06-2.06.94z\"/><path d=\"M17.41 7.96l-1.37-1.37c-.4-.4-.92-.59-1.43-.59-.52 0-1.04.2-1.43.59L10.3 9.45l-7.72 7.72c-.78.78-.78 2.05 0 2.83L4 21.41c.39.39.9.59 1.41.59.51 0 1.02-.2 1.41-.59l7.78-7.78 2.81-2.81c.8-.78.8-2.07 0-2.86zM5.41 20L4 18.59l7.72-7.72 1.47 1.35L5.41 20z\"/>\n",
              "  </svg>\n",
              "      </button>\n",
              "      \n",
              "  <style>\n",
              "    .colab-df-container {\n",
              "      display:flex;\n",
              "      flex-wrap:wrap;\n",
              "      gap: 12px;\n",
              "    }\n",
              "\n",
              "    .colab-df-convert {\n",
              "      background-color: #E8F0FE;\n",
              "      border: none;\n",
              "      border-radius: 50%;\n",
              "      cursor: pointer;\n",
              "      display: none;\n",
              "      fill: #1967D2;\n",
              "      height: 32px;\n",
              "      padding: 0 0 0 0;\n",
              "      width: 32px;\n",
              "    }\n",
              "\n",
              "    .colab-df-convert:hover {\n",
              "      background-color: #E2EBFA;\n",
              "      box-shadow: 0px 1px 2px rgba(60, 64, 67, 0.3), 0px 1px 3px 1px rgba(60, 64, 67, 0.15);\n",
              "      fill: #174EA6;\n",
              "    }\n",
              "\n",
              "    [theme=dark] .colab-df-convert {\n",
              "      background-color: #3B4455;\n",
              "      fill: #D2E3FC;\n",
              "    }\n",
              "\n",
              "    [theme=dark] .colab-df-convert:hover {\n",
              "      background-color: #434B5C;\n",
              "      box-shadow: 0px 1px 3px 1px rgba(0, 0, 0, 0.15);\n",
              "      filter: drop-shadow(0px 1px 2px rgba(0, 0, 0, 0.3));\n",
              "      fill: #FFFFFF;\n",
              "    }\n",
              "  </style>\n",
              "\n",
              "      <script>\n",
              "        const buttonEl =\n",
              "          document.querySelector('#df-64f92c31-a7d8-44ad-957e-fb1460f46ea3 button.colab-df-convert');\n",
              "        buttonEl.style.display =\n",
              "          google.colab.kernel.accessAllowed ? 'block' : 'none';\n",
              "\n",
              "        async function convertToInteractive(key) {\n",
              "          const element = document.querySelector('#df-64f92c31-a7d8-44ad-957e-fb1460f46ea3');\n",
              "          const dataTable =\n",
              "            await google.colab.kernel.invokeFunction('convertToInteractive',\n",
              "                                                     [key], {});\n",
              "          if (!dataTable) return;\n",
              "\n",
              "          const docLinkHtml = 'Like what you see? Visit the ' +\n",
              "            '<a target=\"_blank\" href=https://colab.research.google.com/notebooks/data_table.ipynb>data table notebook</a>'\n",
              "            + ' to learn more about interactive tables.';\n",
              "          element.innerHTML = '';\n",
              "          dataTable['output_type'] = 'display_data';\n",
              "          await google.colab.output.renderOutput(dataTable, element);\n",
              "          const docLink = document.createElement('div');\n",
              "          docLink.innerHTML = docLinkHtml;\n",
              "          element.appendChild(docLink);\n",
              "        }\n",
              "      </script>\n",
              "    </div>\n",
              "  </div>\n",
              "  "
            ],
            "text/plain": [
              "   name  value\n",
              "0     4    278\n",
              "1     5     44\n",
              "2     6    108\n",
              "3     7     65\n",
              "4     8     61"
            ]
          },
          "execution_count": 47,
          "metadata": {},
          "output_type": "execute_result"
        }
      ],
      "source": [
        "df_plt=pd.DataFrame.from_dict(sd)\n",
        "df_plt.head()"
      ]
    },
    {
      "cell_type": "code",
      "execution_count": 48,
      "metadata": {
        "colab": {
          "base_uri": "https://localhost:8080/",
          "height": 465
        },
        "id": "eMQqEobdigXl",
        "outputId": "6809299f-d8bd-4f10-bce8-548b304e8d97"
      },
      "outputs": [
        {
          "data": {
            "text/plain": [
              "[<matplotlib.lines.Line2D at 0x7f628c1b59c0>,\n",
              " <matplotlib.lines.Line2D at 0x7f628c1b53c0>]"
            ]
          },
          "execution_count": 48,
          "metadata": {},
          "output_type": "execute_result"
        },
        {
          "data": {
            "image/png": "[encoded data removed]",
            "text/plain": [
              "<Figure size 640x480 with 1 Axes>"
            ]
          },
          "metadata": {},
          "output_type": "display_data"
        }
      ],
      "source": [
        "plt.plot(df_plt.name,df_plt.values)"
      ]
    },
    {
      "cell_type": "code",
      "execution_count": 49,
      "metadata": {
        "colab": {
          "base_uri": "https://localhost:8080/",
          "height": 536
        },
        "id": "o3h8A3ncigXl",
        "outputId": "a43388e0-9b1b-4593-bbda-d48971fc9349"
      },
      "outputs": [
        {
          "data": {
            "text/plain": [
              "(array([[99.,  0.,  0.,  0.,  0.,  0.,  0.,  0.,  0.,  0.],\n",
              "        [59., 14.,  8.,  8.,  5.,  3.,  0.,  0.,  1.,  1.]]),\n",
              " array([1.0000e+00, 8.3450e+02, 1.6680e+03, 2.5015e+03, 3.3350e+03,\n",
              "        4.1685e+03, 5.0020e+03, 5.8355e+03, 6.6690e+03, 7.5025e+03,\n",
              "        8.3360e+03]),\n",
              " <a list of 2 BarContainer objects>)"
            ]
          },
          "execution_count": 49,
          "metadata": {},
          "output_type": "execute_result"
        },
        {
          "data": {
            "image/png": "[encoded data removed]",
            "text/plain": [
              "<Figure size 640x480 with 1 Axes>"
            ]
          },
          "metadata": {},
          "output_type": "display_data"
        }
      ],
      "source": [
        "plt.hist(df_plt.values)"
      ]
    },
    {
      "cell_type": "code",
      "execution_count": 50,
      "metadata": {
        "colab": {
          "base_uri": "https://localhost:8080/"
        },
        "id": "-Ca_Z68MigXm",
        "outputId": "79535764-2d16-4e8a-ad06-8221d647ce0f"
      },
      "outputs": [
        {
          "name": "stdout",
          "output_type": "stream",
          "text": [
            "4421\n"
          ]
        }
      ],
      "source": [
        "new_places=[]\n",
        "for i in range(len(df)):\n",
        "  if df['USERCITY'][i] not in new_places:\n",
        "    new_places.append(df['USERCITY'][i])\n",
        "print(len(new_places))"
      ]
    },
    {
      "cell_type": "code",
      "execution_count": 51,
      "metadata": {
        "id": "fJ6TMlevigXm"
      },
      "outputs": [],
      "source": [
        "place_dict={}\n",
        "for i in range(len(new_places)):\n",
        "    place_dict[new_places[i]]=0"
      ]
    },
    {
      "cell_type": "code",
      "execution_count": 52,
      "metadata": {
        "id": "Dc0QZ5rpigXm"
      },
      "outputs": [],
      "source": [
        "for i in range(len(df)):\n",
        "    place_dict[df['USERCITY'][i]]+=1"
      ]
    },
    {
      "cell_type": "code",
      "execution_count": 53,
      "metadata": {
        "id": "Q0eZspsKigXn"
      },
      "outputs": [],
      "source": [
        "# place_dict"
      ]
    },
    {
      "cell_type": "code",
      "execution_count": 54,
      "metadata": {
        "id": "6nOQBYihigXn"
      },
      "outputs": [],
      "source": [
        "myKeys1 = list(place_dict.keys())\n",
        "myKeys1.sort()\n",
        "sorted_place = {i: place_dict[i] for i in myKeys1}"
      ]
    },
    {
      "cell_type": "code",
      "execution_count": 55,
      "metadata": {
        "colab": {
          "base_uri": "https://localhost:8080/"
        },
        "id": "jNkMg3EJu4fL",
        "outputId": "978becaf-a7fb-4fda-cad3-c36f919bc9b7"
      },
      "outputs": [
        {
          "data": {
            "text/plain": [
              "4421"
            ]
          },
          "execution_count": 55,
          "metadata": {},
          "output_type": "execute_result"
        }
      ],
      "source": [
        "len(myKeys1)"
      ]
    },
    {
      "cell_type": "code",
      "execution_count": 56,
      "metadata": {
        "colab": {
          "base_uri": "https://localhost:8080/"
        },
        "id": "gzJwLXWOigXp",
        "outputId": "249dd62e-ae45-47d0-fe7e-d49cfe07e4a7"
      },
      "outputs": [
        {
          "name": "stdout",
          "output_type": "stream",
          "text": [
            "1614\n"
          ]
        }
      ],
      "source": [
        "new_words=[]\n",
        "for i in range(len(df)):\n",
        "  for j in range(len(df['KEYWORDS'][i])):\n",
        "    if df['KEYWORDS'][i][j] not in new_words:\n",
        "      new_words.append(df['KEYWORDS'][i][j])\n",
        "print(len(new_words))"
      ]
    },
    {
      "cell_type": "code",
      "execution_count": 57,
      "metadata": {
        "id": "clrAlVdcigXp"
      },
      "outputs": [],
      "source": [
        "def low_case(string1):\n",
        "  return string1.lower()"
      ]
    },
    {
      "cell_type": "code",
      "execution_count": 58,
      "metadata": {
        "colab": {
          "base_uri": "https://localhost:8080/",
          "height": 635
        },
        "id": "g_39cq7YigXp",
        "outputId": "895f7bf2-fdcb-463a-cc39-e77e8e4b24e1"
      },
      "outputs": [
        {
          "data": {
            "text/html": [
              "\n",
              "  <div id=\"df-8efdff4d-a967-40ee-baad-f30d7c492c96\">\n",
              "    <div class=\"colab-df-container\">\n",
              "      <div>\n",
              "<style scoped>\n",
              "    .dataframe tbody tr th:only-of-type {\n",
              "        vertical-align: middle;\n",
              "    }\n",
              "\n",
              "    .dataframe tbody tr th {\n",
              "        vertical-align: top;\n",
              "    }\n",
              "\n",
              "    .dataframe thead th {\n",
              "        text-align: right;\n",
              "    }\n",
              "</style>\n",
              "<table border=\"1\" class=\"dataframe\">\n",
              "  <thead>\n",
              "    <tr style=\"text-align: right;\">\n",
              "      <th></th>\n",
              "      <th>index</th>\n",
              "      <th>ID</th>\n",
              "      <th>DEVICETYPE</th>\n",
              "      <th>PLATFORM_ID</th>\n",
              "      <th>BIDREQUESTIP</th>\n",
              "      <th>USERPLATFORMUID</th>\n",
              "      <th>USERCITY</th>\n",
              "      <th>USERZIPCODE</th>\n",
              "      <th>USERAGENT</th>\n",
              "      <th>PLATFORMTYPE</th>\n",
              "      <th>CHANNELTYPE</th>\n",
              "      <th>URL</th>\n",
              "      <th>KEYWORDS</th>\n",
              "      <th>TAXONOMY</th>\n",
              "      <th>IS_HCP</th>\n",
              "    </tr>\n",
              "  </thead>\n",
              "  <tbody>\n",
              "    <tr>\n",
              "      <th>0</th>\n",
              "      <td>0</td>\n",
              "      <td>1001</td>\n",
              "      <td>Desktop</td>\n",
              "      <td>2</td>\n",
              "      <td>170.173.0.22</td>\n",
              "      <td>6974dcaa-f932-480e-9fb5-c52e20e1393a</td>\n",
              "      <td>Portland</td>\n",
              "      <td>97206.0</td>\n",
              "      <td>Mozilla/5.0 (Windows NT 10.0; Win64; x64) Appl...</td>\n",
              "      <td>Online Medical Journal</td>\n",
              "      <td>Website</td>\n",
              "      <td>https://www.cancertherapyadvisor.com/home/canc...</td>\n",
              "      <td>[general, endocrine, false, medicine, surgery,...</td>\n",
              "      <td>None</td>\n",
              "      <td>0.0</td>\n",
              "    </tr>\n",
              "    <tr>\n",
              "      <th>1</th>\n",
              "      <td>1</td>\n",
              "      <td>1002</td>\n",
              "      <td>Desktop</td>\n",
              "      <td>2</td>\n",
              "      <td>65.216.253.25</td>\n",
              "      <td>c12f3f8f-8fcf-484a-90e1-1ac04db8cdcf</td>\n",
              "      <td>Arlington</td>\n",
              "      <td>22202.0</td>\n",
              "      <td>Mozilla/5.0 (Macintosh; Intel Mac OS X 10_15_7...</td>\n",
              "      <td>Online Medical Journal</td>\n",
              "      <td>Website</td>\n",
              "      <td>https://www.cancertherapyadvisor.com/home/deci...</td>\n",
              "      <td>[bone marrow, radiography, chronic, oncology, ...</td>\n",
              "      <td>None</td>\n",
              "      <td>0.0</td>\n",
              "    </tr>\n",
              "    <tr>\n",
              "      <th>2</th>\n",
              "      <td>2</td>\n",
              "      <td>1003</td>\n",
              "      <td>Desktop</td>\n",
              "      <td>2</td>\n",
              "      <td>66.232.79.22</td>\n",
              "      <td>a698de4b-e200-46dd-b5fb-40402175ae18</td>\n",
              "      <td>New Meadows</td>\n",
              "      <td>83654.0</td>\n",
              "      <td>Mozilla/5.0 (Macintosh; Intel Mac OS X 10_15_7...</td>\n",
              "      <td>Online Medical Journal</td>\n",
              "      <td>Website</td>\n",
              "      <td>https://www.cancertherapyadvisor.com/home/canc...</td>\n",
              "      <td>[general, endocrine, false, medicine, surgery,...</td>\n",
              "      <td>None</td>\n",
              "      <td>0.0</td>\n",
              "    </tr>\n",
              "    <tr>\n",
              "      <th>3</th>\n",
              "      <td>3</td>\n",
              "      <td>1004</td>\n",
              "      <td>Desktop</td>\n",
              "      <td>3</td>\n",
              "      <td>137.54.125.246</td>\n",
              "      <td>45967533-75c8-4fbd-a00c-e6ff20447aaa</td>\n",
              "      <td>Neutral</td>\n",
              "      <td>229114624.0</td>\n",
              "      <td>Mozilla/5.0 (Windows NT 10.0; Win64; x64) Appl...</td>\n",
              "      <td>Online Medical Journal</td>\n",
              "      <td>Website</td>\n",
              "      <td>https://globalrph.com/medcalcs/warfarin-mainte...</td>\n",
              "      <td>[dental, total, clinical, pharmacology, physic...</td>\n",
              "      <td>2084P0800X</td>\n",
              "      <td>1.0</td>\n",
              "    </tr>\n",
              "    <tr>\n",
              "      <th>4</th>\n",
              "      <td>4</td>\n",
              "      <td>1005</td>\n",
              "      <td>Mobile</td>\n",
              "      <td>7</td>\n",
              "      <td>174.202.231.99</td>\n",
              "      <td>a17e25be-532d-4cf5-b916-9308c8c3961f</td>\n",
              "      <td>Houston</td>\n",
              "      <td>77008.0</td>\n",
              "      <td>Mozilla/5.0 (iPhone; CPU iPhone OS 16_1_1 like...</td>\n",
              "      <td>Online Medical Journal</td>\n",
              "      <td>Website</td>\n",
              "      <td>https://www.cureus.com/articles/58184-a-review...</td>\n",
              "      <td>[critical care, emergency medicine, general pr...</td>\n",
              "      <td>None</td>\n",
              "      <td>0.0</td>\n",
              "    </tr>\n",
              "  </tbody>\n",
              "</table>\n",
              "</div>\n",
              "      <button class=\"colab-df-convert\" onclick=\"convertToInteractive('df-8efdff4d-a967-40ee-baad-f30d7c492c96')\"\n",
              "              title=\"Convert this dataframe to an interactive table.\"\n",
              "              style=\"display:none;\">\n",
              "        \n",
              "  <svg xmlns=\"http://www.w3.org/2000/svg\" height=\"24px\"viewBox=\"0 0 24 24\"\n",
              "       width=\"24px\">\n",
              "    <path d=\"M0 0h24v24H0V0z\" fill=\"none\"/>\n",
              "    <path d=\"M18.56 5.44l.94 2.06.94-2.06 2.06-.94-2.06-.94-.94-2.06-.94 2.06-2.06.94zm-11 1L8.5 8.5l.94-2.06 2.06-.94-2.06-.94L8.5 2.5l-.94 2.06-2.06.94zm10 10l.94 2.06.94-2.06 2.06-.94-2.06-.94-.94-2.06-.94 2.06-2.06.94z\"/><path d=\"M17.41 7.96l-1.37-1.37c-.4-.4-.92-.59-1.43-.59-.52 0-1.04.2-1.43.59L10.3 9.45l-7.72 7.72c-.78.78-.78 2.05 0 2.83L4 21.41c.39.39.9.59 1.41.59.51 0 1.02-.2 1.41-.59l7.78-7.78 2.81-2.81c.8-.78.8-2.07 0-2.86zM5.41 20L4 18.59l7.72-7.72 1.47 1.35L5.41 20z\"/>\n",
              "  </svg>\n",
              "      </button>\n",
              "      \n",
              "  <style>\n",
              "    .colab-df-container {\n",
              "      display:flex;\n",
              "      flex-wrap:wrap;\n",
              "      gap: 12px;\n",
              "    }\n",
              "\n",
              "    .colab-df-convert {\n",
              "      background-color: #E8F0FE;\n",
              "      border: none;\n",
              "      border-radius: 50%;\n",
              "      cursor: pointer;\n",
              "      display: none;\n",
              "      fill: #1967D2;\n",
              "      height: 32px;\n",
              "      padding: 0 0 0 0;\n",
              "      width: 32px;\n",
              "    }\n",
              "\n",
              "    .colab-df-convert:hover {\n",
              "      background-color: #E2EBFA;\n",
              "      box-shadow: 0px 1px 2px rgba(60, 64, 67, 0.3), 0px 1px 3px 1px rgba(60, 64, 67, 0.15);\n",
              "      fill: #174EA6;\n",
              "    }\n",
              "\n",
              "    [theme=dark] .colab-df-convert {\n",
              "      background-color: #3B4455;\n",
              "      fill: #D2E3FC;\n",
              "    }\n",
              "\n",
              "    [theme=dark] .colab-df-convert:hover {\n",
              "      background-color: #434B5C;\n",
              "      box-shadow: 0px 1px 3px 1px rgba(0, 0, 0, 0.15);\n",
              "      filter: drop-shadow(0px 1px 2px rgba(0, 0, 0, 0.3));\n",
              "      fill: #FFFFFF;\n",
              "    }\n",
              "  </style>\n",
              "\n",
              "      <script>\n",
              "        const buttonEl =\n",
              "          document.querySelector('#df-8efdff4d-a967-40ee-baad-f30d7c492c96 button.colab-df-convert');\n",
              "        buttonEl.style.display =\n",
              "          google.colab.kernel.accessAllowed ? 'block' : 'none';\n",
              "\n",
              "        async function convertToInteractive(key) {\n",
              "          const element = document.querySelector('#df-8efdff4d-a967-40ee-baad-f30d7c492c96');\n",
              "          const dataTable =\n",
              "            await google.colab.kernel.invokeFunction('convertToInteractive',\n",
              "                                                     [key], {});\n",
              "          if (!dataTable) return;\n",
              "\n",
              "          const docLinkHtml = 'Like what you see? Visit the ' +\n",
              "            '<a target=\"_blank\" href=https://colab.research.google.com/notebooks/data_table.ipynb>data table notebook</a>'\n",
              "            + ' to learn more about interactive tables.';\n",
              "          element.innerHTML = '';\n",
              "          dataTable['output_type'] = 'display_data';\n",
              "          await google.colab.output.renderOutput(dataTable, element);\n",
              "          const docLink = document.createElement('div');\n",
              "          docLink.innerHTML = docLinkHtml;\n",
              "          element.appendChild(docLink);\n",
              "        }\n",
              "      </script>\n",
              "    </div>\n",
              "  </div>\n",
              "  "
            ],
            "text/plain": [
              "   index    ID DEVICETYPE  PLATFORM_ID    BIDREQUESTIP  \\\n",
              "0      0  1001    Desktop            2    170.173.0.22   \n",
              "1      1  1002    Desktop            2   65.216.253.25   \n",
              "2      2  1003    Desktop            2    66.232.79.22   \n",
              "3      3  1004    Desktop            3  137.54.125.246   \n",
              "4      4  1005     Mobile            7  174.202.231.99   \n",
              "\n",
              "                        USERPLATFORMUID     USERCITY  USERZIPCODE  \\\n",
              "0  6974dcaa-f932-480e-9fb5-c52e20e1393a     Portland      97206.0   \n",
              "1  c12f3f8f-8fcf-484a-90e1-1ac04db8cdcf    Arlington      22202.0   \n",
              "2  a698de4b-e200-46dd-b5fb-40402175ae18  New Meadows      83654.0   \n",
              "3  45967533-75c8-4fbd-a00c-e6ff20447aaa      Neutral  229114624.0   \n",
              "4  a17e25be-532d-4cf5-b916-9308c8c3961f      Houston      77008.0   \n",
              "\n",
              "                                           USERAGENT            PLATFORMTYPE  \\\n",
              "0  Mozilla/5.0 (Windows NT 10.0; Win64; x64) Appl...  Online Medical Journal   \n",
              "1  Mozilla/5.0 (Macintosh; Intel Mac OS X 10_15_7...  Online Medical Journal   \n",
              "2  Mozilla/5.0 (Macintosh; Intel Mac OS X 10_15_7...  Online Medical Journal   \n",
              "3  Mozilla/5.0 (Windows NT 10.0; Win64; x64) Appl...  Online Medical Journal   \n",
              "4  Mozilla/5.0 (iPhone; CPU iPhone OS 16_1_1 like...  Online Medical Journal   \n",
              "\n",
              "  CHANNELTYPE                                                URL  \\\n",
              "0     Website  https://www.cancertherapyadvisor.com/home/canc...   \n",
              "1     Website  https://www.cancertherapyadvisor.com/home/deci...   \n",
              "2     Website  https://www.cancertherapyadvisor.com/home/canc...   \n",
              "3     Website  https://globalrph.com/medcalcs/warfarin-mainte...   \n",
              "4     Website  https://www.cureus.com/articles/58184-a-review...   \n",
              "\n",
              "                                            KEYWORDS    TAXONOMY  IS_HCP  \n",
              "0  [general, endocrine, false, medicine, surgery,...        None     0.0  \n",
              "1  [bone marrow, radiography, chronic, oncology, ...        None     0.0  \n",
              "2  [general, endocrine, false, medicine, surgery,...        None     0.0  \n",
              "3  [dental, total, clinical, pharmacology, physic...  2084P0800X     1.0  \n",
              "4  [critical care, emergency medicine, general pr...        None     0.0  "
            ]
          },
          "execution_count": 58,
          "metadata": {},
          "output_type": "execute_result"
        }
      ],
      "source": [
        "for i in range(len(df)):\n",
        "  for j in range(len(df['KEYWORDS'][i])):\n",
        "    df['KEYWORDS'][i][j]=df['KEYWORDS'][i][j].lower()\n",
        "df.head()"
      ]
    },
    {
      "cell_type": "code",
      "execution_count": 156,
      "metadata": {
        "colab": {
          "base_uri": "https://localhost:8080/"
        },
        "id": "x81QalXe9mC4",
        "outputId": "14a8f061-cf84-4b62-c3a1-bb1496742e05"
      },
      "outputs": [
        {
          "data": {
            "text/plain": [
              "str"
            ]
          },
          "execution_count": 156,
          "metadata": {},
          "output_type": "execute_result"
        }
      ],
      "source": [
        "type(df['KEYWORDS'][i][j])"
      ]
    },
    {
      "cell_type": "code",
      "execution_count": 59,
      "metadata": {
        "colab": {
          "base_uri": "https://localhost:8080/",
          "height": 300
        },
        "id": "D4CFAVlDigXp",
        "outputId": "73f30e48-cdae-4285-ca43-1f9905deded1"
      },
      "outputs": [
        {
          "data": {
            "text/html": [
              "\n",
              "  <div id=\"df-4fabb24d-797f-4660-8bc7-d1ed9d8b7193\">\n",
              "    <div class=\"colab-df-container\">\n",
              "      <div>\n",
              "<style scoped>\n",
              "    .dataframe tbody tr th:only-of-type {\n",
              "        vertical-align: middle;\n",
              "    }\n",
              "\n",
              "    .dataframe tbody tr th {\n",
              "        vertical-align: top;\n",
              "    }\n",
              "\n",
              "    .dataframe thead th {\n",
              "        text-align: right;\n",
              "    }\n",
              "</style>\n",
              "<table border=\"1\" class=\"dataframe\">\n",
              "  <thead>\n",
              "    <tr style=\"text-align: right;\">\n",
              "      <th></th>\n",
              "      <th>index</th>\n",
              "      <th>ID</th>\n",
              "      <th>PLATFORM_ID</th>\n",
              "      <th>USERZIPCODE</th>\n",
              "      <th>IS_HCP</th>\n",
              "    </tr>\n",
              "  </thead>\n",
              "  <tbody>\n",
              "    <tr>\n",
              "      <th>count</th>\n",
              "      <td>113930.000000</td>\n",
              "      <td>113930.000000</td>\n",
              "      <td>113930.000000</td>\n",
              "      <td>1.139300e+05</td>\n",
              "      <td>113930.000000</td>\n",
              "    </tr>\n",
              "    <tr>\n",
              "      <th>mean</th>\n",
              "      <td>56966.886114</td>\n",
              "      <td>57967.886114</td>\n",
              "      <td>3.574941</td>\n",
              "      <td>1.756583e+07</td>\n",
              "      <td>0.299974</td>\n",
              "    </tr>\n",
              "    <tr>\n",
              "      <th>std</th>\n",
              "      <td>32891.162311</td>\n",
              "      <td>32891.162311</td>\n",
              "      <td>2.568991</td>\n",
              "      <td>1.045838e+08</td>\n",
              "      <td>0.458248</td>\n",
              "    </tr>\n",
              "    <tr>\n",
              "      <th>min</th>\n",
              "      <td>0.000000</td>\n",
              "      <td>1001.000000</td>\n",
              "      <td>1.000000</td>\n",
              "      <td>0.000000e+00</td>\n",
              "      <td>0.000000</td>\n",
              "    </tr>\n",
              "    <tr>\n",
              "      <th>25%</th>\n",
              "      <td>28482.250000</td>\n",
              "      <td>29483.250000</td>\n",
              "      <td>2.000000</td>\n",
              "      <td>1.523700e+04</td>\n",
              "      <td>0.000000</td>\n",
              "    </tr>\n",
              "    <tr>\n",
              "      <th>50%</th>\n",
              "      <td>56965.500000</td>\n",
              "      <td>57966.500000</td>\n",
              "      <td>2.000000</td>\n",
              "      <td>3.813300e+04</td>\n",
              "      <td>0.000000</td>\n",
              "    </tr>\n",
              "    <tr>\n",
              "      <th>75%</th>\n",
              "      <td>85451.750000</td>\n",
              "      <td>86452.750000</td>\n",
              "      <td>6.000000</td>\n",
              "      <td>7.700700e+04</td>\n",
              "      <td>1.000000</td>\n",
              "    </tr>\n",
              "    <tr>\n",
              "      <th>max</th>\n",
              "      <td>113936.000000</td>\n",
              "      <td>114937.000000</td>\n",
              "      <td>16.000000</td>\n",
              "      <td>9.970149e+08</td>\n",
              "      <td>1.000000</td>\n",
              "    </tr>\n",
              "  </tbody>\n",
              "</table>\n",
              "</div>\n",
              "      <button class=\"colab-df-convert\" onclick=\"convertToInteractive('df-4fabb24d-797f-4660-8bc7-d1ed9d8b7193')\"\n",
              "              title=\"Convert this dataframe to an interactive table.\"\n",
              "              style=\"display:none;\">\n",
              "        \n",
              "  <svg xmlns=\"http://www.w3.org/2000/svg\" height=\"24px\"viewBox=\"0 0 24 24\"\n",
              "       width=\"24px\">\n",
              "    <path d=\"M0 0h24v24H0V0z\" fill=\"none\"/>\n",
              "    <path d=\"M18.56 5.44l.94 2.06.94-2.06 2.06-.94-2.06-.94-.94-2.06-.94 2.06-2.06.94zm-11 1L8.5 8.5l.94-2.06 2.06-.94-2.06-.94L8.5 2.5l-.94 2.06-2.06.94zm10 10l.94 2.06.94-2.06 2.06-.94-2.06-.94-.94-2.06-.94 2.06-2.06.94z\"/><path d=\"M17.41 7.96l-1.37-1.37c-.4-.4-.92-.59-1.43-.59-.52 0-1.04.2-1.43.59L10.3 9.45l-7.72 7.72c-.78.78-.78 2.05 0 2.83L4 21.41c.39.39.9.59 1.41.59.51 0 1.02-.2 1.41-.59l7.78-7.78 2.81-2.81c.8-.78.8-2.07 0-2.86zM5.41 20L4 18.59l7.72-7.72 1.47 1.35L5.41 20z\"/>\n",
              "  </svg>\n",
              "      </button>\n",
              "      \n",
              "  <style>\n",
              "    .colab-df-container {\n",
              "      display:flex;\n",
              "      flex-wrap:wrap;\n",
              "      gap: 12px;\n",
              "    }\n",
              "\n",
              "    .colab-df-convert {\n",
              "      background-color: #E8F0FE;\n",
              "      border: none;\n",
              "      border-radius: 50%;\n",
              "      cursor: pointer;\n",
              "      display: none;\n",
              "      fill: #1967D2;\n",
              "      height: 32px;\n",
              "      padding: 0 0 0 0;\n",
              "      width: 32px;\n",
              "    }\n",
              "\n",
              "    .colab-df-convert:hover {\n",
              "      background-color: #E2EBFA;\n",
              "      box-shadow: 0px 1px 2px rgba(60, 64, 67, 0.3), 0px 1px 3px 1px rgba(60, 64, 67, 0.15);\n",
              "      fill: #174EA6;\n",
              "    }\n",
              "\n",
              "    [theme=dark] .colab-df-convert {\n",
              "      background-color: #3B4455;\n",
              "      fill: #D2E3FC;\n",
              "    }\n",
              "\n",
              "    [theme=dark] .colab-df-convert:hover {\n",
              "      background-color: #434B5C;\n",
              "      box-shadow: 0px 1px 3px 1px rgba(0, 0, 0, 0.15);\n",
              "      filter: drop-shadow(0px 1px 2px rgba(0, 0, 0, 0.3));\n",
              "      fill: #FFFFFF;\n",
              "    }\n",
              "  </style>\n",
              "\n",
              "      <script>\n",
              "        const buttonEl =\n",
              "          document.querySelector('#df-4fabb24d-797f-4660-8bc7-d1ed9d8b7193 button.colab-df-convert');\n",
              "        buttonEl.style.display =\n",
              "          google.colab.kernel.accessAllowed ? 'block' : 'none';\n",
              "\n",
              "        async function convertToInteractive(key) {\n",
              "          const element = document.querySelector('#df-4fabb24d-797f-4660-8bc7-d1ed9d8b7193');\n",
              "          const dataTable =\n",
              "            await google.colab.kernel.invokeFunction('convertToInteractive',\n",
              "                                                     [key], {});\n",
              "          if (!dataTable) return;\n",
              "\n",
              "          const docLinkHtml = 'Like what you see? Visit the ' +\n",
              "            '<a target=\"_blank\" href=https://colab.research.google.com/notebooks/data_table.ipynb>data table notebook</a>'\n",
              "            + ' to learn more about interactive tables.';\n",
              "          element.innerHTML = '';\n",
              "          dataTable['output_type'] = 'display_data';\n",
              "          await google.colab.output.renderOutput(dataTable, element);\n",
              "          const docLink = document.createElement('div');\n",
              "          docLink.innerHTML = docLinkHtml;\n",
              "          element.appendChild(docLink);\n",
              "        }\n",
              "      </script>\n",
              "    </div>\n",
              "  </div>\n",
              "  "
            ],
            "text/plain": [
              "               index             ID    PLATFORM_ID   USERZIPCODE  \\\n",
              "count  113930.000000  113930.000000  113930.000000  1.139300e+05   \n",
              "mean    56966.886114   57967.886114       3.574941  1.756583e+07   \n",
              "std     32891.162311   32891.162311       2.568991  1.045838e+08   \n",
              "min         0.000000    1001.000000       1.000000  0.000000e+00   \n",
              "25%     28482.250000   29483.250000       2.000000  1.523700e+04   \n",
              "50%     56965.500000   57966.500000       2.000000  3.813300e+04   \n",
              "75%     85451.750000   86452.750000       6.000000  7.700700e+04   \n",
              "max    113936.000000  114937.000000      16.000000  9.970149e+08   \n",
              "\n",
              "              IS_HCP  \n",
              "count  113930.000000  \n",
              "mean        0.299974  \n",
              "std         0.458248  \n",
              "min         0.000000  \n",
              "25%         0.000000  \n",
              "50%         0.000000  \n",
              "75%         1.000000  \n",
              "max         1.000000  "
            ]
          },
          "execution_count": 59,
          "metadata": {},
          "output_type": "execute_result"
        }
      ],
      "source": [
        "df.describe()"
      ]
    },
    {
      "cell_type": "code",
      "execution_count": 60,
      "metadata": {
        "colab": {
          "base_uri": "https://localhost:8080/"
        },
        "id": "zkmXe25TigXq",
        "outputId": "ec8b0003-d46c-4a48-cccd-7bebf25c1f9f"
      },
      "outputs": [
        {
          "data": {
            "text/plain": [
              "<bound method DataFrame.info of          index      ID DEVICETYPE  PLATFORM_ID    BIDREQUESTIP  \\\n",
              "0            0    1001    Desktop            2    170.173.0.22   \n",
              "1            1    1002    Desktop            2   65.216.253.25   \n",
              "2            2    1003    Desktop            2    66.232.79.22   \n",
              "3            3    1004    Desktop            3  137.54.125.246   \n",
              "4            4    1005     Mobile            7  174.202.231.99   \n",
              "...        ...     ...        ...          ...             ...   \n",
              "113925  113932  114933    Desktop            2    68.82.97.126   \n",
              "113926  113933  114934    Desktop            2  104.172.11.109   \n",
              "113927  113934  114935    Desktop            7   174.21.94.113   \n",
              "113928  113935  114936     Mobile            2  69.253.129.131   \n",
              "113929  113936  114937     Mobile            2  108.41.233.175   \n",
              "\n",
              "                             USERPLATFORMUID      USERCITY  USERZIPCODE  \\\n",
              "0       6974dcaa-f932-480e-9fb5-c52e20e1393a      Portland      97206.0   \n",
              "1       c12f3f8f-8fcf-484a-90e1-1ac04db8cdcf     Arlington      22202.0   \n",
              "2       a698de4b-e200-46dd-b5fb-40402175ae18   New Meadows      83654.0   \n",
              "3       45967533-75c8-4fbd-a00c-e6ff20447aaa       Neutral  229114624.0   \n",
              "4       a17e25be-532d-4cf5-b916-9308c8c3961f       Houston      77008.0   \n",
              "...                                      ...           ...          ...   \n",
              "113925  051e4a06-4cb4-4b97-b0b1-d1c6a2b8e2c2  Philadelphia      19120.0   \n",
              "113926  3289bba5-4a50-4b61-a5cc-68596bbdc2bf      Van Nuys  914014213.0   \n",
              "113927  9c36e90c-caa7-4323-8431-fb84f8293972       Neutral      98105.0   \n",
              "113928  afc27760-31f7-4f6e-aa08-90d8a96525d0    Wilmington      19808.0   \n",
              "113929  d26887c5-15f9-4b72-80dc-728039529e60  White Plains      10605.0   \n",
              "\n",
              "                                                USERAGENT  \\\n",
              "0       Mozilla/5.0 (Windows NT 10.0; Win64; x64) Appl...   \n",
              "1       Mozilla/5.0 (Macintosh; Intel Mac OS X 10_15_7...   \n",
              "2       Mozilla/5.0 (Macintosh; Intel Mac OS X 10_15_7...   \n",
              "3       Mozilla/5.0 (Windows NT 10.0; Win64; x64) Appl...   \n",
              "4       Mozilla/5.0 (iPhone; CPU iPhone OS 16_1_1 like...   \n",
              "...                                                   ...   \n",
              "113925  Mozilla/5.0 (Macintosh; Intel Mac OS X 10_15_6...   \n",
              "113926  Mozilla/5.0 (Windows NT 6.1; Win64; x64) Apple...   \n",
              "113927  Mozilla/5.0 (Macintosh; Intel Mac OS X 10_15_7...   \n",
              "113928  Mozilla/5.0 (iPhone; CPU iPhone OS 15_6_1 like...   \n",
              "113929  Mozilla/5.0 (iPhone; CPU iPhone OS 16_1 like M...   \n",
              "\n",
              "                  PLATFORMTYPE CHANNELTYPE  \\\n",
              "0       Online Medical Journal     Website   \n",
              "1       Online Medical Journal     Website   \n",
              "2       Online Medical Journal     Website   \n",
              "3       Online Medical Journal     Website   \n",
              "4       Online Medical Journal     Website   \n",
              "...                        ...         ...   \n",
              "113925  Online Medical Journal     Website   \n",
              "113926  Online Medical Journal     Website   \n",
              "113927  Online Medical Journal     Website   \n",
              "113928  Online Medical Journal     Website   \n",
              "113929  Online Medical Journal     Website   \n",
              "\n",
              "                                                      URL  \\\n",
              "0       https://www.cancertherapyadvisor.com/home/canc...   \n",
              "1       https://www.cancertherapyadvisor.com/home/deci...   \n",
              "2       https://www.cancertherapyadvisor.com/home/canc...   \n",
              "3       https://globalrph.com/medcalcs/warfarin-mainte...   \n",
              "4       https://www.cureus.com/articles/58184-a-review...   \n",
              "...                                                   ...   \n",
              "113925  https://www.clinicaladvisor.com/home/consultat...   \n",
              "113926  https://www.clinicaladvisor.com/home/features/...   \n",
              "113927  https://www.cureus.com/articles/39455-whats-th...   \n",
              "113928  https://www.dermatologyadvisor.com/home/topics...   \n",
              "113929                        https://www.medicalbag.com/   \n",
              "\n",
              "                                                 KEYWORDS    TAXONOMY  IS_HCP  \n",
              "0       [general, endocrine, false, medicine, surgery,...        None     0.0  \n",
              "1       [bone marrow, radiography, chronic, oncology, ...        None     0.0  \n",
              "2       [general, endocrine, false, medicine, surgery,...        None     0.0  \n",
              "3       [dental, total, clinical, pharmacology, physic...  2084P0800X     1.0  \n",
              "4       [critical care, emergency medicine, general pr...        None     0.0  \n",
              "...                                                   ...         ...     ...  \n",
              "113925  [cardiovascular, clinical, false, male, oncolo...  207RP1001X     1.0  \n",
              "113926  [asthma, arthritis, general, clinical, diagnos...  2084P0800X     1.0  \n",
              "113927  [rehabilitation, transplantation, clinical, pr...  208000000X     1.0  \n",
              "113928  [pain, disease, autoimmune, multiple sclerosis...  2084P0800X     1.0  \n",
              "113929  [genetic, large, autoimmune, health, false, ab...  2084P0800X     1.0  \n",
              "\n",
              "[113930 rows x 15 columns]>"
            ]
          },
          "execution_count": 60,
          "metadata": {},
          "output_type": "execute_result"
        }
      ],
      "source": [
        "df.info"
      ]
    },
    {
      "cell_type": "code",
      "execution_count": 61,
      "metadata": {
        "colab": {
          "base_uri": "https://localhost:8080/",
          "height": 635
        },
        "id": "BaaqTmGKigXq",
        "outputId": "d4b9dfee-7d0d-4a6e-e226-96ffd49519b6"
      },
      "outputs": [
        {
          "data": {
            "text/html": [
              "\n",
              "  <div id=\"df-4dd2cef6-f481-4224-97bc-33d1f9af8aaa\">\n",
              "    <div class=\"colab-df-container\">\n",
              "      <div>\n",
              "<style scoped>\n",
              "    .dataframe tbody tr th:only-of-type {\n",
              "        vertical-align: middle;\n",
              "    }\n",
              "\n",
              "    .dataframe tbody tr th {\n",
              "        vertical-align: top;\n",
              "    }\n",
              "\n",
              "    .dataframe thead th {\n",
              "        text-align: right;\n",
              "    }\n",
              "</style>\n",
              "<table border=\"1\" class=\"dataframe\">\n",
              "  <thead>\n",
              "    <tr style=\"text-align: right;\">\n",
              "      <th></th>\n",
              "      <th>index</th>\n",
              "      <th>ID</th>\n",
              "      <th>DEVICETYPE</th>\n",
              "      <th>PLATFORM_ID</th>\n",
              "      <th>BIDREQUESTIP</th>\n",
              "      <th>USERPLATFORMUID</th>\n",
              "      <th>USERCITY</th>\n",
              "      <th>USERZIPCODE</th>\n",
              "      <th>USERAGENT</th>\n",
              "      <th>PLATFORMTYPE</th>\n",
              "      <th>CHANNELTYPE</th>\n",
              "      <th>URL</th>\n",
              "      <th>KEYWORDS</th>\n",
              "      <th>TAXONOMY</th>\n",
              "      <th>IS_HCP</th>\n",
              "    </tr>\n",
              "  </thead>\n",
              "  <tbody>\n",
              "    <tr>\n",
              "      <th>0</th>\n",
              "      <td>0</td>\n",
              "      <td>1001</td>\n",
              "      <td>Desktop</td>\n",
              "      <td>2</td>\n",
              "      <td>170.173.0.22</td>\n",
              "      <td>6974dcaa-f932-480e-9fb5-c52e20e1393a</td>\n",
              "      <td>Portland</td>\n",
              "      <td>97206.0</td>\n",
              "      <td>Mozilla/5.0 (Windows NT 10.0; Win64; x64) Appl...</td>\n",
              "      <td>Online Medical Journal</td>\n",
              "      <td>Website</td>\n",
              "      <td>https://www.cancertherapyadvisor.com/home/canc...</td>\n",
              "      <td>[general, endocrine, false, medicine, surgery,...</td>\n",
              "      <td>None</td>\n",
              "      <td>0.0</td>\n",
              "    </tr>\n",
              "    <tr>\n",
              "      <th>1</th>\n",
              "      <td>1</td>\n",
              "      <td>1002</td>\n",
              "      <td>Desktop</td>\n",
              "      <td>2</td>\n",
              "      <td>65.216.253.25</td>\n",
              "      <td>c12f3f8f-8fcf-484a-90e1-1ac04db8cdcf</td>\n",
              "      <td>Arlington</td>\n",
              "      <td>22202.0</td>\n",
              "      <td>Mozilla/5.0 (Macintosh; Intel Mac OS X 10_15_7...</td>\n",
              "      <td>Online Medical Journal</td>\n",
              "      <td>Website</td>\n",
              "      <td>https://www.cancertherapyadvisor.com/home/deci...</td>\n",
              "      <td>[bone marrow, radiography, chronic, oncology, ...</td>\n",
              "      <td>None</td>\n",
              "      <td>0.0</td>\n",
              "    </tr>\n",
              "    <tr>\n",
              "      <th>2</th>\n",
              "      <td>2</td>\n",
              "      <td>1003</td>\n",
              "      <td>Desktop</td>\n",
              "      <td>2</td>\n",
              "      <td>66.232.79.22</td>\n",
              "      <td>a698de4b-e200-46dd-b5fb-40402175ae18</td>\n",
              "      <td>New Meadows</td>\n",
              "      <td>83654.0</td>\n",
              "      <td>Mozilla/5.0 (Macintosh; Intel Mac OS X 10_15_7...</td>\n",
              "      <td>Online Medical Journal</td>\n",
              "      <td>Website</td>\n",
              "      <td>https://www.cancertherapyadvisor.com/home/canc...</td>\n",
              "      <td>[general, endocrine, false, medicine, surgery,...</td>\n",
              "      <td>None</td>\n",
              "      <td>0.0</td>\n",
              "    </tr>\n",
              "    <tr>\n",
              "      <th>3</th>\n",
              "      <td>3</td>\n",
              "      <td>1004</td>\n",
              "      <td>Desktop</td>\n",
              "      <td>3</td>\n",
              "      <td>137.54.125.246</td>\n",
              "      <td>45967533-75c8-4fbd-a00c-e6ff20447aaa</td>\n",
              "      <td>Neutral</td>\n",
              "      <td>229114624.0</td>\n",
              "      <td>Mozilla/5.0 (Windows NT 10.0; Win64; x64) Appl...</td>\n",
              "      <td>Online Medical Journal</td>\n",
              "      <td>Website</td>\n",
              "      <td>https://globalrph.com/medcalcs/warfarin-mainte...</td>\n",
              "      <td>[dental, total, clinical, pharmacology, physic...</td>\n",
              "      <td>2084P0800X</td>\n",
              "      <td>1.0</td>\n",
              "    </tr>\n",
              "    <tr>\n",
              "      <th>4</th>\n",
              "      <td>4</td>\n",
              "      <td>1005</td>\n",
              "      <td>Mobile</td>\n",
              "      <td>7</td>\n",
              "      <td>174.202.231.99</td>\n",
              "      <td>a17e25be-532d-4cf5-b916-9308c8c3961f</td>\n",
              "      <td>Houston</td>\n",
              "      <td>77008.0</td>\n",
              "      <td>Mozilla/5.0 (iPhone; CPU iPhone OS 16_1_1 like...</td>\n",
              "      <td>Online Medical Journal</td>\n",
              "      <td>Website</td>\n",
              "      <td>https://www.cureus.com/articles/58184-a-review...</td>\n",
              "      <td>[critical care, emergency medicine, general pr...</td>\n",
              "      <td>None</td>\n",
              "      <td>0.0</td>\n",
              "    </tr>\n",
              "  </tbody>\n",
              "</table>\n",
              "</div>\n",
              "      <button class=\"colab-df-convert\" onclick=\"convertToInteractive('df-4dd2cef6-f481-4224-97bc-33d1f9af8aaa')\"\n",
              "              title=\"Convert this dataframe to an interactive table.\"\n",
              "              style=\"display:none;\">\n",
              "        \n",
              "  <svg xmlns=\"http://www.w3.org/2000/svg\" height=\"24px\"viewBox=\"0 0 24 24\"\n",
              "       width=\"24px\">\n",
              "    <path d=\"M0 0h24v24H0V0z\" fill=\"none\"/>\n",
              "    <path d=\"M18.56 5.44l.94 2.06.94-2.06 2.06-.94-2.06-.94-.94-2.06-.94 2.06-2.06.94zm-11 1L8.5 8.5l.94-2.06 2.06-.94-2.06-.94L8.5 2.5l-.94 2.06-2.06.94zm10 10l.94 2.06.94-2.06 2.06-.94-2.06-.94-.94-2.06-.94 2.06-2.06.94z\"/><path d=\"M17.41 7.96l-1.37-1.37c-.4-.4-.92-.59-1.43-.59-.52 0-1.04.2-1.43.59L10.3 9.45l-7.72 7.72c-.78.78-.78 2.05 0 2.83L4 21.41c.39.39.9.59 1.41.59.51 0 1.02-.2 1.41-.59l7.78-7.78 2.81-2.81c.8-.78.8-2.07 0-2.86zM5.41 20L4 18.59l7.72-7.72 1.47 1.35L5.41 20z\"/>\n",
              "  </svg>\n",
              "      </button>\n",
              "      \n",
              "  <style>\n",
              "    .colab-df-container {\n",
              "      display:flex;\n",
              "      flex-wrap:wrap;\n",
              "      gap: 12px;\n",
              "    }\n",
              "\n",
              "    .colab-df-convert {\n",
              "      background-color: #E8F0FE;\n",
              "      border: none;\n",
              "      border-radius: 50%;\n",
              "      cursor: pointer;\n",
              "      display: none;\n",
              "      fill: #1967D2;\n",
              "      height: 32px;\n",
              "      padding: 0 0 0 0;\n",
              "      width: 32px;\n",
              "    }\n",
              "\n",
              "    .colab-df-convert:hover {\n",
              "      background-color: #E2EBFA;\n",
              "      box-shadow: 0px 1px 2px rgba(60, 64, 67, 0.3), 0px 1px 3px 1px rgba(60, 64, 67, 0.15);\n",
              "      fill: #174EA6;\n",
              "    }\n",
              "\n",
              "    [theme=dark] .colab-df-convert {\n",
              "      background-color: #3B4455;\n",
              "      fill: #D2E3FC;\n",
              "    }\n",
              "\n",
              "    [theme=dark] .colab-df-convert:hover {\n",
              "      background-color: #434B5C;\n",
              "      box-shadow: 0px 1px 3px 1px rgba(0, 0, 0, 0.15);\n",
              "      filter: drop-shadow(0px 1px 2px rgba(0, 0, 0, 0.3));\n",
              "      fill: #FFFFFF;\n",
              "    }\n",
              "  </style>\n",
              "\n",
              "      <script>\n",
              "        const buttonEl =\n",
              "          document.querySelector('#df-4dd2cef6-f481-4224-97bc-33d1f9af8aaa button.colab-df-convert');\n",
              "        buttonEl.style.display =\n",
              "          google.colab.kernel.accessAllowed ? 'block' : 'none';\n",
              "\n",
              "        async function convertToInteractive(key) {\n",
              "          const element = document.querySelector('#df-4dd2cef6-f481-4224-97bc-33d1f9af8aaa');\n",
              "          const dataTable =\n",
              "            await google.colab.kernel.invokeFunction('convertToInteractive',\n",
              "                                                     [key], {});\n",
              "          if (!dataTable) return;\n",
              "\n",
              "          const docLinkHtml = 'Like what you see? Visit the ' +\n",
              "            '<a target=\"_blank\" href=https://colab.research.google.com/notebooks/data_table.ipynb>data table notebook</a>'\n",
              "            + ' to learn more about interactive tables.';\n",
              "          element.innerHTML = '';\n",
              "          dataTable['output_type'] = 'display_data';\n",
              "          await google.colab.output.renderOutput(dataTable, element);\n",
              "          const docLink = document.createElement('div');\n",
              "          docLink.innerHTML = docLinkHtml;\n",
              "          element.appendChild(docLink);\n",
              "        }\n",
              "      </script>\n",
              "    </div>\n",
              "  </div>\n",
              "  "
            ],
            "text/plain": [
              "   index    ID DEVICETYPE  PLATFORM_ID    BIDREQUESTIP  \\\n",
              "0      0  1001    Desktop            2    170.173.0.22   \n",
              "1      1  1002    Desktop            2   65.216.253.25   \n",
              "2      2  1003    Desktop            2    66.232.79.22   \n",
              "3      3  1004    Desktop            3  137.54.125.246   \n",
              "4      4  1005     Mobile            7  174.202.231.99   \n",
              "\n",
              "                        USERPLATFORMUID     USERCITY  USERZIPCODE  \\\n",
              "0  6974dcaa-f932-480e-9fb5-c52e20e1393a     Portland      97206.0   \n",
              "1  c12f3f8f-8fcf-484a-90e1-1ac04db8cdcf    Arlington      22202.0   \n",
              "2  a698de4b-e200-46dd-b5fb-40402175ae18  New Meadows      83654.0   \n",
              "3  45967533-75c8-4fbd-a00c-e6ff20447aaa      Neutral  229114624.0   \n",
              "4  a17e25be-532d-4cf5-b916-9308c8c3961f      Houston      77008.0   \n",
              "\n",
              "                                           USERAGENT            PLATFORMTYPE  \\\n",
              "0  Mozilla/5.0 (Windows NT 10.0; Win64; x64) Appl...  Online Medical Journal   \n",
              "1  Mozilla/5.0 (Macintosh; Intel Mac OS X 10_15_7...  Online Medical Journal   \n",
              "2  Mozilla/5.0 (Macintosh; Intel Mac OS X 10_15_7...  Online Medical Journal   \n",
              "3  Mozilla/5.0 (Windows NT 10.0; Win64; x64) Appl...  Online Medical Journal   \n",
              "4  Mozilla/5.0 (iPhone; CPU iPhone OS 16_1_1 like...  Online Medical Journal   \n",
              "\n",
              "  CHANNELTYPE                                                URL  \\\n",
              "0     Website  https://www.cancertherapyadvisor.com/home/canc...   \n",
              "1     Website  https://www.cancertherapyadvisor.com/home/deci...   \n",
              "2     Website  https://www.cancertherapyadvisor.com/home/canc...   \n",
              "3     Website  https://globalrph.com/medcalcs/warfarin-mainte...   \n",
              "4     Website  https://www.cureus.com/articles/58184-a-review...   \n",
              "\n",
              "                                            KEYWORDS    TAXONOMY  IS_HCP  \n",
              "0  [general, endocrine, false, medicine, surgery,...        None     0.0  \n",
              "1  [bone marrow, radiography, chronic, oncology, ...        None     0.0  \n",
              "2  [general, endocrine, false, medicine, surgery,...        None     0.0  \n",
              "3  [dental, total, clinical, pharmacology, physic...  2084P0800X     1.0  \n",
              "4  [critical care, emergency medicine, general pr...        None     0.0  "
            ]
          },
          "execution_count": 61,
          "metadata": {},
          "output_type": "execute_result"
        }
      ],
      "source": [
        "df.head()"
      ]
    },
    {
      "cell_type": "code",
      "execution_count": 62,
      "metadata": {
        "colab": {
          "base_uri": "https://localhost:8080/",
          "height": 423
        },
        "id": "Wv2ChCSmcqVq",
        "outputId": "95cc2093-1c20-4d69-f10f-53aade98af1c"
      },
      "outputs": [
        {
          "data": {
            "text/html": [
              "\n",
              "  <div id=\"df-8ce64225-0424-45b7-a1f6-bd61b710456e\">\n",
              "    <div class=\"colab-df-container\">\n",
              "      <div>\n",
              "<style scoped>\n",
              "    .dataframe tbody tr th:only-of-type {\n",
              "        vertical-align: middle;\n",
              "    }\n",
              "\n",
              "    .dataframe tbody tr th {\n",
              "        vertical-align: top;\n",
              "    }\n",
              "\n",
              "    .dataframe thead th {\n",
              "        text-align: right;\n",
              "    }\n",
              "</style>\n",
              "<table border=\"1\" class=\"dataframe\">\n",
              "  <thead>\n",
              "    <tr style=\"text-align: right;\">\n",
              "      <th></th>\n",
              "      <th>KEYWORDS</th>\n",
              "      <th>IS_HCP</th>\n",
              "    </tr>\n",
              "  </thead>\n",
              "  <tbody>\n",
              "    <tr>\n",
              "      <th>0</th>\n",
              "      <td>[general, endocrine, false, medicine, surgery,...</td>\n",
              "      <td>0.0</td>\n",
              "    </tr>\n",
              "    <tr>\n",
              "      <th>1</th>\n",
              "      <td>[bone marrow, radiography, chronic, oncology, ...</td>\n",
              "      <td>0.0</td>\n",
              "    </tr>\n",
              "    <tr>\n",
              "      <th>2</th>\n",
              "      <td>[general, endocrine, false, medicine, surgery,...</td>\n",
              "      <td>0.0</td>\n",
              "    </tr>\n",
              "    <tr>\n",
              "      <th>3</th>\n",
              "      <td>[dental, total, clinical, pharmacology, physic...</td>\n",
              "      <td>1.0</td>\n",
              "    </tr>\n",
              "    <tr>\n",
              "      <th>4</th>\n",
              "      <td>[critical care, emergency medicine, general pr...</td>\n",
              "      <td>0.0</td>\n",
              "    </tr>\n",
              "    <tr>\n",
              "      <th>...</th>\n",
              "      <td>...</td>\n",
              "      <td>...</td>\n",
              "    </tr>\n",
              "    <tr>\n",
              "      <th>113925</th>\n",
              "      <td>[cardiovascular, clinical, false, male, oncolo...</td>\n",
              "      <td>1.0</td>\n",
              "    </tr>\n",
              "    <tr>\n",
              "      <th>113926</th>\n",
              "      <td>[asthma, arthritis, general, clinical, diagnos...</td>\n",
              "      <td>1.0</td>\n",
              "    </tr>\n",
              "    <tr>\n",
              "      <th>113927</th>\n",
              "      <td>[rehabilitation, transplantation, clinical, pr...</td>\n",
              "      <td>1.0</td>\n",
              "    </tr>\n",
              "    <tr>\n",
              "      <th>113928</th>\n",
              "      <td>[pain, disease, autoimmune, multiple sclerosis...</td>\n",
              "      <td>1.0</td>\n",
              "    </tr>\n",
              "    <tr>\n",
              "      <th>113929</th>\n",
              "      <td>[genetic, large, autoimmune, health, false, ab...</td>\n",
              "      <td>1.0</td>\n",
              "    </tr>\n",
              "  </tbody>\n",
              "</table>\n",
              "<p>113930 rows × 2 columns</p>\n",
              "</div>\n",
              "      <button class=\"colab-df-convert\" onclick=\"convertToInteractive('df-8ce64225-0424-45b7-a1f6-bd61b710456e')\"\n",
              "              title=\"Convert this dataframe to an interactive table.\"\n",
              "              style=\"display:none;\">\n",
              "        \n",
              "  <svg xmlns=\"http://www.w3.org/2000/svg\" height=\"24px\"viewBox=\"0 0 24 24\"\n",
              "       width=\"24px\">\n",
              "    <path d=\"M0 0h24v24H0V0z\" fill=\"none\"/>\n",
              "    <path d=\"M18.56 5.44l.94 2.06.94-2.06 2.06-.94-2.06-.94-.94-2.06-.94 2.06-2.06.94zm-11 1L8.5 8.5l.94-2.06 2.06-.94-2.06-.94L8.5 2.5l-.94 2.06-2.06.94zm10 10l.94 2.06.94-2.06 2.06-.94-2.06-.94-.94-2.06-.94 2.06-2.06.94z\"/><path d=\"M17.41 7.96l-1.37-1.37c-.4-.4-.92-.59-1.43-.59-.52 0-1.04.2-1.43.59L10.3 9.45l-7.72 7.72c-.78.78-.78 2.05 0 2.83L4 21.41c.39.39.9.59 1.41.59.51 0 1.02-.2 1.41-.59l7.78-7.78 2.81-2.81c.8-.78.8-2.07 0-2.86zM5.41 20L4 18.59l7.72-7.72 1.47 1.35L5.41 20z\"/>\n",
              "  </svg>\n",
              "      </button>\n",
              "      \n",
              "  <style>\n",
              "    .colab-df-container {\n",
              "      display:flex;\n",
              "      flex-wrap:wrap;\n",
              "      gap: 12px;\n",
              "    }\n",
              "\n",
              "    .colab-df-convert {\n",
              "      background-color: #E8F0FE;\n",
              "      border: none;\n",
              "      border-radius: 50%;\n",
              "      cursor: pointer;\n",
              "      display: none;\n",
              "      fill: #1967D2;\n",
              "      height: 32px;\n",
              "      padding: 0 0 0 0;\n",
              "      width: 32px;\n",
              "    }\n",
              "\n",
              "    .colab-df-convert:hover {\n",
              "      background-color: #E2EBFA;\n",
              "      box-shadow: 0px 1px 2px rgba(60, 64, 67, 0.3), 0px 1px 3px 1px rgba(60, 64, 67, 0.15);\n",
              "      fill: #174EA6;\n",
              "    }\n",
              "\n",
              "    [theme=dark] .colab-df-convert {\n",
              "      background-color: #3B4455;\n",
              "      fill: #D2E3FC;\n",
              "    }\n",
              "\n",
              "    [theme=dark] .colab-df-convert:hover {\n",
              "      background-color: #434B5C;\n",
              "      box-shadow: 0px 1px 3px 1px rgba(0, 0, 0, 0.15);\n",
              "      filter: drop-shadow(0px 1px 2px rgba(0, 0, 0, 0.3));\n",
              "      fill: #FFFFFF;\n",
              "    }\n",
              "  </style>\n",
              "\n",
              "      <script>\n",
              "        const buttonEl =\n",
              "          document.querySelector('#df-8ce64225-0424-45b7-a1f6-bd61b710456e button.colab-df-convert');\n",
              "        buttonEl.style.display =\n",
              "          google.colab.kernel.accessAllowed ? 'block' : 'none';\n",
              "\n",
              "        async function convertToInteractive(key) {\n",
              "          const element = document.querySelector('#df-8ce64225-0424-45b7-a1f6-bd61b710456e');\n",
              "          const dataTable =\n",
              "            await google.colab.kernel.invokeFunction('convertToInteractive',\n",
              "                                                     [key], {});\n",
              "          if (!dataTable) return;\n",
              "\n",
              "          const docLinkHtml = 'Like what you see? Visit the ' +\n",
              "            '<a target=\"_blank\" href=https://colab.research.google.com/notebooks/data_table.ipynb>data table notebook</a>'\n",
              "            + ' to learn more about interactive tables.';\n",
              "          element.innerHTML = '';\n",
              "          dataTable['output_type'] = 'display_data';\n",
              "          await google.colab.output.renderOutput(dataTable, element);\n",
              "          const docLink = document.createElement('div');\n",
              "          docLink.innerHTML = docLinkHtml;\n",
              "          element.appendChild(docLink);\n",
              "        }\n",
              "      </script>\n",
              "    </div>\n",
              "  </div>\n",
              "  "
            ],
            "text/plain": [
              "                                                 KEYWORDS  IS_HCP\n",
              "0       [general, endocrine, false, medicine, surgery,...     0.0\n",
              "1       [bone marrow, radiography, chronic, oncology, ...     0.0\n",
              "2       [general, endocrine, false, medicine, surgery,...     0.0\n",
              "3       [dental, total, clinical, pharmacology, physic...     1.0\n",
              "4       [critical care, emergency medicine, general pr...     0.0\n",
              "...                                                   ...     ...\n",
              "113925  [cardiovascular, clinical, false, male, oncolo...     1.0\n",
              "113926  [asthma, arthritis, general, clinical, diagnos...     1.0\n",
              "113927  [rehabilitation, transplantation, clinical, pr...     1.0\n",
              "113928  [pain, disease, autoimmune, multiple sclerosis...     1.0\n",
              "113929  [genetic, large, autoimmune, health, false, ab...     1.0\n",
              "\n",
              "[113930 rows x 2 columns]"
            ]
          },
          "execution_count": 62,
          "metadata": {},
          "output_type": "execute_result"
        }
      ],
      "source": [
        "df[['KEYWORDS','IS_HCP']]"
      ]
    },
    {
      "cell_type": "code",
      "execution_count": 161,
      "metadata": {
        "id": "yHFMMc0TigXq"
      },
      "outputs": [],
      "source": [
        "snow_stem = df[['KEYWORDS','IS_HCP']].copy()\n",
        "port_stem = df[['KEYWORDS','IS_HCP']].copy()\n",
        "lanc_stem = df[['KEYWORDS','IS_HCP']].copy()"
      ]
    },
    {
      "cell_type": "code",
      "execution_count": 9,
      "metadata": {
        "id": "ZDz65fcXGnfy"
      },
      "outputs": [],
      "source": [
        "ss=df['KEYWORDS'].copy()"
      ]
    },
    {
      "cell_type": "code",
      "execution_count": 11,
      "metadata": {
        "colab": {
          "base_uri": "https://localhost:8080/"
        },
        "id": "CB1-vvaeGsbK",
        "outputId": "baaa6a54-dc4d-4851-9dff-b7b073770cad"
      },
      "outputs": [
        {
          "data": {
            "text/plain": [
              "0         General|Endocrine|False|Medicine|Surgery|Urolo...\n",
              "1         Bone Marrow|Radiography|Chronic|Oncology|Psych...\n",
              "2         General|Endocrine|False|Medicine|Surgery|Urolo...\n",
              "3         Dental|Total|Clinical|Pharmacology|Physicians|...\n",
              "4         Critical Care|Emergency Medicine|General Pract...\n",
              "                                ...                        \n",
              "113932    Cardiovascular|Clinical|False|Male|Oncology|Ps...\n",
              "113933    Asthma|Arthritis|General|Clinical|Diagnosis|Rh...\n",
              "113934    Rehabilitation|Transplantation|Clinical|Preven...\n",
              "113935    pain|disease|autoimmune|multiple sclerosis|gra...\n",
              "113936    Genetic|Large|Autoimmune|Health|False|Abortion...\n",
              "Name: KEYWORDS, Length: 113937, dtype: object"
            ]
          },
          "execution_count": 11,
          "metadata": {},
          "output_type": "execute_result"
        }
      ],
      "source": [
        "ss"
      ]
    },
    {
      "cell_type": "code",
      "execution_count": 68,
      "metadata": {
        "id": "3huKVLUS8z51"
      },
      "outputs": [],
      "source": [
        "snow_stem = X_train.copy()\n",
        "port_stem = X_train.copy()\n",
        "lanc_stem = X_train.copy()"
      ]
    },
    {
      "cell_type": "code",
      "execution_count": 80,
      "metadata": {
        "colab": {
          "base_uri": "https://localhost:8080/",
          "height": 423
        },
        "id": "m7eRr-8UJ7Uz",
        "outputId": "0a60c333-6f3b-46a3-d0aa-6ccfb1c9240c"
      },
      "outputs": [
        {
          "data": {
            "text/html": [
              "\n",
              "  <div id=\"df-6aa8b798-bc83-46a9-abb3-414ec732ad0e\">\n",
              "    <div class=\"colab-df-container\">\n",
              "      <div>\n",
              "<style scoped>\n",
              "    .dataframe tbody tr th:only-of-type {\n",
              "        vertical-align: middle;\n",
              "    }\n",
              "\n",
              "    .dataframe tbody tr th {\n",
              "        vertical-align: top;\n",
              "    }\n",
              "\n",
              "    .dataframe thead th {\n",
              "        text-align: right;\n",
              "    }\n",
              "</style>\n",
              "<table border=\"1\" class=\"dataframe\">\n",
              "  <thead>\n",
              "    <tr style=\"text-align: right;\">\n",
              "      <th></th>\n",
              "      <th>level_0</th>\n",
              "      <th>index</th>\n",
              "      <th>KEYWORDS</th>\n",
              "    </tr>\n",
              "  </thead>\n",
              "  <tbody>\n",
              "    <tr>\n",
              "      <th>0</th>\n",
              "      <td>0</td>\n",
              "      <td>17088</td>\n",
              "      <td>[asthma, psychiatry, medicine, clinical, pedia...</td>\n",
              "    </tr>\n",
              "    <tr>\n",
              "      <th>1</th>\n",
              "      <td>1</td>\n",
              "      <td>29389</td>\n",
              "      <td>[catheterization, atherectomy, transplantation...</td>\n",
              "    </tr>\n",
              "    <tr>\n",
              "      <th>2</th>\n",
              "      <td>2</td>\n",
              "      <td>30708</td>\n",
              "      <td>[jejunum, skeleton, angiotensin, intravenous, ...</td>\n",
              "    </tr>\n",
              "    <tr>\n",
              "      <th>3</th>\n",
              "      <td>3</td>\n",
              "      <td>26493</td>\n",
              "      <td>[asthma, female, rheumatoid, pathology, neurol...</td>\n",
              "    </tr>\n",
              "    <tr>\n",
              "      <th>4</th>\n",
              "      <td>4</td>\n",
              "      <td>105852</td>\n",
              "      <td>[pharmacology, liver dysfunction, elderly, liv...</td>\n",
              "    </tr>\n",
              "    <tr>\n",
              "      <th>...</th>\n",
              "      <td>...</td>\n",
              "      <td>...</td>\n",
              "      <td>...</td>\n",
              "    </tr>\n",
              "    <tr>\n",
              "      <th>91139</th>\n",
              "      <td>91139</td>\n",
              "      <td>76820</td>\n",
              "      <td>[macrophages, large, respiratory tract, psychi...</td>\n",
              "    </tr>\n",
              "    <tr>\n",
              "      <th>91140</th>\n",
              "      <td>91140</td>\n",
              "      <td>110268</td>\n",
              "      <td>[erythema, hypersensitivity, arthritis, clinic...</td>\n",
              "    </tr>\n",
              "    <tr>\n",
              "      <th>91141</th>\n",
              "      <td>91141</td>\n",
              "      <td>103694</td>\n",
              "      <td>[headache, multiple sclerosis, rheumatology, p...</td>\n",
              "    </tr>\n",
              "    <tr>\n",
              "      <th>91142</th>\n",
              "      <td>91142</td>\n",
              "      <td>860</td>\n",
              "      <td>[cardiovascular, clinical, rheumatology, trans...</td>\n",
              "    </tr>\n",
              "    <tr>\n",
              "      <th>91143</th>\n",
              "      <td>91143</td>\n",
              "      <td>15795</td>\n",
              "      <td>[health, medicine, chronic, total, cardiology,...</td>\n",
              "    </tr>\n",
              "  </tbody>\n",
              "</table>\n",
              "<p>91144 rows × 3 columns</p>\n",
              "</div>\n",
              "      <button class=\"colab-df-convert\" onclick=\"convertToInteractive('df-6aa8b798-bc83-46a9-abb3-414ec732ad0e')\"\n",
              "              title=\"Convert this dataframe to an interactive table.\"\n",
              "              style=\"display:none;\">\n",
              "        \n",
              "  <svg xmlns=\"http://www.w3.org/2000/svg\" height=\"24px\"viewBox=\"0 0 24 24\"\n",
              "       width=\"24px\">\n",
              "    <path d=\"M0 0h24v24H0V0z\" fill=\"none\"/>\n",
              "    <path d=\"M18.56 5.44l.94 2.06.94-2.06 2.06-.94-2.06-.94-.94-2.06-.94 2.06-2.06.94zm-11 1L8.5 8.5l.94-2.06 2.06-.94-2.06-.94L8.5 2.5l-.94 2.06-2.06.94zm10 10l.94 2.06.94-2.06 2.06-.94-2.06-.94-.94-2.06-.94 2.06-2.06.94z\"/><path d=\"M17.41 7.96l-1.37-1.37c-.4-.4-.92-.59-1.43-.59-.52 0-1.04.2-1.43.59L10.3 9.45l-7.72 7.72c-.78.78-.78 2.05 0 2.83L4 21.41c.39.39.9.59 1.41.59.51 0 1.02-.2 1.41-.59l7.78-7.78 2.81-2.81c.8-.78.8-2.07 0-2.86zM5.41 20L4 18.59l7.72-7.72 1.47 1.35L5.41 20z\"/>\n",
              "  </svg>\n",
              "      </button>\n",
              "      \n",
              "  <style>\n",
              "    .colab-df-container {\n",
              "      display:flex;\n",
              "      flex-wrap:wrap;\n",
              "      gap: 12px;\n",
              "    }\n",
              "\n",
              "    .colab-df-convert {\n",
              "      background-color: #E8F0FE;\n",
              "      border: none;\n",
              "      border-radius: 50%;\n",
              "      cursor: pointer;\n",
              "      display: none;\n",
              "      fill: #1967D2;\n",
              "      height: 32px;\n",
              "      padding: 0 0 0 0;\n",
              "      width: 32px;\n",
              "    }\n",
              "\n",
              "    .colab-df-convert:hover {\n",
              "      background-color: #E2EBFA;\n",
              "      box-shadow: 0px 1px 2px rgba(60, 64, 67, 0.3), 0px 1px 3px 1px rgba(60, 64, 67, 0.15);\n",
              "      fill: #174EA6;\n",
              "    }\n",
              "\n",
              "    [theme=dark] .colab-df-convert {\n",
              "      background-color: #3B4455;\n",
              "      fill: #D2E3FC;\n",
              "    }\n",
              "\n",
              "    [theme=dark] .colab-df-convert:hover {\n",
              "      background-color: #434B5C;\n",
              "      box-shadow: 0px 1px 3px 1px rgba(0, 0, 0, 0.15);\n",
              "      filter: drop-shadow(0px 1px 2px rgba(0, 0, 0, 0.3));\n",
              "      fill: #FFFFFF;\n",
              "    }\n",
              "  </style>\n",
              "\n",
              "      <script>\n",
              "        const buttonEl =\n",
              "          document.querySelector('#df-6aa8b798-bc83-46a9-abb3-414ec732ad0e button.colab-df-convert');\n",
              "        buttonEl.style.display =\n",
              "          google.colab.kernel.accessAllowed ? 'block' : 'none';\n",
              "\n",
              "        async function convertToInteractive(key) {\n",
              "          const element = document.querySelector('#df-6aa8b798-bc83-46a9-abb3-414ec732ad0e');\n",
              "          const dataTable =\n",
              "            await google.colab.kernel.invokeFunction('convertToInteractive',\n",
              "                                                     [key], {});\n",
              "          if (!dataTable) return;\n",
              "\n",
              "          const docLinkHtml = 'Like what you see? Visit the ' +\n",
              "            '<a target=\"_blank\" href=https://colab.research.google.com/notebooks/data_table.ipynb>data table notebook</a>'\n",
              "            + ' to learn more about interactive tables.';\n",
              "          element.innerHTML = '';\n",
              "          dataTable['output_type'] = 'display_data';\n",
              "          await google.colab.output.renderOutput(dataTable, element);\n",
              "          const docLink = document.createElement('div');\n",
              "          docLink.innerHTML = docLinkHtml;\n",
              "          element.appendChild(docLink);\n",
              "        }\n",
              "      </script>\n",
              "    </div>\n",
              "  </div>\n",
              "  "
            ],
            "text/plain": [
              "       level_0   index                                           KEYWORDS\n",
              "0            0   17088  [asthma, psychiatry, medicine, clinical, pedia...\n",
              "1            1   29389  [catheterization, atherectomy, transplantation...\n",
              "2            2   30708  [jejunum, skeleton, angiotensin, intravenous, ...\n",
              "3            3   26493  [asthma, female, rheumatoid, pathology, neurol...\n",
              "4            4  105852  [pharmacology, liver dysfunction, elderly, liv...\n",
              "...        ...     ...                                                ...\n",
              "91139    91139   76820  [macrophages, large, respiratory tract, psychi...\n",
              "91140    91140  110268  [erythema, hypersensitivity, arthritis, clinic...\n",
              "91141    91141  103694  [headache, multiple sclerosis, rheumatology, p...\n",
              "91142    91142     860  [cardiovascular, clinical, rheumatology, trans...\n",
              "91143    91143   15795  [health, medicine, chronic, total, cardiology,...\n",
              "\n",
              "[91144 rows x 3 columns]"
            ]
          },
          "execution_count": 80,
          "metadata": {},
          "output_type": "execute_result"
        }
      ],
      "source": [
        "snow_stem"
      ]
    },
    {
      "cell_type": "code",
      "execution_count": 79,
      "metadata": {
        "id": "YfZv0sulKK9r"
      },
      "outputs": [],
      "source": [
        "snow_stem=snow_stem.reset_index()"
      ]
    },
    {
      "cell_type": "code",
      "execution_count": 83,
      "metadata": {
        "id": "wDlUdWv-LOT8"
      },
      "outputs": [],
      "source": [
        "snow_stemt = X_test.copy()\n",
        "port_stemt = X_test.copy()\n",
        "lanc_stemt = X_test.copy()\n",
        "snow_stemt=snow_stemt.reset_index()"
      ]
    },
    {
      "cell_type": "code",
      "execution_count": 84,
      "metadata": {
        "colab": {
          "base_uri": "https://localhost:8080/",
          "height": 423
        },
        "id": "8MlE9_lsLax8",
        "outputId": "d87ce0e7-d6a7-4801-f1d1-7fdc0ecb9de3"
      },
      "outputs": [
        {
          "data": {
            "text/html": [
              "\n",
              "  <div id=\"df-a403a439-7361-4675-bb64-0a4fda982af3\">\n",
              "    <div class=\"colab-df-container\">\n",
              "      <div>\n",
              "<style scoped>\n",
              "    .dataframe tbody tr th:only-of-type {\n",
              "        vertical-align: middle;\n",
              "    }\n",
              "\n",
              "    .dataframe tbody tr th {\n",
              "        vertical-align: top;\n",
              "    }\n",
              "\n",
              "    .dataframe thead th {\n",
              "        text-align: right;\n",
              "    }\n",
              "</style>\n",
              "<table border=\"1\" class=\"dataframe\">\n",
              "  <thead>\n",
              "    <tr style=\"text-align: right;\">\n",
              "      <th></th>\n",
              "      <th>index</th>\n",
              "      <th>KEYWORDS</th>\n",
              "    </tr>\n",
              "  </thead>\n",
              "  <tbody>\n",
              "    <tr>\n",
              "      <th>0</th>\n",
              "      <td>8682</td>\n",
              "      <td>[urology, cardiology, epidural, chronic, deliv...</td>\n",
              "    </tr>\n",
              "    <tr>\n",
              "      <th>1</th>\n",
              "      <td>70611</td>\n",
              "      <td>[asthma, female, rheumatoid, pathology, neurol...</td>\n",
              "    </tr>\n",
              "    <tr>\n",
              "      <th>2</th>\n",
              "      <td>2662</td>\n",
              "      <td>[transplantation, technology, chronic, neoplas...</td>\n",
              "    </tr>\n",
              "    <tr>\n",
              "      <th>3</th>\n",
              "      <td>39134</td>\n",
              "      <td>[rheumatology, psychiatry, lupus, rheumatoid, ...</td>\n",
              "    </tr>\n",
              "    <tr>\n",
              "      <th>4</th>\n",
              "      <td>70595</td>\n",
              "      <td>[atrial fibrillation, health, rehabilitation, ...</td>\n",
              "    </tr>\n",
              "    <tr>\n",
              "      <th>...</th>\n",
              "      <td>...</td>\n",
              "      <td>...</td>\n",
              "    </tr>\n",
              "    <tr>\n",
              "      <th>22781</th>\n",
              "      <td>112649</td>\n",
              "      <td>[medicine, tuberculosis, false, oncology, psyc...</td>\n",
              "    </tr>\n",
              "    <tr>\n",
              "      <th>22782</th>\n",
              "      <td>52918</td>\n",
              "      <td>[myopathies, small, rheumatoid, psychiatry, ur...</td>\n",
              "    </tr>\n",
              "    <tr>\n",
              "      <th>22783</th>\n",
              "      <td>12339</td>\n",
              "      <td>[small, hospitals, emergency medicine, advance...</td>\n",
              "    </tr>\n",
              "    <tr>\n",
              "      <th>22784</th>\n",
              "      <td>85557</td>\n",
              "      <td>[transplantation, technology, chronic, neoplas...</td>\n",
              "    </tr>\n",
              "    <tr>\n",
              "      <th>22785</th>\n",
              "      <td>108858</td>\n",
              "      <td>[family practice, drainage, clinical, dermatol...</td>\n",
              "    </tr>\n",
              "  </tbody>\n",
              "</table>\n",
              "<p>22786 rows × 2 columns</p>\n",
              "</div>\n",
              "      <button class=\"colab-df-convert\" onclick=\"convertToInteractive('df-a403a439-7361-4675-bb64-0a4fda982af3')\"\n",
              "              title=\"Convert this dataframe to an interactive table.\"\n",
              "              style=\"display:none;\">\n",
              "        \n",
              "  <svg xmlns=\"http://www.w3.org/2000/svg\" height=\"24px\"viewBox=\"0 0 24 24\"\n",
              "       width=\"24px\">\n",
              "    <path d=\"M0 0h24v24H0V0z\" fill=\"none\"/>\n",
              "    <path d=\"M18.56 5.44l.94 2.06.94-2.06 2.06-.94-2.06-.94-.94-2.06-.94 2.06-2.06.94zm-11 1L8.5 8.5l.94-2.06 2.06-.94-2.06-.94L8.5 2.5l-.94 2.06-2.06.94zm10 10l.94 2.06.94-2.06 2.06-.94-2.06-.94-.94-2.06-.94 2.06-2.06.94z\"/><path d=\"M17.41 7.96l-1.37-1.37c-.4-.4-.92-.59-1.43-.59-.52 0-1.04.2-1.43.59L10.3 9.45l-7.72 7.72c-.78.78-.78 2.05 0 2.83L4 21.41c.39.39.9.59 1.41.59.51 0 1.02-.2 1.41-.59l7.78-7.78 2.81-2.81c.8-.78.8-2.07 0-2.86zM5.41 20L4 18.59l7.72-7.72 1.47 1.35L5.41 20z\"/>\n",
              "  </svg>\n",
              "      </button>\n",
              "      \n",
              "  <style>\n",
              "    .colab-df-container {\n",
              "      display:flex;\n",
              "      flex-wrap:wrap;\n",
              "      gap: 12px;\n",
              "    }\n",
              "\n",
              "    .colab-df-convert {\n",
              "      background-color: #E8F0FE;\n",
              "      border: none;\n",
              "      border-radius: 50%;\n",
              "      cursor: pointer;\n",
              "      display: none;\n",
              "      fill: #1967D2;\n",
              "      height: 32px;\n",
              "      padding: 0 0 0 0;\n",
              "      width: 32px;\n",
              "    }\n",
              "\n",
              "    .colab-df-convert:hover {\n",
              "      background-color: #E2EBFA;\n",
              "      box-shadow: 0px 1px 2px rgba(60, 64, 67, 0.3), 0px 1px 3px 1px rgba(60, 64, 67, 0.15);\n",
              "      fill: #174EA6;\n",
              "    }\n",
              "\n",
              "    [theme=dark] .colab-df-convert {\n",
              "      background-color: #3B4455;\n",
              "      fill: #D2E3FC;\n",
              "    }\n",
              "\n",
              "    [theme=dark] .colab-df-convert:hover {\n",
              "      background-color: #434B5C;\n",
              "      box-shadow: 0px 1px 3px 1px rgba(0, 0, 0, 0.15);\n",
              "      filter: drop-shadow(0px 1px 2px rgba(0, 0, 0, 0.3));\n",
              "      fill: #FFFFFF;\n",
              "    }\n",
              "  </style>\n",
              "\n",
              "      <script>\n",
              "        const buttonEl =\n",
              "          document.querySelector('#df-a403a439-7361-4675-bb64-0a4fda982af3 button.colab-df-convert');\n",
              "        buttonEl.style.display =\n",
              "          google.colab.kernel.accessAllowed ? 'block' : 'none';\n",
              "\n",
              "        async function convertToInteractive(key) {\n",
              "          const element = document.querySelector('#df-a403a439-7361-4675-bb64-0a4fda982af3');\n",
              "          const dataTable =\n",
              "            await google.colab.kernel.invokeFunction('convertToInteractive',\n",
              "                                                     [key], {});\n",
              "          if (!dataTable) return;\n",
              "\n",
              "          const docLinkHtml = 'Like what you see? Visit the ' +\n",
              "            '<a target=\"_blank\" href=https://colab.research.google.com/notebooks/data_table.ipynb>data table notebook</a>'\n",
              "            + ' to learn more about interactive tables.';\n",
              "          element.innerHTML = '';\n",
              "          dataTable['output_type'] = 'display_data';\n",
              "          await google.colab.output.renderOutput(dataTable, element);\n",
              "          const docLink = document.createElement('div');\n",
              "          docLink.innerHTML = docLinkHtml;\n",
              "          element.appendChild(docLink);\n",
              "        }\n",
              "      </script>\n",
              "    </div>\n",
              "  </div>\n",
              "  "
            ],
            "text/plain": [
              "        index                                           KEYWORDS\n",
              "0        8682  [urology, cardiology, epidural, chronic, deliv...\n",
              "1       70611  [asthma, female, rheumatoid, pathology, neurol...\n",
              "2        2662  [transplantation, technology, chronic, neoplas...\n",
              "3       39134  [rheumatology, psychiatry, lupus, rheumatoid, ...\n",
              "4       70595  [atrial fibrillation, health, rehabilitation, ...\n",
              "...       ...                                                ...\n",
              "22781  112649  [medicine, tuberculosis, false, oncology, psyc...\n",
              "22782   52918  [myopathies, small, rheumatoid, psychiatry, ur...\n",
              "22783   12339  [small, hospitals, emergency medicine, advance...\n",
              "22784   85557  [transplantation, technology, chronic, neoplas...\n",
              "22785  108858  [family practice, drainage, clinical, dermatol...\n",
              "\n",
              "[22786 rows x 2 columns]"
            ]
          },
          "execution_count": 84,
          "metadata": {},
          "output_type": "execute_result"
        }
      ],
      "source": [
        "snow_stemt"
      ]
    },
    {
      "cell_type": "code",
      "execution_count": 85,
      "metadata": {
        "colab": {
          "base_uri": "https://localhost:8080/",
          "height": 206
        },
        "id": "WTwTDOooLG7P",
        "outputId": "efe1d1c7-86f3-4396-f6e5-696cb41aa8fb"
      },
      "outputs": [
        {
          "data": {
            "text/html": [
              "\n",
              "  <div id=\"df-1d83e360-f9d5-4c42-b7ee-d7ec78697f87\">\n",
              "    <div class=\"colab-df-container\">\n",
              "      <div>\n",
              "<style scoped>\n",
              "    .dataframe tbody tr th:only-of-type {\n",
              "        vertical-align: middle;\n",
              "    }\n",
              "\n",
              "    .dataframe tbody tr th {\n",
              "        vertical-align: top;\n",
              "    }\n",
              "\n",
              "    .dataframe thead th {\n",
              "        text-align: right;\n",
              "    }\n",
              "</style>\n",
              "<table border=\"1\" class=\"dataframe\">\n",
              "  <thead>\n",
              "    <tr style=\"text-align: right;\">\n",
              "      <th></th>\n",
              "      <th>index</th>\n",
              "      <th>KEYWORDS</th>\n",
              "    </tr>\n",
              "  </thead>\n",
              "  <tbody>\n",
              "    <tr>\n",
              "      <th>0</th>\n",
              "      <td>8682</td>\n",
              "      <td>[urolog, cardiolog, epidur, chronic, deliveri,...</td>\n",
              "    </tr>\n",
              "    <tr>\n",
              "      <th>1</th>\n",
              "      <td>70611</td>\n",
              "      <td>[asthma, femal, rheumatoid, patholog, neurolog...</td>\n",
              "    </tr>\n",
              "    <tr>\n",
              "      <th>2</th>\n",
              "      <td>2662</td>\n",
              "      <td>[transplant, technolog, chronic, neoplasm, uro...</td>\n",
              "    </tr>\n",
              "    <tr>\n",
              "      <th>3</th>\n",
              "      <td>39134</td>\n",
              "      <td>[rheumatolog, psychiatri, lupus, rheumatoid, o...</td>\n",
              "    </tr>\n",
              "    <tr>\n",
              "      <th>4</th>\n",
              "      <td>70595</td>\n",
              "      <td>[atrial fibril, health, rehabilit, clinic, tra...</td>\n",
              "    </tr>\n",
              "  </tbody>\n",
              "</table>\n",
              "</div>\n",
              "      <button class=\"colab-df-convert\" onclick=\"convertToInteractive('df-1d83e360-f9d5-4c42-b7ee-d7ec78697f87')\"\n",
              "              title=\"Convert this dataframe to an interactive table.\"\n",
              "              style=\"display:none;\">\n",
              "        \n",
              "  <svg xmlns=\"http://www.w3.org/2000/svg\" height=\"24px\"viewBox=\"0 0 24 24\"\n",
              "       width=\"24px\">\n",
              "    <path d=\"M0 0h24v24H0V0z\" fill=\"none\"/>\n",
              "    <path d=\"M18.56 5.44l.94 2.06.94-2.06 2.06-.94-2.06-.94-.94-2.06-.94 2.06-2.06.94zm-11 1L8.5 8.5l.94-2.06 2.06-.94-2.06-.94L8.5 2.5l-.94 2.06-2.06.94zm10 10l.94 2.06.94-2.06 2.06-.94-2.06-.94-.94-2.06-.94 2.06-2.06.94z\"/><path d=\"M17.41 7.96l-1.37-1.37c-.4-.4-.92-.59-1.43-.59-.52 0-1.04.2-1.43.59L10.3 9.45l-7.72 7.72c-.78.78-.78 2.05 0 2.83L4 21.41c.39.39.9.59 1.41.59.51 0 1.02-.2 1.41-.59l7.78-7.78 2.81-2.81c.8-.78.8-2.07 0-2.86zM5.41 20L4 18.59l7.72-7.72 1.47 1.35L5.41 20z\"/>\n",
              "  </svg>\n",
              "      </button>\n",
              "      \n",
              "  <style>\n",
              "    .colab-df-container {\n",
              "      display:flex;\n",
              "      flex-wrap:wrap;\n",
              "      gap: 12px;\n",
              "    }\n",
              "\n",
              "    .colab-df-convert {\n",
              "      background-color: #E8F0FE;\n",
              "      border: none;\n",
              "      border-radius: 50%;\n",
              "      cursor: pointer;\n",
              "      display: none;\n",
              "      fill: #1967D2;\n",
              "      height: 32px;\n",
              "      padding: 0 0 0 0;\n",
              "      width: 32px;\n",
              "    }\n",
              "\n",
              "    .colab-df-convert:hover {\n",
              "      background-color: #E2EBFA;\n",
              "      box-shadow: 0px 1px 2px rgba(60, 64, 67, 0.3), 0px 1px 3px 1px rgba(60, 64, 67, 0.15);\n",
              "      fill: #174EA6;\n",
              "    }\n",
              "\n",
              "    [theme=dark] .colab-df-convert {\n",
              "      background-color: #3B4455;\n",
              "      fill: #D2E3FC;\n",
              "    }\n",
              "\n",
              "    [theme=dark] .colab-df-convert:hover {\n",
              "      background-color: #434B5C;\n",
              "      box-shadow: 0px 1px 3px 1px rgba(0, 0, 0, 0.15);\n",
              "      filter: drop-shadow(0px 1px 2px rgba(0, 0, 0, 0.3));\n",
              "      fill: #FFFFFF;\n",
              "    }\n",
              "  </style>\n",
              "\n",
              "      <script>\n",
              "        const buttonEl =\n",
              "          document.querySelector('#df-1d83e360-f9d5-4c42-b7ee-d7ec78697f87 button.colab-df-convert');\n",
              "        buttonEl.style.display =\n",
              "          google.colab.kernel.accessAllowed ? 'block' : 'none';\n",
              "\n",
              "        async function convertToInteractive(key) {\n",
              "          const element = document.querySelector('#df-1d83e360-f9d5-4c42-b7ee-d7ec78697f87');\n",
              "          const dataTable =\n",
              "            await google.colab.kernel.invokeFunction('convertToInteractive',\n",
              "                                                     [key], {});\n",
              "          if (!dataTable) return;\n",
              "\n",
              "          const docLinkHtml = 'Like what you see? Visit the ' +\n",
              "            '<a target=\"_blank\" href=https://colab.research.google.com/notebooks/data_table.ipynb>data table notebook</a>'\n",
              "            + ' to learn more about interactive tables.';\n",
              "          element.innerHTML = '';\n",
              "          dataTable['output_type'] = 'display_data';\n",
              "          await google.colab.output.renderOutput(dataTable, element);\n",
              "          const docLink = document.createElement('div');\n",
              "          docLink.innerHTML = docLinkHtml;\n",
              "          element.appendChild(docLink);\n",
              "        }\n",
              "      </script>\n",
              "    </div>\n",
              "  </div>\n",
              "  "
            ],
            "text/plain": [
              "   index                                           KEYWORDS\n",
              "0   8682  [urolog, cardiolog, epidur, chronic, deliveri,...\n",
              "1  70611  [asthma, femal, rheumatoid, patholog, neurolog...\n",
              "2   2662  [transplant, technolog, chronic, neoplasm, uro...\n",
              "3  39134  [rheumatolog, psychiatri, lupus, rheumatoid, o...\n",
              "4  70595  [atrial fibril, health, rehabilit, clinic, tra..."
            ]
          },
          "execution_count": 85,
          "metadata": {},
          "output_type": "execute_result"
        }
      ],
      "source": [
        "from nltk.stem import SnowballStemmer\n",
        "s_stem=SnowballStemmer(language='english')\n",
        "for i in range(len(snow_stemt)):\n",
        "    for j in range(len(snow_stemt['KEYWORDS'][i])):\n",
        "        snow_stemt['KEYWORDS'][i][j]=s_stem.stem(snow_stemt['KEYWORDS'][i][j])\n",
        "snow_stemt.head()"
      ]
    },
    {
      "cell_type": "code",
      "execution_count": 81,
      "metadata": {
        "colab": {
          "base_uri": "https://localhost:8080/",
          "height": 206
        },
        "id": "aBvoi-d-igXr",
        "outputId": "1cfd944c-7ecb-4fd0-f0f0-e613ee94cf5c"
      },
      "outputs": [
        {
          "data": {
            "text/html": [
              "\n",
              "  <div id=\"df-e281a6db-d278-4cc3-98f4-6d6db49d693a\">\n",
              "    <div class=\"colab-df-container\">\n",
              "      <div>\n",
              "<style scoped>\n",
              "    .dataframe tbody tr th:only-of-type {\n",
              "        vertical-align: middle;\n",
              "    }\n",
              "\n",
              "    .dataframe tbody tr th {\n",
              "        vertical-align: top;\n",
              "    }\n",
              "\n",
              "    .dataframe thead th {\n",
              "        text-align: right;\n",
              "    }\n",
              "</style>\n",
              "<table border=\"1\" class=\"dataframe\">\n",
              "  <thead>\n",
              "    <tr style=\"text-align: right;\">\n",
              "      <th></th>\n",
              "      <th>level_0</th>\n",
              "      <th>index</th>\n",
              "      <th>KEYWORDS</th>\n",
              "    </tr>\n",
              "  </thead>\n",
              "  <tbody>\n",
              "    <tr>\n",
              "      <th>0</th>\n",
              "      <td>0</td>\n",
              "      <td>17088</td>\n",
              "      <td>[asthma, psychiatri, medicin, clinic, pediatr,...</td>\n",
              "    </tr>\n",
              "    <tr>\n",
              "      <th>1</th>\n",
              "      <td>1</td>\n",
              "      <td>29389</td>\n",
              "      <td>[catheter, atherectomi, transplant, cardiac, p...</td>\n",
              "    </tr>\n",
              "    <tr>\n",
              "      <th>2</th>\n",
              "      <td>2</td>\n",
              "      <td>30708</td>\n",
              "      <td>[jejunum, skeleton, angiotensin, intraven, gen...</td>\n",
              "    </tr>\n",
              "    <tr>\n",
              "      <th>3</th>\n",
              "      <td>3</td>\n",
              "      <td>26493</td>\n",
              "      <td>[asthma, femal, rheumatoid, patholog, neurolog...</td>\n",
              "    </tr>\n",
              "    <tr>\n",
              "      <th>4</th>\n",
              "      <td>4</td>\n",
              "      <td>105852</td>\n",
              "      <td>[pharmacolog, liver dysfunct, elder, liver, cl...</td>\n",
              "    </tr>\n",
              "  </tbody>\n",
              "</table>\n",
              "</div>\n",
              "      <button class=\"colab-df-convert\" onclick=\"convertToInteractive('df-e281a6db-d278-4cc3-98f4-6d6db49d693a')\"\n",
              "              title=\"Convert this dataframe to an interactive table.\"\n",
              "              style=\"display:none;\">\n",
              "        \n",
              "  <svg xmlns=\"http://www.w3.org/2000/svg\" height=\"24px\"viewBox=\"0 0 24 24\"\n",
              "       width=\"24px\">\n",
              "    <path d=\"M0 0h24v24H0V0z\" fill=\"none\"/>\n",
              "    <path d=\"M18.56 5.44l.94 2.06.94-2.06 2.06-.94-2.06-.94-.94-2.06-.94 2.06-2.06.94zm-11 1L8.5 8.5l.94-2.06 2.06-.94-2.06-.94L8.5 2.5l-.94 2.06-2.06.94zm10 10l.94 2.06.94-2.06 2.06-.94-2.06-.94-.94-2.06-.94 2.06-2.06.94z\"/><path d=\"M17.41 7.96l-1.37-1.37c-.4-.4-.92-.59-1.43-.59-.52 0-1.04.2-1.43.59L10.3 9.45l-7.72 7.72c-.78.78-.78 2.05 0 2.83L4 21.41c.39.39.9.59 1.41.59.51 0 1.02-.2 1.41-.59l7.78-7.78 2.81-2.81c.8-.78.8-2.07 0-2.86zM5.41 20L4 18.59l7.72-7.72 1.47 1.35L5.41 20z\"/>\n",
              "  </svg>\n",
              "      </button>\n",
              "      \n",
              "  <style>\n",
              "    .colab-df-container {\n",
              "      display:flex;\n",
              "      flex-wrap:wrap;\n",
              "      gap: 12px;\n",
              "    }\n",
              "\n",
              "    .colab-df-convert {\n",
              "      background-color: #E8F0FE;\n",
              "      border: none;\n",
              "      border-radius: 50%;\n",
              "      cursor: pointer;\n",
              "      display: none;\n",
              "      fill: #1967D2;\n",
              "      height: 32px;\n",
              "      padding: 0 0 0 0;\n",
              "      width: 32px;\n",
              "    }\n",
              "\n",
              "    .colab-df-convert:hover {\n",
              "      background-color: #E2EBFA;\n",
              "      box-shadow: 0px 1px 2px rgba(60, 64, 67, 0.3), 0px 1px 3px 1px rgba(60, 64, 67, 0.15);\n",
              "      fill: #174EA6;\n",
              "    }\n",
              "\n",
              "    [theme=dark] .colab-df-convert {\n",
              "      background-color: #3B4455;\n",
              "      fill: #D2E3FC;\n",
              "    }\n",
              "\n",
              "    [theme=dark] .colab-df-convert:hover {\n",
              "      background-color: #434B5C;\n",
              "      box-shadow: 0px 1px 3px 1px rgba(0, 0, 0, 0.15);\n",
              "      filter: drop-shadow(0px 1px 2px rgba(0, 0, 0, 0.3));\n",
              "      fill: #FFFFFF;\n",
              "    }\n",
              "  </style>\n",
              "\n",
              "      <script>\n",
              "        const buttonEl =\n",
              "          document.querySelector('#df-e281a6db-d278-4cc3-98f4-6d6db49d693a button.colab-df-convert');\n",
              "        buttonEl.style.display =\n",
              "          google.colab.kernel.accessAllowed ? 'block' : 'none';\n",
              "\n",
              "        async function convertToInteractive(key) {\n",
              "          const element = document.querySelector('#df-e281a6db-d278-4cc3-98f4-6d6db49d693a');\n",
              "          const dataTable =\n",
              "            await google.colab.kernel.invokeFunction('convertToInteractive',\n",
              "                                                     [key], {});\n",
              "          if (!dataTable) return;\n",
              "\n",
              "          const docLinkHtml = 'Like what you see? Visit the ' +\n",
              "            '<a target=\"_blank\" href=https://colab.research.google.com/notebooks/data_table.ipynb>data table notebook</a>'\n",
              "            + ' to learn more about interactive tables.';\n",
              "          element.innerHTML = '';\n",
              "          dataTable['output_type'] = 'display_data';\n",
              "          await google.colab.output.renderOutput(dataTable, element);\n",
              "          const docLink = document.createElement('div');\n",
              "          docLink.innerHTML = docLinkHtml;\n",
              "          element.appendChild(docLink);\n",
              "        }\n",
              "      </script>\n",
              "    </div>\n",
              "  </div>\n",
              "  "
            ],
            "text/plain": [
              "   level_0   index                                           KEYWORDS\n",
              "0        0   17088  [asthma, psychiatri, medicin, clinic, pediatr,...\n",
              "1        1   29389  [catheter, atherectomi, transplant, cardiac, p...\n",
              "2        2   30708  [jejunum, skeleton, angiotensin, intraven, gen...\n",
              "3        3   26493  [asthma, femal, rheumatoid, patholog, neurolog...\n",
              "4        4  105852  [pharmacolog, liver dysfunct, elder, liver, cl..."
            ]
          },
          "execution_count": 81,
          "metadata": {},
          "output_type": "execute_result"
        }
      ],
      "source": [
        "from nltk.stem import SnowballStemmer\n",
        "s_stem=SnowballStemmer(language='english')\n",
        "for i in range(len(snow_stem)):\n",
        "    for j in range(len(snow_stem['KEYWORDS'][i])):\n",
        "        snow_stem['KEYWORDS'][i][j]=s_stem.stem(snow_stem['KEYWORDS'][i][j])\n",
        "snow_stem.head()"
      ]
    },
    {
      "cell_type": "code",
      "execution_count": 55,
      "metadata": {
        "colab": {
          "base_uri": "https://localhost:8080/",
          "height": 206
        },
        "id": "0wcBRXq-igXs",
        "outputId": "231505a6-f40c-4950-adb9-872816ed8213"
      },
      "outputs": [
        {
          "data": {
            "text/html": [
              "\n",
              "  <div id=\"df-1b660d38-4edb-403c-a64e-f86589496f6a\">\n",
              "    <div class=\"colab-df-container\">\n",
              "      <div>\n",
              "<style scoped>\n",
              "    .dataframe tbody tr th:only-of-type {\n",
              "        vertical-align: middle;\n",
              "    }\n",
              "\n",
              "    .dataframe tbody tr th {\n",
              "        vertical-align: top;\n",
              "    }\n",
              "\n",
              "    .dataframe thead th {\n",
              "        text-align: right;\n",
              "    }\n",
              "</style>\n",
              "<table border=\"1\" class=\"dataframe\">\n",
              "  <thead>\n",
              "    <tr style=\"text-align: right;\">\n",
              "      <th></th>\n",
              "      <th>KEYWORDS</th>\n",
              "      <th>IS_HCP</th>\n",
              "    </tr>\n",
              "  </thead>\n",
              "  <tbody>\n",
              "    <tr>\n",
              "      <th>0</th>\n",
              "      <td>[gen, endocrin, fal, medicin, surger, urolog, ...</td>\n",
              "      <td>0.0</td>\n",
              "    </tr>\n",
              "    <tr>\n",
              "      <th>1</th>\n",
              "      <td>[bone marrow, radiograph, chronic, oncolog, ps...</td>\n",
              "      <td>0.0</td>\n",
              "    </tr>\n",
              "    <tr>\n",
              "      <th>2</th>\n",
              "      <td>[gen, endocrin, fal, medicin, surger, urolog, ...</td>\n",
              "      <td>0.0</td>\n",
              "    </tr>\n",
              "    <tr>\n",
              "      <th>3</th>\n",
              "      <td>[dent, tot, clin, pharmacolog, phys, heal, dru...</td>\n",
              "      <td>1.0</td>\n",
              "    </tr>\n",
              "    <tr>\n",
              "      <th>4</th>\n",
              "      <td>[critical car, emergency medicin, general prac...</td>\n",
              "      <td>0.0</td>\n",
              "    </tr>\n",
              "  </tbody>\n",
              "</table>\n",
              "</div>\n",
              "      <button class=\"colab-df-convert\" onclick=\"convertToInteractive('df-1b660d38-4edb-403c-a64e-f86589496f6a')\"\n",
              "              title=\"Convert this dataframe to an interactive table.\"\n",
              "              style=\"display:none;\">\n",
              "        \n",
              "  <svg xmlns=\"http://www.w3.org/2000/svg\" height=\"24px\"viewBox=\"0 0 24 24\"\n",
              "       width=\"24px\">\n",
              "    <path d=\"M0 0h24v24H0V0z\" fill=\"none\"/>\n",
              "    <path d=\"M18.56 5.44l.94 2.06.94-2.06 2.06-.94-2.06-.94-.94-2.06-.94 2.06-2.06.94zm-11 1L8.5 8.5l.94-2.06 2.06-.94-2.06-.94L8.5 2.5l-.94 2.06-2.06.94zm10 10l.94 2.06.94-2.06 2.06-.94-2.06-.94-.94-2.06-.94 2.06-2.06.94z\"/><path d=\"M17.41 7.96l-1.37-1.37c-.4-.4-.92-.59-1.43-.59-.52 0-1.04.2-1.43.59L10.3 9.45l-7.72 7.72c-.78.78-.78 2.05 0 2.83L4 21.41c.39.39.9.59 1.41.59.51 0 1.02-.2 1.41-.59l7.78-7.78 2.81-2.81c.8-.78.8-2.07 0-2.86zM5.41 20L4 18.59l7.72-7.72 1.47 1.35L5.41 20z\"/>\n",
              "  </svg>\n",
              "      </button>\n",
              "      \n",
              "  <style>\n",
              "    .colab-df-container {\n",
              "      display:flex;\n",
              "      flex-wrap:wrap;\n",
              "      gap: 12px;\n",
              "    }\n",
              "\n",
              "    .colab-df-convert {\n",
              "      background-color: #E8F0FE;\n",
              "      border: none;\n",
              "      border-radius: 50%;\n",
              "      cursor: pointer;\n",
              "      display: none;\n",
              "      fill: #1967D2;\n",
              "      height: 32px;\n",
              "      padding: 0 0 0 0;\n",
              "      width: 32px;\n",
              "    }\n",
              "\n",
              "    .colab-df-convert:hover {\n",
              "      background-color: #E2EBFA;\n",
              "      box-shadow: 0px 1px 2px rgba(60, 64, 67, 0.3), 0px 1px 3px 1px rgba(60, 64, 67, 0.15);\n",
              "      fill: #174EA6;\n",
              "    }\n",
              "\n",
              "    [theme=dark] .colab-df-convert {\n",
              "      background-color: #3B4455;\n",
              "      fill: #D2E3FC;\n",
              "    }\n",
              "\n",
              "    [theme=dark] .colab-df-convert:hover {\n",
              "      background-color: #434B5C;\n",
              "      box-shadow: 0px 1px 3px 1px rgba(0, 0, 0, 0.15);\n",
              "      filter: drop-shadow(0px 1px 2px rgba(0, 0, 0, 0.3));\n",
              "      fill: #FFFFFF;\n",
              "    }\n",
              "  </style>\n",
              "\n",
              "      <script>\n",
              "        const buttonEl =\n",
              "          document.querySelector('#df-1b660d38-4edb-403c-a64e-f86589496f6a button.colab-df-convert');\n",
              "        buttonEl.style.display =\n",
              "          google.colab.kernel.accessAllowed ? 'block' : 'none';\n",
              "\n",
              "        async function convertToInteractive(key) {\n",
              "          const element = document.querySelector('#df-1b660d38-4edb-403c-a64e-f86589496f6a');\n",
              "          const dataTable =\n",
              "            await google.colab.kernel.invokeFunction('convertToInteractive',\n",
              "                                                     [key], {});\n",
              "          if (!dataTable) return;\n",
              "\n",
              "          const docLinkHtml = 'Like what you see? Visit the ' +\n",
              "            '<a target=\"_blank\" href=https://colab.research.google.com/notebooks/data_table.ipynb>data table notebook</a>'\n",
              "            + ' to learn more about interactive tables.';\n",
              "          element.innerHTML = '';\n",
              "          dataTable['output_type'] = 'display_data';\n",
              "          await google.colab.output.renderOutput(dataTable, element);\n",
              "          const docLink = document.createElement('div');\n",
              "          docLink.innerHTML = docLinkHtml;\n",
              "          element.appendChild(docLink);\n",
              "        }\n",
              "      </script>\n",
              "    </div>\n",
              "  </div>\n",
              "  "
            ],
            "text/plain": [
              "                                            KEYWORDS  IS_HCP\n",
              "0  [gen, endocrin, fal, medicin, surger, urolog, ...     0.0\n",
              "1  [bone marrow, radiograph, chronic, oncolog, ps...     0.0\n",
              "2  [gen, endocrin, fal, medicin, surger, urolog, ...     0.0\n",
              "3  [dent, tot, clin, pharmacolog, phys, heal, dru...     1.0\n",
              "4  [critical car, emergency medicin, general prac...     0.0"
            ]
          },
          "execution_count": 55,
          "metadata": {},
          "output_type": "execute_result"
        }
      ],
      "source": [
        "from nltk.stem import LancasterStemmer\n",
        "L_stem=LancasterStemmer()\n",
        "for i in range(len(lanc_stem)):\n",
        "    for j in range(len(lanc_stem['KEYWORDS'][i])):\n",
        "        lanc_stem['KEYWORDS'][i][j]=L_stem.stem(lanc_stem['KEYWORDS'][i][j])\n",
        "lanc_stem.head()"
      ]
    },
    {
      "cell_type": "code",
      "execution_count": 56,
      "metadata": {
        "colab": {
          "base_uri": "https://localhost:8080/",
          "height": 206
        },
        "id": "67qgmXsQigXs",
        "outputId": "5196cb2a-7743-4ec0-9fb6-803ebda5bd12"
      },
      "outputs": [
        {
          "data": {
            "text/html": [
              "\n",
              "  <div id=\"df-16b62683-3d56-4171-8c18-b5e5ce03c5c3\">\n",
              "    <div class=\"colab-df-container\">\n",
              "      <div>\n",
              "<style scoped>\n",
              "    .dataframe tbody tr th:only-of-type {\n",
              "        vertical-align: middle;\n",
              "    }\n",
              "\n",
              "    .dataframe tbody tr th {\n",
              "        vertical-align: top;\n",
              "    }\n",
              "\n",
              "    .dataframe thead th {\n",
              "        text-align: right;\n",
              "    }\n",
              "</style>\n",
              "<table border=\"1\" class=\"dataframe\">\n",
              "  <thead>\n",
              "    <tr style=\"text-align: right;\">\n",
              "      <th></th>\n",
              "      <th>KEYWORDS</th>\n",
              "      <th>IS_HCP</th>\n",
              "    </tr>\n",
              "  </thead>\n",
              "  <tbody>\n",
              "    <tr>\n",
              "      <th>0</th>\n",
              "      <td>[gen, endocrin, fal, medicin, surger, urolog, ...</td>\n",
              "      <td>0.0</td>\n",
              "    </tr>\n",
              "    <tr>\n",
              "      <th>1</th>\n",
              "      <td>[bone marrow, radiograph, chronic, oncolog, ps...</td>\n",
              "      <td>0.0</td>\n",
              "    </tr>\n",
              "    <tr>\n",
              "      <th>2</th>\n",
              "      <td>[gen, endocrin, fal, medicin, surger, urolog, ...</td>\n",
              "      <td>0.0</td>\n",
              "    </tr>\n",
              "    <tr>\n",
              "      <th>3</th>\n",
              "      <td>[dent, tot, clin, pharmacolog, phi, heal, drug...</td>\n",
              "      <td>1.0</td>\n",
              "    </tr>\n",
              "    <tr>\n",
              "      <th>4</th>\n",
              "      <td>[critical car, emergency medicin, general prac...</td>\n",
              "      <td>0.0</td>\n",
              "    </tr>\n",
              "  </tbody>\n",
              "</table>\n",
              "</div>\n",
              "      <button class=\"colab-df-convert\" onclick=\"convertToInteractive('df-16b62683-3d56-4171-8c18-b5e5ce03c5c3')\"\n",
              "              title=\"Convert this dataframe to an interactive table.\"\n",
              "              style=\"display:none;\">\n",
              "        \n",
              "  <svg xmlns=\"http://www.w3.org/2000/svg\" height=\"24px\"viewBox=\"0 0 24 24\"\n",
              "       width=\"24px\">\n",
              "    <path d=\"M0 0h24v24H0V0z\" fill=\"none\"/>\n",
              "    <path d=\"M18.56 5.44l.94 2.06.94-2.06 2.06-.94-2.06-.94-.94-2.06-.94 2.06-2.06.94zm-11 1L8.5 8.5l.94-2.06 2.06-.94-2.06-.94L8.5 2.5l-.94 2.06-2.06.94zm10 10l.94 2.06.94-2.06 2.06-.94-2.06-.94-.94-2.06-.94 2.06-2.06.94z\"/><path d=\"M17.41 7.96l-1.37-1.37c-.4-.4-.92-.59-1.43-.59-.52 0-1.04.2-1.43.59L10.3 9.45l-7.72 7.72c-.78.78-.78 2.05 0 2.83L4 21.41c.39.39.9.59 1.41.59.51 0 1.02-.2 1.41-.59l7.78-7.78 2.81-2.81c.8-.78.8-2.07 0-2.86zM5.41 20L4 18.59l7.72-7.72 1.47 1.35L5.41 20z\"/>\n",
              "  </svg>\n",
              "      </button>\n",
              "      \n",
              "  <style>\n",
              "    .colab-df-container {\n",
              "      display:flex;\n",
              "      flex-wrap:wrap;\n",
              "      gap: 12px;\n",
              "    }\n",
              "\n",
              "    .colab-df-convert {\n",
              "      background-color: #E8F0FE;\n",
              "      border: none;\n",
              "      border-radius: 50%;\n",
              "      cursor: pointer;\n",
              "      display: none;\n",
              "      fill: #1967D2;\n",
              "      height: 32px;\n",
              "      padding: 0 0 0 0;\n",
              "      width: 32px;\n",
              "    }\n",
              "\n",
              "    .colab-df-convert:hover {\n",
              "      background-color: #E2EBFA;\n",
              "      box-shadow: 0px 1px 2px rgba(60, 64, 67, 0.3), 0px 1px 3px 1px rgba(60, 64, 67, 0.15);\n",
              "      fill: #174EA6;\n",
              "    }\n",
              "\n",
              "    [theme=dark] .colab-df-convert {\n",
              "      background-color: #3B4455;\n",
              "      fill: #D2E3FC;\n",
              "    }\n",
              "\n",
              "    [theme=dark] .colab-df-convert:hover {\n",
              "      background-color: #434B5C;\n",
              "      box-shadow: 0px 1px 3px 1px rgba(0, 0, 0, 0.15);\n",
              "      filter: drop-shadow(0px 1px 2px rgba(0, 0, 0, 0.3));\n",
              "      fill: #FFFFFF;\n",
              "    }\n",
              "  </style>\n",
              "\n",
              "      <script>\n",
              "        const buttonEl =\n",
              "          document.querySelector('#df-16b62683-3d56-4171-8c18-b5e5ce03c5c3 button.colab-df-convert');\n",
              "        buttonEl.style.display =\n",
              "          google.colab.kernel.accessAllowed ? 'block' : 'none';\n",
              "\n",
              "        async function convertToInteractive(key) {\n",
              "          const element = document.querySelector('#df-16b62683-3d56-4171-8c18-b5e5ce03c5c3');\n",
              "          const dataTable =\n",
              "            await google.colab.kernel.invokeFunction('convertToInteractive',\n",
              "                                                     [key], {});\n",
              "          if (!dataTable) return;\n",
              "\n",
              "          const docLinkHtml = 'Like what you see? Visit the ' +\n",
              "            '<a target=\"_blank\" href=https://colab.research.google.com/notebooks/data_table.ipynb>data table notebook</a>'\n",
              "            + ' to learn more about interactive tables.';\n",
              "          element.innerHTML = '';\n",
              "          dataTable['output_type'] = 'display_data';\n",
              "          await google.colab.output.renderOutput(dataTable, element);\n",
              "          const docLink = document.createElement('div');\n",
              "          docLink.innerHTML = docLinkHtml;\n",
              "          element.appendChild(docLink);\n",
              "        }\n",
              "      </script>\n",
              "    </div>\n",
              "  </div>\n",
              "  "
            ],
            "text/plain": [
              "                                            KEYWORDS  IS_HCP\n",
              "0  [gen, endocrin, fal, medicin, surger, urolog, ...     0.0\n",
              "1  [bone marrow, radiograph, chronic, oncolog, ps...     0.0\n",
              "2  [gen, endocrin, fal, medicin, surger, urolog, ...     0.0\n",
              "3  [dent, tot, clin, pharmacolog, phi, heal, drug...     1.0\n",
              "4  [critical car, emergency medicin, general prac...     0.0"
            ]
          },
          "execution_count": 56,
          "metadata": {},
          "output_type": "execute_result"
        }
      ],
      "source": [
        "from nltk.stem import PorterStemmer\n",
        "p_stem=PorterStemmer()\n",
        "for i in range(len(port_stem)):\n",
        "    for j in range(len(port_stem['KEYWORDS'][i])):\n",
        "        port_stem['KEYWORDS'][i][j]=p_stem.stem(port_stem['KEYWORDS'][i][j])\n",
        "port_stem.head()"
      ]
    },
    {
      "cell_type": "code",
      "execution_count": 98,
      "metadata": {
        "colab": {
          "base_uri": "https://localhost:8080/"
        },
        "id": "VpsxC5rj645T",
        "outputId": "d7019567-68ee-49b6-dc3d-cf8b5040e496"
      },
      "outputs": [
        {
          "data": {
            "text/plain": [
              "(28492, 13)"
            ]
          },
          "execution_count": 98,
          "metadata": {},
          "output_type": "execute_result"
        }
      ],
      "source": [
        "df.shape"
      ]
    },
    {
      "cell_type": "code",
      "execution_count": 93,
      "metadata": {
        "id": "Ud6x6togigXs"
      },
      "outputs": [],
      "source": [
        "import sklearn"
      ]
    },
    {
      "cell_type": "code",
      "execution_count": 94,
      "metadata": {
        "id": "J9lDZn0JigXs"
      },
      "outputs": [],
      "source": [
        "from sklearn.feature_extraction.text import CountVectorizer\n",
        "from sklearn.feature_extraction.text import TfidfVectorizer"
      ]
    },
    {
      "cell_type": "code",
      "execution_count": 1,
      "metadata": {
        "id": "M6nGs3VzEwVc"
      },
      "outputs": [],
      "source": [
        "from sklearn.model_selection import train_test_split"
      ]
    },
    {
      "cell_type": "code",
      "execution_count": 67,
      "metadata": {
        "colab": {
          "base_uri": "https://localhost:8080/"
        },
        "id": "FkRGEMdyFQ84",
        "outputId": "589becf7-7c3f-4b73-8321-4c2b11509432"
      },
      "outputs": [
        {
          "data": {
            "text/plain": [
              "17088     [asthma, psychiatry, medicine, clinical, pedia...\n",
              "29389     [catheterization, atherectomy, transplantation...\n",
              "30708     [jejunum, skeleton, angiotensin, intravenous, ...\n",
              "26493     [asthma, female, rheumatoid, pathology, neurol...\n",
              "105852    [pharmacology, liver dysfunction, elderly, liv...\n",
              "                                ...                        \n",
              "76820     [macrophages, large, respiratory tract, psychi...\n",
              "110268    [erythema, hypersensitivity, arthritis, clinic...\n",
              "103694    [headache, multiple sclerosis, rheumatology, p...\n",
              "860       [cardiovascular, clinical, rheumatology, trans...\n",
              "15795     [health, medicine, chronic, total, cardiology,...\n",
              "Name: KEYWORDS, Length: 91144, dtype: object"
            ]
          },
          "execution_count": 67,
          "metadata": {},
          "output_type": "execute_result"
        }
      ],
      "source": [
        "X_train"
      ]
    },
    {
      "cell_type": "code",
      "execution_count": 66,
      "metadata": {
        "id": "RpySJt7PEz7C"
      },
      "outputs": [],
      "source": [
        "X_train, X_test, y_train, y_test = train_test_split(df['KEYWORDS'], df['IS_HCP'], test_size=0.2, random_state=42)"
      ]
    },
    {
      "cell_type": "code",
      "execution_count": 87,
      "metadata": {
        "colab": {
          "base_uri": "https://localhost:8080/",
          "height": 314
        },
        "id": "EOv9utr4Li5f",
        "outputId": "ec0da565-5bfb-4290-c349-d1bc83020eb9"
      },
      "outputs": [
        {
          "name": "stderr",
          "output_type": "stream",
          "text": [
            "<ipython-input-87-10d8058aee91>:3: SettingWithCopyWarning: \n",
            "A value is trying to be set on a copy of a slice from a DataFrame\n",
            "\n",
            "See the caveats in the documentation: https://pandas.pydata.org/pandas-docs/stable/user_guide/indexing.html#returning-a-view-versus-a-copy\n",
            "  snow_stemt['KEYWORDS'][i]=str(s1)\n"
          ]
        },
        {
          "data": {
            "text/html": [
              "\n",
              "  <div id=\"df-0132f946-97a5-40d1-a632-c9d0dbbf720a\">\n",
              "    <div class=\"colab-df-container\">\n",
              "      <div>\n",
              "<style scoped>\n",
              "    .dataframe tbody tr th:only-of-type {\n",
              "        vertical-align: middle;\n",
              "    }\n",
              "\n",
              "    .dataframe tbody tr th {\n",
              "        vertical-align: top;\n",
              "    }\n",
              "\n",
              "    .dataframe thead th {\n",
              "        text-align: right;\n",
              "    }\n",
              "</style>\n",
              "<table border=\"1\" class=\"dataframe\">\n",
              "  <thead>\n",
              "    <tr style=\"text-align: right;\">\n",
              "      <th></th>\n",
              "      <th>index</th>\n",
              "      <th>KEYWORDS</th>\n",
              "    </tr>\n",
              "  </thead>\n",
              "  <tbody>\n",
              "    <tr>\n",
              "      <th>0</th>\n",
              "      <td>8682</td>\n",
              "      <td>urolog cardiolog epidur chronic deliveri analg...</td>\n",
              "    </tr>\n",
              "    <tr>\n",
              "      <th>1</th>\n",
              "      <td>70611</td>\n",
              "      <td>asthma femal rheumatoid patholog neurolog pulm...</td>\n",
              "    </tr>\n",
              "    <tr>\n",
              "      <th>2</th>\n",
              "      <td>2662</td>\n",
              "      <td>transplant technolog chronic neoplasm urolog p...</td>\n",
              "    </tr>\n",
              "    <tr>\n",
              "      <th>3</th>\n",
              "      <td>39134</td>\n",
              "      <td>rheumatolog psychiatri lupus rheumatoid oncolo...</td>\n",
              "    </tr>\n",
              "    <tr>\n",
              "      <th>4</th>\n",
              "      <td>70595</td>\n",
              "      <td>atrial fibril health rehabilit clinic trauma g...</td>\n",
              "    </tr>\n",
              "  </tbody>\n",
              "</table>\n",
              "</div>\n",
              "      <button class=\"colab-df-convert\" onclick=\"convertToInteractive('df-0132f946-97a5-40d1-a632-c9d0dbbf720a')\"\n",
              "              title=\"Convert this dataframe to an interactive table.\"\n",
              "              style=\"display:none;\">\n",
              "        \n",
              "  <svg xmlns=\"http://www.w3.org/2000/svg\" height=\"24px\"viewBox=\"0 0 24 24\"\n",
              "       width=\"24px\">\n",
              "    <path d=\"M0 0h24v24H0V0z\" fill=\"none\"/>\n",
              "    <path d=\"M18.56 5.44l.94 2.06.94-2.06 2.06-.94-2.06-.94-.94-2.06-.94 2.06-2.06.94zm-11 1L8.5 8.5l.94-2.06 2.06-.94-2.06-.94L8.5 2.5l-.94 2.06-2.06.94zm10 10l.94 2.06.94-2.06 2.06-.94-2.06-.94-.94-2.06-.94 2.06-2.06.94z\"/><path d=\"M17.41 7.96l-1.37-1.37c-.4-.4-.92-.59-1.43-.59-.52 0-1.04.2-1.43.59L10.3 9.45l-7.72 7.72c-.78.78-.78 2.05 0 2.83L4 21.41c.39.39.9.59 1.41.59.51 0 1.02-.2 1.41-.59l7.78-7.78 2.81-2.81c.8-.78.8-2.07 0-2.86zM5.41 20L4 18.59l7.72-7.72 1.47 1.35L5.41 20z\"/>\n",
              "  </svg>\n",
              "      </button>\n",
              "      \n",
              "  <style>\n",
              "    .colab-df-container {\n",
              "      display:flex;\n",
              "      flex-wrap:wrap;\n",
              "      gap: 12px;\n",
              "    }\n",
              "\n",
              "    .colab-df-convert {\n",
              "      background-color: #E8F0FE;\n",
              "      border: none;\n",
              "      border-radius: 50%;\n",
              "      cursor: pointer;\n",
              "      display: none;\n",
              "      fill: #1967D2;\n",
              "      height: 32px;\n",
              "      padding: 0 0 0 0;\n",
              "      width: 32px;\n",
              "    }\n",
              "\n",
              "    .colab-df-convert:hover {\n",
              "      background-color: #E2EBFA;\n",
              "      box-shadow: 0px 1px 2px rgba(60, 64, 67, 0.3), 0px 1px 3px 1px rgba(60, 64, 67, 0.15);\n",
              "      fill: #174EA6;\n",
              "    }\n",
              "\n",
              "    [theme=dark] .colab-df-convert {\n",
              "      background-color: #3B4455;\n",
              "      fill: #D2E3FC;\n",
              "    }\n",
              "\n",
              "    [theme=dark] .colab-df-convert:hover {\n",
              "      background-color: #434B5C;\n",
              "      box-shadow: 0px 1px 3px 1px rgba(0, 0, 0, 0.15);\n",
              "      filter: drop-shadow(0px 1px 2px rgba(0, 0, 0, 0.3));\n",
              "      fill: #FFFFFF;\n",
              "    }\n",
              "  </style>\n",
              "\n",
              "      <script>\n",
              "        const buttonEl =\n",
              "          document.querySelector('#df-0132f946-97a5-40d1-a632-c9d0dbbf720a button.colab-df-convert');\n",
              "        buttonEl.style.display =\n",
              "          google.colab.kernel.accessAllowed ? 'block' : 'none';\n",
              "\n",
              "        async function convertToInteractive(key) {\n",
              "          const element = document.querySelector('#df-0132f946-97a5-40d1-a632-c9d0dbbf720a');\n",
              "          const dataTable =\n",
              "            await google.colab.kernel.invokeFunction('convertToInteractive',\n",
              "                                                     [key], {});\n",
              "          if (!dataTable) return;\n",
              "\n",
              "          const docLinkHtml = 'Like what you see? Visit the ' +\n",
              "            '<a target=\"_blank\" href=https://colab.research.google.com/notebooks/data_table.ipynb>data table notebook</a>'\n",
              "            + ' to learn more about interactive tables.';\n",
              "          element.innerHTML = '';\n",
              "          dataTable['output_type'] = 'display_data';\n",
              "          await google.colab.output.renderOutput(dataTable, element);\n",
              "          const docLink = document.createElement('div');\n",
              "          docLink.innerHTML = docLinkHtml;\n",
              "          element.appendChild(docLink);\n",
              "        }\n",
              "      </script>\n",
              "    </div>\n",
              "  </div>\n",
              "  "
            ],
            "text/plain": [
              "   index                                           KEYWORDS\n",
              "0   8682  urolog cardiolog epidur chronic deliveri analg...\n",
              "1  70611  asthma femal rheumatoid patholog neurolog pulm...\n",
              "2   2662  transplant technolog chronic neoplasm urolog p...\n",
              "3  39134  rheumatolog psychiatri lupus rheumatoid oncolo...\n",
              "4  70595  atrial fibril health rehabilit clinic trauma g..."
            ]
          },
          "execution_count": 87,
          "metadata": {},
          "output_type": "execute_result"
        }
      ],
      "source": [
        "for i in range(len(snow_stemt)):\n",
        "  s1=' '.join(snow_stemt['KEYWORDS'][i])\n",
        "  snow_stemt['KEYWORDS'][i]=str(s1)\n",
        "snow_stemt.head()"
      ]
    },
    {
      "cell_type": "code",
      "execution_count": 86,
      "metadata": {
        "colab": {
          "base_uri": "https://localhost:8080/",
          "height": 314
        },
        "id": "QFLS3hjGigXt",
        "outputId": "607e885c-dd7f-4ff7-d085-2653bb315209"
      },
      "outputs": [
        {
          "name": "stderr",
          "output_type": "stream",
          "text": [
            "<ipython-input-86-04c301530f2d>:3: SettingWithCopyWarning: \n",
            "A value is trying to be set on a copy of a slice from a DataFrame\n",
            "\n",
            "See the caveats in the documentation: https://pandas.pydata.org/pandas-docs/stable/user_guide/indexing.html#returning-a-view-versus-a-copy\n",
            "  snow_stem['KEYWORDS'][i]=str(s1)\n"
          ]
        },
        {
          "data": {
            "text/html": [
              "\n",
              "  <div id=\"df-bf9674bb-48e1-4cc3-947a-b38f5d5d1228\">\n",
              "    <div class=\"colab-df-container\">\n",
              "      <div>\n",
              "<style scoped>\n",
              "    .dataframe tbody tr th:only-of-type {\n",
              "        vertical-align: middle;\n",
              "    }\n",
              "\n",
              "    .dataframe tbody tr th {\n",
              "        vertical-align: top;\n",
              "    }\n",
              "\n",
              "    .dataframe thead th {\n",
              "        text-align: right;\n",
              "    }\n",
              "</style>\n",
              "<table border=\"1\" class=\"dataframe\">\n",
              "  <thead>\n",
              "    <tr style=\"text-align: right;\">\n",
              "      <th></th>\n",
              "      <th>level_0</th>\n",
              "      <th>index</th>\n",
              "      <th>KEYWORDS</th>\n",
              "    </tr>\n",
              "  </thead>\n",
              "  <tbody>\n",
              "    <tr>\n",
              "      <th>0</th>\n",
              "      <td>0</td>\n",
              "      <td>17088</td>\n",
              "      <td>asthma psychiatri medicin clinic pediatr gener...</td>\n",
              "    </tr>\n",
              "    <tr>\n",
              "      <th>1</th>\n",
              "      <td>1</td>\n",
              "      <td>29389</td>\n",
              "      <td>catheter atherectomi transplant cardiac psychi...</td>\n",
              "    </tr>\n",
              "    <tr>\n",
              "      <th>2</th>\n",
              "      <td>2</td>\n",
              "      <td>30708</td>\n",
              "      <td>jejunum skeleton angiotensin intraven genet sm...</td>\n",
              "    </tr>\n",
              "    <tr>\n",
              "      <th>3</th>\n",
              "      <td>3</td>\n",
              "      <td>26493</td>\n",
              "      <td>asthma femal rheumatoid patholog neurolog pulm...</td>\n",
              "    </tr>\n",
              "    <tr>\n",
              "      <th>4</th>\n",
              "      <td>4</td>\n",
              "      <td>105852</td>\n",
              "      <td>pharmacolog liver dysfunct elder liver clinic ...</td>\n",
              "    </tr>\n",
              "  </tbody>\n",
              "</table>\n",
              "</div>\n",
              "      <button class=\"colab-df-convert\" onclick=\"convertToInteractive('df-bf9674bb-48e1-4cc3-947a-b38f5d5d1228')\"\n",
              "              title=\"Convert this dataframe to an interactive table.\"\n",
              "              style=\"display:none;\">\n",
              "        \n",
              "  <svg xmlns=\"http://www.w3.org/2000/svg\" height=\"24px\"viewBox=\"0 0 24 24\"\n",
              "       width=\"24px\">\n",
              "    <path d=\"M0 0h24v24H0V0z\" fill=\"none\"/>\n",
              "    <path d=\"M18.56 5.44l.94 2.06.94-2.06 2.06-.94-2.06-.94-.94-2.06-.94 2.06-2.06.94zm-11 1L8.5 8.5l.94-2.06 2.06-.94-2.06-.94L8.5 2.5l-.94 2.06-2.06.94zm10 10l.94 2.06.94-2.06 2.06-.94-2.06-.94-.94-2.06-.94 2.06-2.06.94z\"/><path d=\"M17.41 7.96l-1.37-1.37c-.4-.4-.92-.59-1.43-.59-.52 0-1.04.2-1.43.59L10.3 9.45l-7.72 7.72c-.78.78-.78 2.05 0 2.83L4 21.41c.39.39.9.59 1.41.59.51 0 1.02-.2 1.41-.59l7.78-7.78 2.81-2.81c.8-.78.8-2.07 0-2.86zM5.41 20L4 18.59l7.72-7.72 1.47 1.35L5.41 20z\"/>\n",
              "  </svg>\n",
              "      </button>\n",
              "      \n",
              "  <style>\n",
              "    .colab-df-container {\n",
              "      display:flex;\n",
              "      flex-wrap:wrap;\n",
              "      gap: 12px;\n",
              "    }\n",
              "\n",
              "    .colab-df-convert {\n",
              "      background-color: #E8F0FE;\n",
              "      border: none;\n",
              "      border-radius: 50%;\n",
              "      cursor: pointer;\n",
              "      display: none;\n",
              "      fill: #1967D2;\n",
              "      height: 32px;\n",
              "      padding: 0 0 0 0;\n",
              "      width: 32px;\n",
              "    }\n",
              "\n",
              "    .colab-df-convert:hover {\n",
              "      background-color: #E2EBFA;\n",
              "      box-shadow: 0px 1px 2px rgba(60, 64, 67, 0.3), 0px 1px 3px 1px rgba(60, 64, 67, 0.15);\n",
              "      fill: #174EA6;\n",
              "    }\n",
              "\n",
              "    [theme=dark] .colab-df-convert {\n",
              "      background-color: #3B4455;\n",
              "      fill: #D2E3FC;\n",
              "    }\n",
              "\n",
              "    [theme=dark] .colab-df-convert:hover {\n",
              "      background-color: #434B5C;\n",
              "      box-shadow: 0px 1px 3px 1px rgba(0, 0, 0, 0.15);\n",
              "      filter: drop-shadow(0px 1px 2px rgba(0, 0, 0, 0.3));\n",
              "      fill: #FFFFFF;\n",
              "    }\n",
              "  </style>\n",
              "\n",
              "      <script>\n",
              "        const buttonEl =\n",
              "          document.querySelector('#df-bf9674bb-48e1-4cc3-947a-b38f5d5d1228 button.colab-df-convert');\n",
              "        buttonEl.style.display =\n",
              "          google.colab.kernel.accessAllowed ? 'block' : 'none';\n",
              "\n",
              "        async function convertToInteractive(key) {\n",
              "          const element = document.querySelector('#df-bf9674bb-48e1-4cc3-947a-b38f5d5d1228');\n",
              "          const dataTable =\n",
              "            await google.colab.kernel.invokeFunction('convertToInteractive',\n",
              "                                                     [key], {});\n",
              "          if (!dataTable) return;\n",
              "\n",
              "          const docLinkHtml = 'Like what you see? Visit the ' +\n",
              "            '<a target=\"_blank\" href=https://colab.research.google.com/notebooks/data_table.ipynb>data table notebook</a>'\n",
              "            + ' to learn more about interactive tables.';\n",
              "          element.innerHTML = '';\n",
              "          dataTable['output_type'] = 'display_data';\n",
              "          await google.colab.output.renderOutput(dataTable, element);\n",
              "          const docLink = document.createElement('div');\n",
              "          docLink.innerHTML = docLinkHtml;\n",
              "          element.appendChild(docLink);\n",
              "        }\n",
              "      </script>\n",
              "    </div>\n",
              "  </div>\n",
              "  "
            ],
            "text/plain": [
              "   level_0   index                                           KEYWORDS\n",
              "0        0   17088  asthma psychiatri medicin clinic pediatr gener...\n",
              "1        1   29389  catheter atherectomi transplant cardiac psychi...\n",
              "2        2   30708  jejunum skeleton angiotensin intraven genet sm...\n",
              "3        3   26493  asthma femal rheumatoid patholog neurolog pulm...\n",
              "4        4  105852  pharmacolog liver dysfunct elder liver clinic ..."
            ]
          },
          "execution_count": 86,
          "metadata": {},
          "output_type": "execute_result"
        }
      ],
      "source": [
        "for i in range(len(snow_stem)):\n",
        "  s1=' '.join(snow_stem['KEYWORDS'][i])\n",
        "  snow_stem['KEYWORDS'][i]=str(s1)\n",
        "snow_stem.head()"
      ]
    },
    {
      "cell_type": "code",
      "execution_count": 61,
      "metadata": {
        "colab": {
          "base_uri": "https://localhost:8080/",
          "height": 314
        },
        "id": "JeZti7x7igXt",
        "outputId": "3b0d6bd2-ae13-4961-ab1e-c6ddee17b6ec"
      },
      "outputs": [
        {
          "name": "stderr",
          "output_type": "stream",
          "text": [
            "<ipython-input-61-110b6cfecda7>:3: SettingWithCopyWarning: \n",
            "A value is trying to be set on a copy of a slice from a DataFrame\n",
            "\n",
            "See the caveats in the documentation: https://pandas.pydata.org/pandas-docs/stable/user_guide/indexing.html#returning-a-view-versus-a-copy\n",
            "  port_stem['KEYWORDS'][i]=str(s1)\n"
          ]
        },
        {
          "data": {
            "text/html": [
              "\n",
              "  <div id=\"df-e4773864-b81c-43be-b6bb-8c4ec4f1efad\">\n",
              "    <div class=\"colab-df-container\">\n",
              "      <div>\n",
              "<style scoped>\n",
              "    .dataframe tbody tr th:only-of-type {\n",
              "        vertical-align: middle;\n",
              "    }\n",
              "\n",
              "    .dataframe tbody tr th {\n",
              "        vertical-align: top;\n",
              "    }\n",
              "\n",
              "    .dataframe thead th {\n",
              "        text-align: right;\n",
              "    }\n",
              "</style>\n",
              "<table border=\"1\" class=\"dataframe\">\n",
              "  <thead>\n",
              "    <tr style=\"text-align: right;\">\n",
              "      <th></th>\n",
              "      <th>KEYWORDS</th>\n",
              "      <th>IS_HCP</th>\n",
              "    </tr>\n",
              "  </thead>\n",
              "  <tbody>\n",
              "    <tr>\n",
              "      <th>0</th>\n",
              "      <td>gen endocrin fal medicin surger urolog chronic...</td>\n",
              "      <td>0.0</td>\n",
              "    </tr>\n",
              "    <tr>\n",
              "      <th>1</th>\n",
              "      <td>bone marrow radiograph chronic oncolog psychia...</td>\n",
              "      <td>0.0</td>\n",
              "    </tr>\n",
              "    <tr>\n",
              "      <th>2</th>\n",
              "      <td>gen endocrin fal medicin surger urolog chronic...</td>\n",
              "      <td>0.0</td>\n",
              "    </tr>\n",
              "    <tr>\n",
              "      <th>3</th>\n",
              "      <td>dent tot clin pharmacolog phi heal drug therap...</td>\n",
              "      <td>1.0</td>\n",
              "    </tr>\n",
              "    <tr>\n",
              "      <th>4</th>\n",
              "      <td>critical car emergency medicin general pract a...</td>\n",
              "      <td>0.0</td>\n",
              "    </tr>\n",
              "  </tbody>\n",
              "</table>\n",
              "</div>\n",
              "      <button class=\"colab-df-convert\" onclick=\"convertToInteractive('df-e4773864-b81c-43be-b6bb-8c4ec4f1efad')\"\n",
              "              title=\"Convert this dataframe to an interactive table.\"\n",
              "              style=\"display:none;\">\n",
              "        \n",
              "  <svg xmlns=\"http://www.w3.org/2000/svg\" height=\"24px\"viewBox=\"0 0 24 24\"\n",
              "       width=\"24px\">\n",
              "    <path d=\"M0 0h24v24H0V0z\" fill=\"none\"/>\n",
              "    <path d=\"M18.56 5.44l.94 2.06.94-2.06 2.06-.94-2.06-.94-.94-2.06-.94 2.06-2.06.94zm-11 1L8.5 8.5l.94-2.06 2.06-.94-2.06-.94L8.5 2.5l-.94 2.06-2.06.94zm10 10l.94 2.06.94-2.06 2.06-.94-2.06-.94-.94-2.06-.94 2.06-2.06.94z\"/><path d=\"M17.41 7.96l-1.37-1.37c-.4-.4-.92-.59-1.43-.59-.52 0-1.04.2-1.43.59L10.3 9.45l-7.72 7.72c-.78.78-.78 2.05 0 2.83L4 21.41c.39.39.9.59 1.41.59.51 0 1.02-.2 1.41-.59l7.78-7.78 2.81-2.81c.8-.78.8-2.07 0-2.86zM5.41 20L4 18.59l7.72-7.72 1.47 1.35L5.41 20z\"/>\n",
              "  </svg>\n",
              "      </button>\n",
              "      \n",
              "  <style>\n",
              "    .colab-df-container {\n",
              "      display:flex;\n",
              "      flex-wrap:wrap;\n",
              "      gap: 12px;\n",
              "    }\n",
              "\n",
              "    .colab-df-convert {\n",
              "      background-color: #E8F0FE;\n",
              "      border: none;\n",
              "      border-radius: 50%;\n",
              "      cursor: pointer;\n",
              "      display: none;\n",
              "      fill: #1967D2;\n",
              "      height: 32px;\n",
              "      padding: 0 0 0 0;\n",
              "      width: 32px;\n",
              "    }\n",
              "\n",
              "    .colab-df-convert:hover {\n",
              "      background-color: #E2EBFA;\n",
              "      box-shadow: 0px 1px 2px rgba(60, 64, 67, 0.3), 0px 1px 3px 1px rgba(60, 64, 67, 0.15);\n",
              "      fill: #174EA6;\n",
              "    }\n",
              "\n",
              "    [theme=dark] .colab-df-convert {\n",
              "      background-color: #3B4455;\n",
              "      fill: #D2E3FC;\n",
              "    }\n",
              "\n",
              "    [theme=dark] .colab-df-convert:hover {\n",
              "      background-color: #434B5C;\n",
              "      box-shadow: 0px 1px 3px 1px rgba(0, 0, 0, 0.15);\n",
              "      filter: drop-shadow(0px 1px 2px rgba(0, 0, 0, 0.3));\n",
              "      fill: #FFFFFF;\n",
              "    }\n",
              "  </style>\n",
              "\n",
              "      <script>\n",
              "        const buttonEl =\n",
              "          document.querySelector('#df-e4773864-b81c-43be-b6bb-8c4ec4f1efad button.colab-df-convert');\n",
              "        buttonEl.style.display =\n",
              "          google.colab.kernel.accessAllowed ? 'block' : 'none';\n",
              "\n",
              "        async function convertToInteractive(key) {\n",
              "          const element = document.querySelector('#df-e4773864-b81c-43be-b6bb-8c4ec4f1efad');\n",
              "          const dataTable =\n",
              "            await google.colab.kernel.invokeFunction('convertToInteractive',\n",
              "                                                     [key], {});\n",
              "          if (!dataTable) return;\n",
              "\n",
              "          const docLinkHtml = 'Like what you see? Visit the ' +\n",
              "            '<a target=\"_blank\" href=https://colab.research.google.com/notebooks/data_table.ipynb>data table notebook</a>'\n",
              "            + ' to learn more about interactive tables.';\n",
              "          element.innerHTML = '';\n",
              "          dataTable['output_type'] = 'display_data';\n",
              "          await google.colab.output.renderOutput(dataTable, element);\n",
              "          const docLink = document.createElement('div');\n",
              "          docLink.innerHTML = docLinkHtml;\n",
              "          element.appendChild(docLink);\n",
              "        }\n",
              "      </script>\n",
              "    </div>\n",
              "  </div>\n",
              "  "
            ],
            "text/plain": [
              "                                            KEYWORDS  IS_HCP\n",
              "0  gen endocrin fal medicin surger urolog chronic...     0.0\n",
              "1  bone marrow radiograph chronic oncolog psychia...     0.0\n",
              "2  gen endocrin fal medicin surger urolog chronic...     0.0\n",
              "3  dent tot clin pharmacolog phi heal drug therap...     1.0\n",
              "4  critical car emergency medicin general pract a...     0.0"
            ]
          },
          "execution_count": 61,
          "metadata": {},
          "output_type": "execute_result"
        }
      ],
      "source": [
        "for i in range(len(port_stem)):\n",
        "  s1=' '.join(port_stem['KEYWORDS'][i])\n",
        "  port_stem['KEYWORDS'][i]=str(s1)\n",
        "port_stem.head()"
      ]
    },
    {
      "cell_type": "code",
      "execution_count": 62,
      "metadata": {
        "colab": {
          "base_uri": "https://localhost:8080/",
          "height": 314
        },
        "id": "m9OUt24VzSwo",
        "outputId": "7ce7e1ec-ad47-43b3-ef34-be56b1c01976"
      },
      "outputs": [
        {
          "name": "stderr",
          "output_type": "stream",
          "text": [
            "<ipython-input-62-3ec6325162da>:3: SettingWithCopyWarning: \n",
            "A value is trying to be set on a copy of a slice from a DataFrame\n",
            "\n",
            "See the caveats in the documentation: https://pandas.pydata.org/pandas-docs/stable/user_guide/indexing.html#returning-a-view-versus-a-copy\n",
            "  lanc_stem['KEYWORDS'][i]=str(s1)\n"
          ]
        },
        {
          "data": {
            "text/html": [
              "\n",
              "  <div id=\"df-61f85a4f-3af2-48cf-9554-811adae0d717\">\n",
              "    <div class=\"colab-df-container\">\n",
              "      <div>\n",
              "<style scoped>\n",
              "    .dataframe tbody tr th:only-of-type {\n",
              "        vertical-align: middle;\n",
              "    }\n",
              "\n",
              "    .dataframe tbody tr th {\n",
              "        vertical-align: top;\n",
              "    }\n",
              "\n",
              "    .dataframe thead th {\n",
              "        text-align: right;\n",
              "    }\n",
              "</style>\n",
              "<table border=\"1\" class=\"dataframe\">\n",
              "  <thead>\n",
              "    <tr style=\"text-align: right;\">\n",
              "      <th></th>\n",
              "      <th>KEYWORDS</th>\n",
              "      <th>IS_HCP</th>\n",
              "    </tr>\n",
              "  </thead>\n",
              "  <tbody>\n",
              "    <tr>\n",
              "      <th>0</th>\n",
              "      <td>gen endocrin fal medicin surger urolog chronic...</td>\n",
              "      <td>0.0</td>\n",
              "    </tr>\n",
              "    <tr>\n",
              "      <th>1</th>\n",
              "      <td>bone marrow radiograph chronic oncolog psychia...</td>\n",
              "      <td>0.0</td>\n",
              "    </tr>\n",
              "    <tr>\n",
              "      <th>2</th>\n",
              "      <td>gen endocrin fal medicin surger urolog chronic...</td>\n",
              "      <td>0.0</td>\n",
              "    </tr>\n",
              "    <tr>\n",
              "      <th>3</th>\n",
              "      <td>dent tot clin pharmacolog phi heal drug therap...</td>\n",
              "      <td>1.0</td>\n",
              "    </tr>\n",
              "    <tr>\n",
              "      <th>4</th>\n",
              "      <td>critical car emergency medicin general pract a...</td>\n",
              "      <td>0.0</td>\n",
              "    </tr>\n",
              "  </tbody>\n",
              "</table>\n",
              "</div>\n",
              "      <button class=\"colab-df-convert\" onclick=\"convertToInteractive('df-61f85a4f-3af2-48cf-9554-811adae0d717')\"\n",
              "              title=\"Convert this dataframe to an interactive table.\"\n",
              "              style=\"display:none;\">\n",
              "        \n",
              "  <svg xmlns=\"http://www.w3.org/2000/svg\" height=\"24px\"viewBox=\"0 0 24 24\"\n",
              "       width=\"24px\">\n",
              "    <path d=\"M0 0h24v24H0V0z\" fill=\"none\"/>\n",
              "    <path d=\"M18.56 5.44l.94 2.06.94-2.06 2.06-.94-2.06-.94-.94-2.06-.94 2.06-2.06.94zm-11 1L8.5 8.5l.94-2.06 2.06-.94-2.06-.94L8.5 2.5l-.94 2.06-2.06.94zm10 10l.94 2.06.94-2.06 2.06-.94-2.06-.94-.94-2.06-.94 2.06-2.06.94z\"/><path d=\"M17.41 7.96l-1.37-1.37c-.4-.4-.92-.59-1.43-.59-.52 0-1.04.2-1.43.59L10.3 9.45l-7.72 7.72c-.78.78-.78 2.05 0 2.83L4 21.41c.39.39.9.59 1.41.59.51 0 1.02-.2 1.41-.59l7.78-7.78 2.81-2.81c.8-.78.8-2.07 0-2.86zM5.41 20L4 18.59l7.72-7.72 1.47 1.35L5.41 20z\"/>\n",
              "  </svg>\n",
              "      </button>\n",
              "      \n",
              "  <style>\n",
              "    .colab-df-container {\n",
              "      display:flex;\n",
              "      flex-wrap:wrap;\n",
              "      gap: 12px;\n",
              "    }\n",
              "\n",
              "    .colab-df-convert {\n",
              "      background-color: #E8F0FE;\n",
              "      border: none;\n",
              "      border-radius: 50%;\n",
              "      cursor: pointer;\n",
              "      display: none;\n",
              "      fill: #1967D2;\n",
              "      height: 32px;\n",
              "      padding: 0 0 0 0;\n",
              "      width: 32px;\n",
              "    }\n",
              "\n",
              "    .colab-df-convert:hover {\n",
              "      background-color: #E2EBFA;\n",
              "      box-shadow: 0px 1px 2px rgba(60, 64, 67, 0.3), 0px 1px 3px 1px rgba(60, 64, 67, 0.15);\n",
              "      fill: #174EA6;\n",
              "    }\n",
              "\n",
              "    [theme=dark] .colab-df-convert {\n",
              "      background-color: #3B4455;\n",
              "      fill: #D2E3FC;\n",
              "    }\n",
              "\n",
              "    [theme=dark] .colab-df-convert:hover {\n",
              "      background-color: #434B5C;\n",
              "      box-shadow: 0px 1px 3px 1px rgba(0, 0, 0, 0.15);\n",
              "      filter: drop-shadow(0px 1px 2px rgba(0, 0, 0, 0.3));\n",
              "      fill: #FFFFFF;\n",
              "    }\n",
              "  </style>\n",
              "\n",
              "      <script>\n",
              "        const buttonEl =\n",
              "          document.querySelector('#df-61f85a4f-3af2-48cf-9554-811adae0d717 button.colab-df-convert');\n",
              "        buttonEl.style.display =\n",
              "          google.colab.kernel.accessAllowed ? 'block' : 'none';\n",
              "\n",
              "        async function convertToInteractive(key) {\n",
              "          const element = document.querySelector('#df-61f85a4f-3af2-48cf-9554-811adae0d717');\n",
              "          const dataTable =\n",
              "            await google.colab.kernel.invokeFunction('convertToInteractive',\n",
              "                                                     [key], {});\n",
              "          if (!dataTable) return;\n",
              "\n",
              "          const docLinkHtml = 'Like what you see? Visit the ' +\n",
              "            '<a target=\"_blank\" href=https://colab.research.google.com/notebooks/data_table.ipynb>data table notebook</a>'\n",
              "            + ' to learn more about interactive tables.';\n",
              "          element.innerHTML = '';\n",
              "          dataTable['output_type'] = 'display_data';\n",
              "          await google.colab.output.renderOutput(dataTable, element);\n",
              "          const docLink = document.createElement('div');\n",
              "          docLink.innerHTML = docLinkHtml;\n",
              "          element.appendChild(docLink);\n",
              "        }\n",
              "      </script>\n",
              "    </div>\n",
              "  </div>\n",
              "  "
            ],
            "text/plain": [
              "                                            KEYWORDS  IS_HCP\n",
              "0  gen endocrin fal medicin surger urolog chronic...     0.0\n",
              "1  bone marrow radiograph chronic oncolog psychia...     0.0\n",
              "2  gen endocrin fal medicin surger urolog chronic...     0.0\n",
              "3  dent tot clin pharmacolog phi heal drug therap...     1.0\n",
              "4  critical car emergency medicin general pract a...     0.0"
            ]
          },
          "execution_count": 62,
          "metadata": {},
          "output_type": "execute_result"
        }
      ],
      "source": [
        "for i in range(len(lanc_stem)):\n",
        "  s1=' '.join(lanc_stem['KEYWORDS'][i])\n",
        "  lanc_stem['KEYWORDS'][i]=str(s1)\n",
        "lanc_stem.head()"
      ]
    },
    {
      "cell_type": "code",
      "execution_count": 91,
      "metadata": {
        "colab": {
          "base_uri": "https://localhost:8080/",
          "height": 423
        },
        "id": "eg9kQZAtL9kY",
        "outputId": "5cf2b2e3-6ee5-4836-daaf-ccb1cab7897a"
      },
      "outputs": [
        {
          "data": {
            "text/html": [
              "\n",
              "  <div id=\"df-9e106c9d-2557-4292-ac48-103da23cf3e3\">\n",
              "    <div class=\"colab-df-container\">\n",
              "      <div>\n",
              "<style scoped>\n",
              "    .dataframe tbody tr th:only-of-type {\n",
              "        vertical-align: middle;\n",
              "    }\n",
              "\n",
              "    .dataframe tbody tr th {\n",
              "        vertical-align: top;\n",
              "    }\n",
              "\n",
              "    .dataframe thead th {\n",
              "        text-align: right;\n",
              "    }\n",
              "</style>\n",
              "<table border=\"1\" class=\"dataframe\">\n",
              "  <thead>\n",
              "    <tr style=\"text-align: right;\">\n",
              "      <th></th>\n",
              "      <th>index</th>\n",
              "      <th>IS_HCP</th>\n",
              "    </tr>\n",
              "  </thead>\n",
              "  <tbody>\n",
              "    <tr>\n",
              "      <th>0</th>\n",
              "      <td>17088</td>\n",
              "      <td>1.0</td>\n",
              "    </tr>\n",
              "    <tr>\n",
              "      <th>1</th>\n",
              "      <td>29389</td>\n",
              "      <td>0.0</td>\n",
              "    </tr>\n",
              "    <tr>\n",
              "      <th>2</th>\n",
              "      <td>30708</td>\n",
              "      <td>0.0</td>\n",
              "    </tr>\n",
              "    <tr>\n",
              "      <th>3</th>\n",
              "      <td>26493</td>\n",
              "      <td>0.0</td>\n",
              "    </tr>\n",
              "    <tr>\n",
              "      <th>4</th>\n",
              "      <td>105852</td>\n",
              "      <td>1.0</td>\n",
              "    </tr>\n",
              "    <tr>\n",
              "      <th>...</th>\n",
              "      <td>...</td>\n",
              "      <td>...</td>\n",
              "    </tr>\n",
              "    <tr>\n",
              "      <th>91139</th>\n",
              "      <td>76820</td>\n",
              "      <td>0.0</td>\n",
              "    </tr>\n",
              "    <tr>\n",
              "      <th>91140</th>\n",
              "      <td>110268</td>\n",
              "      <td>0.0</td>\n",
              "    </tr>\n",
              "    <tr>\n",
              "      <th>91141</th>\n",
              "      <td>103694</td>\n",
              "      <td>0.0</td>\n",
              "    </tr>\n",
              "    <tr>\n",
              "      <th>91142</th>\n",
              "      <td>860</td>\n",
              "      <td>1.0</td>\n",
              "    </tr>\n",
              "    <tr>\n",
              "      <th>91143</th>\n",
              "      <td>15795</td>\n",
              "      <td>0.0</td>\n",
              "    </tr>\n",
              "  </tbody>\n",
              "</table>\n",
              "<p>91144 rows × 2 columns</p>\n",
              "</div>\n",
              "      <button class=\"colab-df-convert\" onclick=\"convertToInteractive('df-9e106c9d-2557-4292-ac48-103da23cf3e3')\"\n",
              "              title=\"Convert this dataframe to an interactive table.\"\n",
              "              style=\"display:none;\">\n",
              "        \n",
              "  <svg xmlns=\"http://www.w3.org/2000/svg\" height=\"24px\"viewBox=\"0 0 24 24\"\n",
              "       width=\"24px\">\n",
              "    <path d=\"M0 0h24v24H0V0z\" fill=\"none\"/>\n",
              "    <path d=\"M18.56 5.44l.94 2.06.94-2.06 2.06-.94-2.06-.94-.94-2.06-.94 2.06-2.06.94zm-11 1L8.5 8.5l.94-2.06 2.06-.94-2.06-.94L8.5 2.5l-.94 2.06-2.06.94zm10 10l.94 2.06.94-2.06 2.06-.94-2.06-.94-.94-2.06-.94 2.06-2.06.94z\"/><path d=\"M17.41 7.96l-1.37-1.37c-.4-.4-.92-.59-1.43-.59-.52 0-1.04.2-1.43.59L10.3 9.45l-7.72 7.72c-.78.78-.78 2.05 0 2.83L4 21.41c.39.39.9.59 1.41.59.51 0 1.02-.2 1.41-.59l7.78-7.78 2.81-2.81c.8-.78.8-2.07 0-2.86zM5.41 20L4 18.59l7.72-7.72 1.47 1.35L5.41 20z\"/>\n",
              "  </svg>\n",
              "      </button>\n",
              "      \n",
              "  <style>\n",
              "    .colab-df-container {\n",
              "      display:flex;\n",
              "      flex-wrap:wrap;\n",
              "      gap: 12px;\n",
              "    }\n",
              "\n",
              "    .colab-df-convert {\n",
              "      background-color: #E8F0FE;\n",
              "      border: none;\n",
              "      border-radius: 50%;\n",
              "      cursor: pointer;\n",
              "      display: none;\n",
              "      fill: #1967D2;\n",
              "      height: 32px;\n",
              "      padding: 0 0 0 0;\n",
              "      width: 32px;\n",
              "    }\n",
              "\n",
              "    .colab-df-convert:hover {\n",
              "      background-color: #E2EBFA;\n",
              "      box-shadow: 0px 1px 2px rgba(60, 64, 67, 0.3), 0px 1px 3px 1px rgba(60, 64, 67, 0.15);\n",
              "      fill: #174EA6;\n",
              "    }\n",
              "\n",
              "    [theme=dark] .colab-df-convert {\n",
              "      background-color: #3B4455;\n",
              "      fill: #D2E3FC;\n",
              "    }\n",
              "\n",
              "    [theme=dark] .colab-df-convert:hover {\n",
              "      background-color: #434B5C;\n",
              "      box-shadow: 0px 1px 3px 1px rgba(0, 0, 0, 0.15);\n",
              "      filter: drop-shadow(0px 1px 2px rgba(0, 0, 0, 0.3));\n",
              "      fill: #FFFFFF;\n",
              "    }\n",
              "  </style>\n",
              "\n",
              "      <script>\n",
              "        const buttonEl =\n",
              "          document.querySelector('#df-9e106c9d-2557-4292-ac48-103da23cf3e3 button.colab-df-convert');\n",
              "        buttonEl.style.display =\n",
              "          google.colab.kernel.accessAllowed ? 'block' : 'none';\n",
              "\n",
              "        async function convertToInteractive(key) {\n",
              "          const element = document.querySelector('#df-9e106c9d-2557-4292-ac48-103da23cf3e3');\n",
              "          const dataTable =\n",
              "            await google.colab.kernel.invokeFunction('convertToInteractive',\n",
              "                                                     [key], {});\n",
              "          if (!dataTable) return;\n",
              "\n",
              "          const docLinkHtml = 'Like what you see? Visit the ' +\n",
              "            '<a target=\"_blank\" href=https://colab.research.google.com/notebooks/data_table.ipynb>data table notebook</a>'\n",
              "            + ' to learn more about interactive tables.';\n",
              "          element.innerHTML = '';\n",
              "          dataTable['output_type'] = 'display_data';\n",
              "          await google.colab.output.renderOutput(dataTable, element);\n",
              "          const docLink = document.createElement('div');\n",
              "          docLink.innerHTML = docLinkHtml;\n",
              "          element.appendChild(docLink);\n",
              "        }\n",
              "      </script>\n",
              "    </div>\n",
              "  </div>\n",
              "  "
            ],
            "text/plain": [
              "        index  IS_HCP\n",
              "0       17088     1.0\n",
              "1       29389     0.0\n",
              "2       30708     0.0\n",
              "3       26493     0.0\n",
              "4      105852     1.0\n",
              "...       ...     ...\n",
              "91139   76820     0.0\n",
              "91140  110268     0.0\n",
              "91141  103694     0.0\n",
              "91142     860     1.0\n",
              "91143   15795     0.0\n",
              "\n",
              "[91144 rows x 2 columns]"
            ]
          },
          "execution_count": 91,
          "metadata": {},
          "output_type": "execute_result"
        }
      ],
      "source": [
        "y_train"
      ]
    },
    {
      "cell_type": "code",
      "execution_count": 90,
      "metadata": {
        "id": "2mQcF-YiL3d-"
      },
      "outputs": [],
      "source": [
        "y_train=y_train.reset_index()"
      ]
    },
    {
      "cell_type": "code",
      "execution_count": 95,
      "metadata": {
        "colab": {
          "base_uri": "https://localhost:8080/"
        },
        "id": "t3ADgY0mBhFu",
        "outputId": "f080bb25-c25a-4667-b667-a271619bce80"
      },
      "outputs": [
        {
          "data": {
            "text/plain": [
              "<91144x1232 sparse matrix of type '<class 'numpy.float64'>'\n",
              "\twith 3344148 stored elements in Compressed Sparse Row format>"
            ]
          },
          "execution_count": 95,
          "metadata": {},
          "output_type": "execute_result"
        }
      ],
      "source": [
        "# snow_stem = snow_stem[0:len(snow_stem)-1]\n",
        "X_primary_s = snow_stem['KEYWORDS']\n",
        "tf = TfidfVectorizer()\n",
        "X_s = tf.fit_transform(X_primary_s)\n",
        "X_s"
      ]
    },
    {
      "cell_type": "code",
      "execution_count": 96,
      "metadata": {
        "colab": {
          "base_uri": "https://localhost:8080/"
        },
        "id": "YK1-PsURzcnq",
        "outputId": "397c2663-040e-4c44-c583-959473ad93d5"
      },
      "outputs": [
        {
          "data": {
            "text/plain": [
              "<22786x1111 sparse matrix of type '<class 'numpy.float64'>'\n",
              "\twith 834813 stored elements in Compressed Sparse Row format>"
            ]
          },
          "execution_count": 96,
          "metadata": {},
          "output_type": "execute_result"
        }
      ],
      "source": [
        "# snow_stem = snow_stem[0:len(snow_stem)-1]\n",
        "X_primary_st = snow_stemt['KEYWORDS']\n",
        "tf = TfidfVectorizer()\n",
        "X_st = tf.fit_transform(X_primary_st)\n",
        "X_st"
      ]
    },
    {
      "cell_type": "code",
      "execution_count": 64,
      "metadata": {
        "colab": {
          "base_uri": "https://localhost:8080/"
        },
        "id": "sFZapNzNeK7r",
        "outputId": "5e4fb8b3-3e37-4395-b37d-94d155c9c870"
      },
      "outputs": [
        {
          "data": {
            "text/plain": [
              "<113930x1283 sparse matrix of type '<class 'numpy.float64'>'\n",
              "\twith 4247989 stored elements in Compressed Sparse Row format>"
            ]
          },
          "execution_count": 64,
          "metadata": {},
          "output_type": "execute_result"
        }
      ],
      "source": [
        "# snow_stem = snow_stem[0:len(snow_stem)-1]\n",
        "X_primary_l = lanc_stem['KEYWORDS']\n",
        "# tf = TfidfVectorizer()\n",
        "X_l = tf.fit_transform(X_primary_l)\n",
        "X_l"
      ]
    },
    {
      "cell_type": "code",
      "execution_count": 65,
      "metadata": {
        "colab": {
          "base_uri": "https://localhost:8080/"
        },
        "id": "-EKRkmnceMhO",
        "outputId": "8ae2953a-a06b-451f-85ec-5452f39eee1d"
      },
      "outputs": [
        {
          "data": {
            "text/plain": [
              "<113930x1283 sparse matrix of type '<class 'numpy.float64'>'\n",
              "\twith 4247989 stored elements in Compressed Sparse Row format>"
            ]
          },
          "execution_count": 65,
          "metadata": {},
          "output_type": "execute_result"
        }
      ],
      "source": [
        "# snow_stem = snow_stem[0:len(snow_stem)-1]\n",
        "X_primary_p = port_stem['KEYWORDS']\n",
        "# tf = TfidfVectorizer()\n",
        "X_p = tf.fit_transform(X_primary_p)\n",
        "X_p"
      ]
    },
    {
      "cell_type": "code",
      "execution_count": 104,
      "metadata": {
        "id": "djjzUhdm0s38"
      },
      "outputs": [],
      "source": [
        "cv = CountVectorizer()\n",
        "X1s = cv.fit_transform(X_primary_st)"
      ]
    },
    {
      "cell_type": "code",
      "execution_count": 165,
      "metadata": {
        "id": "MemWIUlVBrGK"
      },
      "outputs": [],
      "source": [
        "cv = CountVectorizer()\n",
        "X1ss = cv.fit_transform(X_primary_s)"
      ]
    },
    {
      "cell_type": "code",
      "execution_count": 67,
      "metadata": {
        "id": "Gwl2qkqxfrgI"
      },
      "outputs": [],
      "source": [
        "cv = CountVectorizer()\n",
        "X1l = cv.fit_transform(X_primary_l)"
      ]
    },
    {
      "cell_type": "code",
      "execution_count": 68,
      "metadata": {
        "id": "BRY4-Hf_frHR"
      },
      "outputs": [],
      "source": [
        "cv = CountVectorizer()\n",
        "X1p = cv.fit_transform(X_primary_p)"
      ]
    },
    {
      "cell_type": "code",
      "execution_count": 166,
      "metadata": {
        "colab": {
          "base_uri": "https://localhost:8080/"
        },
        "id": "sAco_aHOluUv",
        "outputId": "76494e9d-326c-464a-da86-6a21ecc675db"
      },
      "outputs": [
        {
          "data": {
            "text/plain": [
              "<113930x1252 sparse matrix of type '<class 'numpy.int64'>'\n",
              "\twith 4178961 stored elements in Compressed Sparse Row format>"
            ]
          },
          "execution_count": 166,
          "metadata": {},
          "output_type": "execute_result"
        }
      ],
      "source": [
        "X1ss"
      ]
    },
    {
      "cell_type": "code",
      "execution_count": 97,
      "metadata": {
        "colab": {
          "base_uri": "https://localhost:8080/"
        },
        "id": "nT0XjyZi1EIv",
        "outputId": "4d853c3f-da70-48f0-f1dd-06ce90347366"
      },
      "outputs": [
        {
          "data": {
            "text/plain": [
              "(91144,)"
            ]
          },
          "execution_count": 97,
          "metadata": {},
          "output_type": "execute_result"
        }
      ],
      "source": [
        "Y_ss=y_train['IS_HCP']\n",
        "Y_ss.shape"
      ]
    },
    {
      "cell_type": "code",
      "execution_count": 100,
      "metadata": {
        "colab": {
          "base_uri": "https://localhost:8080/",
          "height": 423
        },
        "id": "M59j_-CVMcnf",
        "outputId": "76c1b217-6ab1-4b15-ae76-cdbd85f3cfcd"
      },
      "outputs": [
        {
          "data": {
            "text/html": [
              "\n",
              "  <div id=\"df-6d94365a-6e44-4f47-9d79-2c6a2f51d482\">\n",
              "    <div class=\"colab-df-container\">\n",
              "      <div>\n",
              "<style scoped>\n",
              "    .dataframe tbody tr th:only-of-type {\n",
              "        vertical-align: middle;\n",
              "    }\n",
              "\n",
              "    .dataframe tbody tr th {\n",
              "        vertical-align: top;\n",
              "    }\n",
              "\n",
              "    .dataframe thead th {\n",
              "        text-align: right;\n",
              "    }\n",
              "</style>\n",
              "<table border=\"1\" class=\"dataframe\">\n",
              "  <thead>\n",
              "    <tr style=\"text-align: right;\">\n",
              "      <th></th>\n",
              "      <th>index</th>\n",
              "      <th>IS_HCP</th>\n",
              "    </tr>\n",
              "  </thead>\n",
              "  <tbody>\n",
              "    <tr>\n",
              "      <th>0</th>\n",
              "      <td>8682</td>\n",
              "      <td>1.0</td>\n",
              "    </tr>\n",
              "    <tr>\n",
              "      <th>1</th>\n",
              "      <td>70611</td>\n",
              "      <td>0.0</td>\n",
              "    </tr>\n",
              "    <tr>\n",
              "      <th>2</th>\n",
              "      <td>2662</td>\n",
              "      <td>0.0</td>\n",
              "    </tr>\n",
              "    <tr>\n",
              "      <th>3</th>\n",
              "      <td>39134</td>\n",
              "      <td>0.0</td>\n",
              "    </tr>\n",
              "    <tr>\n",
              "      <th>4</th>\n",
              "      <td>70595</td>\n",
              "      <td>0.0</td>\n",
              "    </tr>\n",
              "    <tr>\n",
              "      <th>...</th>\n",
              "      <td>...</td>\n",
              "      <td>...</td>\n",
              "    </tr>\n",
              "    <tr>\n",
              "      <th>22781</th>\n",
              "      <td>112649</td>\n",
              "      <td>1.0</td>\n",
              "    </tr>\n",
              "    <tr>\n",
              "      <th>22782</th>\n",
              "      <td>52918</td>\n",
              "      <td>0.0</td>\n",
              "    </tr>\n",
              "    <tr>\n",
              "      <th>22783</th>\n",
              "      <td>12339</td>\n",
              "      <td>0.0</td>\n",
              "    </tr>\n",
              "    <tr>\n",
              "      <th>22784</th>\n",
              "      <td>85557</td>\n",
              "      <td>0.0</td>\n",
              "    </tr>\n",
              "    <tr>\n",
              "      <th>22785</th>\n",
              "      <td>108858</td>\n",
              "      <td>0.0</td>\n",
              "    </tr>\n",
              "  </tbody>\n",
              "</table>\n",
              "<p>22786 rows × 2 columns</p>\n",
              "</div>\n",
              "      <button class=\"colab-df-convert\" onclick=\"convertToInteractive('df-6d94365a-6e44-4f47-9d79-2c6a2f51d482')\"\n",
              "              title=\"Convert this dataframe to an interactive table.\"\n",
              "              style=\"display:none;\">\n",
              "        \n",
              "  <svg xmlns=\"http://www.w3.org/2000/svg\" height=\"24px\"viewBox=\"0 0 24 24\"\n",
              "       width=\"24px\">\n",
              "    <path d=\"M0 0h24v24H0V0z\" fill=\"none\"/>\n",
              "    <path d=\"M18.56 5.44l.94 2.06.94-2.06 2.06-.94-2.06-.94-.94-2.06-.94 2.06-2.06.94zm-11 1L8.5 8.5l.94-2.06 2.06-.94-2.06-.94L8.5 2.5l-.94 2.06-2.06.94zm10 10l.94 2.06.94-2.06 2.06-.94-2.06-.94-.94-2.06-.94 2.06-2.06.94z\"/><path d=\"M17.41 7.96l-1.37-1.37c-.4-.4-.92-.59-1.43-.59-.52 0-1.04.2-1.43.59L10.3 9.45l-7.72 7.72c-.78.78-.78 2.05 0 2.83L4 21.41c.39.39.9.59 1.41.59.51 0 1.02-.2 1.41-.59l7.78-7.78 2.81-2.81c.8-.78.8-2.07 0-2.86zM5.41 20L4 18.59l7.72-7.72 1.47 1.35L5.41 20z\"/>\n",
              "  </svg>\n",
              "      </button>\n",
              "      \n",
              "  <style>\n",
              "    .colab-df-container {\n",
              "      display:flex;\n",
              "      flex-wrap:wrap;\n",
              "      gap: 12px;\n",
              "    }\n",
              "\n",
              "    .colab-df-convert {\n",
              "      background-color: #E8F0FE;\n",
              "      border: none;\n",
              "      border-radius: 50%;\n",
              "      cursor: pointer;\n",
              "      display: none;\n",
              "      fill: #1967D2;\n",
              "      height: 32px;\n",
              "      padding: 0 0 0 0;\n",
              "      width: 32px;\n",
              "    }\n",
              "\n",
              "    .colab-df-convert:hover {\n",
              "      background-color: #E2EBFA;\n",
              "      box-shadow: 0px 1px 2px rgba(60, 64, 67, 0.3), 0px 1px 3px 1px rgba(60, 64, 67, 0.15);\n",
              "      fill: #174EA6;\n",
              "    }\n",
              "\n",
              "    [theme=dark] .colab-df-convert {\n",
              "      background-color: #3B4455;\n",
              "      fill: #D2E3FC;\n",
              "    }\n",
              "\n",
              "    [theme=dark] .colab-df-convert:hover {\n",
              "      background-color: #434B5C;\n",
              "      box-shadow: 0px 1px 3px 1px rgba(0, 0, 0, 0.15);\n",
              "      filter: drop-shadow(0px 1px 2px rgba(0, 0, 0, 0.3));\n",
              "      fill: #FFFFFF;\n",
              "    }\n",
              "  </style>\n",
              "\n",
              "      <script>\n",
              "        const buttonEl =\n",
              "          document.querySelector('#df-6d94365a-6e44-4f47-9d79-2c6a2f51d482 button.colab-df-convert');\n",
              "        buttonEl.style.display =\n",
              "          google.colab.kernel.accessAllowed ? 'block' : 'none';\n",
              "\n",
              "        async function convertToInteractive(key) {\n",
              "          const element = document.querySelector('#df-6d94365a-6e44-4f47-9d79-2c6a2f51d482');\n",
              "          const dataTable =\n",
              "            await google.colab.kernel.invokeFunction('convertToInteractive',\n",
              "                                                     [key], {});\n",
              "          if (!dataTable) return;\n",
              "\n",
              "          const docLinkHtml = 'Like what you see? Visit the ' +\n",
              "            '<a target=\"_blank\" href=https://colab.research.google.com/notebooks/data_table.ipynb>data table notebook</a>'\n",
              "            + ' to learn more about interactive tables.';\n",
              "          element.innerHTML = '';\n",
              "          dataTable['output_type'] = 'display_data';\n",
              "          await google.colab.output.renderOutput(dataTable, element);\n",
              "          const docLink = document.createElement('div');\n",
              "          docLink.innerHTML = docLinkHtml;\n",
              "          element.appendChild(docLink);\n",
              "        }\n",
              "      </script>\n",
              "    </div>\n",
              "  </div>\n",
              "  "
            ],
            "text/plain": [
              "        index  IS_HCP\n",
              "0        8682     1.0\n",
              "1       70611     0.0\n",
              "2        2662     0.0\n",
              "3       39134     0.0\n",
              "4       70595     0.0\n",
              "...       ...     ...\n",
              "22781  112649     1.0\n",
              "22782   52918     0.0\n",
              "22783   12339     0.0\n",
              "22784   85557     0.0\n",
              "22785  108858     0.0\n",
              "\n",
              "[22786 rows x 2 columns]"
            ]
          },
          "execution_count": 100,
          "metadata": {},
          "output_type": "execute_result"
        }
      ],
      "source": [
        "y_test"
      ]
    },
    {
      "cell_type": "code",
      "execution_count": 99,
      "metadata": {
        "id": "BpPgvqqwMfhv"
      },
      "outputs": [],
      "source": [
        "y_test=y_test.reset_index()"
      ]
    },
    {
      "cell_type": "code",
      "execution_count": 101,
      "metadata": {
        "colab": {
          "base_uri": "https://localhost:8080/"
        },
        "id": "_mPUN2JdMb-3",
        "outputId": "f35f09c4-2a0c-462a-cce1-7886c5eca68c"
      },
      "outputs": [
        {
          "data": {
            "text/plain": [
              "(22786,)"
            ]
          },
          "execution_count": 101,
          "metadata": {},
          "output_type": "execute_result"
        }
      ],
      "source": [
        "Y_ss_test=y_test['IS_HCP']\n",
        "Y_ss_test.shape"
      ]
    },
    {
      "cell_type": "code",
      "execution_count": 71,
      "metadata": {
        "colab": {
          "base_uri": "https://localhost:8080/"
        },
        "id": "_KrlY7UrfwWw",
        "outputId": "a0826ca0-aecb-4790-b789-0803ba163938"
      },
      "outputs": [
        {
          "data": {
            "text/plain": [
              "(113930,)"
            ]
          },
          "execution_count": 71,
          "metadata": {},
          "output_type": "execute_result"
        }
      ],
      "source": [
        "Y_ps=snow_stem['IS_HCP']\n",
        "Y_ps.shape"
      ]
    },
    {
      "cell_type": "code",
      "execution_count": 72,
      "metadata": {
        "colab": {
          "base_uri": "https://localhost:8080/"
        },
        "id": "fdvEcuzpfv8e",
        "outputId": "5a761657-e500-47e4-e2da-84757faf3dd9"
      },
      "outputs": [
        {
          "data": {
            "text/plain": [
              "(113930,)"
            ]
          },
          "execution_count": 72,
          "metadata": {},
          "output_type": "execute_result"
        }
      ],
      "source": [
        "Y_ls=snow_stem['IS_HCP']\n",
        "Y_ls.shape"
      ]
    },
    {
      "cell_type": "code",
      "execution_count": 102,
      "metadata": {
        "id": "OeqRmqAr1p_y"
      },
      "outputs": [],
      "source": [
        "from sklearn.svm import SVC"
      ]
    },
    {
      "cell_type": "code",
      "execution_count": 103,
      "metadata": {
        "id": "PYFAwELR4onI"
      },
      "outputs": [],
      "source": [
        "# from sklearn.model_selection import GridSearchCV\n",
        "# param_grid={ 'C': [0.1, 1, 10],\n",
        "#    'gamma': [1, 0.1, 0.01],\n",
        "#    'kernel': ['rbf','linear','sigmoid']}"
      ]
    },
    {
      "cell_type": "code",
      "execution_count": 104,
      "metadata": {
        "id": "MA2E3Urf5hBc"
      },
      "outputs": [],
      "source": [
        "# grid = GridSearchCV(SVC(), param_grid, refit = True, verbose = 3,n_jobs=-1)"
      ]
    },
    {
      "cell_type": "code",
      "execution_count": 105,
      "metadata": {
        "id": "kHTzkAeK6QMx"
      },
      "outputs": [],
      "source": [
        "# grid.fit(X_s,Y_ss)"
      ]
    },
    {
      "cell_type": "code",
      "execution_count": 106,
      "metadata": {
        "id": "qWQ-IVx86qB8"
      },
      "outputs": [],
      "source": [
        "# grid.get_params()"
      ]
    },
    {
      "cell_type": "code",
      "execution_count": 107,
      "metadata": {
        "id": "h-m83r4CNDch"
      },
      "outputs": [],
      "source": [
        "clf = SVC(kernel='rbf',C = 0.01,gamma=0.1)"
      ]
    },
    {
      "cell_type": "code",
      "execution_count": null,
      "metadata": {
        "id": "dL2zmJI0Ng_r"
      },
      "outputs": [],
      "source": [
        "clf.fit(X_s,Y_ss)"
      ]
    },
    {
      "cell_type": "code",
      "execution_count": null,
      "metadata": {
        "id": "O-UBn0ovDhs3"
      },
      "outputs": [],
      "source": [
        "Y_predicted=clf.predict(X_st)"
      ]
    },
    {
      "cell_type": "code",
      "execution_count": null,
      "metadata": {
        "id": "-xL1ryOzM5ik"
      },
      "outputs": [],
      "source": [
        "from sklearn import metrics"
      ]
    },
    {
      "cell_type": "code",
      "execution_count": null,
      "metadata": {
        "id": "GXnd69xCD_CZ"
      },
      "outputs": [],
      "source": [
        "accuracy = metrics.accuracy_score(Y_predicted,Y_ss_test)"
      ]
    },
    {
      "cell_type": "code",
      "execution_count": 49,
      "metadata": {
        "colab": {
          "base_uri": "https://localhost:8080/",
          "height": 635
        },
        "id": "aZes6GQe7wHh",
        "outputId": "398dfa96-b60b-498e-a4ed-215d71d22fb8"
      },
      "outputs": [
        {
          "data": {
            "text/html": [
              "\n",
              "  <div id=\"df-454b0542-9ca0-48cf-92a6-3125541be106\">\n",
              "    <div class=\"colab-df-container\">\n",
              "      <div>\n",
              "<style scoped>\n",
              "    .dataframe tbody tr th:only-of-type {\n",
              "        vertical-align: middle;\n",
              "    }\n",
              "\n",
              "    .dataframe tbody tr th {\n",
              "        vertical-align: top;\n",
              "    }\n",
              "\n",
              "    .dataframe thead th {\n",
              "        text-align: right;\n",
              "    }\n",
              "</style>\n",
              "<table border=\"1\" class=\"dataframe\">\n",
              "  <thead>\n",
              "    <tr style=\"text-align: right;\">\n",
              "      <th></th>\n",
              "      <th>ID</th>\n",
              "      <th>DEVICETYPE</th>\n",
              "      <th>PLATFORM_ID</th>\n",
              "      <th>BIDREQUESTIP</th>\n",
              "      <th>USERPLATFORMUID</th>\n",
              "      <th>USERCITY</th>\n",
              "      <th>USERZIPCODE</th>\n",
              "      <th>USERAGENT</th>\n",
              "      <th>PLATFORMTYPE</th>\n",
              "      <th>CHANNELTYPE</th>\n",
              "      <th>URL</th>\n",
              "      <th>KEYWORDS</th>\n",
              "    </tr>\n",
              "  </thead>\n",
              "  <tbody>\n",
              "    <tr>\n",
              "      <th>0</th>\n",
              "      <td>115501</td>\n",
              "      <td>Desktop</td>\n",
              "      <td>2</td>\n",
              "      <td>75.189.231.103</td>\n",
              "      <td>0d5041ff-f0b6-4d1a-9ad7-0a29f7d485b4</td>\n",
              "      <td>Fayetteville</td>\n",
              "      <td>28305.0</td>\n",
              "      <td>Mozilla/5.0 (Macintosh; Intel Mac OS X 10_11_6...</td>\n",
              "      <td>Online Medical Journal</td>\n",
              "      <td>Website</td>\n",
              "      <td>https://www.clinicaladvisor.com/home/features/...</td>\n",
              "      <td>Family Practice|Drainage|Clinical|Dermatology|...</td>\n",
              "    </tr>\n",
              "    <tr>\n",
              "      <th>1</th>\n",
              "      <td>115502</td>\n",
              "      <td>Mobile</td>\n",
              "      <td>2</td>\n",
              "      <td>24.101.33.158</td>\n",
              "      <td>c8396dd0-969f-4d99-a40b-b7bb1f516154</td>\n",
              "      <td>Conneaut Lake</td>\n",
              "      <td>16316.0</td>\n",
              "      <td>Mozilla/5.0 (iPhone; CPU iPhone OS 15_6_1 like...</td>\n",
              "      <td>Online Medical Journal</td>\n",
              "      <td>Website</td>\n",
              "      <td>https://www.ophthalmologyadvisor.com/topics/ca...</td>\n",
              "      <td>General|Clinical|Operative|Medicine|Cardiology...</td>\n",
              "    </tr>\n",
              "    <tr>\n",
              "      <th>2</th>\n",
              "      <td>115503</td>\n",
              "      <td>Desktop</td>\n",
              "      <td>2</td>\n",
              "      <td>172.118.216.142</td>\n",
              "      <td>3c97a081-6518-43f8-9f26-369759cfb471</td>\n",
              "      <td>Covina</td>\n",
              "      <td>91724.0</td>\n",
              "      <td>Mozilla/5.0 (Macintosh; Intel Mac OS X 10_15_7...</td>\n",
              "      <td>Online Medical Journal</td>\n",
              "      <td>Website</td>\n",
              "      <td>https://www.psychiatryadvisor.com/author/tori-...</td>\n",
              "      <td>Abortion|Anxiety Disorders|Apnea|False|Trauma|...</td>\n",
              "    </tr>\n",
              "    <tr>\n",
              "      <th>3</th>\n",
              "      <td>115504</td>\n",
              "      <td>Desktop</td>\n",
              "      <td>7</td>\n",
              "      <td>71.105.120.171</td>\n",
              "      <td>3e2578c8-f794-41af-a38c-c5cfb3c0f014</td>\n",
              "      <td>Brooklyn</td>\n",
              "      <td>11226.0</td>\n",
              "      <td>Mozilla/5.0 (Macintosh; Intel Mac OS X 10_15_7...</td>\n",
              "      <td>Online Medical Journal</td>\n",
              "      <td>Website</td>\n",
              "      <td>https://www.cureus.com/articles/105482-diverti...</td>\n",
              "      <td>Health|Male|Neurological Surgery|Otolaryngolog...</td>\n",
              "    </tr>\n",
              "    <tr>\n",
              "      <th>4</th>\n",
              "      <td>115505</td>\n",
              "      <td>Desktop</td>\n",
              "      <td>2</td>\n",
              "      <td>73.82.211.73</td>\n",
              "      <td>ec2ae7ce-6a8c-4156-98a7-07203e60f483</td>\n",
              "      <td>Marietta</td>\n",
              "      <td>30062.0</td>\n",
              "      <td>Mozilla/5.0 (Windows NT 10.0; Win64; x64) Appl...</td>\n",
              "      <td>Online Medical Journal</td>\n",
              "      <td>Website</td>\n",
              "      <td>https://www.renalandurologynews.com/home/confe...</td>\n",
              "      <td>chronic kidney disease|pain|nephrology|disease...</td>\n",
              "    </tr>\n",
              "  </tbody>\n",
              "</table>\n",
              "</div>\n",
              "      <button class=\"colab-df-convert\" onclick=\"convertToInteractive('df-454b0542-9ca0-48cf-92a6-3125541be106')\"\n",
              "              title=\"Convert this dataframe to an interactive table.\"\n",
              "              style=\"display:none;\">\n",
              "        \n",
              "  <svg xmlns=\"http://www.w3.org/2000/svg\" height=\"24px\"viewBox=\"0 0 24 24\"\n",
              "       width=\"24px\">\n",
              "    <path d=\"M0 0h24v24H0V0z\" fill=\"none\"/>\n",
              "    <path d=\"M18.56 5.44l.94 2.06.94-2.06 2.06-.94-2.06-.94-.94-2.06-.94 2.06-2.06.94zm-11 1L8.5 8.5l.94-2.06 2.06-.94-2.06-.94L8.5 2.5l-.94 2.06-2.06.94zm10 10l.94 2.06.94-2.06 2.06-.94-2.06-.94-.94-2.06-.94 2.06-2.06.94z\"/><path d=\"M17.41 7.96l-1.37-1.37c-.4-.4-.92-.59-1.43-.59-.52 0-1.04.2-1.43.59L10.3 9.45l-7.72 7.72c-.78.78-.78 2.05 0 2.83L4 21.41c.39.39.9.59 1.41.59.51 0 1.02-.2 1.41-.59l7.78-7.78 2.81-2.81c.8-.78.8-2.07 0-2.86zM5.41 20L4 18.59l7.72-7.72 1.47 1.35L5.41 20z\"/>\n",
              "  </svg>\n",
              "      </button>\n",
              "      \n",
              "  <style>\n",
              "    .colab-df-container {\n",
              "      display:flex;\n",
              "      flex-wrap:wrap;\n",
              "      gap: 12px;\n",
              "    }\n",
              "\n",
              "    .colab-df-convert {\n",
              "      background-color: #E8F0FE;\n",
              "      border: none;\n",
              "      border-radius: 50%;\n",
              "      cursor: pointer;\n",
              "      display: none;\n",
              "      fill: #1967D2;\n",
              "      height: 32px;\n",
              "      padding: 0 0 0 0;\n",
              "      width: 32px;\n",
              "    }\n",
              "\n",
              "    .colab-df-convert:hover {\n",
              "      background-color: #E2EBFA;\n",
              "      box-shadow: 0px 1px 2px rgba(60, 64, 67, 0.3), 0px 1px 3px 1px rgba(60, 64, 67, 0.15);\n",
              "      fill: #174EA6;\n",
              "    }\n",
              "\n",
              "    [theme=dark] .colab-df-convert {\n",
              "      background-color: #3B4455;\n",
              "      fill: #D2E3FC;\n",
              "    }\n",
              "\n",
              "    [theme=dark] .colab-df-convert:hover {\n",
              "      background-color: #434B5C;\n",
              "      box-shadow: 0px 1px 3px 1px rgba(0, 0, 0, 0.15);\n",
              "      filter: drop-shadow(0px 1px 2px rgba(0, 0, 0, 0.3));\n",
              "      fill: #FFFFFF;\n",
              "    }\n",
              "  </style>\n",
              "\n",
              "      <script>\n",
              "        const buttonEl =\n",
              "          document.querySelector('#df-454b0542-9ca0-48cf-92a6-3125541be106 button.colab-df-convert');\n",
              "        buttonEl.style.display =\n",
              "          google.colab.kernel.accessAllowed ? 'block' : 'none';\n",
              "\n",
              "        async function convertToInteractive(key) {\n",
              "          const element = document.querySelector('#df-454b0542-9ca0-48cf-92a6-3125541be106');\n",
              "          const dataTable =\n",
              "            await google.colab.kernel.invokeFunction('convertToInteractive',\n",
              "                                                     [key], {});\n",
              "          if (!dataTable) return;\n",
              "\n",
              "          const docLinkHtml = 'Like what you see? Visit the ' +\n",
              "            '<a target=\"_blank\" href=https://colab.research.google.com/notebooks/data_table.ipynb>data table notebook</a>'\n",
              "            + ' to learn more about interactive tables.';\n",
              "          element.innerHTML = '';\n",
              "          dataTable['output_type'] = 'display_data';\n",
              "          await google.colab.output.renderOutput(dataTable, element);\n",
              "          const docLink = document.createElement('div');\n",
              "          docLink.innerHTML = docLinkHtml;\n",
              "          element.appendChild(docLink);\n",
              "        }\n",
              "      </script>\n",
              "    </div>\n",
              "  </div>\n",
              "  "
            ],
            "text/plain": [
              "       ID DEVICETYPE  PLATFORM_ID     BIDREQUESTIP  \\\n",
              "0  115501    Desktop            2   75.189.231.103   \n",
              "1  115502     Mobile            2    24.101.33.158   \n",
              "2  115503    Desktop            2  172.118.216.142   \n",
              "3  115504    Desktop            7   71.105.120.171   \n",
              "4  115505    Desktop            2     73.82.211.73   \n",
              "\n",
              "                        USERPLATFORMUID       USERCITY  USERZIPCODE  \\\n",
              "0  0d5041ff-f0b6-4d1a-9ad7-0a29f7d485b4   Fayetteville      28305.0   \n",
              "1  c8396dd0-969f-4d99-a40b-b7bb1f516154  Conneaut Lake      16316.0   \n",
              "2  3c97a081-6518-43f8-9f26-369759cfb471         Covina      91724.0   \n",
              "3  3e2578c8-f794-41af-a38c-c5cfb3c0f014       Brooklyn      11226.0   \n",
              "4  ec2ae7ce-6a8c-4156-98a7-07203e60f483       Marietta      30062.0   \n",
              "\n",
              "                                           USERAGENT            PLATFORMTYPE  \\\n",
              "0  Mozilla/5.0 (Macintosh; Intel Mac OS X 10_11_6...  Online Medical Journal   \n",
              "1  Mozilla/5.0 (iPhone; CPU iPhone OS 15_6_1 like...  Online Medical Journal   \n",
              "2  Mozilla/5.0 (Macintosh; Intel Mac OS X 10_15_7...  Online Medical Journal   \n",
              "3  Mozilla/5.0 (Macintosh; Intel Mac OS X 10_15_7...  Online Medical Journal   \n",
              "4  Mozilla/5.0 (Windows NT 10.0; Win64; x64) Appl...  Online Medical Journal   \n",
              "\n",
              "  CHANNELTYPE                                                URL  \\\n",
              "0     Website  https://www.clinicaladvisor.com/home/features/...   \n",
              "1     Website  https://www.ophthalmologyadvisor.com/topics/ca...   \n",
              "2     Website  https://www.psychiatryadvisor.com/author/tori-...   \n",
              "3     Website  https://www.cureus.com/articles/105482-diverti...   \n",
              "4     Website  https://www.renalandurologynews.com/home/confe...   \n",
              "\n",
              "                                            KEYWORDS  \n",
              "0  Family Practice|Drainage|Clinical|Dermatology|...  \n",
              "1  General|Clinical|Operative|Medicine|Cardiology...  \n",
              "2  Abortion|Anxiety Disorders|Apnea|False|Trauma|...  \n",
              "3  Health|Male|Neurological Surgery|Otolaryngolog...  \n",
              "4  chronic kidney disease|pain|nephrology|disease...  "
            ]
          },
          "execution_count": 49,
          "metadata": {},
          "output_type": "execute_result"
        }
      ],
      "source": [
        "import pandas as pd\n",
        "df=pd.read_csv(\"Doceree-HCP_Test.csv\",encoding='latin-1')\n",
        "df.head(5)"
      ]
    },
    {
      "attachments": {},
      "cell_type": "markdown",
      "metadata": {
        "id": "4urztR_l-qlg"
      },
      "source": []
    },
    {
      "cell_type": "code",
      "execution_count": null,
      "metadata": {
        "colab": {
          "base_uri": "https://localhost:8080/"
        },
        "id": "eLmqGPaqNuNT",
        "outputId": "1312983f-a719-4a77-a03d-33cf8a349049"
      },
      "outputs": [
        {
          "name": "stdout",
          "output_type": "stream",
          "text": [
            "The original dictionary is : {'Portland': 463, 'Arlington': 1503, 'New Meadows': 13, 'Neutral': 6358, 'Houston': 1747, 'Syracuse': 60, 'Los Angeles': 2154, 'Dallas': 784, 'Granada Hills': 4, 'Davenport': 43, 'Las Vegas': 396, 'La Plata': 20, 'Dearborn': 202, 'Durham': 577, 'Oscoda': 15, 'Billerica': 148, 'Columbus': 1105, 'Kansas City': 380, 'New York': 4943, 'Denver': 503, 'Rochester': 798, 'Palm Beach Gardens': 664, 'Westland': 23, 'Minneapolis': 557, 'Buena Park': 431, 'Omaha': 196, 'Oceanside': 72, 'Lewiston': 28, 'Kent': 64, 'Somerville': 29, 'Winter Park': 75, 'Marietta': 230, 'Amarillo': 294, 'Milwaukee': 275, 'Glen Ellyn': 9, 'Martins Ferry': 10, 'Kingman': 12, 'Mineral Springs': 4, 'Queens': 1629, 'Pittsburg': 18, 'Nampa': 47, 'Stone Mountain': 29, 'Carteret': 5, 'Owasso': 17, 'Spokane': 59, 'Chalfont': 19, 'East Brunswick': 27, 'Sheridan': 5, 'Bountiful': 10, 'Methuen': 12, 'Baltimore': 329, 'Osseo': 9, 'Fort Wayne': 110, 'Nelson': 9, 'Newark': 260, 'Chicago': 1448, 'Booneville': 1, 'Candler': 11, 'Brooklyn': 3237, 'Ludington': 3, 'McKinleyville': 5, 'Hamilton': 56, 'Big Pine Key': 4, 'Elyria': 13, 'Greensburg': 30, 'Philadelphia': 1191, 'St Louis': 2545, 'Morristown': 72, 'Riverside': 147, 'San Bernardino': 67, 'Corpus Christi': 55, 'Vallejo': 41, 'Cleves': 7, 'Brighton': 83, 'Pilot Mountain': 346, 'San Francisco': 881, 'Hudson': 55, 'San Antonio': 392, 'Cheboygan': 5, 'Wilton': 13, 'South Bend': 174, 'Idaho Falls': 382, 'Pleasanton': 9, 'Gastonia': 12, 'Zionsville': 20, 'Toms River': 9, 'Saint Augustine': 27, 'Mount Pleasant': 30, 'Indianapolis': 347, 'Buffalo': 248, 'Crossville': 7, 'Thousand Oaks': 26, 'Sun City Center': 17, 'Simpsonville': 13, 'Lehigh Acres': 12, 'Sebastian': 11, 'Huntersville': 22, 'Attleboro': 14, 'Knoxville': 223, 'New Bedford': 42, \"O'Fallon\": 219, 'Petoskey': 6, 'Dover': 36, 'Salt Lake City': 347, 'Sacramento': 382, 'Bakersfield': 74, 'Corvallis': 43, 'Fort Worth': 884, 'Whiteman Air Force Base': 3, 'Eltopia': 3, 'Macon': 53, 'Jacksonville': 430, 'Flowery Branch': 7, 'Seattle': 650, 'Loma Linda': 45, 'Harrisonburg': 21, 'Merrillville': 11, 'Memphis': 756, 'Little Rock': 88, 'Temecula': 87, 'Fleming Island': 11, 'East Orange': 20, 'Fort Lauderdale': 240, 'Waco': 51, 'Saint Paul': 247, 'West Jordan': 16, 'Council Bluffs': 191, 'Kirkland': 17, 'Towson': 29, 'Tucson': 306, 'Norcross': 49, 'Hyattsville': 45, 'Arvada': 18, 'East Lansing': 21, 'Harlan': 13, 'Englewood': 46, 'Norfolk': 63, 'Potomac': 110, 'Warren': 66, 'Murfreesboro': 101, 'Naperville': 46, 'Dorchester': 83, 'Huntsville': 74, 'Sewell': 22, 'Richmond': 330, 'Shell Lake': 2, 'Bethesda': 40, 'Miami': 1023, 'Atlanta': 630, 'San Jose': 347, 'Butler': 28, 'Fresno': 59, 'Ashburn': 375, 'Lakeland': 63, 'Missouri City': 39, 'Carlsbad': 117, 'Burbank': 89, 'Broadview Heights': 3, 'Mansfield Center': 2, 'Ocala': 68, 'Southport': 16, 'Lynbrook': 100, 'Palo Alto': 49, 'Milton': 56, 'Santa Cruz': 18, 'Charles City': 2, 'Solon': 26, 'Strongsville': 34, 'Randolph': 6, 'Elkhart': 53, 'Hebron': 24, 'Cambridge': 538, 'Perry': 8, 'Fort Mitchell': 16, 'Melrose': 15, 'Bellevue': 51, 'Burleson': 12, 'Akron': 135, 'Scottsdale': 148, 'Belleville': 71, 'Walnut Creek': 31, 'Gunnison': 7, 'Independence': 42, 'Bloomington': 116, 'Smyrna': 30, 'Glendora': 8, 'Panorama City': 67, 'Mesa': 100, 'Pompano Beach': 42, 'Trenton': 192, 'Nashville': 283, 'Washington': 565, 'New Port Richey': 30, 'Lukachukai': 8, 'Bonney Lake': 9, 'Greenville': 195, 'Deer Park': 883, 'Hickory': 33, 'Kinwood': 5, 'Albertville': 16, 'Wesson': 5, 'Rockville': 592, 'Colorado Springs': 143, 'Berkley': 41, 'Grafton': 17, 'Altoona': 26, 'Sequim': 8, 'Lagrangeville': 2, 'Littleton': 55, 'Corydon': 4, 'Talladega': 7, 'Reedley': 6, 'Weaverville': 9, 'Garland': 384, 'Tampa': 485, 'Pasadena': 109, 'Vero Beach': 22, 'Hollywood': 165, 'Charlotte': 695, 'Summerfield': 9, 'Providence': 120, 'Columbia': 242, 'Lancaster': 159, 'Irvington': 21, 'Orlando': 429, 'Charleston': 190, 'Bridgeton': 7, 'Franklin': 66, 'Bristol': 46, 'Griffin': 5, 'The Bronx': 264, 'Phoenix': 888, 'Stafford': 157, 'Visalia': 33, 'Casa Grande': 5, 'Ann Arbor': 188, 'Dublin': 92, 'State College': 143, 'New Haven': 149, 'Reno': 58, 'Arnold': 35, 'Birmingham': 373, 'Cape Coral': 47, 'Rutherford': 12, 'Federal Way': 9, 'Bensalem': 54, 'Parker': 44, 'Highland': 14, 'Boston': 410, 'Janesville': 18, 'Boise': 87, 'Redlands': 43, 'Uniontown': 17, 'Costa Mesa': 102, 'Irvine': 125, 'Hacienda Heights': 14, 'Fairfield': 57, 'Muncie': 14, 'Hayfork': 208, 'Collingswood': 211, 'Alexandria': 173, 'Hoffman': 50, 'Weatherford': 37, 'Somerset': 39, 'Camden': 40, 'Charlottesville': 105, 'Austin': 425, 'Aiken': 19, 'Springfield': 556, 'Naples': 171, 'Tempe': 35, 'Rio Rancho': 22, 'Vacaville': 6, 'Little Elm': 11, 'Texas City': 9, 'San Leandro': 11, 'Santa Paula': 3, 'West Orange': 25, 'Columbiana': 15, 'Moreno Valley': 15, 'Mira Loma': 2, 'Eau Claire': 43, 'Raleigh': 132, 'Fredericksburg': 34, 'La Crosse': 44, 'Dacula': 8, 'Scottsboro': 3, 'East Setauket': 11, 'Maineville': 2, 'New Rochelle': 28, 'Reston': 88, 'Champaign': 20, 'Florence': 70, 'Grand Haven': 12, 'Niagara Falls': 25, 'Zachary': 13, 'Gilbert': 65, 'Cincinnati': 385, 'Mentor': 38, 'Granby': 2, 'Mobile': 81, 'Yorba Linda': 25, 'Yonkers': 96, 'Appleton': 344, 'Louisville': 167, 'Yulee': 5, 'Watseka': 6, 'Sioux Falls': 113, 'Toledo': 200, 'Port Orchard': 9, 'McDonough': 31, 'Rock Hill': 14, 'Locust': 2, 'San Rafael': 33, 'Jefferson City': 31, 'Honeoye Falls': 2, 'Harlingen': 39, 'Middletown': 58, 'Enterprise': 12, 'Sanford': 55, 'South Windsor': 18, 'Evanston': 37, 'Fairmont': 19, 'Hartford': 39, 'DeLand': 44, 'Norman': 85, 'Calhoun': 57, 'Alpharetta': 52, 'Greenwood': 54, 'Phenix City': 4, 'Vista': 20, 'Surprise': 107, 'San Diego': 478, 'Albuquerque': 221, 'York': 217, 'Queensbury': 21, 'Spring': 106, 'Denham Springs': 94, 'Brunswick': 38, 'Kalamazoo': 47, 'Kutztown': 5, 'Gurnee': 17, 'Goldsboro': 47, 'Newport Beach': 34, 'New City': 30, 'Covington': 57, 'Portage': 16, 'Dickinson': 15, 'Wilmington': 225, 'Sandown': 1, 'Crestview': 12, 'Lincoln': 85, 'Maplewood': 36, 'Newton': 42, 'Hiller': 3, 'Huntington': 35, 'Pasco': 15, 'Gibsonton': 85, 'Vicksburg': 2, 'West Des Moines': 21, 'Santa Ana': 57, 'Osceola': 8, 'El Monte': 8, 'Acworth': 22, 'Smithville': 17, 'Sterling Heights': 24, 'Lexington': 231, 'Pittsburgh': 669, 'Madison': 251, 'Yadkinville': 7, 'Manitowoc': 9, 'Montour Falls': 6, 'Fargo': 39, 'Cleveland': 555, 'Summerville': 42, 'Centreville': 15, 'Middleton': 15, 'Sylmar': 7, 'Urbandale': 17, 'Rancho Cucamonga': 22, 'Chapel Hill': 50, 'Kennewick': 17, 'Brentwood': 54, 'Haines City': 11, 'Mokena': 5, 'Saginaw': 43, 'Chatsworth': 10, 'Greensboro': 75, 'Wichita': 70, 'Miamisburg': 15, 'Holliston': 7, 'St. Cloud': 141, 'Danville': 57, 'Lewes': 9, 'Altus': 11, 'Alva': 7, 'Smithtown': 19, 'Olympia': 42, 'Peachtree City': 10, 'Waseca': 26, 'Warrington': 32, 'Merritt Island': 11, 'New Holland': 3, 'Ridgefield': 156, 'Bergenfield': 11, 'Mineola': 10, 'Hurricane': 19, 'Gaithersburg': 37, 'Belvedere Tiburon': 7, 'Shingle Springs': 7, 'Staunton': 39, 'Columbia City': 4, 'North Bergen': 111, 'La Verne': 31, 'Virginia Beach': 156, 'Sandy': 39, 'North Richland Hills': 19, 'Huntley': 7, 'Nipomo': 9, 'Delmar': 15, 'Gainesville': 273, 'Orem': 18, 'Wildwood': 10, 'Auburn': 86, 'Asheville': 61, 'Shreveport': 106, 'Monrovia': 16, 'Clayton': 25, 'Centerville': 8, 'Elk Grove': 111, 'Pflugerville': 30, 'Layton': 11, 'Lawrence': 43, 'Arlington Heights': 21, 'El Paso': 71, 'Honolulu': 122, 'Chesterfield': 25, 'Calabash': 6, 'Fort Myers': 80, 'Farmington': 129, 'Chapin': 7, 'Lafayette': 122, 'Ashtabula': 4, 'Rockwood': 4, 'Valparaiso': 87, 'Annandale': 36, 'Venice': 26, 'Cedar Rapids': 44, 'Eden': 3, 'Makawao': 7, 'Monticello': 63, 'Suffern': 36, 'Plymouth': 77, 'Lillington': 11, 'Detroit': 241, 'Norwalk': 64, 'Concord': 100, 'Sunnyvale': 45, 'Citrus Heights': 55, 'Statesboro': 19, 'Middle Island': 4, 'Old Town': 9, 'Norristown': 57, 'Leland': 9, 'Ypsilanti': 29, 'Boulder': 54, 'Meridian': 51, 'New Albany': 56, 'Paducah': 21, 'Newburgh': 51, 'Frisco': 65, 'Nixa': 13, 'Crown Point': 20, 'Mendham': 11, 'Ithaca': 43, 'Pinehurst': 16, 'Green Hill': 4, 'Latham': 26, 'Mason': 32, 'San Mateo': 45, 'Burlington': 62, 'Albany': 203, 'New Orleans': 250, 'Marion': 60, 'Lakeville': 18, 'Berea': 3, 'Easley': 20, 'Bonita Springs': 10, 'Salem': 128, 'Lake Zurich': 12, 'Tyler': 61, 'Cairo': 2, 'Abingdon': 17, 'Bloomfield Hills': 79, 'Amsterdam': 30, 'Coudersport': 19, 'Anaheim': 78, 'Lynchburg': 61, 'Hesperia': 23, 'Athens': 100, 'Dayton': 148, 'Lady Lake': 11, 'Silver Spring': 98, 'Biddeford': 6, 'Show Low': 8, 'Myrtle Beach': 49, 'Sherman Oaks': 30, 'Oregon City': 18, 'St. Petersburg': 74, 'McHenry': 44, 'Odessa': 33, 'Mohawk': 3, 'Henrico': 124, 'Oswego': 20, 'Winston-Salem': 95, 'Belleview': 5, 'Twinsburg': 47, 'Benton': 19, 'Galivants Ferry': 2, 'Anchorage': 46, 'Auburn Hills': 5, 'Lynd': 2, 'Manchester': 64, 'Fairfax': 214, 'Waupaca': 3, 'Killingworth': 15, 'Henderson': 103, 'Thornville': 4, 'Bel Air': 11, 'Medford': 65, 'Plainfield': 65, 'Staten Island': 102, 'Melbourne Beach': 5, 'White House': 7, 'Brownsville': 13, 'Bowie': 15, 'Tacoma': 70, 'Perris': 8, 'Garfield': 17, 'Goshen': 28, 'Lubbock': 59, 'Fremont': 61, 'Eldorado': 16, 'Ketchikan': 5, 'Mount Airy': 21, 'Cleburne': 13, 'Port Saint Lucie': 57, 'Evansville': 48, 'Boerne': 33, 'Beaumont': 41, 'Flemington': 49, 'East Granby': 20, 'Scranton': 26, 'Palmetto': 12, 'Sulphur': 12, 'Peoria': 95, 'Neptune City': 19, 'Cedar Park': 29, 'Hobart': 22, 'Wytheville': 9, 'Picayune': 3, 'Coram': 23, 'Huntington Station': 9, 'Semmes': 5, 'Vale': 5, 'Shrewsbury': 12, 'New Cumberland': 12, 'Germantown': 39, 'Mountain Lakes': 21, 'Argyle': 16, 'Powder Springs': 10, 'Wichita Falls': 21, 'Lewisburg': 23, 'Bentonville': 51, 'Mason City': 56, 'Hartland': 21, 'Edison': 36, 'Boca Raton': 116, 'Grand Rapids': 152, 'Roswell': 40, 'Ephrata': 22, 'Poplar Bluff': 10, 'Monroe': 68, 'Spring Valley': 178, 'Longview': 25, 'Cresskill': 1, 'Geneva': 11, 'DuBois': 23, 'Ballwin': 41, 'Katy': 84, 'Royse City': 14, 'Beacon': 10, 'Mequon': 17, 'Clarkesville': 10, 'Canyon Country': 18, 'Mesquite': 19, 'Marysville': 34, 'Oshkosh': 27, 'Saint Cloud': 25, 'Berkeley': 52, 'Randolph Township': 29, 'Fayetteville': 173, 'Cropwell': 8, 'Nutley': 13, 'Oklahoma City': 189, 'Bellefonte': 11, 'East Northport': 12, 'Conroe': 88, 'Morehead': 21, 'Pikeville': 22, 'Zanesville': 11, 'Modesto': 29, 'Holden': 18, 'McLean': 38, 'Oakland': 190, 'Sarasota': 119, 'Foley': 21, 'Lebanon': 44, 'Ceres': 10, 'Berwyn': 23, 'Winter Haven': 33, 'Thermopolis': 6, 'Wayne': 36, 'Hamburg': 13, 'Gilmer': 6, 'Wabasha': 27, 'Scott Depot': 6, 'Lockhart': 7, 'Frederick': 59, 'Portsmouth': 56, 'Garden City': 75, 'Downey': 21, 'Killeen': 20, 'Shepherdsville': 12, 'Arcadia': 17, 'Falls Church': 31, 'Malvern': 118, 'Milford': 54, 'Van Nuys': 40, 'La Grange': 22, 'Wheeling': 15, 'Fort Hood': 1, 'Southlake': 4, 'Clinton Township': 31, 'Middlesex': 11, 'Brattleboro': 13, 'Goleta': 13, 'Olney': 148, 'Tallahassee': 152, 'Hicksville': 11, 'High Point': 36, 'Wellesley': 4, 'Walton': 4, 'Bolingbrook': 11, 'Cypress': 52, 'Walnutport': 9, 'Olathe': 26, 'Owatonna': 24, 'Kihei': 23, 'Algonquin': 7, 'Brookline': 71, 'Los Gatos': 8, 'Oak Park': 53, 'Palatine': 11, 'Morganton': 6, 'Jackson': 63, 'Palm Coast': 18, 'Erie': 49, 'Republic': 19, 'Ogden': 31, 'Temple Hills': 3, 'Watsonville': 9, 'Fennville': 41, 'Ledyard Center': 31, 'Panama City': 16, 'Carlisle': 22, 'Mebane': 8, 'Gaffney': 20, 'Prosser': 1, 'Greenfield': 27, 'North Adams': 7, 'Dawson': 5, 'Beach Lake': 5, 'Westford': 21, 'Belgrade': 5, 'Sebastopol': 7, 'West Newton': 9, 'Niles': 16, 'Cooperstown': 55, 'Dahlonega': 3, 'Bloomfield': 28, 'Chillicothe': 15, 'North Branch': 4, 'Wakefield': 33, 'Fredonia': 6, 'Sugar Land': 78, 'Ridgway': 5, 'Fontana': 28, 'Dothan': 33, 'Ogdensburg': 11, 'Park Ridge': 7, 'Fort Mill': 10, 'Newburyport': 4, 'Whittier': 24, 'Fort Collins': 39, 'Jefferson': 28, 'Maple Park': 4, 'Louisburg': 12, 'Morrisville': 38, 'Grand Junction': 19, 'Hershey': 48, 'Chula Vista': 73, 'Suwanee': 18, 'Laconia': 3, 'Tulsa': 91, 'Swansboro': 9, 'Hurst': 5, 'Bedford': 121, 'Cedartown': 5, \"Lee's Summit\": 23, 'Estero': 9, 'Santa Rosa Beach': 50, 'San Luis Obispo': 16, 'Marlborough': 37, 'Sharon': 13, 'Saint Joseph': 26, 'Trinity': 9, 'Spring Hill': 78, 'Livingston': 28, 'Yakima': 50, 'Harrisburg': 74, 'Simi Valley': 32, 'Auburndale': 5, 'Cranston': 54, 'Tappan': 4, 'Bear': 8, 'Stevensville': 9, 'Seymour': 9, 'Streamwood': 3, 'Wheat Ridge': 8, 'West Columbia': 8, 'Morehead City': 31, 'Danbury': 36, 'Abilene': 23, 'Lihue': 23, 'Mount Vernon': 43, 'Hyde Park': 7, 'Perkasie': 3, 'Edmond': 41, 'Struthers': 2, \"Land O' Lakes\": 20, 'Spring Lake': 19, 'Fairport': 14, 'White Plains': 61, 'Lansdowne': 21, 'Owings Mills': 27, 'Pinole': 4, 'Piscataway': 50, 'Miami Beach': 65, 'Parkersburg': 4, 'Savannah': 97, 'Gonzales': 21, 'Dracut': 14, 'Loris': 7, 'Northridge': 3, 'Kearny': 9, 'Hillsboro': 46, 'Burke': 6, 'Springville': 16, 'Clover': 5, 'Huron': 9, 'Cordova': 30, 'Orono': 3, 'Burnsville': 11, 'Greenback': 2, 'Hackensack': 42, 'Yucaipa': 5, 'Colbert': 5, 'Biloxi': 9, 'Augusta': 99, 'Brandon': 24, 'Fountain Valley': 15, 'Waynesville': 30, 'Luther': 1, 'Massapequa': 10, 'Selinsgrove': 5, 'Culpeper': 3, 'Schenectady': 52, 'Prairie Village': 10, 'Bay Minette': 3, 'Macomb': 17, 'Chattanooga': 80, 'Hillsdale': 14, 'Farmingdale': 15, 'Mountain View': 90, 'Flint': 124, 'Rockford': 53, 'Millis': 6, 'The Villages': 31, 'Glenview': 23, 'Lehighton': 6, 'Valley Stream': 7, 'Kenosha': 19, 'Kenbridge': 10, 'Johnson City': 46, 'Grove City': 13, 'Dunkirk': 16, 'North Port': 18, 'Rancho Cordova': 17, 'Snoqualmie': 4, 'Loganville': 8, 'Greenup': 5, 'La Jolla': 31, 'Mankato': 10, 'Redding': 42, 'Brewster': 21, 'Madisonville': 12, 'North Charleston': 97, 'Cortlandt Manor': 7, 'Fernandina Beach': 11, 'Ridgewood': 19, 'Nazareth': 2, 'Texarkana': 27, 'Iselin': 15, 'Waukesha': 25, 'Lakewood': 22, 'Overland Park': 53, 'Dillingham': 7, 'Bad Axe': 9, 'Nahant': 4, 'Bellmore': 20, 'Montgomery': 73, 'Shelbyville': 11, 'Pawtucket': 7, 'South Boston': 2, 'West New York': 8, 'Langhorne': 34, 'Utica': 36, 'Clarksville': 82, 'Farmville': 28, 'North Hills': 16, 'Oxnard': 24, 'Farmingville': 7, 'Potsdam': 8, 'Cumming': 53, 'Weehawken': 12, 'Broadway': 3, 'Saint Albans': 13, 'Eden Prairie': 14, 'Olean': 9, 'Clifton': 12, 'Pink Hill': 2, 'Santa Rosa': 55, 'Patchogue': 7, 'Palmer': 5, 'Towaco': 17, 'Latonia': 5, 'Michigan City': 14, 'Liverpool': 18, 'Delbarton': 1, 'Apple Valley': 8, 'Farmersville': 1, 'Boynton Beach': 38, 'Chinle': 11, 'Galveston': 25, 'Altamont': 1, 'Orange Beach': 4, 'Loveland': 18, 'Thornton': 4, 'Westfield': 57, 'Winter Springs': 10, 'Gulfport': 19, 'Poughkeepsie': 46, 'South Plainfield': 59, 'Kingsport': 19, 'Mill Valley': 26, 'Liberty': 12, 'Bowling Green': 56, 'Homer': 10, 'Clifton Park': 22, 'Bethel': 16, 'Harleysville': 12, 'San Angelo': 9, 'La Quinta': 24, 'Bradenton': 67, 'Mechanicsville': 9, 'Higganum': 12, 'Tickfaw': 3, 'Franklin Square': 13, 'Amelia': 19, 'Georgetown': 39, 'Prosperity': 1, 'Roseburg': 37, 'Hialeah': 41, 'Westborough': 14, 'Lincoln Park': 15, 'Roseville': 42, 'Redmond': 33, 'Denton': 73, 'Everett': 63, 'New Braunfels': 26, 'Baton Rouge': 42, 'Hayward': 44, 'Hanford': 12, 'Ontario': 31, 'Gloucester': 16, 'Santa Clara': 83, 'Oak Creek': 6, 'Irwin': 6, 'Shamokin': 2, 'Roanoke': 32, 'Lithonia': 16, 'Laurel': 27, 'Newtown Square': 4, 'Oakdale': 3, 'St. George': 33, 'Sun City': 22, 'Maple Shade Township': 6, 'Malibu': 4, 'Mount Juliet': 9, 'Woodland Hills': 16, 'Spartanburg': 26, 'Pinconning': 13, 'Cedar Falls': 7, 'East Millsboro': 2, 'Bethlehem': 39, 'Flower Mound': 11, 'Pottstown': 50, 'Lilburn': 22, 'Americus': 3, 'Eagle River': 4, 'Stroudsburg': 7, 'Bellingham': 19, 'Yorktown Heights': 53, 'Lansing': 74, 'Harrison': 20, 'Elizabeth': 37, 'Manhattan': 20, 'El Dorado': 7, 'Worcester': 105, 'Folsom': 32, 'Wyckoff': 11, 'Media': 11, 'Ossining': 27, 'Carmel': 38, 'Highland Park': 18, 'Eugene': 83, 'North Little Rock': 7, 'Hawthorne': 9, 'Newport': 30, 'Allentown': 44, 'Mount Sinai': 5, 'Pocatello': 3, 'Whiteville': 12, 'Darby': 3, 'Flat Rock': 8, 'Fall River': 9, 'Westminster': 45, 'Watertown': 54, 'Sherwood': 11, 'Morgantown': 53, 'Kernersville': 18, 'Orange': 125, 'Hamden': 19, 'Mount Prospect': 8, 'Windber': 4, 'Cary': 37, 'Beachwood': 17, 'Wausau': 9, 'Sarver': 7, 'Stamford': 39, 'Houma': 8, 'Grosse Pointe': 20, 'Clinton': 26, 'Deptford': 24, 'Richmond Hill': 4, 'Valley Center': 8, 'Vancouver': 90, 'Canoga Park': 14, 'Easton': 29, 'Gibsonburg': 4, 'North Haven': 2, 'Hermitage': 76, 'Eagle': 12, 'Rincon': 6, 'Hope Valley': 13, 'Commack': 12, 'Youngsville': 12, 'Forked River': 2, 'Cuyahoga Falls': 21, 'Bloomingdale': 9, 'Doyline': 2, 'Forest': 12, 'Bettendorf': 7, 'Davis': 23, 'Rockport': 10, 'Boardman': 15, 'Elkton': 14, 'Punta Gorda': 27, 'Duluth': 38, 'Lyons': 3, 'Eyota': 2, 'Port Allen': 2, 'Snohomish': 14, 'Senatobia': 5, 'Plano': 70, 'Cottage Grove': 16, 'League City': 18, 'Montpelier': 11, 'Santa Fe': 44, 'Hingham': 79, 'College Station': 26, 'Madras': 2, 'Irving': 53, 'Havre': 4, 'Sevierville': 17, 'Benicia': 7, 'Londonderry': 3, 'Livonia': 14, 'West Palm Beach': 67, 'Midlothian': 25, 'Greenfield Center': 2, 'Salisbury': 73, 'LaFayette': 7, 'Reseda': 6, 'Lincolnwood': 5, 'Ft. Pierce': 15, 'Bay Village': 4, 'Mona': 3, 'Menlo Park': 19, 'New Caney': 4, 'Broken Arrow': 28, 'Aurora': 77, 'California': 6, 'Denison': 8, 'North Brunswick': 6, 'Ardmore': 14, 'Chappaqua': 12, 'Flagstaff': 45, 'Newington': 9, 'Titusville': 13, 'Woodstock': 36, 'Egg Harbor': 33, 'Reynoldsburg': 29, 'Urbana': 8, 'Nolensville': 9, 'Reading': 54, 'North Liberty': 3, 'Nunn': 2, 'East Amherst': 10, 'Wellington': 27, 'Chandler': 65, 'New Iberia': 8, 'Kissimmee': 85, 'Natick': 18, 'Red Bank': 4, 'Bell Gardens': 9, 'Elizabethton': 8, 'Westerville': 33, 'Cranford': 13, 'Fulton': 29, 'Westbrook': 6, 'Fort Lee': 35, 'Chelmsford': 13, 'Port Washington': 25, 'Hilton Head Island': 10, 'New Castle': 69, 'Farmer City': 2, 'Hutchinson': 13, 'Hernando': 7, 'Woodbridge': 52, 'Taylorville': 10, 'Bay City': 32, 'Bozeman': 17, 'Wilson': 9, 'Hattiesburg': 35, 'Carpinteria': 10, 'Maple Heights': 6, 'Marble Falls': 6, 'Plainville': 3, 'Stony Brook': 9, 'Kaysville': 15, 'Exeter': 11, 'Sayre': 12, 'New Britain': 24, 'Natchez': 6, 'Jersey City': 131, 'Pontiac': 15, 'Maumelle': 6, 'Lake Saint Louis': 14, 'Malden': 45, 'Hyannis': 16, 'Natchitoches': 2, 'Daly City': 50, 'Durant': 5, 'Sellersburg': 1, 'Cortland': 21, 'Harwood Heights': 3, 'Milpitas': 24, 'Amesbury': 7, 'Maumee': 4, 'Skowhegan': 2, 'West Chester': 54, 'Deerfield': 13, 'Laguna Beach': 9, 'Haiku': 8, 'Shirley': 8, 'Putnam': 1, 'Des Moines': 155, 'Brevard': 44, 'South Pasadena': 108, 'Delray Beach': 28, 'Noblesville': 36, 'Fairview Heights': 3, 'Decatur': 90, 'Chamberlain': 2, 'Redwood City': 82, 'Hoffman Estates': 16, 'Laguna Woods': 26, 'Winter Garden': 17, 'Roy': 17, 'Fond du Lac': 10, 'Secaucus': 22, 'Parsippany': 34, 'Lynn': 24, 'Norwood': 28, 'Prosper': 14, 'Bangor': 19, 'Lake Worth': 42, 'Indian Trail': 13, 'Dedham': 12, 'McCurtain': 1, 'Senoia': 2, 'Clementon': 26, 'Skokie': 22, 'Elmhurst': 32, 'Ooltewah': 10, 'Paoli': 5, 'Millington': 3, 'Walla Walla': 7, 'Walnut Cove': 6, 'Williamston': 8, 'Greeneville': 8, 'Uvalde': 7, 'Chestertown': 14, 'Hightstown': 8, 'Addison': 7, 'Youngstown': 27, 'Woodridge': 5, 'Plainsboro': 7, 'Bayonne': 9, 'Frankford': 2, 'Cherry Hill': 27, 'Herndon': 15, 'Buzzards Bay': 1, 'Provo': 41, 'Bremerton': 13, 'Saint Johns': 22, 'Englishtown': 18, 'Marlton': 44, 'Brookeville': 3, 'Sharpsville': 1, 'Kailua': 18, 'South Dartmouth': 5, 'Porter Ranch': 7, 'Jasper': 69, 'Plattsburgh': 16, 'Kinston': 8, 'El Cerrito': 13, 'Gulf Shores': 6, 'Southfield': 46, 'Milnor': 1, 'Laguna Niguel': 10, 'Lutherville-Timonium': 23, 'Corinth': 9, 'Grand Prairie': 17, 'Pensacola': 45, 'Antioch': 41, 'Crestline': 16, 'Blue Springs': 13, 'Torrington': 21, 'Saint Clair Shores': 30, 'Pooler': 12, 'Rohnert Park': 19, 'Coalinga': 7, 'Fuquay-Varina': 18, 'Joshua': 1, 'Mullica Hill': 7, 'West Hartford': 11, 'Carrollton': 26, 'Palestine': 5, 'Carson': 19, 'Prineville': 4, 'Needham': 44, 'Riverview': 30, 'Newton Center': 16, 'West Lafayette': 9, 'Delphi': 31, 'South River': 1, 'Oneida': 2, 'Morgan Hill': 25, 'Pequot Lakes': 6, 'Salinas': 30, 'Brainerd': 18, 'Laplace': 4, 'Emigrant': 11, 'Hampton': 33, 'Shelby': 10, 'La Porte': 9, 'Round Rock': 46, 'Carnegie': 5, 'Pewaukee': 3, 'Kailua-Kona': 16, 'Smithfield': 20, 'Westmoreland': 12, 'Pella': 9, 'Flanders': 8, 'Sparta': 24, 'Grain Valley': 4, 'Manlius': 12, 'Cambridge City': 2, 'Rocklin': 13, 'New Lenox': 13, 'Bryant': 6, 'Corona': 32, 'Grayslake': 6, 'South San Francisco': 25, 'Bordentown': 7, 'Canton': 116, 'Hughson': 2, 'Kahului': 12, 'Alexander City': 4, 'Shawano': 10, 'Eureka': 18, 'Stuart': 21, 'Mount Olive': 5, 'Cream Ridge': 6, 'El Dorado Hills': 7, 'Aldie': 4, 'Levittown': 32, 'Satellite Beach': 16, 'Leesburg': 33, 'Prince Frederick': 6, 'Guttenberg': 1, 'Murrieta': 18, 'Fort Payne': 12, 'Golden': 4, 'Monterey': 14, 'Ambler': 13, 'Cantrall': 13, 'Rialto': 12, 'Matthews': 50, 'Wilmette': 29, 'Bath': 7, 'Three Rivers': 5, 'Birdsboro': 2, 'Prior Lake': 7, 'La Crescenta': 2, 'Chevy Chase': 27, 'Walkersville': 7, 'Culver City': 6, 'Los Osos': 9, 'Binghamton': 21, 'Sunset Beach': 9, 'Hollister': 9, 'Whitesboro': 9, 'Glen Allen': 20, 'Melbourne': 38, 'Howell Township': 15, 'Nacogdoches': 21, 'Fenwick': 4, 'Norwich': 8, 'Baytown': 6, 'Brookings': 6, 'West Bloomfield': 37, 'Eagle Point': 2, 'Martinsville': 13, 'Oneonta': 11, 'Port Byron': 2, 'Mulvane': 4, 'Ocoee': 5, 'Kula': 17, 'Anderson': 24, 'North Wales': 26, 'Byrnedale': 3, 'Oviedo': 12, 'Twentynine Palms': 23, 'Blacksburg': 72, 'Marshall': 7, 'Ottawa': 6, 'Bridgeport': 36, 'Hendersonville': 68, 'Corbin': 17, 'Long Beach': 52, 'Penfield': 2, 'Woburn': 10, 'Monument': 18, 'Johnstown': 38, 'Garrison': 1, 'Buffalo Grove': 18, 'Meadville': 12, 'Galesburg': 6, 'Painesville': 25, 'Pearland': 28, 'San Tan Valley': 7, 'Bradley Beach': 2, 'Merced': 16, 'Maywood': 16, 'Westwood': 29, 'Tehachapi': 16, 'Wrentham': 9, 'Chelsea': 9, 'Mishawaka': 13, 'Essex Junction': 1, 'Terre Haute': 6, 'Apopka': 76, 'Montrose': 18, 'Old Bridge': 11, 'Prospect': 6, 'Traverse City': 28, 'Weedsport': 8, 'Manvel': 6, 'Newport News': 31, 'North Bend': 3, 'Williamsburg': 40, 'Winchester': 18, 'Bandera': 16, 'Belmont': 43, 'Downers Grove': 15, 'Hackettstown': 13, 'Freeland': 16, 'Chesapeake': 41, 'Rockmart': 1, 'Jacksonville Beach': 16, 'Sonoma': 18, 'San Clemente': 10, 'Lee': 10, 'Delano': 3, 'Palm Desert': 18, 'Fergus Falls': 5, 'Montclair': 29, 'Lawrenceville': 35, 'Boonton': 4, 'Battle Creek': 6, 'Warwick': 31, 'Castroville': 3, 'East Point': 5, 'North Olmsted': 8, 'Jamestown': 24, 'Andover': 50, 'Ridgeland': 5, 'Southampton': 31, 'Paintsville': 7, 'Glendale': 51, 'Harlem': 1, 'Calabasas': 12, 'Glastonbury': 12, 'North Chicago': 16, 'Palmyra': 8, 'Joplin': 8, 'Moscow': 18, 'Encinitas': 11, 'Jonesboro': 19, 'Monroeville': 5, 'Kenedy': 4, 'Paramus': 16, 'Clemson': 13, 'Chesapeake Beach': 4, 'Mililani Town': 10, 'Claremont': 71, 'Alameda': 13, 'Coventry': 8, 'Elkridge': 16, 'Macedon': 10, 'Pacoima': 12, 'Temple': 24, 'Wesley Chapel': 23, 'Cedar Lake': 8, 'Pleasant Grove': 5, 'Port Jefferson Station': 4, 'Harrodsburg': 6, 'New Canaan': 11, 'Lutz': 43, 'Garner': 9, 'Valencia': 12, 'New Market': 26, 'Waltham': 29, 'Jena': 5, 'Jasonville': 3, 'Batavia': 17, 'Oyster Bay': 6, 'Drums': 5, 'Keller': 29, 'Royal Oak': 54, 'Rome': 42, 'DeSoto': 8, 'Jamaica Plain': 7, '\\x18Aiea': 9, 'Sebree': 2, 'Tupelo': 12, 'Allen Park': 11, 'Kaneohe': 10, 'Wimauma': 2, 'Mechanicsburg': 19, 'Paso Robles': 4, 'Troy': 94, 'Pacifica': 14, 'Granger': 5, 'Westbury': 17, 'Holland': 54, 'Waipahu': 12, 'Moultrie': 6, 'Cuba City': 3, 'Emporia': 10, 'Marina': 2, 'Arkadelphia': 1, 'Franklinville': 6, \"Coeur d'Alene\": 15, 'Hammond': 21, 'Park City': 11, 'Lockport': 9, 'Beaverton': 16, 'Buckeye': 7, 'Red Oak': 10, 'Coraopolis': 5, 'Garnett': 6, 'Hoboken': 22, 'Lafayette Hill': 8, 'Menifee': 33, 'Bluffton': 12, 'Cupertino': 15, 'Berlin': 13, 'Cape Elizabeth': 4, 'Oconomowoc': 11, 'Napoleon': 6, 'Porterville': 12, 'Northampton': 24, 'Lake Jackson': 5, 'Middleburg': 14, 'Hopewell Junction': 5, 'Chester Springs': 6, 'Saint Michael': 8, 'Whitesburg': 4, 'Chalmette': 5, 'Clarks Summit': 8, 'Paw Paw': 14, 'De Pere': 17, 'Syosset': 21, 'Midland': 60, 'Cedar Hill': 8, 'Kennett Square': 11, 'Richardson': 24, 'Billings': 36, 'Rossville': 4, 'Amityville': 3, 'Quincy': 26, 'Laurinburg': 7, 'Morganville': 9, 'Shallotte': 4, 'Crystal Lake': 19, 'Huntingdon Valley': 5, 'Sparks': 13, 'Dodgeville': 4, 'San Juan Capistrano': 5, 'Groton': 10, 'Iron Mountain': 6, 'Sylvania': 8, 'Powell': 27, 'Saint Charles': 32, 'Newberg': 4, 'Stanton': 14, 'South Paris': 10, 'Woodbury': 26, 'Colonia': 14, 'Whippany': 5, 'Green Lane': 2, 'Baden': 4, 'Santa Monica': 22, 'Chambersburg': 17, 'Ridgeway': 4, 'River Edge': 6, 'Carmichael': 15, 'Bridgewater': 15, 'Fort Smith': 17, 'Bay Shore': 9, 'Riverbank': 19, 'Novato': 8, 'Waite Park': 1, 'Sunrise Beach': 2, 'Millsboro': 14, 'Waconia': 30, 'Great Barrington': 14, 'King of Prussia': 3, 'Rensselaer': 13, 'Ringle': 11, 'Florham Park': 8, 'Grass Valley': 5, 'Delaware': 9, 'Gig Harbor': 29, 'Wentzville': 23, 'Fort Defiance': 15, 'Chester': 21, 'Morgan City': 6, 'Homer Glen': 18, 'Jenkintown': 10, 'El Cajon': 28, 'Southaven': 17, 'Topeka': 21, 'Lansdale': 12, 'Selma': 10, 'Woonsocket': 24, 'Margate': 10, 'Freeport': 27, 'Hobbs': 3, 'Ventura': 21, 'Black Mountain': 5, 'Winnetka': 5, 'Gadsden': 7, 'Hampstead': 12, 'Rapid City': 20, 'Ellicott City': 29, 'Nokomis': 13, 'Lodi': 24, 'Sicklerville': 8, 'Canby': 5, 'West Fargo': 16, 'Crescent City': 9, 'Valdosta': 5, 'Lake Charles': 30, 'Centereach': 6, 'Flora': 3, 'Santa Barbara': 46, 'Rogersville': 4, 'Sturgeon Bay': 8, 'Endicott': 9, 'Kanab': 3, 'Willow Grove': 7, 'Mount Laurel': 16, 'Buchanan': 2, 'Alton': 17, 'Ocean Springs': 5, 'Beech Grove': 2, 'Lake Havasu City': 16, 'High Springs': 2, 'Forest City': 6, 'Hastings': 40, 'Peachtree Corners': 6, 'Croton-on-Hudson': 5, 'Walpole': 4, 'Rutland': 6, 'Santa Claus': 1, 'Belle Glade': 4, 'Fortville': 6, 'Whitinsville': 8, 'Monterey Park': 9, 'Suffolk': 17, 'Keego Harbor': 4, 'Normalville': 2, 'Carterville': 6, 'Whitmore Lake': 7, 'Flushing': 13, 'Arrington': 3, 'San Bruno': 7, 'Bellflower': 9, 'Beaver Falls': 22, 'Owens Cross Roads': 7, 'Fishers': 26, 'Winterville': 14, 'Skaneateles': 7, 'Lynn Haven': 1, 'Dunellen': 2, 'Yucca Valley': 10, 'Collierville': 29, 'Lake Elsinore': 6, 'Loudon': 4, 'Hopewell': 7, 'Eatontown': 11, 'Fallon': 11, 'Putney': 3, 'Bartlett': 5, 'Chicopee': 19, 'Hilliard': 23, 'Nantucket': 3, 'San Marcos': 27, 'Euless': 14, 'Burlingame': 7, 'Lake Ariel': 5, 'Breckenridge': 13, 'Ashley': 4, 'Colchester': 15, 'Riverton': 22, 'Indiana': 6, 'Leominster': 8, 'Moraga': 12, 'Merrimack': 3, 'Brookville': 12, 'Peabody': 11, 'Saint Marys': 23, 'Kingston': 26, 'Wills Point': 9, 'Tustin': 15, 'New Hartford': 9, 'Searcy': 24, 'Charlestown': 6, 'Stites': 3, 'Boydton': 19, 'Delanson': 24, 'Pawleys Island': 4, 'West Valley City': 9, 'New Ulm': 3, 'Des Plaines': 20, 'Hickman': 10, 'Cold Spring Harbor': 2, 'Warner Robins': 19, 'Falmouth': 15, 'Stephens City': 10, 'Fitchburg': 6, 'Waldorf': 20, 'Goodyear': 17, 'Alvin': 7, 'Sylva': 9, 'Kea\\x18au': 8, 'Greer': 27, 'Oakley': 7, 'Homosassa': 6, 'Rockland': 17, 'Catskill': 7, 'Odenville': 2, 'Vandergrift': 5, 'Camillus': 4, 'Normal': 6, 'Pratt': 2, 'Willmar': 1, 'Apollo': 5, 'Waverly': 8, 'Fox Lake': 9, 'Pittsfield': 27, 'Bethpage': 2, 'Moorestown': 10, 'Lawrenceburg': 17, 'Eastpointe': 4, 'Storrs': 8, 'River Forest': 1, 'Coburn': 2, 'Beach Haven': 5, 'Mena': 7, 'Paterson': 34, 'Riverhead': 4, 'Albemarle': 23, 'Apex': 34, 'Sound Beach': 4, 'East Rutherford': 2, 'Hanover': 14, 'Coolidge': 3, 'Moyock': 5, 'Seaford': 10, 'Findlay': 10, 'Pomona': 9, 'Newbury Park': 37, 'Hartsville': 14, 'Wexford': 4, 'Middleboro': 9, 'Forney': 12, 'Front Royal': 12, 'Paonia': 3, 'Indio': 15, 'Voorhees Township': 6, 'Seal Beach': 8, 'Hopkinton': 5, 'Escondido': 16, 'Fenton': 36, 'Crumpler': 5, 'Spanish Fork': 3, 'Bend': 23, 'Ruskin': 9, 'Okeechobee': 1, 'Fair Lawn': 11, 'Newberry': 9, 'Iowa City': 39, 'Weslaco': 11, 'Cape May': 10, 'Altadena': 7, 'Glennville': 6, 'Lackawanna': 3, 'Sioux City': 32, 'Amherst': 24, 'Boiling Springs': 19, 'Haverhill': 18, 'Walkerton': 1, 'Warrensburg': 10, 'Las Cruces': 21, 'Clearwater': 36, 'Covina': 9, 'Humble': 26, 'Wheaton': 17, 'Calico Rock': 10, 'Freehold': 16, 'Brookfield': 28, 'Shippensburg': 4, 'Pine Brook': 1, 'Russellville': 5, 'Petersburg': 17, 'Sharon Hill': 3, 'Oxford': 39, 'Yuma': 33, 'Oakes': 2, 'Hermann': 1, 'Colonial Heights': 6, 'Gardner': 17, 'Rock Springs': 10, 'North Smithfield': 1, 'Westlake': 14, 'Novi': 27, 'Red Bluff': 7, 'Woodinville': 2, 'Upper Marlboro': 32, 'Ridgecrest': 3, 'Tucker': 14, 'Great Neck': 23, 'Daytona Beach': 15, 'Estacada': 17, 'Derry': 12, 'Vienna': 20, 'Caldwell': 9, 'Altamonte Springs': 11, 'Presque Isle': 2, 'Havertown': 34, 'North Tonawanda': 15, 'McCormick': 3, 'Guyton': 4, 'Murphy': 3, 'West Grove': 6, 'Palmdale': 17, 'Riverdale': 8, 'Ross': 3, 'West Boylston': 4, 'Bossier City': 7, 'Edwardsville': 11, 'Chesterland': 4, 'Rhinelander': 5, 'Rancho Mirage': 1, 'Mamaroneck': 5, 'Vernon': 8, 'Racine': 21, 'Pickerington': 14, 'Siloam Springs': 1, 'Centralia': 7, 'Dana Point': 7, 'Passaic': 22, 'Beaufort': 16, 'Mansfield': 39, 'Sandy Hook': 4, 'Northumberland': 2, 'Muldrow': 3, 'Sykesville': 30, 'Ingram': 1, 'Menomonee Falls': 17, 'Tazewell': 1, 'Placentia': 29, 'Tahlequah': 9, 'Pharr': 11, 'Hemet': 20, 'Dane': 3, 'Bennington': 4, 'Saint Gabriel': 2, 'Redwood Falls': 1, 'Sumter': 29, 'Torrance': 40, 'Folly Beach': 4, 'Jal': 2, 'White Salmon': 7, 'Enid': 1, 'Studio City': 8, 'Hazleton': 12, 'Lynnwood': 26, 'Mount Carmel': 4, 'Cockeysville': 12, 'Commerce': 11, 'Dexter': 6, 'McAllen': 9, 'Owings': 17, 'Sugarcreek': 3, 'Berkeley Heights': 5, 'Lumberton': 17, 'Green Valley': 9, 'Laporte': 7, 'South Lyon': 11, 'Pell City': 9, 'Hailey': 4, 'Winder': 10, 'Lawton': 3, 'Hopkins': 7, 'Oroville': 5, 'Marblehead': 7, 'Elkins Park': 6, 'Idyllwild': 3, 'Teaneck': 20, 'Monmouth Junction': 11, 'Wenham': 1, 'Ashland': 24, 'Montebello': 30, 'Rockingham': 6, 'Pleasant Prairie': 1, 'Miramar Beach': 8, 'Alsip': 7, 'North Myrtle Beach': 2, 'Grand Blanc': 11, 'Shelton': 16, 'Buford': 12, 'Keyser': 20, 'Leo-Cedarville': 5, 'Sallisaw': 6, 'Arkansas City': 3, 'Elgin': 20, 'Lucedale': 3, 'Leesville': 33, 'Little Falls': 8, 'Alpena': 1, 'Bishop': 4, 'Gansevoort': 2, 'Parkesburg': 1, 'Round Lake': 14, 'Rockville Centre': 10, 'Winner': 1, 'Copperas Cove': 3, 'Elmer': 8, 'Sandusky': 12, 'West Point': 4, 'Parsons': 11, 'Diamond Bar': 3, 'Daleville': 1, 'Warminster': 5, 'Maple Valley': 3, 'Port Clinton': 7, 'Shawnee': 12, 'Conyers': 20, 'Sapulpa': 8, 'Victorville': 10, 'DeKalb': 12, 'Cordele': 1, 'Rexburg': 5, 'Lake Alfred': 4, 'Bailey': 16, 'Mayfield': 12, 'Sierra Vista': 24, 'North Andover': 12, 'Westhampton Beach': 7, 'New Baltimore': 9, 'Westmont': 4, 'North English': 2, 'Lake Forest': 25, 'Roslindale': 18, 'Clairton': 2, 'Pineville': 11, 'Goreville': 5, 'Quinlan': 4, 'Windsor': 19, 'Tolleson': 2, 'Whitsett': 3, 'Saddle River': 8, 'Rancho Palos Verdes': 9, 'Ware': 5, 'Colby': 3, 'Sugar Loaf': 3, 'Elkview': 2, 'Tualatin': 9, 'Vinton': 7, 'Dalton': 30, 'Anthony': 15, 'Muenster': 2, 'Horn Lake': 9, 'Canonsburg': 17, 'Delavan': 3, 'Galloway': 1, 'Mt. Pleasant': 44, 'Kieler': 1, 'Corona del Mar': 2, 'Taunton': 11, 'Barre': 2, 'Sea Girt': 13, 'New Philadelphia': 7, 'Braintree': 2, 'Wappingers Falls': 12, 'Glasgow': 10, 'Aliso Viejo': 15, 'Massapequa Park': 4, 'Shakopee': 13, 'Glen Cove': 11, 'Rockwall': 27, 'Ormond Beach': 16, 'Agoura Hills': 8, 'Lakeport': 2, 'Springboro': 9, 'Feasterville-Trevose': 1, 'Frankfort': 6, 'Ferndale': 17, 'Maria Stein': 1, 'Damascus': 13, 'Long Valley': 19, 'Aberdeen': 18, 'Many': 5, 'Minnetonka': 13, 'Annapolis': 20, 'Dry Ridge': 1, 'Danvers': 19, 'McKinney': 46, 'Sudbury': 5, 'Colton': 11, 'Farmington Hills': 3, 'Lima': 18, 'Sun Prairie': 19, 'Uniondale': 2, 'Springdale': 9, 'Northbrook': 15, 'Seminole': 20, 'Cape Girardeau': 5, 'Beverly Hills': 11, 'Seguin': 15, 'Lincolnville': 6, 'Leander': 35, 'Raymond': 5, 'Ripon': 5, 'Kalkaska': 1, 'East Falmouth': 2, 'Stony Point': 6, 'Hartsdale': 2, 'Vineland': 13, 'Gibsonia': 8, 'San Anselmo': 10, 'Allons': 1, 'Cosby': 1, 'Voorheesville': 2, 'Avon': 32, 'Plant City': 12, 'Lykens': 3, 'San Francisco De Las Llagas': 11, 'Cassville': 6, 'Keene': 21, 'Mystic': 5, 'London': 8, 'Odenton': 17, 'Mission': 29, 'Yorktown': 6, 'Susanville': 2, 'Pulaski': 15, 'Capac': 4, 'Sulphur Springs': 7, 'Princeton': 58, 'DeWitt': 5, 'Creedmoor': 1, 'Parkton': 9, 'Bismarck': 22, 'Red Bud': 1, 'Salina': 2, 'Ozark': 15, 'Maryville': 21, 'Bellerose': 3, 'Ames': 17, 'Colfax': 5, 'Barrington': 16, 'Palm Bay': 13, 'Ijamsville': 1, 'Cornelius': 8, 'Windham Center': 5, 'Versailles': 12, 'Post Falls': 6, 'Rancho Santa Margarita': 18, 'Warrior': 3, 'Levelland': 6, 'East Meadow': 12, 'Fox River Grove': 2, 'Alpine': 10, 'Beaver': 7, 'Wauseon': 2, 'Clarksdale': 3, 'Amery': 4, 'Girard': 9, 'North Canton': 12, 'Matawan': 8, 'West Roxbury': 13, 'Larose': 6, 'Gretna': 8, 'Ellwood City': 5, 'Chico': 24, 'Stockton': 48, 'Essex': 8, 'Marianna': 3, 'Downingtown': 11, 'Valley Springs': 5, 'Scarsdale': 5, 'North Fort Myers': 12, 'York Village': 10, 'Newtown': 19, 'Asheboro': 6, 'Richland': 15, 'Wise': 2, 'Navarre': 11, 'Graham': 10, 'Oley': 7, 'Chino': 10, 'Geneseo': 5, 'Tewksbury': 8, 'Hannibal': 5, 'Stoughton': 23, 'Huntington Beach': 25, 'Bethalto': 5, 'Palm Harbor': 21, 'Belvidere': 9, 'Marienville': 8, 'Clackamas': 2, 'Bremen': 2, 'Moorpark': 5, 'Melvindale': 4, 'Romulus': 12, 'Green Bay': 24, 'Rye': 4, 'Scarborough': 5, 'Murray': 7, 'Greenport': 17, 'Cookeville': 23, 'Sault Ste. Marie': 4, 'Prairieville': 17, 'Lorton': 10, 'Ville Platte': 4, 'Rehoboth': 6, 'Copiague': 2, 'Clarkston': 14, 'Park Hall Estates': 2, 'Aubrey': 4, 'Boone': 17, 'North Aurora': 3, 'Petaluma': 18, 'Aliquippa': 6, 'Shafter': 6, 'Doylestown': 23, 'Willowbrook': 7, 'Alhambra': 6, 'Kyle': 8, 'Glen Carbon': 7, 'Ramona': 11, 'Westchester': 1, 'Lake Placid': 13, 'Okatie': 3, 'Kaufman': 11, 'Nuevo': 7, 'Mission Viejo': 21, 'Tucumcari': 6, 'Stanford': 13, \"'Ewa Beach\": 9, 'Townsend': 4, 'Nottingham': 25, 'Pueblo': 24, 'West Islip': 9, 'Tujunga': 7, 'Pine Island': 2, 'Sitka': 5, 'Wilsall': 4, 'Ladson': 2, 'Drexel Hill': 7, 'Muscatine': 2, 'Olive Branch': 7, 'Calexico': 2, 'Jordan': 9, 'Clovis': 7, 'Cheyenne': 31, 'Ambridge': 4, 'Severn': 9, 'Kankakee': 9, 'La Pine': 2, 'Owensboro': 10, 'Duncan': 7, 'Pekin': 11, 'Jonesborough': 3, 'Hampshire': 6, 'Los Banos': 4, 'West Haven': 8, 'Weston': 4, 'Sebring': 11, 'Blaine': 2, 'New Hyde Park': 10, 'Newport Coast': 2, 'Saegertown': 1, 'Goose Creek': 12, 'Fountain Hills': 6, 'Bushnell': 1, 'Avon Lake': 7, 'Missoula': 34, 'San Simon': 1, 'Canal Winchester': 9, 'La Center': 11, 'Saint James': 2, 'Tonawanda': 9, 'Elmont': 32, 'Dunnellon': 3, 'West Chazy': 7, 'Granville': 6, 'Libertyville': 5, 'Ulysses': 1, 'Valley View': 6, 'Zebulon': 12, 'Santa Maria': 14, 'Pacific Grove': 2, 'Huntington Park': 4, 'Laredo': 24, 'Manassas': 21, 'Harpswell': 12, 'Shavertown': 16, 'Revere': 21, 'Elon': 5, 'Grand Forks': 13, 'McKees Rocks': 2, 'Ferriday': 3, 'Corrales': 1, 'Clarksburg': 9, 'Port Deposit': 3, 'Chagrin Falls': 9, 'Onalaska': 7, 'Emmaus': 3, 'South Jordan': 34, 'North Hollywood': 21, 'Moline': 7, 'Hammonton': 9, 'Great Falls': 15, 'Livermore': 7, 'Stillwater': 20, 'East Hampton': 10, 'Glade Spring': 4, 'Northport': 8, 'Loogootee': 6, 'New Martinsville': 4, 'Houghton Lake': 3, 'Glassboro': 3, 'Ponte Vedra Beach': 16, 'Hagerstown': 11, 'Magee': 2, 'New Bern': 18, 'Blue Ridge': 10, 'Cullman': 5, 'Gwynn Oak': 46, 'Cocoa': 4, 'Soldotna': 4, 'Hixson': 9, 'Heber': 1, 'Leawood': 15, 'White Lake': 10, 'Edinburg': 15, 'East Greenwich': 8, 'Pagosa Springs': 4, 'Seabrook': 7, 'Foxborough': 2, 'Saratoga': 9, 'Severna Park': 14, 'Brockton': 18, 'Ashburnham': 7, 'Rowland Heights': 5, 'Topsfield': 3, 'Hurt': 1, 'Doniphan': 2, 'Marcus Hook': 5, 'Adelanto': 3, 'Draper': 7, 'Telford': 4, 'Corsicana': 3, 'Bemidji': 4, 'Mays Landing': 3, 'Huger': 6, 'Ennis': 4, 'Melrose Park': 5, 'Scotts Valley': 19, 'West Hempstead': 10, 'Vestal': 9, 'Snellville': 10, 'Gales Ferry': 1, 'Baxter': 11, 'Owego': 2, 'Arden': 13, 'Sartell': 5, 'Saddle Brook': 4, 'McVille': 3, 'Abington': 5, 'Ellisville': 6, 'North Augusta': 10, 'Wimberley': 18, 'Carpentersville': 3, 'Wylie': 25, 'South Hamilton': 6, 'Issaquah': 16, 'Bandon': 6, 'Lombard': 16, 'Joliet': 13, 'Greeley': 10, 'Fairhope': 15, 'Champlin': 4, 'Overland': 16, 'Logan': 11, 'Tappahannock': 18, 'Euclid': 18, 'Orange Park': 16, 'Slidell': 12, 'Lyndhurst': 5, 'Stacy': 12, 'Herriman': 17, 'Gardena': 14, 'Monmouth': 2, 'Exton': 16, 'Mountain City': 4, 'Blue Bell': 3, 'Monongahela': 2, 'Venetia': 1, 'Cherryville': 2, 'Worth': 8, 'Sussex': 10, 'Fountain Inn': 2, 'Oak Ridge': 10, 'Sammamish': 12, 'Floral Park': 5, 'Pontotoc': 5, 'Lacey': 11, 'Fort Stockton': 3, 'Belding': 4, 'Orange City': 3, 'Feeding Hills': 5, 'Sheboygan': 15, 'Landrum': 5, 'Elizabethtown': 12, 'Rocky Mount': 4, 'Hercules': 13, 'Pikesville': 3, 'Matteson': 6, 'Muskegon': 13, 'Babylon': 4, 'San Ramon': 4, 'Toccoa': 5, 'Larkspur': 1, 'Harker Heights': 7, 'Ponca City': 3, 'Potosi': 3, 'Mustang': 2, 'Rocky Top': 5, 'Havelock': 4, 'Sandpoint': 7, 'LaBelle': 3, 'Poca': 5, 'Kingwood': 8, 'Broadview': 2, 'Douglasville': 9, 'Havre de Grace': 10, 'Lake Stevens': 12, 'Rogers': 17, 'Iowa': 3, 'Tuscaloosa': 23, 'Bayport': 1, 'Mandeville': 18, 'Harbeson': 1, 'Ankeny': 18, 'Short Hills': 3, 'Nashua': 23, 'Crowley': 5, 'Duarte': 17, 'Fayette': 2, 'Fullerton': 16, 'Parlin': 9, 'Hays': 11, 'Guston': 2, 'Rose Hill': 2, 'Little Hocking': 2, 'Halethorpe': 18, 'Grand Island': 20, 'St. Marys': 1, 'Crawfordsville': 7, 'Collins': 3, 'Bellmawr': 1, 'Bow': 2, 'Yukon': 8, 'Albia': 3, 'Cincinnatus': 2, 'Peru': 3, 'Sterling': 11, 'Broomfield': 14, 'Palm City': 7, 'Sonora': 11, 'Lambsburg': 10, 'Harrogate': 5, 'Mexia': 1, 'Coopersville': 4, 'Clanton': 1, 'Taylors': 12, 'Peterborough': 2, 'Kaplan': 4, 'Monson': 3, 'Nesconset': 3, 'Chino Hills': 17, 'Scituate': 3, 'Cardiff-by-the-Sea': 4, 'Dobbs Ferry': 11, 'Harrisonville': 9, 'Elizabeth City': 3, 'Scappoose': 7, 'Waldport': 3, 'New Richmond': 2, 'Ocean City': 7, 'Tulare': 14, 'Bellaire': 7, 'Los Altos': 7, 'Iowa Park': 1, 'North Las Vegas': 15, 'Toronto': 1, 'Dumont': 3, 'Lake Katrine': 4, 'Poolesville': 3, 'Township of Sugarloaf': 4, 'North Wilkesboro': 5, 'Emmetsburg': 1, 'West Covina': 2, 'Nebraska City': 1, 'Waterbury': 10, 'La Habra': 2, 'Quogue': 1, 'Belchertown': 1, 'Wyoming': 1, 'Watford City': 3, 'Waterford': 22, 'Henniker': 4, 'Romeoville': 6, 'Kennesaw': 15, 'Vilonia': 5, 'Greenwich': 4, 'Brewton': 6, 'Madera': 8, 'Bronxville': 10, 'Newville': 2, 'Fort Bragg': 4, 'Gladewater': 2, 'Dearborn Heights': 12, 'Anoka': 8, 'Madison Heights': 5, 'Starksboro': 4, 'Lowell': 20, 'Bala-Cynwyd': 4, 'Kalispell': 12, 'Brecksville': 2, 'Kapolei': 4, 'South Charleston': 14, 'Rotonda West': 6, 'Latrobe': 2, 'Yankton': 6, 'Stow': 13, 'Lunenburg': 3, 'Warrenton': 13, 'Lake Hopatcong': 2, 'Woodmere': 2, 'Casper': 7, 'Spanaway': 8, 'Banning': 9, 'California City': 2, 'Discovery Bay': 1, 'Radcliff': 4, 'Wolcott': 6, 'Adkins': 2, 'Lake City': 11, 'Lexington Park': 3, 'Okemos': 10, 'Phoenixville': 6, 'Garden Grove': 14, 'Waynesboro': 10, 'Alberta': 2, 'Plentywood': 4, 'Cape May Court House': 8, 'Grandville': 8, 'Williamstown': 3, 'Sauk Rapids': 14, 'Gaylord': 3, 'Patrick': 3, 'Lone Tree': 1, 'Mount Horeb': 7, 'Mayville': 1, 'Conway': 16, 'Jeffersonville': 11, 'North Ridgeville': 8, 'Chippewa Falls': 3, 'Marco Island': 2, 'Port Angeles': 5, 'Rowe': 4, 'Lewisville': 20, 'Dunedin': 15, 'Benton Harbor': 18, 'Watervliet': 8, 'Roxboro': 2, 'Marmora': 4, 'Granbury': 10, 'Scroggins': 5, 'South Weymouth': 6, 'Flatonia': 3, 'College Park': 6, 'Allen': 30, 'Lehi': 11, 'New Kent': 1, 'Valrico': 10, 'Conneaut': 6, 'Lake Village': 3, 'Antelope': 3, 'West Liberty': 2, 'Hinsdale': 6, 'Helena': 12, 'White Stone': 5, 'Maynard': 12, 'El Mirage': 12, 'Stockbridge': 10, 'Schererville': 18, 'Eagle Mountain': 6, 'Inverness': 9, 'Oronoco': 6, 'Washougal': 2, 'Irmo': 2, 'Cedar City': 24, 'Central Point': 11, 'Tarrytown': 3, 'Carbondale': 11, 'Paragould': 6, 'Cheshire': 3, 'Lake Peekskill': 1, 'Annville': 1, 'Meyersdale': 4, 'Cedar Grove': 2, 'Fletcher': 3, 'Howell': 13, 'Mt. Dora': 11, 'Mountain Top': 4, 'Signal Mountain': 4, 'Sorrento': 3, 'Narberth': 3, 'Vineyard Haven': 4, 'Chantilly': 8, 'Guilford': 3, 'Renton': 9, 'Walterboro': 2, 'Wellesley Hills': 5, 'Pepperell': 7, 'Pine Bush': 4, 'Guntersville': 2, 'Leavenworth': 6, 'West Bend': 23, 'Temple Terrace': 6, 'Walled Lake': 5, 'Oak Forest': 3, 'Wyandotte': 2, 'South Point': 2, 'Islip': 5, 'Jenks': 8, 'Mableton': 3, 'Diana': 6, 'McCalla': 9, 'Waukegan': 10, 'Williams Bay': 1, 'McCordsville': 2, 'Nelsonville': 5, 'Donalsonville': 1, 'Iola': 1, 'Roanoke Rapids': 3, 'East Aurora': 9, 'Paris': 9, 'Neenah': 14, 'Allston': 10, 'Cisco': 5, 'Anna': 3, 'Cross Lake': 4, 'Hilo': 11, 'Hempstead': 4, 'Saint John': 8, 'Brenham': 11, 'Rice Lake': 6, 'East Wenatchee': 14, 'McKeesport': 19, 'East Jordan': 2, 'East Greenbush': 14, 'Tomball': 9, 'Baldwin City': 2, 'Encino': 4, 'Armonk': 2, 'Castle Rock': 2, 'Stonewall': 2, 'Vincentown': 1, 'McPherson': 3, 'Sayville': 10, 'Marquette': 9, 'Taylorsville': 11, 'Oak Harbor': 5, 'Two Rivers': 11, 'Hummelstown': 5, 'Woodway': 8, 'Lithia': 4, 'Wilkes-Barre': 10, 'Longwood': 6, 'Kenner': 13, 'Dillsburg': 5, 'Rochelle': 3, 'Hampton Bays': 26, 'Millry': 6, 'Winthrop': 3, 'Millbrook': 5, 'Muscle Shoals': 1, 'Underwood': 3, 'Metairie': 31, 'West Monroe': 8, 'Willis': 4, 'La Mesa': 13, 'Charles Town': 8, 'Wadsworth': 25, 'Bevinsville': 2, 'Coatesville': 4, 'Bolivar': 7, 'Berkeley Springs': 5, 'Lake Orion': 13, 'Duvall': 2, 'Bartlesville': 13, 'Mount Holly': 7, 'Dexter City': 2, 'Berthoud': 3, 'Hephzibah': 2, 'Tiptonville': 1, 'Oil City': 5, 'Lanett': 10, 'Becker': 1, 'Pleasant Hill': 19, 'Bridgeville': 5, 'The Colony': 12, 'Raynham': 1, 'Johns Island': 9, 'Hillsborough': 25, 'Milo': 3, 'Pacific Palisades': 2, 'Southern Pines': 3, 'Lincolnton': 11, 'Longmont': 15, 'Plaquemine': 5, 'Sun City West': 7, 'Thomasville': 18, 'Elk City': 3, 'Crestwood': 11, 'Dandridge': 4, 'Manhasset': 15, 'Collinsville': 6, 'South Pittsburg': 3, 'Barberton': 3, 'Dixons Mills': 1, 'Caddo Mills': 1, 'Carver': 8, 'Buckley': 5, 'Bedminster': 8, 'La Vergne': 7, 'New Brunswick': 13, 'Webster City': 1, 'Woods Cross': 5, 'Middle River': 8, 'Lindenhurst': 6, 'North Pole': 3, 'Osterville': 3, 'Channahon': 1, 'Fort Jones': 1, 'Portales': 2, 'Munster': 2, 'Jensen Beach': 3, 'Ramer': 8, 'Trumbull': 12, 'Half Moon Bay': 20, 'Sunnyside': 5, 'Cotati': 4, 'Aston Mills': 6, 'Verona': 8, 'Harbor Springs': 2, 'Sherman': 11, 'Moberly': 2, 'Upland': 27, 'Bethel Park': 11, 'Duncanville': 8, 'Winfield': 1, 'Bellwood': 3, 'Prague': 3, 'Schaumburg': 25, 'Fort Washington': 8, 'Parrish': 2, 'Reidsville': 5, 'Leipsic': 1, 'Dobson': 3, 'Wynnewood': 7, 'South Haven': 3, 'Mukilteo': 4, 'Narragansett': 2, 'Bellville': 3, 'Chiefland': 4, 'Boonville': 6, 'Borger': 2, 'Mountlake Terrace': 6, 'Moses Lake': 3, 'Cartersville': 10, 'North Scituate': 6, 'Twin Falls': 8, 'Magna': 2, 'Schertz': 13, 'Cresson': 4, 'Wake Forest': 31, 'Brea': 24, 'Winona': 2, 'Pinellas Park': 11, 'Lakebay': 2, 'Lucasville': 3, 'Chesterton': 2, 'Wilmer': 1, 'Bourbonnais': 4, 'Canadensis': 6, 'Canandaigua': 7, 'South Lake Tahoe': 2, 'Dinuba': 6, 'Western Springs': 4, 'Opelika': 4, 'Holmdel': 5, 'Whitehall': 2, 'Eastham': 3, 'North Providence': 4, 'Seneca': 2, 'Old Lyme': 2, 'Halls': 3, 'Chardon': 4, 'Belle Mead': 1, 'Schuylerville': 4, 'Walden': 4, 'Cobleskill': 7, 'Port Huron': 12, 'Sandwich': 7, 'Piedmont': 7, 'Beverly': 15, 'Florissant': 13, 'Plattsburg': 5, 'Tiverton': 2, 'West Springfield': 5, 'Blanding': 2, 'Upper Darby': 10, 'Yazoo City': 2, 'Chapmanville': 5, 'Byron Center': 6, 'La Palma': 1, 'Wood-Ridge': 2, 'Mount Rainier': 4, 'Roebling': 6, 'Ironton': 3, 'Bay Saint Louis': 2, 'Alamogordo': 11, 'Forsyth': 7, 'Gulf Breeze': 7, 'Wetumpka': 9, 'Greencastle': 8, 'Lenoir City': 8, 'Piketon': 2, 'Mattapoisett': 8, 'Machipongo': 8, 'Napa': 8, 'Redondo Beach': 7, 'Troutville': 4, 'LaFollette': 2, 'Wailuku': 7, 'Cayuga': 1, 'Aitkin': 4, 'Castaic': 5, 'Montgomery Village': 6, 'Turlock': 7, 'Churubusco': 1, 'Rindge': 2, 'Wood River': 2, 'Selbyville': 5, 'Crookston': 5, 'Gresham': 8, 'Onawa': 1, 'Wickliffe': 5, 'La Vista': 3, 'Cashmere': 3, 'Greenbrae': 5, 'Weirton': 8, 'Waterloo': 15, 'Jupiter': 8, 'Bastrop': 3, 'Truckee': 4, 'Forest Park': 2, 'Litchfield Park': 1, 'Northville': 6, 'Atkinson': 3, 'Forest Lake': 7, 'Wareham': 1, 'Zephyrhills': 5, 'Collegeville': 21, 'Mundelein': 4, 'Painted Post': 1, 'Compton': 7, 'The Dalles': 6, 'Saint Clairsville': 11, 'McKittrick': 1, 'City of Saint Peters': 25, 'Quenemo': 3, 'Bullhead City': 10, 'Lynnfield': 2, 'Mauldin': 3, 'South Burlington': 4, 'Van Buren': 7, 'Cache': 2, 'Belden': 1, 'Starkville': 5, 'Jermyn': 2, 'Street': 4, 'Brooksville': 2, 'Pine Knot': 1, 'Johnston': 8, 'Edwardsburg': 1, 'Wauchula': 1, 'Dubuque': 6, 'Bolivia': 4, 'East Providence': 1, 'Ballston Spa': 6, 'Boyds': 4, 'Stoneham': 5, 'Homestead': 9, 'Marshfield': 19, 'Soledad': 3, 'West Friendship': 2, 'Wixom': 4, 'McMinnville': 8, 'Cantonment': 2, 'Inman': 5, 'Puyallup': 19, 'Union City': 11, 'Knox': 4, 'Junction City': 1, 'Saratoga Springs': 17, 'Shelbiana': 2, 'Lake Geneva': 5, 'Hartselle': 1, 'West Plains': 5, 'Victor': 9, 'Rosemead': 3, 'Capitol Heights': 5, 'La Feria': 1, 'Tilton': 1, 'Excelsior Springs': 2, 'Cliffside Park': 8, 'Hoosick Falls': 2, 'Pecatonica': 3, 'New Hope': 4, 'Campbell': 7, 'Beloit': 7, 'Uncasville': 1, 'Inglewood': 17, 'Miles': 3, 'Reinholds': 4, 'Wakonda': 1, 'Avondale': 7, 'Wasilla': 14, 'King George': 1, 'Adams': 4, 'Wabash': 1, 'Playa Vista': 3, 'Bolton Landing': 1, 'Mashpee': 4, 'Benson': 14, 'Waterville': 18, 'Stony Creek': 1, 'Fairborn': 9, 'Roxbury': 11, 'Mooresville': 8, 'Deltona': 10, 'Allison Park': 9, 'Anson': 1, 'Schofield': 3, 'Ellensburg': 12, 'Radford': 3, 'Ebensburg': 4, 'Holly': 5, 'Swedesboro': 11, 'White Sulphur Springs': 1, 'Defiance': 6, 'Tryon': 1, 'Wellfleet': 5, 'East Hartford': 15, 'New Providence': 7, 'Aspen': 9, 'Waddell': 2, 'Spring Grove': 8, 'East Islip': 1, 'Holbrook': 8, 'Fitzgerald': 2, 'Millbrae': 2, 'Ipswich': 1, 'Catonsville': 9, 'Abbeville': 5, 'Williston': 3, 'Lititz': 3, 'North Kingstown': 3, 'Plaistow': 7, 'Safety Harbor': 6, 'Hindsville': 2, 'Manahawkin': 9, 'Curtisville': 5, 'Inkster': 1, 'Pine Bluff': 4, 'Lufkin': 12, 'Kokomo': 5, 'Rio': 3, 'Kill Devil Hills': 4, 'Paradise Valley': 14, 'Sharpsburg': 4, 'Thibodaux': 14, 'North Highlands': 2, 'Highland Falls': 4, 'Bryan': 12, 'Cape Vincent': 7, 'Rolla': 11, 'El Campo': 2, 'Cranberry Township': 5, 'Burtonsville': 2, 'Canyon Lake': 1, 'New London': 10, 'New Lebanon': 4, 'North Attleboro': 3, 'Massillon': 8, 'North Grafton': 4, 'Wheatland': 4, 'Bushkill': 2, 'La Grande': 6, 'Baxley': 5, 'Redford': 10, 'Laurelton': 17, 'Converse': 13, 'Desert Hot Springs': 3, 'Cumberland': 9, 'Berryville': 6, 'Frankston': 4, 'High Ridge': 2, 'Yates City': 2, 'Swannanoa': 3, 'Kingsland': 2, 'Gardendale': 4, 'Ulster Park': 3, 'Temperance': 4, 'Clearfield': 1, 'Midway': 4, 'Jennings': 3, 'Uhrichsville': 1, 'Opp': 2, 'Leechburg': 2, 'Bryn Mawr': 11, 'New Smyrna Beach': 16, 'Pottsville': 5, 'Bothell': 13, 'Summit': 8, 'McDaniel': 6, 'Holly Springs': 11, 'Nanuet': 1, 'Chanhassen': 2, 'Bellows Falls': 3, 'Live Oak': 3, 'La Salle': 7, 'Laingsburg': 1, 'Clemmons': 4, 'Acton': 5, 'El Centro': 17, 'Long Island City': 1, 'Wenatchee': 4, 'Albion': 4, 'Clermont': 9, 'Cuero': 4, 'Saint Francisville': 1, 'Hardy': 1, 'Niceville': 7, 'Bisbee': 11, 'Cranbury': 4, 'Betsy Layne': 2, 'Paramount': 2, 'Mills River': 1, 'Coldwater': 16, 'Jarrell': 3, 'Woodland': 6, 'Dripping Springs': 1, 'Center Conway': 3, 'Provincetown': 1, 'Hallandale': 5, 'Pascagoula': 2, 'Ludlow': 8, 'Denville': 11, 'Fillmore': 3, 'Yuba City': 6, 'Keyport': 1, 'Ruby': 1, 'Grapevine': 6, 'Bensenville': 6, 'Citra': 1, 'Coffeyville': 1, 'Hop Bottom': 1, 'Punxsutawney': 3, 'Nyack': 10, 'Rockdale': 2, 'Lenexa': 6, 'Lake Mary': 4, 'Taylor': 24, 'Littlefield': 4, 'Saucier': 1, 'Andrews': 3, 'Roxbury Crossing': 5, 'Mercer Island': 5, 'Laramie': 2, 'Kodak': 2, 'Trabuco Canyon': 8, 'Laguna Hills': 2, 'Millville': 7, 'Westernport': 7, 'Minden': 4, 'Glendale Heights': 2, 'Mullins': 3, 'Corning': 7, 'Ocilla': 1, 'Mountain Home': 5, 'Agawam': 2, 'Conneaut Lake': 2, 'Glens Falls': 3, 'Bostic': 1, 'Del Norte': 1, 'Tillamook': 12, 'Scottsville': 5, 'Solvang': 2, 'Tamaqua': 5, 'Dumas': 2, 'Joppa': 1, 'Stanley': 9, 'Hubert': 6, 'Gallup': 1, 'Sackets Harbor': 3, 'Manasquan': 4, 'Holstein': 3, 'Gillett': 3, 'Grovetown': 6, 'Melissa': 5, 'Gunter': 1, 'Hurlock': 4, 'Cicero': 7, 'Malverne': 6, 'Suitland': 2, 'Kenansville': 3, 'Newman Lake': 3, 'Muskogee': 4, 'Branson': 4, 'Camarillo': 13, 'Bosque Farms': 1, 'Rollingstone': 2, 'Mount Kisco': 1, 'Manheim': 4, 'Delta': 2, 'Merrill': 8, 'Thorofare': 2, 'East Liverpool': 2, 'Roosevelt': 8, 'Lewistown': 11, 'Selden': 5, 'Fort Wainwright': 1, 'Stevens Point': 2, 'Cibolo': 5, 'Fort Thomas': 7, 'Coward': 1, 'Beeville': 1, 'Rustburg': 3, 'Uxbridge': 2, 'La Mirada': 8, 'Holt': 7, 'Waxhaw': 10, 'New Milford': 6, 'Vernal': 6, 'White Springs': 1, 'Takoma Park': 3, 'Springtown': 3, 'Hayden': 6, 'Hot Springs': 12, 'Austell': 10, 'Ketchum': 1, 'Oak Lawn': 4, 'Wickenburg': 1, 'Murrysville': 5, 'Union': 14, 'Alfred': 2, 'Aptos': 7, 'Whiting': 2, 'Merrick': 5, 'Bucyrus': 4, 'Southgate': 2, 'Groveport': 2, 'Cohasset': 2, 'Clarkton': 3, 'Wirtz': 1, 'Longs': 1, 'Pocahontas': 1, 'Dillon': 1, 'Lynwood': 1, 'Sidney': 7, 'Batesville': 5, 'Westwego': 1, 'Tenafly': 2, 'La Grange Park': 4, 'Steamboat Springs': 1, 'Lorain': 4, 'Maple Lake': 5, 'Blackwood': 1, 'Lake Park': 1, 'Celina': 3, 'Warsaw': 11, 'Kathleen': 1, 'Rocky River': 2, 'Appomattox': 2, 'Wapakoneta': 1, 'Elk Grove Village': 6, 'Kerrville': 4, 'Waycross': 5, 'Walker': 6, 'Allenton': 1, 'Lompoc': 8, 'Roslyn Heights': 17, 'Ukiah': 5, 'Dunlap': 1, 'Cerritos': 6, 'Hardinsburg': 5, 'Pipersville': 2, 'Flowood': 2, 'Apollo Beach': 5, 'Glenpool': 3, 'Battleboro': 2, 'Iva': 1, 'Sod': 1, 'Elloree': 2, 'Orland Park': 12, 'Ridgefield Park': 5, 'Wheatfield': 2, 'New Virginia': 3, 'Rock Island': 3, 'Nicholson': 3, 'Barnwell': 10, 'Soperton': 4, 'Grants': 6, 'West Babylon': 9, 'Ledgewood': 2, 'Evington': 1, 'Central City': 1, 'Pine Ridge': 1, 'Festus': 8, 'Vanderbilt': 3, 'Plainview': 4, 'Ely': 3, 'Gambrills': 4, 'Cocoa Beach': 2, 'Dowagiac': 1, 'Gillette': 7, 'Elmira': 8, 'Mariposa': 1, 'Califon': 1, 'Cadillac': 3, 'Emeryville': 4, 'Mound': 5, 'Granite City': 10, 'Spicewood': 3, 'Murrells Inlet': 13, 'Poquoson': 1, 'Kuna': 3, 'Omak': 4, 'Etoile': 2, 'Apache': 1, 'Medina': 6, 'Magnolia': 23, 'Lisle': 13, 'Pacific Junction': 1, 'Dennison': 2, 'Taos': 3, 'Wooster': 5, 'Moorhead': 2, 'Devils Tower': 2, 'Horsham': 4, 'Destin': 4, 'Hampden': 2, 'Ivoryton': 4, 'Ellijay': 8, 'Glen Mills': 5, 'Rubicon': 1, 'Eloy': 7, 'Wakarusa': 4, 'Goochland': 1, 'Ellis': 6, 'Hereford': 4, 'Lake View': 2, 'Evans': 7, 'Cochranville': 5, 'Audubon': 1, 'Boyne City': 8, 'Dickson': 4, 'Gloversville': 4, 'Broseley': 1, 'Page': 1, 'Diamond Point': 3, 'Ashland City': 2, 'Cotulla': 3, 'Forest Grove': 7, 'Camp Hill': 8, 'Villa Park': 4, 'Rainsville': 1, 'Stevens': 1, 'Lookout Mountain': 4, 'Spearfish': 7, 'Caro': 3, 'Lincoln City': 5, 'Tangipahoa': 4, 'Dade City': 1, 'Schurz': 1, 'Landing': 4, 'Belle Vernon': 1, 'South Webster': 3, 'Morton': 2, 'Edinboro': 4, 'Windsor Locks': 6, 'Manistee': 11, 'Anniston': 4, 'Menlo': 2, 'Lake Oswego': 7, 'Lenoir': 15, 'Guilderland': 1, 'Eldora': 4, 'Foresthill': 2, 'Atchison': 2, 'West Warwick': 5, 'Key West': 3, 'Blakesburg': 2, 'Kenova': 3, 'Carmel Valley': 2, 'Edgewater': 5, 'Cedar Knolls': 2, 'Cut Off': 8, 'Waikoloa': 3, 'Tillson': 4, 'Cementon': 7, 'Zelienople': 6, 'Hartwell': 4, 'Mount Crawford': 10, 'Nevada City': 3, 'Pembroke': 11, 'Waxahachie': 2, 'Prestonsburg': 5, 'Cottage Hills': 1, 'Jacksboro': 1, 'Valatie': 1, 'Tupper Lake': 4, 'Berwick': 3, 'Barnegat': 5, 'Robinson': 2, 'Indian Wells': 1, 'West Burlington': 4, 'Sherrills Ford': 1, 'Oquawka': 7, 'Princeton Junction': 1, 'Walnut': 7, 'Rockledge': 5, 'Pilot Rock': 2, 'Opelousas': 5, 'Mexico': 3, 'Sayreville': 2, 'Palatka': 2, 'Glen Burnie': 7, 'Palos Hills': 1, 'American Fork': 5, 'Fords': 14, 'Holly Ridge': 2, 'North Royalton': 3, 'Inwood': 4, 'North Miami Beach': 9, 'Bonaire': 10, 'DeBary': 5, 'Munfordville': 1, 'Mascoutah': 1, 'Meridianville': 1, 'Tunkhannock': 1, 'Congers': 5, 'Ajo': 1, 'Oaklyn': 2, 'Villa Rica': 2, 'Weymouth': 2, 'Blythewood': 2, 'Millersburg': 2, 'Diamondhead': 3, 'Motley': 1, 'Lamar': 2, 'Salt Rock': 2, 'Rhinebeck': 2, 'Fallbrook': 8, 'South Gate': 5, 'Laveen': 1, 'Ponte Vedra': 7, 'Port Jefferson': 15, 'Round Top': 4, 'Oregon': 6, 'Epsom': 3, 'Pierce': 4, 'Baldwin Park': 3, 'Ventnor City': 2, 'Noble': 5, 'Windermere': 8, 'Meriden': 12, 'Connellsville': 2, 'Morrison': 3, 'Aylett': 4, 'Hertford': 3, 'Marine on Saint Croix': 2, 'North Weems': 5, 'Hooksett': 3, 'Massena': 5, 'San Fernando': 4, 'Casselberry': 1, 'Dadeville': 2, 'Pendleton': 1, 'Haddonfield': 5, 'Palos Park': 6, 'Claxton': 3, 'Mogadore': 1, 'Santa Clarita': 6, 'McDowell': 1, 'Grayson': 3, 'Koloa': 8, 'Milledgeville': 6, 'Eustis': 1, 'Lock Haven': 3, 'Vincennes': 2, 'Stratton': 2, 'Alamo': 1, 'Horseheads': 7, 'Pelham': 7, 'Aguada': 1, 'Tinley Park': 4, 'Holts Summit': 2, 'Mission Hills': 1, 'Pullman': 2, 'Belle Chasse': 1, 'Donna': 3, 'Northfield': 3, 'Bogue Chitto': 1, 'Winston': 1, 'Bridge City': 1, 'New Paltz': 4, 'Eagle Pass': 9, 'Freedom': 1, 'Litchfield': 2, 'Belle Plaine': 2, 'Wallingford': 6, 'Greenlawn': 3, 'Averill Park': 3, 'Manteca': 3, 'Pleasant Valley': 5, 'Perryopolis': 3, 'Tipp City': 8, 'Hancock': 6, 'Andalusia': 4, 'Robstown': 1, 'Winsted': 3, 'Manito': 5, 'Mattoon': 8, 'Seaside': 6, 'Bruceton Mills': 4, 'Dodge City': 1, 'Corry': 1, 'Arroyo Hondo': 1, 'Azusa': 9, 'Thurmont': 4, 'Edmonds': 9, 'Trinidad': 5, 'Algoma': 2, 'Brookhaven': 4, 'Hauppauge': 8, 'Largo': 18, 'Hazard': 3, 'Haskell': 1, 'San Dimas': 6, 'Preston': 2, 'South Glens Falls': 2, 'Victoria': 2, 'West Sacramento': 5, 'Camdenton': 5, 'Nowata': 7, 'Guymon': 2, 'Wells': 7, 'Kensington': 1, 'Eaton': 1, 'Williamsport': 5, 'Pitman': 4, 'Vidalia': 5, 'Peyton': 6, 'Atlantic City': 5, 'Canyon': 3, 'Cologne': 1, 'Manhattan Beach': 6, 'Brawley': 8, 'Coleman': 1, 'Saranac Lake': 2, 'Dunn': 1, 'Porter': 5, 'Gettysburg': 1, 'Randallstown': 5, 'Coon Rapids': 1, 'Papillion': 8, 'La Harpe': 1, 'Raphine': 2, 'Camby': 4, 'Enfield': 8, 'Bluejacket': 3, 'Marinette': 2, 'Monsey': 5, 'Ringgold': 4, 'Beckley': 2, 'Stone Ridge': 2, 'Swampscott': 2, 'Streetsboro': 2, 'Crofton': 8, 'Blairsville': 6, 'South Portland': 7, 'Knightdale': 2, 'Galax': 3, 'Farmerville': 1, 'Perry Hall': 6, 'Cos Cob': 1, 'Davison': 6, 'Glenside': 6, 'Cottondale': 2, 'Nicholasville': 2, 'Glenville': 3, 'Moundsville': 4, 'Zion': 4, 'Charlevoix': 1, 'Reisterstown': 2, 'Oskaloosa': 4, 'Horace': 2, 'Mocksville': 3, 'Micanopy': 10, 'McBain': 1, 'Ilion': 3, 'Thomaston': 4, 'East Bend': 1, 'Framingham': 17, 'Wildomar': 1, 'Justin': 5, 'Foreston': 3, 'Calumet City': 1, 'Whitewater': 2, 'Mount Morris': 2, 'Yakutat': 2, 'Newnan': 4, 'Van Wert': 3, 'Milton-Freewater': 3, 'Calumet': 3, 'Pearl City': 13, 'Sunset': 2, 'Fleetwood': 1, 'District Heights': 1, 'San Gabriel': 4, 'Electra': 1, 'Emmett': 2, 'Beatrice': 2, 'Minot': 4, 'Lovington': 2, 'Orbisonia': 1, 'Hopkinsville': 5, 'Markle': 1, 'Green Cove Springs': 6, 'New Tazewell': 6, 'Shoreham': 4, 'Skiatook': 1, 'Parkville': 8, 'Summerton': 2, 'Douglas': 8, 'Jim Thorpe': 1, 'Castlewood': 1, 'Coeburn': 2, 'Franklin Park': 4, 'Lavallette': 1, 'Orrville': 6, 'Shannon': 3, 'Jewett City': 2, 'Port Wentworth': 1, 'Fairhaven': 3, 'Fishkill': 3, 'Onamia': 4, 'Saint Robert': 1, 'Seeley Lake': 1, 'Circle Pines': 2, 'Oakmont': 2, 'Solana Beach': 2, 'Lake Villa': 4, 'Hiram': 2, 'Webster': 3, 'Hamtramck': 3, 'Coppell': 3, 'Kennebunk': 6, 'Newfoundland': 3, 'Swanton': 1, 'Lagrange': 2, 'Soddy-Daisy': 3, 'Klamath Falls': 5, 'Highlands': 2, 'Ridley Park': 3, 'Hatboro': 4, 'Towanda': 2, 'Quakertown': 5, 'Oakwood': 1, 'New Hampton': 3, 'Tarboro': 2, 'Ramsey': 2, 'Watts': 1, 'Naugatuck': 11, 'Rockaway': 2, 'Basking Ridge': 5, 'Pompton Plains': 2, 'Poway': 6, 'Bradford': 5, 'Winnfield': 2, 'Pennsauken': 2, 'Willingboro': 9, 'Atascadero': 1, 'Pataskala': 7, 'West Haverstraw': 4, 'Harrisville': 3, 'Elmwood Park': 5, 'Harbor City': 2, 'Fairburn': 5, 'New Windsor': 6, 'Tullahoma': 5, 'Effingham': 2, 'Fort Morgan': 1, 'Crothersville': 5, 'Telluride': 2, 'Tremont': 1, 'Grenada': 5, 'North East': 3, 'Conshohocken': 2, 'Absecon': 3, 'Marcellus': 1, 'Gibson City': 2, 'Guthrie': 1, 'Landenberg': 2, 'East Weymouth': 4, 'Wilkesboro': 2, 'Port Richey': 4, 'Canfield': 4, 'Haleyville': 2, 'Long Branch': 10, 'Ruckersville': 2, 'Vancleave': 4, 'Blue Island': 6, 'Arroyo Grande': 6, 'Locust Valley': 1, 'Loomis': 2, 'Olive Hill': 1, 'Forestville': 1, 'Montville': 1, 'Casar': 2, 'Colleyville': 3, 'Remsenburg': 2, 'Vernon Hills': 6, 'Unionville': 4, 'Silverton': 3, 'Southbridge': 4, 'Grants Pass': 8, 'Verdi': 1, 'Perryville': 3, 'Grayling': 1, 'Godley': 3, 'Morris Plains': 4, 'Shady Side': 4, 'Lacon': 1, 'Lake Bluff': 1, 'Phillipsburg': 2, 'Ronkonkoma': 9, 'Mt. Vernon': 2, 'Glenmoore': 3, 'Purcellville': 2, 'Wayland': 2, 'Little River': 4, 'Clifton Heights': 4, 'Astoria': 5, 'Head of Westport': 3, 'DuPont': 1, 'Franklinton': 1, 'Southbury': 4, 'Blanchard': 2, 'Lahaska': 1, 'Bella Vista': 3, 'Lonoke': 1, 'Indianola': 2, 'Langley': 7, 'Saline': 2, 'Lanham': 2, 'Mammoth Lakes': 2, 'Logansport': 3, 'Cameron': 3, 'Rowley': 4, 'Faribault': 3, 'Jerome': 1, 'Sunbury': 3, 'Bellefontaine': 4, 'East Chatham': 2, 'Fulshear': 5, 'Claremore': 4, 'Pittsboro': 2, 'Moncks Corner': 2, 'Fredericktown': 2, 'Yaphank': 2, 'Rhodes': 4, 'New Concord': 1, 'Beebe': 1, 'Froid': 2, 'Baldwinsville': 1, 'New Brighton': 3, 'Moultonborough': 4, 'Edna': 2, 'Cross Plains': 2, 'East Quogue': 4, 'Bristow': 1, 'Ellington': 1, 'Castleton-on-Hudson': 3, 'Sycamore': 3, 'Frankenmuth': 3, 'Lonsdale': 4, 'Corryton': 4, 'Destrehan': 1, 'Paradise': 1, 'Orangeburg': 5, 'Sylacauga': 1, 'Wynne': 1, 'New Kensington': 4, 'Coopersburg': 2, 'Wolfeboro': 1, 'Newcastle': 1, 'Gilroy': 3, 'Galion': 3, 'Port Austin': 2, 'Center Point': 1, 'Circleville': 2, 'Homewood': 2, 'Moss Landing': 12, 'Haysville': 2, 'Haines Falls': 3, 'Orchard Park': 2, 'San Carlos': 7, 'West End': 3, 'Leonardtown': 3, 'Chatham': 4, 'Poteau': 1, 'Romeo': 2, 'Mansura': 1, 'Plummer': 1, 'Holyoke': 4, 'Mercersburg': 5, 'North Salt Lake': 2, 'Boyertown': 4, 'Ada': 2, 'Ellabell': 2, 'Kerman': 1, 'Spofford': 2, 'Liberty Hill': 3, 'Lynden': 1, 'Corinna': 1, 'Middlesboro': 1, 'Pennington Gap': 3, 'Grand Terrace': 4, 'Spring Branch': 2, 'Walkerville': 1, 'Weyauwega': 1, 'Wautoma': 5, 'Hamptonville': 3, 'Calverton': 2, 'North Bloomfield': 1, 'Mantua': 4, 'West Milford': 1, 'Campo': 3, 'Pigeon Forge': 1, 'Trout Lake': 2, 'Simpson': 2, 'La Vernia': 5, 'Poulsbo': 1, 'Justice': 2, 'Waianae': 1, 'Closter': 3, 'Barnesville': 3, 'Vidor': 3, 'Lanoka Harbor': 2, 'Sedalia': 5, 'Tulia': 1, 'Hasty': 3, 'Chepachet': 1, 'Scottdale': 2, 'East Haddam': 6, 'Kendall Park': 2, 'Mt. Morris': 1, 'West Coxsackie': 1, 'New Freedom': 1, 'Tiffin': 1, 'Cherry Point Marine Base Mobile Home Park': 2, 'Athol': 2, 'Marlow': 2, 'North Platte': 1, 'Erlanger': 2, 'Browns Mills': 1, 'Purvis': 2, 'Alvaton': 2, 'Eunice': 3, 'Morrow': 1, 'Louisiana': 1, 'Midvale': 1, 'Camano': 1, 'Boxford': 1, 'Sierra Madre': 1, 'Hayes': 1, 'Blackwell': 1, 'Rock Valley': 3, 'Siren': 1, 'Indian Lake Estates': 1, 'Haymarket': 1, 'Tracy': 5, 'Sahuarita': 2, 'Vandalia': 6, 'Plains': 2, 'Suisun': 1, 'Palos Verdes Estates': 6, 'Saint Croix Falls': 4, 'Lapeer': 3, 'Dora': 1, 'Royersford': 4, 'Marine Corps Base Camp Lejeune': 2, 'Brigham City': 5, 'Hewlett': 2, 'Eastchester': 2, 'Hollis Center': 2, 'Burrton': 2, 'Wisconsin Rapids': 3, 'Ward': 5, 'Leicester': 1, 'Medusa': 2, 'Virginia': 1, 'Wharton': 5, 'Callao': 3, 'Surgoinsville': 2, 'Lithia Springs': 1, 'Le Mars': 2, 'Williamsville': 2, 'Morrisonville': 1, 'Clive': 1, 'Baldwin': 1, 'Holladay': 1, 'Cannon Falls': 2, 'Barstow': 2, 'Prescott': 4, 'Chincoteague': 3, 'Ansonia': 5, 'Pompton Lakes': 1, 'Kannapolis': 1, 'Crosby': 4, 'Mars': 3, 'Katonah': 8, 'Southold': 1, 'West Hurley': 5, 'Conover': 2, 'Minster': 1, 'Due West': 4, 'Deming': 2, 'Bixby': 2, 'Fort Walton Beach': 4, 'Oconto': 4, 'Jessieville': 1, 'Hope': 5, 'Willoughby': 5, 'Stewartsville': 1, 'Quinton': 3, 'Old Saybrook': 5, 'New Waverly': 3, 'Lake Hiawatha': 3, 'Houlton': 1, 'Lapoint': 1, 'Gallatin': 8, 'Snowflake': 3, 'Meredith': 2, 'Halstead': 1, 'Oceana': 2, 'Benwood': 1, 'Colts Neck': 1, 'Faison': 2, 'Hollidaysburg': 3, 'Bynumville': 2, 'La Cañada Flintridge': 1, 'Newtonville': 2, \"Honoka'a\": 2, 'Potwin': 1, 'Tell City': 2, 'Wrightsville': 1, 'Whitehouse': 2, 'Saraland': 3, 'Duffield': 1, 'Russell': 3, 'Staples': 1, 'Boyceville': 1, 'Dolton': 2, 'Calhoun City': 1, 'Lisbon': 1, 'Atherton': 2, 'Kilgore': 1, 'Clay': 1, 'Manteo': 1, 'Creswell': 1, 'Spencerport': 4, 'Louisa': 2, 'Prescott Valley': 3, 'Livingston Manor': 3, 'Aledo': 1, 'Palm Springs': 6, 'Pittston': 2, 'Bellbrook': 1, 'Wagner': 1, 'Kennett': 1, 'Thiells': 1, 'Westport': 1, 'Dewey-Humboldt': 1, 'Tecumseh': 4, 'New Salisbury': 1, 'Crum Lynne': 2, 'Caledonia': 3, 'Mendon': 1, 'Canaan': 1, 'Lahaina': 2, 'Niobrara': 2, 'Herkimer': 2, 'Jenison': 1, 'Saugus': 3, 'Rosenberg': 2, 'Moulton': 1, 'South Holland': 2, 'Cullowhee': 2, 'Mountain Grove': 2, 'La Puente': 3, 'North Dartmouth': 4, 'Glen Lyon': 2, 'Blytheville': 1, 'Branchville': 3, 'West Hollywood': 4, 'Granite Bay': 1, 'Blair': 2, 'Lindale': 1, 'Huntingtown': 3, 'Troutdale': 5, 'Mosinee': 1, 'Bracey': 4, 'South Hackensack': 3, 'Pennsboro': 2, 'Hoschton': 1, 'Plymouth Meeting': 6, 'Gaines': 1, 'Alachua': 7, 'Pico Rivera': 5, 'Fort Gibson': 1, 'Eufaula': 1, 'Wellsville': 3, 'Tollhouse': 1, 'Pearl': 3, 'Cherryfield': 3, 'Big Bear': 2, 'Asbury Park': 4, 'Price': 2, 'Weems': 2, 'Evergreen Park': 2, 'Helotes': 1, 'Glenwood': 1, 'Sebewaing': 1, 'Grant': 1, 'Eastman': 4, 'Beresford': 3, 'Marrero': 2, 'Hubertus': 2, 'Fountain Hill': 1, 'Rifle': 3, 'Spring City': 5, 'Morrilton': 2, 'Stewartstown': 1, 'Santa Fe Springs': 1, 'DeFuniak Springs': 3, 'Yelm': 1, 'Nogales': 3, 'Spotswood': 5, 'Ravenswood': 2, 'Bessemer': 4, 'Maple Grove': 3, 'Foothill Ranch': 1, 'Henrietta': 1, 'Angleton': 3, 'Wartburg': 1, 'Birch Run': 3, 'Kearney': 4, 'West Linn': 1, 'Catawba': 3, 'Ragland': 2, 'Crockett': 3, 'Hagerhill': 2, 'Carol Stream': 1, 'Faber': 2, 'Vail': 9, 'East Hanover': 4, 'Harvard': 2, 'Millersville': 2, 'Grand Chain': 1, 'Pass Christian': 1, 'Mountain Iron': 1, 'Stratham': 1, 'Merchantville': 3, 'Muskego': 2, 'Okmulgee': 1, 'Lambertville': 1, 'Shady Cove': 1, 'Castro Valley': 2, 'North Beach': 2, 'Howard': 1, 'Southington': 5, 'Wilsonville': 2, 'Lake Isabella': 2, 'Pleasant View': 2, 'Stonington': 1, 'Saco': 3, 'Dauphin': 1, 'Webb': 2, 'Sauk City': 1, 'Kettle River': 1, 'Carthage': 4, 'Dyersburg': 2, 'Scottsburg': 1, 'Harmony': 1, 'Hasbrouck Heights': 2, 'Wynantskill': 2, 'Effort': 2, 'East White Plains': 1, 'Hockessin': 4, 'Lennon': 1, 'Rahway': 1, 'Rouses Point': 1, 'Monetta': 1, 'Pearl River': 1, 'Old Fort': 1, 'Beavercreek': 2, 'Superior': 2, 'Winnsboro': 2, 'Wisner': 1, 'Big Bear Lake': 2, 'Apache Junction': 3, 'Westerly': 3, 'East Bernstadt': 1, 'Lander': 2, 'Sedro-Woolley': 1, 'Blue Point': 1, 'Bardstown': 2, 'Brodhead': 2, 'Rehoboth Beach': 8, 'Fyffe': 2, 'Fairview': 1, 'Marina del Rey': 1, 'Succasunna': 1, 'Scottsbluff': 1, 'Prince George': 1, 'Ortonville': 1, 'Buda': 2, 'Clendenin': 2, 'East Grand Forks': 3, 'Shepherdstown': 1, 'Nekoosa': 2, 'Leonard': 1, 'Roscommon': 8, 'Sulligent': 2, 'North Plains': 1, 'Cumberland Center': 1, 'Haddon Heights': 1, 'Saint Simons Island': 2, 'Broussard': 1, 'Dacono': 1, 'Nahunta': 1, 'Glenshaw': 1, 'Cloquet': 2, 'North Babylon': 2, 'Panama City Beach': 3, 'Big Sky': 1, 'Fair Oaks': 2, 'Alliance': 5, 'Ballston Lake': 2, 'Culver': 1, 'Ruidoso': 1, 'Ware Shoals': 2, 'Emerson': 1, 'Mahopac': 2, 'Cave City': 1, 'Pismo Beach': 1, 'La Farge': 2, 'Blackshear': 4, 'Rosamond': 2, 'Schwenksville': 2, 'Avondale Estates': 2, 'Ronan': 6, 'Borrego Springs': 2, 'Rigby': 1, 'Cheraw': 2, 'Belpre': 1, 'Allegan': 1, 'Webb City': 2, 'Dunkerton': 2, 'Central Square': 4, 'Maplesville': 2, 'Temple City': 1, 'Raeford': 1, 'Lowville': 3, 'Wauconda': 2, 'Steedman': 2, 'Long Lake': 2, 'Houghton': 3, 'Washington Court House': 3, 'Cresco': 2, 'New Fairfield': 2, 'Au Gres': 1, 'Santaquin': 1, 'Comstock Park': 1, 'Pemberville': 3, 'Argenta': 1, 'Berryton': 1, 'Lake Shasta': 1, 'Pecos': 1, 'Wall': 1, 'Star': 3, 'Lewis Center': 6, 'Valley Village': 3, 'Tellico Plains': 1, 'Greenbrier': 3, 'Happy Valley': 1, 'Port Orange': 2, 'Edgar': 3, 'Frankton': 1, 'Pennington': 5, 'Swisher': 1, 'Beach': 2, 'Goodlettsville': 1, 'Sumrall': 3, 'West Kill': 2, 'Frederic': 2, 'Bay Springs': 3, 'Pine Hill': 1, 'Kunkletown': 1, 'Gallipolis': 3, 'Chestnut Hill': 3, 'Beech Island': 1, 'Oradell': 1, 'Summertown': 1, 'Mount Jackson': 1, 'Coos Bay': 1, 'Luling': 1, 'Scotch Plains': 2, 'Grass Lake': 1, 'Childress': 1, 'Schoharie': 1, 'Sturgis': 2, 'Tavernier': 1, 'Mountain Ranch': 2, 'Cathedral City': 1, 'Fairfax Station': 2, 'San Pedro': 1, 'Great Bend': 2, 'Margaretville': 1, 'Enosburg Falls': 2, 'Bluefield': 4, 'Stanwood': 1, 'Payette': 2, 'Mallory': 2, 'Swansea': 2, 'Franktown': 1, 'Byron': 2, 'Orinda': 1, 'Clearlake': 1, 'Shenandoah': 2, 'Hood River': 5, 'Coplay': 2, 'South Deerfield': 1, 'College Grove': 2, 'South Easton': 1, 'Hudsonville': 2, 'Pleasantville': 3, 'Peebles': 2, 'Friday Harbor': 1, 'Perrysburg': 2, 'Commerce City': 1, 'Battle Lake': 1, 'Juneau': 2, 'North Arlington': 2, 'Marshalltown': 2, 'Langdon': 1, 'Landisburg': 5, 'Oakton': 2, 'Broken Bow': 2, 'Excelsior': 4, 'Battle Ground': 1, 'Bartow': 1, 'Saint Clair': 2, 'Greenwell Springs': 2, 'Elk River': 2, 'Harvey': 1, 'Platteville': 1, 'Mentone': 3, 'Lusby': 2, 'Cheney': 1, 'Smiths Station': 2, 'Nanticoke': 2, 'Three Lakes': 2, 'Ancram': 1, 'Los Alamitos': 2, 'Godfrey': 1, 'Salix': 1, 'Marana': 1, 'Paxton': 2, 'Lake Lillian': 1, 'Hennessey': 1, 'Montello': 1, 'Miami Gardens': 3, 'Fortuna': 2, 'Oak Brook': 1, 'Buckhannon': 1, 'Placitas': 1, 'Camas': 2, 'Silas': 1, 'Brandenburg': 5, 'Bennettsville': 2, 'Willow Springs': 2, 'Darien': 2, 'Gray Court': 1, 'Rocky Hill': 3, 'Madison Lake': 2, 'Queens Village': 3, 'Playa del Rey': 1, 'Mount Orab': 1, 'Gamaliel': 1, 'Tremonton': 1, 'Crescent': 2, 'Key Biscayne': 1, 'Lenox': 3, 'Fowlerville': 1, 'Rosemary Beach': 1, 'Alamosa': 2, 'Los Alamos': 3, 'New Bremen': 1, 'Heath Springs': 1, 'Tolland': 2, 'Becket': 1, 'Seffner': 1, 'Park Forest': 1, 'Albrightsville': 2, 'San Pablo': 2, 'Arcata': 5, 'Intervale': 2, 'Headland': 1, 'Waunakee': 2, 'Maryland': 1, 'Trussville': 4, 'Smithton': 1, 'Villanova': 3, 'Rives Junction': 1, 'Hinesville': 2, 'Ladera Ranch': 1, 'Atco': 2, 'Los Lunas': 1, 'Staatsburg': 1, 'Tuxedo Park': 5, 'Pardeeville': 2, 'Galesville': 1, 'Plover': 1, 'Ridgeley': 1, 'Port Charlotte': 2, 'Capistrano Beach': 1, 'Bryantown': 1, 'El Reno': 1, 'Old Greenwich': 1, 'Daphne': 4, 'Gorham': 1, 'Soda Springs': 1, 'Long Pond': 1, 'Ripley': 2, 'Floyd': 1, 'Fallston': 1, 'Fort Riley North': 2, 'Sea Isle City': 2, 'Clear Lake': 2, 'Villas': 1, 'Buies Creek': 1, 'Kettering': 1, 'Glouster': 1, 'East China Township': 1, 'Adell': 1, 'Martinsburg': 2, 'Warren Township': 4, 'Macedonia': 1, 'Berkshire': 1, 'Glen Oaks': 1, 'Savage': 1, 'Ranson': 1, 'Cabot': 1, 'New Paris': 2, 'Pahokee': 1, 'Esko': 1, 'West Salem': 2, 'Topsham': 1, 'Central Islip': 2, 'New Egypt': 1, 'Dundalk': 3, 'Evergreen': 1, 'Russell Springs': 2, 'La Belle': 2, 'Rutherfordton': 1, 'Brook Park': 1, 'Clio': 2, 'Smilax': 1, 'DeRidder': 2, 'Anamosa': 1, 'Mifflinburg': 1, 'Varna': 2, 'Poughquag': 1, 'Maple Plain': 1, 'Reedsport': 1, 'Drummond': 2, 'Roselle': 1, 'Summer Shade': 1, 'Shalimar': 1, 'Huxley': 4, 'Mexico Beach': 2, 'Myakka City': 1, 'Prudenville': 1, 'Boulder City': 2, 'Osage Beach': 1, 'Burton': 2, 'Mattapan': 2, 'Tarpon Springs': 1, 'Stanfordville': 1, 'Heathsville': 1, 'Atlantic Beach': 2, 'Big Lake': 2, 'Rising Sun': 2, 'Whitney': 1, 'Kirksville': 3, 'Barnum': 1, 'Ocean Isle Beach': 2, 'Hermosa Beach': 2, 'Antigo': 1, 'South Amboy': 1, 'Bruce': 1, 'Pocono Summit': 1, 'Wendell': 1, 'Ellsworth': 1, 'Dillsboro': 1, 'Harrington Park': 1, 'Port Chester': 1, 'Nome': 3, 'Milaca': 1, 'Elkhorn': 1, 'Brown City': 2, 'Durand': 1, 'Crystal Springs': 1, 'Norman Park': 1, 'Carmel-by-the-Sea': 1, 'Atwater': 1, 'Otsego': 1, 'Butte': 4, 'Sun Valley': 1, 'Gate City': 1, 'Gordonsville': 1, 'Vermillion': 2, 'Fairfield Bay': 1, 'Fort White': 1, 'Ligonier': 1, 'Shelley': 1, 'Storm Lake': 4, 'Ocean View': 1, 'Lindstrom': 2, 'Drummonds': 1, 'Ridge': 3, 'Roslyn': 2, 'Coachella': 1, 'Watonga': 1, 'Pinson': 1, 'Sanger': 2, 'Metuchen': 1, 'Dyer': 1, 'Queen Creek': 2, 'Rollinsford': 1, 'Dixon': 1, 'San Saba': 1, 'Usk': 1, 'Clewiston': 2, 'Wellford': 2, 'Freeburg': 3, 'Lemont': 1, 'Mount Sterling': 2, 'McAlester': 2, 'Accokeek': 1, 'Ponchatoula': 2, 'Friendswood': 2, 'Fanwood': 1, 'Iron City': 1, 'Lugoff': 2, 'Herrin': 2, 'South Elgin': 1, 'Prattville': 1, 'Bowdoin Center': 1, 'Breaux Bridge': 2, 'Standish': 1, 'Bridgton': 1, 'Bull Shoals': 1, 'Gypsum': 2, 'Shingletown': 3, 'Liberal': 2, 'Manteno': 1, 'Quitman': 1, 'Mitchell': 1, 'Dana': 1, 'East Stroudsburg': 2, 'Pittsford': 1, 'Hot Springs Village': 2, 'Nevada': 1, 'West Memphis': 1, 'Coldspring': 2, 'Duncannon': 1, 'Dighton': 2, 'Kemp': 1, 'Mahanoy City': 2, 'Lawndale': 1, 'Graniteville': 1, 'Piqua': 1, 'Newhall': 1, 'Leeds': 1, 'Spotsylvania': 1, 'Jack': 1, 'Mukwonago': 2, 'Lindsay': 1, 'Brandt': 1, 'Molalla': 1, 'Waukee': 2, 'Hazen': 1, 'Steubenville': 1, 'Kenton': 1, 'Dumfries': 1, 'Avenel': 1, 'Galt': 2, 'Saint Francis': 1, 'Yoder': 1, 'Rainbow City': 2, 'Hedgesville': 1, 'Longboat Key': 2, 'Andale': 1, 'Cass City': 2, 'Holmen': 1, 'Baker': 2, 'Alice': 1, 'Archbold': 1, 'Bainbridge Island': 1, 'Spanish Fort': 2, 'Roaring Spring': 1, 'Horseshoe Bay': 1, 'Proctorville': 2, 'Caribou': 1, 'Milltown': 1, 'Montoursville': 1, 'Loyall': 1, 'Oxon Hill': 2, 'Rumson': 2, 'Statesville': 2, 'Water Mill': 2, 'Cathlamet': 1, 'Glen Head': 2, 'Yellow Springs': 1, 'Richboro': 2, 'Salamanca': 1, 'Saint Jacob': 1, 'Caruthersville': 1, 'Hensley': 1, 'Windsor Mill': 1, 'Stevenson': 1, 'Lake Luzerne': 1, 'Coshocton': 1, 'Clintwood': 1, 'Cottonwood': 1, 'Barkhamsted': 1, 'Davisburg': 1, 'Blauvelt': 1, 'Gilbertsville': 1, 'Beltsville': 1, 'Mount Hope': 1, 'Patterson': 2, 'Highland Lakes': 2, 'Olyphant': 1, 'Plainwell': 2, 'Sewanee': 1, 'Summerland Key': 1, 'Bogalusa': 2, 'Loxahatchee Groves': 2, 'Haledon': 1, 'Pahrump': 2, 'Key Largo': 1, 'West Suffield': 1, 'Anacortes': 1, 'Dennis': 1, 'Carson City': 1, 'Detroit Lakes': 1, 'Hull': 1, 'Marlboro': 1, 'Zanesfield': 1, 'Strawberry Plains': 1, 'South Ryegate': 1, 'Durango': 1, 'Northern Cambria': 1, 'Upton': 3, 'Manistique': 1, 'Gowanda': 1, 'Bradyville': 1, 'Moneta': 1, 'Terrell': 1, 'Yerington': 1, 'Alburtis': 2, 'Lemoore': 1, 'Ojai': 1, 'New Carlisle': 1, 'Riesel': 1, 'Vassar': 2, 'Mabank': 1, 'Elverta': 1, 'Cornwall-on-Hudson': 1, 'Salado': 1, 'Roscoe': 2, 'Pender': 1, 'Santee': 1, 'Lakefield': 1, 'Twin Lakes': 1, 'Seminary': 1, 'Sutton': 2, 'Isanti': 1, 'Cazadero': 1, 'Hawkinsville': 1, 'Chicago Heights': 1, 'North Newton': 1, 'Algona': 1, 'West Paris': 1, 'Pennsville': 2, 'Robbins': 1, 'Fort Belvoir': 3, 'Ruther Glen': 1, 'Owosso': 2, 'Westlake Village': 1, 'Moseley': 1, 'Theodore': 1, 'Silverdale': 1, 'Stilwell': 1, 'Cherokee': 1, 'Adolphus': 1, 'Stevenson Ranch': 1, 'Viburnum': 1, 'Azle': 1, 'Mahomet': 1, 'Bennett': 1, 'Perth Amboy': 1, 'Rosharon': 1, 'Swartz Creek': 1, 'Cuba': 1, 'Tifton': 2, 'Imperial': 2, 'Mount Washington': 1, 'Delta Junction': 2, 'Timpson': 1, 'Siler City': 1, 'Floresville': 1, 'Jonestown': 1, 'Culbertson': 1, 'Martin': 1, 'Peekskill': 2, 'Kingsford': 1, 'Mattituck': 1, 'Gardnerville': 1, 'Menasha': 2, 'Falls': 1, 'Bertram': 1, 'Shiner': 1, 'Norfork': 1, 'Cutler': 2, 'McGaheysville': 1, 'Palos Heights': 1, 'Inver Grove Heights': 1, 'Miller Place': 1, 'Rice': 1, 'Fort Dodge': 1, 'Moores Hill': 1, 'Hickory Hills': 1, 'Gouverneur': 1, 'Hilton': 1, 'Mabelvale': 1, 'McCook': 1, 'Piney Point': 1, 'Marstons Mills': 1, 'Newmarket': 1, 'Brownfield': 1, 'El Prado': 1, 'Altona': 1, 'Putnam Valley': 1, 'Clay Center': 1, 'Haubstadt': 1, 'Starbuck': 1, 'Spencerville': 1, 'Goffstown': 1, 'Payson': 1, 'Maysville': 1, 'Rosedale': 1, 'Comanche': 1, 'Ocean Park': 1, 'Holton': 1, 'Texhoma': 1, 'Goodhue': 1, 'Gambier': 1}\n",
            "The top N value pairs are {'Neutral': 6358, 'New York': 4943, 'Brooklyn': 3237, 'St Louis': 2545, 'Los Angeles': 2154, 'Houston': 1747, 'Queens': 1629, 'Arlington': 1503, 'Chicago': 1448, 'Philadelphia': 1191, 'Columbus': 1105, 'Miami': 1023, 'Phoenix': 888, 'Fort Worth': 884, 'Deer Park': 883, 'San Francisco': 881, 'Rochester': 798, 'Dallas': 784, 'Memphis': 756, 'Charlotte': 695}\n"
          ]
        }
      ],
      "source": [
        "# Python3 code to demonstrate working of\n",
        "# N largest values in dictionary\n",
        "# Using sorted() + itemgetter() + items()\n",
        "from operator import itemgetter\n",
        "\n",
        "# Initialize dictionary\n",
        "# test_dict = {'gfg': 1, 'is': 4, 'best': 6, 'for': 7, 'geeks': 3}\n",
        "\n",
        "# Initialize N\n",
        "N = 30\n",
        "\n",
        "# printing original dictionary\n",
        "print(\"The original dictionary is : \" + str(place_dict))\n",
        "\n",
        "# N largest values in dictionary\n",
        "# Using sorted() + itemgetter() + items()\n",
        "res = dict(sorted(place_dict.items(), key=itemgetter(1), reverse=True)[:N])\n",
        "\n",
        "# printing result\n",
        "print(\"The top N value pairs are \" + str(res))\n"
      ]
    },
    {
      "cell_type": "code",
      "execution_count": null,
      "metadata": {
        "id": "SyA_2_8TVtj2"
      },
      "outputs": [],
      "source": [
        "list1=[]"
      ]
    },
    {
      "cell_type": "code",
      "execution_count": null,
      "metadata": {
        "colab": {
          "base_uri": "https://localhost:8080/",
          "height": 635
        },
        "id": "SerN-6HNW5lz",
        "outputId": "c4d9c506-3233-45a3-9ec3-b01e2e9bf593"
      },
      "outputs": [
        {
          "data": {
            "text/html": [
              "\n",
              "  <div id=\"df-fbd4cb08-a270-4c86-97ea-f83d378b028b\">\n",
              "    <div class=\"colab-df-container\">\n",
              "      <div>\n",
              "<style scoped>\n",
              "    .dataframe tbody tr th:only-of-type {\n",
              "        vertical-align: middle;\n",
              "    }\n",
              "\n",
              "    .dataframe tbody tr th {\n",
              "        vertical-align: top;\n",
              "    }\n",
              "\n",
              "    .dataframe thead th {\n",
              "        text-align: right;\n",
              "    }\n",
              "</style>\n",
              "<table border=\"1\" class=\"dataframe\">\n",
              "  <thead>\n",
              "    <tr style=\"text-align: right;\">\n",
              "      <th></th>\n",
              "      <th>index</th>\n",
              "      <th>ID</th>\n",
              "      <th>DEVICETYPE</th>\n",
              "      <th>PLATFORM_ID</th>\n",
              "      <th>BIDREQUESTIP</th>\n",
              "      <th>USERPLATFORMUID</th>\n",
              "      <th>USERCITY</th>\n",
              "      <th>USERZIPCODE</th>\n",
              "      <th>USERAGENT</th>\n",
              "      <th>PLATFORMTYPE</th>\n",
              "      <th>CHANNELTYPE</th>\n",
              "      <th>URL</th>\n",
              "      <th>KEYWORDS</th>\n",
              "      <th>TAXONOMY</th>\n",
              "      <th>IS_HCP</th>\n",
              "    </tr>\n",
              "  </thead>\n",
              "  <tbody>\n",
              "    <tr>\n",
              "      <th>0</th>\n",
              "      <td>0</td>\n",
              "      <td>1001</td>\n",
              "      <td>Desktop</td>\n",
              "      <td>2</td>\n",
              "      <td>170.173.0.22</td>\n",
              "      <td>6974dcaa-f932-480e-9fb5-c52e20e1393a</td>\n",
              "      <td>Portland</td>\n",
              "      <td>97206.0</td>\n",
              "      <td>Mozilla/5.0 (Windows NT 10.0; Win64; x64) Appl...</td>\n",
              "      <td>Online Medical Journal</td>\n",
              "      <td>Website</td>\n",
              "      <td>https://www.cancertherapyadvisor.com/home/canc...</td>\n",
              "      <td>[General, Endocrine, False, Medicine, Surgery,...</td>\n",
              "      <td>None</td>\n",
              "      <td>0.0</td>\n",
              "    </tr>\n",
              "    <tr>\n",
              "      <th>1</th>\n",
              "      <td>1</td>\n",
              "      <td>1002</td>\n",
              "      <td>Desktop</td>\n",
              "      <td>2</td>\n",
              "      <td>65.216.253.25</td>\n",
              "      <td>c12f3f8f-8fcf-484a-90e1-1ac04db8cdcf</td>\n",
              "      <td>Arlington</td>\n",
              "      <td>22202.0</td>\n",
              "      <td>Mozilla/5.0 (Macintosh; Intel Mac OS X 10_15_7...</td>\n",
              "      <td>Online Medical Journal</td>\n",
              "      <td>Website</td>\n",
              "      <td>https://www.cancertherapyadvisor.com/home/deci...</td>\n",
              "      <td>[Bone Marrow, Radiography, Chronic, Oncology, ...</td>\n",
              "      <td>None</td>\n",
              "      <td>0.0</td>\n",
              "    </tr>\n",
              "    <tr>\n",
              "      <th>2</th>\n",
              "      <td>2</td>\n",
              "      <td>1003</td>\n",
              "      <td>Desktop</td>\n",
              "      <td>2</td>\n",
              "      <td>66.232.79.22</td>\n",
              "      <td>a698de4b-e200-46dd-b5fb-40402175ae18</td>\n",
              "      <td>New Meadows</td>\n",
              "      <td>83654.0</td>\n",
              "      <td>Mozilla/5.0 (Macintosh; Intel Mac OS X 10_15_7...</td>\n",
              "      <td>Online Medical Journal</td>\n",
              "      <td>Website</td>\n",
              "      <td>https://www.cancertherapyadvisor.com/home/canc...</td>\n",
              "      <td>[General, Endocrine, False, Medicine, Surgery,...</td>\n",
              "      <td>None</td>\n",
              "      <td>0.0</td>\n",
              "    </tr>\n",
              "    <tr>\n",
              "      <th>3</th>\n",
              "      <td>3</td>\n",
              "      <td>1004</td>\n",
              "      <td>Desktop</td>\n",
              "      <td>3</td>\n",
              "      <td>137.54.125.246</td>\n",
              "      <td>45967533-75c8-4fbd-a00c-e6ff20447aaa</td>\n",
              "      <td>Neutral</td>\n",
              "      <td>229114624.0</td>\n",
              "      <td>Mozilla/5.0 (Windows NT 10.0; Win64; x64) Appl...</td>\n",
              "      <td>Online Medical Journal</td>\n",
              "      <td>Website</td>\n",
              "      <td>https://globalrph.com/medcalcs/warfarin-mainte...</td>\n",
              "      <td>[Dental, Total, Clinical, Pharmacology, Physic...</td>\n",
              "      <td>2084P0800X</td>\n",
              "      <td>1.0</td>\n",
              "    </tr>\n",
              "    <tr>\n",
              "      <th>4</th>\n",
              "      <td>4</td>\n",
              "      <td>1005</td>\n",
              "      <td>Mobile</td>\n",
              "      <td>7</td>\n",
              "      <td>174.202.231.99</td>\n",
              "      <td>a17e25be-532d-4cf5-b916-9308c8c3961f</td>\n",
              "      <td>Houston</td>\n",
              "      <td>77008.0</td>\n",
              "      <td>Mozilla/5.0 (iPhone; CPU iPhone OS 16_1_1 like...</td>\n",
              "      <td>Online Medical Journal</td>\n",
              "      <td>Website</td>\n",
              "      <td>https://www.cureus.com/articles/58184-a-review...</td>\n",
              "      <td>[Critical Care, Emergency Medicine, General Pr...</td>\n",
              "      <td>None</td>\n",
              "      <td>0.0</td>\n",
              "    </tr>\n",
              "  </tbody>\n",
              "</table>\n",
              "</div>\n",
              "      <button class=\"colab-df-convert\" onclick=\"convertToInteractive('df-fbd4cb08-a270-4c86-97ea-f83d378b028b')\"\n",
              "              title=\"Convert this dataframe to an interactive table.\"\n",
              "              style=\"display:none;\">\n",
              "        \n",
              "  <svg xmlns=\"http://www.w3.org/2000/svg\" height=\"24px\"viewBox=\"0 0 24 24\"\n",
              "       width=\"24px\">\n",
              "    <path d=\"M0 0h24v24H0V0z\" fill=\"none\"/>\n",
              "    <path d=\"M18.56 5.44l.94 2.06.94-2.06 2.06-.94-2.06-.94-.94-2.06-.94 2.06-2.06.94zm-11 1L8.5 8.5l.94-2.06 2.06-.94-2.06-.94L8.5 2.5l-.94 2.06-2.06.94zm10 10l.94 2.06.94-2.06 2.06-.94-2.06-.94-.94-2.06-.94 2.06-2.06.94z\"/><path d=\"M17.41 7.96l-1.37-1.37c-.4-.4-.92-.59-1.43-.59-.52 0-1.04.2-1.43.59L10.3 9.45l-7.72 7.72c-.78.78-.78 2.05 0 2.83L4 21.41c.39.39.9.59 1.41.59.51 0 1.02-.2 1.41-.59l7.78-7.78 2.81-2.81c.8-.78.8-2.07 0-2.86zM5.41 20L4 18.59l7.72-7.72 1.47 1.35L5.41 20z\"/>\n",
              "  </svg>\n",
              "      </button>\n",
              "      \n",
              "  <style>\n",
              "    .colab-df-container {\n",
              "      display:flex;\n",
              "      flex-wrap:wrap;\n",
              "      gap: 12px;\n",
              "    }\n",
              "\n",
              "    .colab-df-convert {\n",
              "      background-color: #E8F0FE;\n",
              "      border: none;\n",
              "      border-radius: 50%;\n",
              "      cursor: pointer;\n",
              "      display: none;\n",
              "      fill: #1967D2;\n",
              "      height: 32px;\n",
              "      padding: 0 0 0 0;\n",
              "      width: 32px;\n",
              "    }\n",
              "\n",
              "    .colab-df-convert:hover {\n",
              "      background-color: #E2EBFA;\n",
              "      box-shadow: 0px 1px 2px rgba(60, 64, 67, 0.3), 0px 1px 3px 1px rgba(60, 64, 67, 0.15);\n",
              "      fill: #174EA6;\n",
              "    }\n",
              "\n",
              "    [theme=dark] .colab-df-convert {\n",
              "      background-color: #3B4455;\n",
              "      fill: #D2E3FC;\n",
              "    }\n",
              "\n",
              "    [theme=dark] .colab-df-convert:hover {\n",
              "      background-color: #434B5C;\n",
              "      box-shadow: 0px 1px 3px 1px rgba(0, 0, 0, 0.15);\n",
              "      filter: drop-shadow(0px 1px 2px rgba(0, 0, 0, 0.3));\n",
              "      fill: #FFFFFF;\n",
              "    }\n",
              "  </style>\n",
              "\n",
              "      <script>\n",
              "        const buttonEl =\n",
              "          document.querySelector('#df-fbd4cb08-a270-4c86-97ea-f83d378b028b button.colab-df-convert');\n",
              "        buttonEl.style.display =\n",
              "          google.colab.kernel.accessAllowed ? 'block' : 'none';\n",
              "\n",
              "        async function convertToInteractive(key) {\n",
              "          const element = document.querySelector('#df-fbd4cb08-a270-4c86-97ea-f83d378b028b');\n",
              "          const dataTable =\n",
              "            await google.colab.kernel.invokeFunction('convertToInteractive',\n",
              "                                                     [key], {});\n",
              "          if (!dataTable) return;\n",
              "\n",
              "          const docLinkHtml = 'Like what you see? Visit the ' +\n",
              "            '<a target=\"_blank\" href=https://colab.research.google.com/notebooks/data_table.ipynb>data table notebook</a>'\n",
              "            + ' to learn more about interactive tables.';\n",
              "          element.innerHTML = '';\n",
              "          dataTable['output_type'] = 'display_data';\n",
              "          await google.colab.output.renderOutput(dataTable, element);\n",
              "          const docLink = document.createElement('div');\n",
              "          docLink.innerHTML = docLinkHtml;\n",
              "          element.appendChild(docLink);\n",
              "        }\n",
              "      </script>\n",
              "    </div>\n",
              "  </div>\n",
              "  "
            ],
            "text/plain": [
              "   index    ID DEVICETYPE  PLATFORM_ID    BIDREQUESTIP  \\\n",
              "0      0  1001    Desktop            2    170.173.0.22   \n",
              "1      1  1002    Desktop            2   65.216.253.25   \n",
              "2      2  1003    Desktop            2    66.232.79.22   \n",
              "3      3  1004    Desktop            3  137.54.125.246   \n",
              "4      4  1005     Mobile            7  174.202.231.99   \n",
              "\n",
              "                        USERPLATFORMUID     USERCITY  USERZIPCODE  \\\n",
              "0  6974dcaa-f932-480e-9fb5-c52e20e1393a     Portland      97206.0   \n",
              "1  c12f3f8f-8fcf-484a-90e1-1ac04db8cdcf    Arlington      22202.0   \n",
              "2  a698de4b-e200-46dd-b5fb-40402175ae18  New Meadows      83654.0   \n",
              "3  45967533-75c8-4fbd-a00c-e6ff20447aaa      Neutral  229114624.0   \n",
              "4  a17e25be-532d-4cf5-b916-9308c8c3961f      Houston      77008.0   \n",
              "\n",
              "                                           USERAGENT            PLATFORMTYPE  \\\n",
              "0  Mozilla/5.0 (Windows NT 10.0; Win64; x64) Appl...  Online Medical Journal   \n",
              "1  Mozilla/5.0 (Macintosh; Intel Mac OS X 10_15_7...  Online Medical Journal   \n",
              "2  Mozilla/5.0 (Macintosh; Intel Mac OS X 10_15_7...  Online Medical Journal   \n",
              "3  Mozilla/5.0 (Windows NT 10.0; Win64; x64) Appl...  Online Medical Journal   \n",
              "4  Mozilla/5.0 (iPhone; CPU iPhone OS 16_1_1 like...  Online Medical Journal   \n",
              "\n",
              "  CHANNELTYPE                                                URL  \\\n",
              "0     Website  https://www.cancertherapyadvisor.com/home/canc...   \n",
              "1     Website  https://www.cancertherapyadvisor.com/home/deci...   \n",
              "2     Website  https://www.cancertherapyadvisor.com/home/canc...   \n",
              "3     Website  https://globalrph.com/medcalcs/warfarin-mainte...   \n",
              "4     Website  https://www.cureus.com/articles/58184-a-review...   \n",
              "\n",
              "                                            KEYWORDS    TAXONOMY  IS_HCP  \n",
              "0  [General, Endocrine, False, Medicine, Surgery,...        None     0.0  \n",
              "1  [Bone Marrow, Radiography, Chronic, Oncology, ...        None     0.0  \n",
              "2  [General, Endocrine, False, Medicine, Surgery,...        None     0.0  \n",
              "3  [Dental, Total, Clinical, Pharmacology, Physic...  2084P0800X     1.0  \n",
              "4  [Critical Care, Emergency Medicine, General Pr...        None     0.0  "
            ]
          },
          "execution_count": 121,
          "metadata": {},
          "output_type": "execute_result"
        }
      ],
      "source": [
        "df.head()"
      ]
    },
    {
      "cell_type": "code",
      "execution_count": null,
      "metadata": {
        "colab": {
          "base_uri": "https://localhost:8080/"
        },
        "id": "nuLoElGQW8zE",
        "outputId": "d0188ed7-23bc-4324-a3e7-bb6a4ee30367"
      },
      "outputs": [
        {
          "data": {
            "text/plain": [
              "['Neutral',\n",
              " 'New York',\n",
              " 'Brooklyn',\n",
              " 'St Louis',\n",
              " 'Los Angeles',\n",
              " 'Houston',\n",
              " 'Queens',\n",
              " 'Arlington',\n",
              " 'Chicago',\n",
              " 'Philadelphia',\n",
              " 'Columbus',\n",
              " 'Miami',\n",
              " 'Phoenix',\n",
              " 'Fort Worth',\n",
              " 'Deer Park',\n",
              " 'San Francisco',\n",
              " 'Rochester',\n",
              " 'Dallas',\n",
              " 'Memphis',\n",
              " 'Charlotte']"
            ]
          },
          "execution_count": 133,
          "metadata": {},
          "output_type": "execute_result"
        }
      ],
      "source": [
        "l1=list(res.keys())\n",
        "l1"
      ]
    },
    {
      "cell_type": "code",
      "execution_count": null,
      "metadata": {
        "id": "98Pvk1yrVims"
      },
      "outputs": [],
      "source": [
        "list1=[]\n",
        "for i in range(len(df)):\n",
        "  print(i)\n",
        "  if df['USERCITY'][i] in l1:\n",
        "    list1.append([df['USERCITY'][i],df['IS_HCP'][i]])"
      ]
    },
    {
      "cell_type": "code",
      "execution_count": null,
      "metadata": {
        "id": "J5OnAuOYWjTJ"
      },
      "outputs": [],
      "source": [
        "d1=list1[0][0]"
      ]
    },
    {
      "cell_type": "code",
      "execution_count": null,
      "metadata": {
        "id": "yOQMSXzNgZtM"
      },
      "outputs": [],
      "source": [
        "dict1={}\n",
        "for i in l1:\n",
        "  dict1[i]=[0,0]"
      ]
    },
    {
      "cell_type": "code",
      "execution_count": null,
      "metadata": {
        "id": "PT5dFgqxWloS"
      },
      "outputs": [],
      "source": [
        "\n",
        "for i in range(len(list1)):\n",
        "  if list1[i][1]==0.0:\n",
        "    dict1[list1[i][0]][0]+=1\n",
        "  elif list1[i][1]==1.0:\n",
        "    dict1[list1[i][0]][1]+=1"
      ]
    },
    {
      "cell_type": "code",
      "execution_count": null,
      "metadata": {
        "colab": {
          "base_uri": "https://localhost:8080/"
        },
        "id": "TerIOag-Z_5j",
        "outputId": "9f988e44-b620-452d-8546-1a2a4ecb1e88"
      },
      "outputs": [
        {
          "data": {
            "text/plain": [
              "{'Neutral': [4536, 1822],\n",
              " 'New York': [2552, 2391],\n",
              " 'Brooklyn': [2963, 274],\n",
              " 'St Louis': [2396, 149],\n",
              " 'Los Angeles': [1832, 322],\n",
              " 'Houston': [1425, 322],\n",
              " 'Queens': [1395, 234],\n",
              " 'Arlington': [1439, 64],\n",
              " 'Chicago': [1065, 383],\n",
              " 'Philadelphia': [634, 557],\n",
              " 'Columbus': [466, 639],\n",
              " 'Miami': [815, 208],\n",
              " 'Phoenix': [711, 177],\n",
              " 'Fort Worth': [798, 86],\n",
              " 'Deer Park': [882, 1],\n",
              " 'San Francisco': [308, 573],\n",
              " 'Rochester': [620, 178],\n",
              " 'Dallas': [544, 240],\n",
              " 'Memphis': [711, 45],\n",
              " 'Charlotte': [526, 169]}"
            ]
          },
          "execution_count": 192,
          "metadata": {},
          "output_type": "execute_result"
        }
      ],
      "source": [
        "dict1"
      ]
    },
    {
      "cell_type": "code",
      "execution_count": null,
      "metadata": {
        "colab": {
          "base_uri": "https://localhost:8080/"
        },
        "id": "toaIbbKJaCdU",
        "outputId": "ecdf11b4-b946-460a-90a5-07ea76eab752"
      },
      "outputs": [
        {
          "data": {
            "text/plain": [
              "35452"
            ]
          },
          "execution_count": 149,
          "metadata": {},
          "output_type": "execute_result"
        }
      ],
      "source": [
        "len(list1)"
      ]
    },
    {
      "cell_type": "code",
      "execution_count": null,
      "metadata": {
        "id": "mSRjs-7Y4YZ7"
      },
      "outputs": [],
      "source": [
        "countTYHN,countTNHY,countTYHY,count"
      ]
    },
    {
      "cell_type": "code",
      "execution_count": null,
      "metadata": {
        "id": "_L_e6XEn4j0M"
      },
      "outputs": [],
      "source": [
        "adj_count=count/countTYHN+count"
      ]
    },
    {
      "cell_type": "code",
      "execution_count": null,
      "metadata": {
        "id": "rfrc5YAH4pNi"
      },
      "outputs": [],
      "source": [
        "for i in range(len(l1)):\n",
        "  dict1[l1[i]][1]*adj_count\n",
        "dict1"
      ]
    },
    {
      "cell_type": "code",
      "execution_count": null,
      "metadata": {
        "id": "xKkXpSXW5dbr"
      },
      "outputs": [],
      "source": []
    },
    {
      "cell_type": "code",
      "execution_count": null,
      "metadata": {
        "id": "wvo6tWhWavs0"
      },
      "outputs": [],
      "source": [
        "from sklearn.ensemble import AdaBoostClassifier"
      ]
    }
  ],
  "metadata": {
    "colab": {
      "gpuType": "T4",
      "provenance": []
    },
    "kernelspec": {
      "display_name": "Python 3",
      "name": "python3"
    },
    "language_info": {
      "codemirror_mode": {
        "name": "ipython",
        "version": 3
      },
      "file_extension": ".py",
      "mimetype": "text/x-python",
      "name": "python",
      "nbconvert_exporter": "python",
      "pygments_lexer": "ipython3",
      "version": "3.11.4"
    }
  },
  "nbformat": 4,
  "nbformat_minor": 0
}
